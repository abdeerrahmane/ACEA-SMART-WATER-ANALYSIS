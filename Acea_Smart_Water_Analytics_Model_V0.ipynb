{
 "cells": [
  {
   "cell_type": "markdown",
   "metadata": {
    "id": "RJk9RE8DXv9B"
   },
   "source": [
    "Let's import some basic required packages."
   ]
  },
  {
   "cell_type": "code",
   "execution_count": 4,
   "metadata": {},
   "outputs": [
    {
     "name": "stdout",
     "output_type": "stream",
     "text": [
      "Collecting xgboost\n",
      "  Downloading xgboost-1.5.1-py3-none-win_amd64.whl (106.6 MB)\n",
      "Requirement already satisfied: scipy in c:\\users\\hp\\anaconda3\\lib\\site-packages (from xgboost) (1.5.0)\n",
      "Requirement already satisfied: numpy in c:\\users\\hp\\anaconda3\\lib\\site-packages (from xgboost) (1.19.5)\n",
      "Installing collected packages: xgboost\n",
      "Successfully installed xgboost-1.5.1\n",
      "Collecting xgboost\n",
      "  Downloading xgboost-1.5.1-py3-none-win_amd64.whl (106.6 MB)\n",
      "Requirement already satisfied (use --upgrade to upgrade): xgboost from https://files.pythonhosted.org/packages/ae/20/5dc3ddd571edf7926b34c11519bbb88c99257c5fad0050a6a7b5f57ab546/xgboost-1.5.1-py3-none-win_amd64.whl#sha256=e399dcb4ce6bb669c8cc707aaea2f3da50af9cc78f6f5019a0bb6246a433b736 in c:\\users\\hp\\anaconda3\\lib\\site-packages\n",
      "Requirement already satisfied: scipy in c:\\users\\hp\\anaconda3\\lib\\site-packages (from xgboost) (1.5.0)\n",
      "Requirement already satisfied: numpy in c:\\users\\hp\\anaconda3\\lib\\site-packages (from xgboost) (1.19.5)\n"
     ]
    }
   ],
   "source": [
    "!pip install xgboost "
   ]
  },
  {
   "cell_type": "code",
   "execution_count": 1,
   "metadata": {
    "id": "a6P88QK2Xv9s"
   },
   "outputs": [],
   "source": [
    "#  Import some data manipulation and plotting packages\n",
    "import numpy as np\n",
    "import pandas as pd\n",
    "import matplotlib.pyplot as plt\n",
    "import seaborn as sns\n",
    "import os\n",
    "\n",
    "#ignore warnings\n",
    "import warnings\n",
    "warnings.filterwarnings(\"ignore\")\n",
    "\n",
    "from sklearn.model_selection import train_test_split\n",
    "from sklearn.linear_model import LinearRegression\n",
    "from sklearn.linear_model import SGDRegressor\n",
    "from sklearn.neighbors import KNeighborsRegressor\n",
    "from sklearn.tree import DecisionTreeRegressor\n",
    "from xgboost import XGBRegressor\n",
    "from sklearn.ensemble import AdaBoostRegressor\n",
    "from sklearn.ensemble import RandomForestRegressor\n",
    "from sklearn.svm import SVR\n",
    "from sklearn.neural_network import MLPRegressor\n",
    "from sklearn.metrics import mean_absolute_error,median_absolute_error,mean_squared_log_error, r2_score\n",
    "from sklearn.model_selection import GridSearchCV"
   ]
  },
  {
   "cell_type": "markdown",
   "metadata": {
    "id": "vKwVloU2Xv9y"
   },
   "source": [
    "# Read Datasets"
   ]
  },
  {
   "cell_type": "code",
   "execution_count": 2,
   "metadata": {
    "id": "3-gchmegXv90"
   },
   "outputs": [],
   "source": [
    "# Read all the given datasets into separate dataframes\n",
    "aquifers = pd.read_csv('C:/Users/hp/Desktop/Acea-smart-water-analytics-main/Feature Engineered Datasets/aquifers_fe.csv')\n",
    "lakes = pd.read_csv('C:/Users/hp/Desktop/Acea-smart-water-analytics-main/Feature Engineered Datasets/lakes_fe.csv')\n",
    "rivers = pd.read_csv('C:/Users/hp/Desktop/Acea-smart-water-analytics-main/Feature Engineered Datasets/rivers_fe.csv')\n",
    "springs = pd.read_csv('C:/Users/hp/Desktop/Acea-smart-water-analytics-main/Feature Engineered Datasets/springs_fe.csv')"
   ]
  },
  {
   "cell_type": "markdown",
   "metadata": {
    "id": "w5aoEzKaXv92"
   },
   "source": [
    "# Model"
   ]
  },
  {
   "cell_type": "markdown",
   "metadata": {
    "id": "6-qsjCzxXv-N"
   },
   "source": [
    "## Aquifers"
   ]
  },
  {
   "cell_type": "code",
   "execution_count": 3,
   "metadata": {
    "colab": {
     "base_uri": "https://localhost:8080/",
     "height": 204
    },
    "id": "9IRmBE2aXv-Q",
    "outputId": "7ca2af07-7bbe-4894-ae84-be2398126c13"
   },
   "outputs": [
    {
     "data": {
      "text/html": [
       "<div>\n",
       "<style scoped>\n",
       "    .dataframe tbody tr th:only-of-type {\n",
       "        vertical-align: middle;\n",
       "    }\n",
       "\n",
       "    .dataframe tbody tr th {\n",
       "        vertical-align: top;\n",
       "    }\n",
       "\n",
       "    .dataframe thead th {\n",
       "        text-align: right;\n",
       "    }\n",
       "</style>\n",
       "<table border=\"1\" class=\"dataframe\">\n",
       "  <thead>\n",
       "    <tr style=\"text-align: right;\">\n",
       "      <th></th>\n",
       "      <th>Mean_Rainfall</th>\n",
       "      <th>Mean_Temp</th>\n",
       "      <th>Actual_Depth</th>\n",
       "      <th>Actual_Volume</th>\n",
       "      <th>Actual_Hydrometry</th>\n",
       "      <th>Date</th>\n",
       "    </tr>\n",
       "  </thead>\n",
       "  <tbody>\n",
       "    <tr>\n",
       "      <th>0</th>\n",
       "      <td>0.415556</td>\n",
       "      <td>6.6250</td>\n",
       "      <td>-6.08026</td>\n",
       "      <td>-8019.271158</td>\n",
       "      <td>-0.083056</td>\n",
       "      <td>1998-01-04</td>\n",
       "    </tr>\n",
       "    <tr>\n",
       "      <th>1</th>\n",
       "      <td>2.054444</td>\n",
       "      <td>6.0750</td>\n",
       "      <td>-6.06452</td>\n",
       "      <td>-7956.571285</td>\n",
       "      <td>-0.104167</td>\n",
       "      <td>1998-01-05</td>\n",
       "    </tr>\n",
       "    <tr>\n",
       "      <th>2</th>\n",
       "      <td>0.921111</td>\n",
       "      <td>9.0875</td>\n",
       "      <td>-6.15706</td>\n",
       "      <td>-7715.808854</td>\n",
       "      <td>0.011944</td>\n",
       "      <td>1998-01-06</td>\n",
       "    </tr>\n",
       "    <tr>\n",
       "      <th>3</th>\n",
       "      <td>0.878889</td>\n",
       "      <td>12.3250</td>\n",
       "      <td>-6.10774</td>\n",
       "      <td>-7731.378766</td>\n",
       "      <td>-0.008611</td>\n",
       "      <td>1998-01-07</td>\n",
       "    </tr>\n",
       "    <tr>\n",
       "      <th>4</th>\n",
       "      <td>0.908889</td>\n",
       "      <td>12.6500</td>\n",
       "      <td>-6.05310</td>\n",
       "      <td>-7812.676449</td>\n",
       "      <td>-0.072222</td>\n",
       "      <td>1998-01-08</td>\n",
       "    </tr>\n",
       "  </tbody>\n",
       "</table>\n",
       "</div>"
      ],
      "text/plain": [
       "   Mean_Rainfall  Mean_Temp  Actual_Depth  Actual_Volume  Actual_Hydrometry  \\\n",
       "0       0.415556     6.6250      -6.08026   -8019.271158          -0.083056   \n",
       "1       2.054444     6.0750      -6.06452   -7956.571285          -0.104167   \n",
       "2       0.921111     9.0875      -6.15706   -7715.808854           0.011944   \n",
       "3       0.878889    12.3250      -6.10774   -7731.378766          -0.008611   \n",
       "4       0.908889    12.6500      -6.05310   -7812.676449          -0.072222   \n",
       "\n",
       "         Date  \n",
       "0  1998-01-04  \n",
       "1  1998-01-05  \n",
       "2  1998-01-06  \n",
       "3  1998-01-07  \n",
       "4  1998-01-08  "
      ]
     },
     "execution_count": 3,
     "metadata": {},
     "output_type": "execute_result"
    }
   ],
   "source": [
    "aquifers.head()"
   ]
  },
  {
   "cell_type": "code",
   "execution_count": 4,
   "metadata": {
    "id": "95A8Ao3mXv-s"
   },
   "outputs": [],
   "source": [
    "# Normalizing the columns to remove negative values\n",
    "aquifers['Mean_Rainfall'] = (aquifers['Mean_Rainfall'] - aquifers['Mean_Rainfall'].min()) / (aquifers['Mean_Rainfall'].max() - aquifers['Mean_Rainfall'].min())\n",
    "aquifers['Mean_Temp'] = (aquifers['Mean_Temp'] - aquifers['Mean_Temp'].min()) / (aquifers['Mean_Temp'].max() - aquifers['Mean_Temp'].min())\n",
    "aquifers['Actual_Depth'] = (aquifers['Actual_Depth'] - aquifers['Actual_Depth'].min()) / (aquifers['Actual_Depth'].max() - aquifers['Actual_Depth'].min())\n",
    "aquifers['Actual_Volume'] = (aquifers['Actual_Volume'] - aquifers['Actual_Volume'].min()) / (aquifers['Actual_Volume'].max() - aquifers['Actual_Volume'].min())\n",
    "aquifers['Actual_Hydrometry'] = (aquifers['Actual_Hydrometry'] - aquifers['Actual_Hydrometry'].min()) / (aquifers['Actual_Hydrometry'].max() - aquifers['Actual_Hydrometry'].min())"
   ]
  },
  {
   "cell_type": "code",
   "execution_count": 5,
   "metadata": {
    "colab": {
     "base_uri": "https://localhost:8080/",
     "height": 204
    },
    "id": "dDkcX9gcXv-v",
    "outputId": "97d55a9d-abb2-4508-b9a9-688f3cacb898"
   },
   "outputs": [
    {
     "data": {
      "text/html": [
       "<div>\n",
       "<style scoped>\n",
       "    .dataframe tbody tr th:only-of-type {\n",
       "        vertical-align: middle;\n",
       "    }\n",
       "\n",
       "    .dataframe tbody tr th {\n",
       "        vertical-align: top;\n",
       "    }\n",
       "\n",
       "    .dataframe thead th {\n",
       "        text-align: right;\n",
       "    }\n",
       "</style>\n",
       "<table border=\"1\" class=\"dataframe\">\n",
       "  <thead>\n",
       "    <tr style=\"text-align: right;\">\n",
       "      <th></th>\n",
       "      <th>Mean_Rainfall</th>\n",
       "      <th>Mean_Temp</th>\n",
       "      <th>Actual_Depth</th>\n",
       "      <th>Actual_Volume</th>\n",
       "      <th>Actual_Hydrometry</th>\n",
       "      <th>Date</th>\n",
       "    </tr>\n",
       "  </thead>\n",
       "  <tbody>\n",
       "    <tr>\n",
       "      <th>0</th>\n",
       "      <td>0.007267</td>\n",
       "      <td>0.295126</td>\n",
       "      <td>0.984879</td>\n",
       "      <td>0.395764</td>\n",
       "      <td>0.090032</td>\n",
       "      <td>1998-01-04</td>\n",
       "    </tr>\n",
       "    <tr>\n",
       "      <th>1</th>\n",
       "      <td>0.035926</td>\n",
       "      <td>0.276216</td>\n",
       "      <td>0.985372</td>\n",
       "      <td>0.401094</td>\n",
       "      <td>0.084072</td>\n",
       "      <td>1998-01-05</td>\n",
       "    </tr>\n",
       "    <tr>\n",
       "      <th>2</th>\n",
       "      <td>0.016108</td>\n",
       "      <td>0.379792</td>\n",
       "      <td>0.982474</td>\n",
       "      <td>0.421561</td>\n",
       "      <td>0.116854</td>\n",
       "      <td>1998-01-06</td>\n",
       "    </tr>\n",
       "    <tr>\n",
       "      <th>3</th>\n",
       "      <td>0.015369</td>\n",
       "      <td>0.491104</td>\n",
       "      <td>0.984019</td>\n",
       "      <td>0.420238</td>\n",
       "      <td>0.111050</td>\n",
       "      <td>1998-01-07</td>\n",
       "    </tr>\n",
       "    <tr>\n",
       "      <th>4</th>\n",
       "      <td>0.015894</td>\n",
       "      <td>0.502278</td>\n",
       "      <td>0.985729</td>\n",
       "      <td>0.413327</td>\n",
       "      <td>0.093091</td>\n",
       "      <td>1998-01-08</td>\n",
       "    </tr>\n",
       "  </tbody>\n",
       "</table>\n",
       "</div>"
      ],
      "text/plain": [
       "   Mean_Rainfall  Mean_Temp  Actual_Depth  Actual_Volume  Actual_Hydrometry  \\\n",
       "0       0.007267   0.295126      0.984879       0.395764           0.090032   \n",
       "1       0.035926   0.276216      0.985372       0.401094           0.084072   \n",
       "2       0.016108   0.379792      0.982474       0.421561           0.116854   \n",
       "3       0.015369   0.491104      0.984019       0.420238           0.111050   \n",
       "4       0.015894   0.502278      0.985729       0.413327           0.093091   \n",
       "\n",
       "         Date  \n",
       "0  1998-01-04  \n",
       "1  1998-01-05  \n",
       "2  1998-01-06  \n",
       "3  1998-01-07  \n",
       "4  1998-01-08  "
      ]
     },
     "execution_count": 5,
     "metadata": {},
     "output_type": "execute_result"
    }
   ],
   "source": [
    "aquifers.head()"
   ]
  },
  {
   "cell_type": "code",
   "execution_count": 9,
   "metadata": {
    "id": "eKskL-oHXv-y"
   },
   "outputs": [],
   "source": [
    "# separating the date and target feature\n",
    "X = aquifers.drop(['Date','Actual_Depth'],axis=1)\n",
    "y = aquifers['Actual_Depth']"
   ]
  },
  {
   "cell_type": "code",
   "execution_count": 10,
   "metadata": {
    "id": "VM0RptCAXv-z"
   },
   "outputs": [],
   "source": [
    "#Dividing the dataset into train and test for features as well as labels\n",
    "X_train, X_test, y_train, y_test = train_test_split(X,y,test_size=0.2,random_state=42)"
   ]
  },
  {
   "cell_type": "code",
   "execution_count": 11,
   "metadata": {
    "colab": {
     "base_uri": "https://localhost:8080/"
    },
    "id": "JyBW6Y_RXv-1",
    "outputId": "bb9fe9ac-2672-4751-cedf-c9604435e16f"
   },
   "outputs": [
    {
     "data": {
      "text/plain": [
       "6523"
      ]
     },
     "execution_count": 11,
     "metadata": {},
     "output_type": "execute_result"
    }
   ],
   "source": [
    "#checking the number of rows in training data\n",
    "len(X_train)"
   ]
  },
  {
   "cell_type": "code",
   "execution_count": 12,
   "metadata": {
    "colab": {
     "base_uri": "https://localhost:8080/"
    },
    "id": "lAQ-ecbDXv-2",
    "outputId": "e6176678-3d02-4aed-8ce3-aa4d634bb1e2"
   },
   "outputs": [
    {
     "data": {
      "text/plain": [
       "6523"
      ]
     },
     "execution_count": 12,
     "metadata": {},
     "output_type": "execute_result"
    }
   ],
   "source": [
    "\n",
    "#checking the number of rows in training labels\n",
    "len(y_train)"
   ]
  },
  {
   "cell_type": "code",
   "execution_count": 13,
   "metadata": {
    "colab": {
     "base_uri": "https://localhost:8080/"
    },
    "id": "iUwY9XNbXv-4",
    "outputId": "d74716fd-c780-4b1f-d37f-4e7738392baa"
   },
   "outputs": [
    {
     "data": {
      "text/plain": [
       "1631"
      ]
     },
     "execution_count": 13,
     "metadata": {},
     "output_type": "execute_result"
    }
   ],
   "source": [
    "#checking the number of rows in testing data\n",
    "len(X_test)"
   ]
  },
  {
   "cell_type": "code",
   "execution_count": 14,
   "metadata": {
    "colab": {
     "base_uri": "https://localhost:8080/"
    },
    "id": "BappERekXv-6",
    "outputId": "70fe6fde-f538-4ec9-e39b-7d08b9e74c1b"
   },
   "outputs": [
    {
     "data": {
      "text/plain": [
       "1631"
      ]
     },
     "execution_count": 14,
     "metadata": {},
     "output_type": "execute_result"
    }
   ],
   "source": [
    "#checking the number of rows in testing labels\n",
    "len(y_test)"
   ]
  },
  {
   "cell_type": "markdown",
   "metadata": {
    "id": "4B6JN2j1Xv-7"
   },
   "source": [
    "### knn"
   ]
  },
  {
   "cell_type": "code",
   "execution_count": 15,
   "metadata": {
    "id": "CqIATBRWXv-8"
   },
   "outputs": [],
   "source": [
    "# create a knn regressor\n",
    "neigh = KNeighborsRegressor()"
   ]
  },
  {
   "cell_type": "code",
   "execution_count": 16,
   "metadata": {
    "id": "S95F2PnuXv-9"
   },
   "outputs": [],
   "source": [
    "# find optimal parameters with grid search\n",
    "param_grid = {\n",
    "    'n_neighbors': [3,5,7,9,11,19],\n",
    "    'weights': ['uniform', 'distance'],\n",
    "    'metric' : ['euclidean','manhattan']\n",
    "}\n",
    "grid = GridSearchCV(estimator=neigh, param_grid=param_grid, cv=10,\n",
    "                    scoring=['neg_median_absolute_error','neg_mean_squared_log_error','r2'], refit = 'neg_mean_squared_log_error',\n",
    "                    verbose=1, n_jobs=-1)"
   ]
  },
  {
   "cell_type": "code",
   "execution_count": 17,
   "metadata": {
    "colab": {
     "base_uri": "https://localhost:8080/"
    },
    "id": "eHLPHlXnXv-_",
    "outputId": "bfd1a537-2903-4971-888f-fa3be8b53ea0"
   },
   "outputs": [
    {
     "name": "stdout",
     "output_type": "stream",
     "text": [
      "Fitting 10 folds for each of 24 candidates, totalling 240 fits\n"
     ]
    }
   ],
   "source": [
    "# fit the grid on the train data\n",
    "grid_result = grid.fit(X_train, y_train)"
   ]
  },
  {
   "cell_type": "code",
   "execution_count": 18,
   "metadata": {
    "colab": {
     "base_uri": "https://localhost:8080/"
    },
    "id": "F-0_GPcoXv_B",
    "outputId": "57b94cd5-24c4-4e7e-b390-870638215acb"
   },
   "outputs": [
    {
     "name": "stdout",
     "output_type": "stream",
     "text": [
      "Best Score:  -0.0028144705118891005\n",
      "Best Params:  {'metric': 'manhattan', 'n_neighbors': 7, 'weights': 'distance'}\n"
     ]
    }
   ],
   "source": [
    "# print the best score and parameters found\n",
    "print('Best Score: ', grid_result.best_score_)\n",
    "print('Best Params: ', grid_result.best_params_)"
   ]
  },
  {
   "cell_type": "code",
   "execution_count": 19,
   "metadata": {
    "id": "SmGLgFzoXv_E"
   },
   "outputs": [],
   "source": [
    "# find predictions for test data\n",
    "y_pred = grid_result.best_estimator_.predict(X_test)"
   ]
  },
  {
   "cell_type": "code",
   "execution_count": 20,
   "metadata": {
    "id": "klnlXHMaXv_F"
   },
   "outputs": [],
   "source": [
    "#normalizing y_pred\n",
    "y_pred = (y_pred - y_pred.min())/(y_pred.max() - y_pred.min())"
   ]
  },
  {
   "cell_type": "code",
   "execution_count": 21,
   "metadata": {
    "colab": {
     "base_uri": "https://localhost:8080/"
    },
    "id": "vT2EZ-mVXv_G",
    "outputId": "ae67d71d-f79e-4a18-ab89-d37ff3ca4d29"
   },
   "outputs": [
    {
     "data": {
      "text/plain": [
       "0.02103068051342738"
      ]
     },
     "execution_count": 21,
     "metadata": {},
     "output_type": "execute_result"
    }
   ],
   "source": [
    "# find median absolute error\n",
    "median_absolute_error(y_test,y_pred)"
   ]
  },
  {
   "cell_type": "code",
   "execution_count": 22,
   "metadata": {
    "colab": {
     "base_uri": "https://localhost:8080/"
    },
    "id": "oZnhfbctXv_H",
    "outputId": "ab7294b2-ab35-4378-cb32-01944a251c22"
   },
   "outputs": [
    {
     "data": {
      "text/plain": [
       "0.05328383316662198"
      ]
     },
     "execution_count": 22,
     "metadata": {},
     "output_type": "execute_result"
    }
   ],
   "source": [
    "# find root mean square log error\n",
    "np.sqrt(mean_squared_log_error(y_test,y_pred))"
   ]
  },
  {
   "cell_type": "code",
   "execution_count": 23,
   "metadata": {
    "colab": {
     "base_uri": "https://localhost:8080/"
    },
    "id": "pLjWSLzUXv_I",
    "outputId": "ff8b7d36-b8ed-4247-c3f4-dc9eb2ce4295"
   },
   "outputs": [
    {
     "data": {
      "text/plain": [
       "0.9607730924181563"
      ]
     },
     "execution_count": 23,
     "metadata": {},
     "output_type": "execute_result"
    }
   ],
   "source": [
    "# find r2 score\n",
    "r2_score(y_test,y_pred)"
   ]
  },
  {
   "cell_type": "code",
   "execution_count": null,
   "metadata": {
    "id": "MBOy8mWH2nNX"
   },
   "outputs": [],
   "source": []
  },
  {
   "cell_type": "code",
   "execution_count": null,
   "metadata": {
    "id": "TyJ4N4IS40Rq"
   },
   "outputs": [],
   "source": []
  },
  {
   "cell_type": "code",
   "execution_count": null,
   "metadata": {
    "id": "dTbnhNWh4rRb"
   },
   "outputs": [],
   "source": []
  },
  {
   "cell_type": "code",
   "execution_count": null,
   "metadata": {
    "id": "0HRrGyQU4qub"
   },
   "outputs": [],
   "source": []
  },
  {
   "cell_type": "markdown",
   "metadata": {
    "id": "BUc3GorwXv_K"
   },
   "source": [
    "### Multiple Linear Regression"
   ]
  },
  {
   "cell_type": "code",
   "execution_count": 24,
   "metadata": {
    "id": "pMRscec1Xv_L"
   },
   "outputs": [],
   "source": [
    "# create a linear regressor\n",
    "lr = LinearRegression()"
   ]
  },
  {
   "cell_type": "code",
   "execution_count": 25,
   "metadata": {
    "id": "mHzK6CzsXv_N"
   },
   "outputs": [],
   "source": [
    "# fit the lr on the train data\n",
    "lr = lr.fit(X_train, y_train)"
   ]
  },
  {
   "cell_type": "code",
   "execution_count": 26,
   "metadata": {
    "id": "RKDZCBZUXv_P"
   },
   "outputs": [],
   "source": [
    "# find predictions for test data\n",
    "y_pred = lr.predict(X_test)"
   ]
  },
  {
   "cell_type": "code",
   "execution_count": null,
   "metadata": {
    "id": "zRTdIcnVoNWf"
   },
   "outputs": [],
   "source": []
  },
  {
   "cell_type": "code",
   "execution_count": 27,
   "metadata": {
    "id": "kJe2h2AZXv_Q"
   },
   "outputs": [],
   "source": [
    "#normalizing y_pred\n",
    "y_pred = (y_pred - y_pred.min())/(y_pred.max() - y_pred.min())"
   ]
  },
  {
   "cell_type": "code",
   "execution_count": 28,
   "metadata": {
    "colab": {
     "base_uri": "https://localhost:8080/"
    },
    "id": "IwxqRz91Xv_R",
    "outputId": "debc0c49-8104-4352-9b02-6db9afbb8580"
   },
   "outputs": [
    {
     "data": {
      "text/plain": [
       "0.3866462761518887"
      ]
     },
     "execution_count": 28,
     "metadata": {},
     "output_type": "execute_result"
    }
   ],
   "source": [
    "# find median absolute error\n",
    "median_absolute_error(y_test,y_pred)"
   ]
  },
  {
   "cell_type": "code",
   "execution_count": 29,
   "metadata": {
    "colab": {
     "base_uri": "https://localhost:8080/"
    },
    "id": "ls9GRwCCXv_T",
    "outputId": "32859e83-d25f-4346-f54f-98bd1c6c41b1"
   },
   "outputs": [
    {
     "data": {
      "text/plain": [
       "0.31056503793039225"
      ]
     },
     "execution_count": 29,
     "metadata": {},
     "output_type": "execute_result"
    }
   ],
   "source": [
    "# find root mean square log error\n",
    "np.sqrt(mean_squared_log_error(y_test,y_pred))"
   ]
  },
  {
   "cell_type": "code",
   "execution_count": 30,
   "metadata": {
    "colab": {
     "base_uri": "https://localhost:8080/"
    },
    "id": "6t65Xo-2Xv_U",
    "outputId": "229785bb-dfd7-4ed5-993d-d79d336e7d2e"
   },
   "outputs": [
    {
     "data": {
      "text/plain": [
       "-0.361099450434454"
      ]
     },
     "execution_count": 30,
     "metadata": {},
     "output_type": "execute_result"
    }
   ],
   "source": [
    "# find r2 score\n",
    "r2_score(y_test,y_pred)"
   ]
  },
  {
   "cell_type": "markdown",
   "metadata": {
    "id": "-2EYukSuXv_V"
   },
   "source": [
    "R2  is negative only when the chosen model does not follow the trend of the data, so fits worse than a horizontal line."
   ]
  },
  {
   "cell_type": "code",
   "execution_count": null,
   "metadata": {
    "id": "wXm3ubTG5JWM"
   },
   "outputs": [],
   "source": []
  },
  {
   "cell_type": "code",
   "execution_count": null,
   "metadata": {
    "id": "4iIT8ROg5IeW"
   },
   "outputs": [],
   "source": []
  },
  {
   "cell_type": "code",
   "execution_count": null,
   "metadata": {
    "id": "dzZosqqH5ILx"
   },
   "outputs": [],
   "source": []
  },
  {
   "cell_type": "code",
   "execution_count": null,
   "metadata": {
    "id": "RdzM3Oyd5H03"
   },
   "outputs": [],
   "source": []
  },
  {
   "cell_type": "markdown",
   "metadata": {
    "id": "uk-Z350jXv_W"
   },
   "source": [
    "### Random Forest"
   ]
  },
  {
   "cell_type": "code",
   "execution_count": 33,
   "metadata": {
    "id": "dC-6ZXhvXv_X"
   },
   "outputs": [],
   "source": [
    "# create a random forest regressor\n",
    "rf = RandomForestRegressor()"
   ]
  },
  {
   "cell_type": "code",
   "execution_count": 34,
   "metadata": {
    "id": "ff213c81Xv_Y"
   },
   "outputs": [],
   "source": [
    "# find optimal parameters with grid search\n",
    "param_grid = {\n",
    "'bootstrap': [True, False],\n",
    " 'max_depth': [None,2,10, 20, 50, 100],\n",
    " 'max_features': ['auto', 'sqrt'],\n",
    " 'min_samples_leaf': [1, 2, 4],\n",
    " 'min_samples_split': [2, 5, 10],\n",
    " 'n_estimators': [100,200,500, 1000]\n",
    "             }\n",
    "grid = GridSearchCV(estimator=rf, param_grid=param_grid, cv=5,\n",
    "                    scoring=['neg_median_absolute_error','neg_mean_squared_log_error','r2'], refit = 'neg_mean_squared_log_error',\n",
    "                    verbose=1)"
   ]
  },
  {
   "cell_type": "code",
   "execution_count": null,
   "metadata": {
    "colab": {
     "base_uri": "https://localhost:8080/"
    },
    "id": "Z6yqWeQhXv_a",
    "outputId": "b881a8da-ae8b-47fd-b683-54996aab4122"
   },
   "outputs": [
    {
     "name": "stdout",
     "output_type": "stream",
     "text": [
      "Fitting 5 folds for each of 864 candidates, totalling 4320 fits\n"
     ]
    }
   ],
   "source": [
    "# fit the grid on the train data\n",
    "grid_result = grid.fit(X_train, y_train)"
   ]
  },
  {
   "cell_type": "code",
   "execution_count": null,
   "metadata": {
    "colab": {
     "base_uri": "https://localhost:8080/"
    },
    "id": "Wy1V5MmsXv_b",
    "outputId": "7b967d1a-0ebe-44f4-9e6b-abf587f9a17a"
   },
   "outputs": [
    {
     "name": "stdout",
     "output_type": "stream",
     "text": [
      "Best Score:  -0.0021697543201036028\n",
      "Best Params:  {'bootstrap': True, 'max_depth': None, 'max_features': 'sqrt', 'min_samples_leaf': 1, 'min_samples_split': 2, 'n_estimators': 1000}\n"
     ]
    }
   ],
   "source": [
    "# print the best score and parameters found\n",
    "print('Best Score: ', grid_result.best_score_)\n",
    "print('Best Params: ', grid_result.best_params_)"
   ]
  },
  {
   "cell_type": "code",
   "execution_count": null,
   "metadata": {
    "id": "IvM6k9P1Xv_c"
   },
   "outputs": [],
   "source": [
    "# find predictions for test data\n",
    "y_pred = grid_result.best_estimator_.predict(X_test)"
   ]
  },
  {
   "cell_type": "code",
   "execution_count": null,
   "metadata": {
    "id": "Qzf2zBXLXv_d"
   },
   "outputs": [],
   "source": [
    "#normalizing y_pred\n",
    "y_pred = (y_pred - y_pred.min())/(y_pred.max() - y_pred.min())"
   ]
  },
  {
   "cell_type": "code",
   "execution_count": null,
   "metadata": {
    "colab": {
     "base_uri": "https://localhost:8080/"
    },
    "id": "xWQylZ49Xv_e",
    "outputId": "32e2f280-b5ee-465a-f964-6af63f6d16ac"
   },
   "outputs": [
    {
     "data": {
      "text/plain": [
       "0.019655865584285948"
      ]
     },
     "execution_count": 25,
     "metadata": {
      "tags": []
     },
     "output_type": "execute_result"
    }
   ],
   "source": [
    "# find median absolute error\n",
    "median_absolute_error(y_test,y_pred)"
   ]
  },
  {
   "cell_type": "code",
   "execution_count": null,
   "metadata": {
    "colab": {
     "base_uri": "https://localhost:8080/"
    },
    "id": "9ka0zhm5Xv_f",
    "outputId": "9fb0ab7b-34b7-4a84-bc8b-b405bdab7d3a"
   },
   "outputs": [
    {
     "data": {
      "text/plain": [
       "0.04842439087861878"
      ]
     },
     "execution_count": 26,
     "metadata": {
      "tags": []
     },
     "output_type": "execute_result"
    }
   ],
   "source": [
    "# find root mean square log error\n",
    "np.sqrt(mean_squared_log_error(y_test,y_pred))"
   ]
  },
  {
   "cell_type": "code",
   "execution_count": null,
   "metadata": {
    "colab": {
     "base_uri": "https://localhost:8080/"
    },
    "id": "Lh_AAGyxXv_g",
    "outputId": "95b33724-4b6d-4138-be67-39b3dbc77ee7"
   },
   "outputs": [
    {
     "data": {
      "text/plain": [
       "0.9668303549718164"
      ]
     },
     "execution_count": 27,
     "metadata": {
      "tags": []
     },
     "output_type": "execute_result"
    }
   ],
   "source": [
    "# find r2 score\n",
    "r2_score(y_test,y_pred)"
   ]
  },
  {
   "cell_type": "code",
   "execution_count": null,
   "metadata": {
    "id": "hgkms6-6Xv_h"
   },
   "outputs": [],
   "source": []
  },
  {
   "cell_type": "code",
   "execution_count": null,
   "metadata": {
    "id": "kYKsnF1l0Fwq"
   },
   "outputs": [],
   "source": []
  },
  {
   "cell_type": "markdown",
   "metadata": {
    "id": "oFj3QlIV_7hN"
   },
   "source": [
    "### SGRegression"
   ]
  },
  {
   "cell_type": "code",
   "execution_count": null,
   "metadata": {
    "id": "LAnNHqgD_7hO"
   },
   "outputs": [],
   "source": [
    "# create a linear regressor\n",
    "lr = SGDRegressor()"
   ]
  },
  {
   "cell_type": "code",
   "execution_count": null,
   "metadata": {
    "id": "Myp1J7cy_7hQ"
   },
   "outputs": [],
   "source": [
    "# find optimal parameters with grid search\n",
    "param_grid = {\n",
    "    \n",
    "    'loss' : ['squared_loss','huber'],\n",
    "    'alpha': [0.0001,0.001,0.01,0.1],\n",
    "     'eta0': [0.01,0.1,1,10,100],\n",
    "    'tol' : [0.00001,0.0001,0.001,0.01,0.1]    \n",
    " }\n",
    "grid = GridSearchCV(estimator=lr, param_grid=param_grid,cv=5,\n",
    "                    scoring=['neg_median_absolute_error','r2'], refit = 'neg_median_absolute_error',\n",
    "                    verbose=1, n_jobs=-1)"
   ]
  },
  {
   "cell_type": "code",
   "execution_count": null,
   "metadata": {
    "colab": {
     "base_uri": "https://localhost:8080/"
    },
    "id": "9_zoRyiB_7hR",
    "outputId": "364c60e5-7cde-4576-a844-708d7ee3bf53"
   },
   "outputs": [
    {
     "name": "stdout",
     "output_type": "stream",
     "text": [
      "Fitting 5 folds for each of 200 candidates, totalling 1000 fits\n"
     ]
    },
    {
     "name": "stderr",
     "output_type": "stream",
     "text": [
      "[Parallel(n_jobs=-1)]: Using backend LokyBackend with 2 concurrent workers.\n",
      "[Parallel(n_jobs=-1)]: Done 202 tasks      | elapsed:    3.9s\n",
      "[Parallel(n_jobs=-1)]: Done 1000 out of 1000 | elapsed:   25.9s finished\n"
     ]
    }
   ],
   "source": [
    "# fit the grid on the train data\n",
    "grid_result = grid.fit(X_train, y_train)"
   ]
  },
  {
   "cell_type": "code",
   "execution_count": null,
   "metadata": {
    "colab": {
     "base_uri": "https://localhost:8080/"
    },
    "id": "itAO7X0g_7hR",
    "outputId": "eb0804f8-a430-455e-ca09-6c7c8dbffef6"
   },
   "outputs": [],
   "source": [
    "# print the best score and parameters found\n",
    "print('Best Score: ', grid_result.best_score_)\n",
    "print('Best Params: ', grid_result.best_params_)"
   ]
  },
  {
   "cell_type": "code",
   "execution_count": null,
   "metadata": {
    "id": "vfRjhHA-_7hS"
   },
   "outputs": [],
   "source": [
    "# find predictions for test data\n",
    "y_pred = grid_result.best_estimator_.predict(X_test)"
   ]
  },
  {
   "cell_type": "code",
   "execution_count": null,
   "metadata": {
    "id": "XEbIR40__7hS"
   },
   "outputs": [],
   "source": []
  },
  {
   "cell_type": "code",
   "execution_count": null,
   "metadata": {
    "id": "0qIRyDs5_7hT"
   },
   "outputs": [],
   "source": [
    "#normalizing y_pred\n",
    "y_pred = (y_pred - y_pred.min())/(y_pred.max() - y_pred.min())"
   ]
  },
  {
   "cell_type": "code",
   "execution_count": null,
   "metadata": {
    "colab": {
     "base_uri": "https://localhost:8080/"
    },
    "id": "abVubLUL_7hT",
    "outputId": "c845faae-b053-4bb8-dce9-78f26ff1ccc7"
   },
   "outputs": [
    {
     "data": {
      "text/plain": [
       "0.3227038141370854"
      ]
     },
     "execution_count": 37,
     "metadata": {
      "tags": []
     },
     "output_type": "execute_result"
    }
   ],
   "source": [
    "# find median absolute error\n",
    "median_absolute_error(y_test,y_pred)"
   ]
  },
  {
   "cell_type": "code",
   "execution_count": null,
   "metadata": {
    "colab": {
     "base_uri": "https://localhost:8080/"
    },
    "id": "XbNOj3Fv_7hU",
    "outputId": "08165019-0237-4eee-f366-79c825399d91"
   },
   "outputs": [
    {
     "data": {
      "text/plain": [
       "0.2877640670063738"
      ]
     },
     "execution_count": 38,
     "metadata": {
      "tags": []
     },
     "output_type": "execute_result"
    }
   ],
   "source": [
    "# find root mean square log error\n",
    "np.sqrt(mean_squared_log_error(y_test,y_pred))"
   ]
  },
  {
   "cell_type": "code",
   "execution_count": null,
   "metadata": {
    "colab": {
     "base_uri": "https://localhost:8080/"
    },
    "id": "hn_pLXQb_7hV",
    "outputId": "0b320f23-f6f5-4b3a-bac9-0e0748cd8e7b"
   },
   "outputs": [
    {
     "data": {
      "text/plain": [
       "-0.1718414332285927"
      ]
     },
     "execution_count": 39,
     "metadata": {
      "tags": []
     },
     "output_type": "execute_result"
    }
   ],
   "source": [
    "# find r2 score\n",
    "r2_score(y_test,y_pred)"
   ]
  },
  {
   "cell_type": "code",
   "execution_count": null,
   "metadata": {
    "id": "veVBXDH1_7hV"
   },
   "outputs": [],
   "source": []
  },
  {
   "cell_type": "code",
   "execution_count": null,
   "metadata": {
    "id": "dLeWzLno_7hW"
   },
   "outputs": [],
   "source": []
  },
  {
   "cell_type": "code",
   "execution_count": null,
   "metadata": {
    "id": "UXNc8kl9rNdp"
   },
   "outputs": [],
   "source": []
  },
  {
   "cell_type": "markdown",
   "metadata": {
    "id": "Ol4SuM5d_7hW"
   },
   "source": [
    "### Decision Tree Regressor"
   ]
  },
  {
   "cell_type": "code",
   "execution_count": null,
   "metadata": {
    "id": "gqMbo9dO_7hW"
   },
   "outputs": [],
   "source": [
    "dt = DecisionTreeRegressor()"
   ]
  },
  {
   "cell_type": "code",
   "execution_count": null,
   "metadata": {
    "id": "cwi6G5lm_7hX"
   },
   "outputs": [],
   "source": [
    "# find optimal parameters with grid search\n",
    "param_grid = {\n",
    "    \n",
    "    'criterion' : ['mse','mae'],\n",
    "    'max_depth': range(10,20),\n",
    "     'min_samples_split': range(2,10),\n",
    "    'min_samples_leaf' : range(1,5)    \n",
    " }\n",
    "grid = GridSearchCV(estimator=dt, param_grid=param_grid, cv=10,\n",
    "                    scoring=['neg_median_absolute_error','neg_mean_squared_log_error','r2'], refit = 'neg_mean_squared_log_error',\n",
    "                    verbose=1, n_jobs=-1)"
   ]
  },
  {
   "cell_type": "code",
   "execution_count": null,
   "metadata": {
    "id": "kTqxl7Fn_7hY",
    "outputId": "45ec821a-73e1-4491-bbeb-c209211bf862"
   },
   "outputs": [
    {
     "name": "stdout",
     "output_type": "stream",
     "text": [
      "Fitting 10 folds for each of 640 candidates, totalling 6400 fits\n"
     ]
    },
    {
     "name": "stderr",
     "output_type": "stream",
     "text": [
      "[Parallel(n_jobs=-1)]: Using backend LokyBackend with 4 concurrent workers.\n",
      "[Parallel(n_jobs=-1)]: Done  42 tasks      | elapsed:    1.8s\n",
      "[Parallel(n_jobs=-1)]: Done 192 tasks      | elapsed:    7.2s\n",
      "[Parallel(n_jobs=-1)]: Done 442 tasks      | elapsed:   17.7s\n",
      "[Parallel(n_jobs=-1)]: Done 792 tasks      | elapsed:   32.5s\n",
      "[Parallel(n_jobs=-1)]: Done 1242 tasks      | elapsed:   53.0s\n",
      "[Parallel(n_jobs=-1)]: Done 1792 tasks      | elapsed:  1.9min\n",
      "[Parallel(n_jobs=-1)]: Done 2442 tasks      | elapsed:  3.3min\n",
      "[Parallel(n_jobs=-1)]: Done 3192 tasks      | elapsed:  4.6min\n",
      "[Parallel(n_jobs=-1)]: Done 4042 tasks      | elapsed: 40.9min\n",
      "[Parallel(n_jobs=-1)]: Done 4992 tasks      | elapsed: 64.8min\n",
      "[Parallel(n_jobs=-1)]: Done 6042 tasks      | elapsed: 90.8min\n",
      "[Parallel(n_jobs=-1)]: Done 6400 out of 6400 | elapsed: 99.5min finished\n"
     ]
    }
   ],
   "source": [
    "# fit the grid on the train data\n",
    "grid_result = grid.fit(X_train, y_train)"
   ]
  },
  {
   "cell_type": "code",
   "execution_count": null,
   "metadata": {
    "id": "37hJyzt2_7hZ",
    "outputId": "f1e2f1d9-507c-4280-972c-a41937f55014"
   },
   "outputs": [
    {
     "name": "stdout",
     "output_type": "stream",
     "text": [
      "Best Score:  -0.0029725895160034803\n",
      "Best Params:  {'criterion': 'mae', 'max_depth': 12, 'min_samples_leaf': 2, 'min_samples_split': 4}\n"
     ]
    }
   ],
   "source": [
    "# print the best score and parameters found\n",
    "print('Best Score: ', grid_result.best_score_)\n",
    "print('Best Params: ', grid_result.best_params_)"
   ]
  },
  {
   "cell_type": "code",
   "execution_count": null,
   "metadata": {
    "id": "b8qANgSQ_7ha"
   },
   "outputs": [],
   "source": [
    "# find predictions for test data\n",
    "y_pred = grid_result.best_estimator_.predict(X_test)"
   ]
  },
  {
   "cell_type": "code",
   "execution_count": null,
   "metadata": {
    "id": "dPqLYBqw_7hb"
   },
   "outputs": [],
   "source": [
    "#normalizing y_pred\n",
    "y_pred = (y_pred - y_pred.min())/(y_pred.max() - y_pred.min())"
   ]
  },
  {
   "cell_type": "code",
   "execution_count": null,
   "metadata": {
    "id": "Djs9_1YK_7hb",
    "outputId": "01f55a87-13a4-4779-e822-ca16e813c53a"
   },
   "outputs": [
    {
     "data": {
      "text/plain": [
       "0.01684240996782499"
      ]
     },
     "execution_count": 26,
     "metadata": {
      "tags": []
     },
     "output_type": "execute_result"
    }
   ],
   "source": [
    "# find median absolute error\n",
    "median_absolute_error(y_test,y_pred)"
   ]
  },
  {
   "cell_type": "code",
   "execution_count": null,
   "metadata": {
    "id": "RBq2UQp5_7hc",
    "outputId": "e442edbe-6b9b-4bf3-960e-9dc675b006d6"
   },
   "outputs": [
    {
     "data": {
      "text/plain": [
       "0.05367391890221074"
      ]
     },
     "execution_count": 27,
     "metadata": {
      "tags": []
     },
     "output_type": "execute_result"
    }
   ],
   "source": [
    "# find root mean square log error\n",
    "np.sqrt(mean_squared_log_error(y_test,y_pred))"
   ]
  },
  {
   "cell_type": "code",
   "execution_count": null,
   "metadata": {
    "id": "_i6mwkv6_7hd",
    "outputId": "147285e8-bc2d-4981-9c51-90502e3c9258"
   },
   "outputs": [
    {
     "data": {
      "text/plain": [
       "0.9561599730076912"
      ]
     },
     "execution_count": 28,
     "metadata": {
      "tags": []
     },
     "output_type": "execute_result"
    }
   ],
   "source": [
    "# find r2 score\n",
    "r2_score(y_test,y_pred)"
   ]
  },
  {
   "cell_type": "code",
   "execution_count": null,
   "metadata": {
    "id": "FE6OYRRC_7he"
   },
   "outputs": [],
   "source": []
  },
  {
   "cell_type": "code",
   "execution_count": null,
   "metadata": {
    "id": "n8OhN-GW_7he"
   },
   "outputs": [],
   "source": []
  },
  {
   "cell_type": "code",
   "execution_count": null,
   "metadata": {
    "id": "lLOU9xrr_7hf"
   },
   "outputs": [],
   "source": []
  },
  {
   "cell_type": "code",
   "execution_count": null,
   "metadata": {
    "id": "JnpyIPuq_7hf"
   },
   "outputs": [],
   "source": []
  },
  {
   "cell_type": "markdown",
   "metadata": {
    "id": "xoBr3uF4rlB0"
   },
   "source": [
    "### XGBoost Regressor"
   ]
  },
  {
   "cell_type": "code",
   "execution_count": null,
   "metadata": {
    "id": "uLgV-eu2rlB2"
   },
   "outputs": [],
   "source": [
    "xgbtree = XGBRegressor()"
   ]
  },
  {
   "cell_type": "code",
   "execution_count": null,
   "metadata": {
    "id": "7dlXDbrxrlB2"
   },
   "outputs": [],
   "source": [
    "# find optimal parameters with grid search\n",
    "param_grid = {\n",
    "              'learning_rate': [0.001,0.01,0.1,1],\n",
    "              'max_depth': range(2,10),\n",
    "              'subsample':[0.01,0.1,1] ,\n",
    "              'colsample_bytree': [0.01,0.1,1],\n",
    "              'n_estimators': [100,200,500,1000]}\n",
    "grid = GridSearchCV(estimator=xgbtree, param_grid=param_grid, cv=5,\n",
    "                    scoring=['neg_median_absolute_error','r2'], refit = 'neg_median_absolute_error',\n",
    "                    verbose=1, n_jobs=-1)"
   ]
  },
  {
   "cell_type": "code",
   "execution_count": null,
   "metadata": {
    "colab": {
     "base_uri": "https://localhost:8080/"
    },
    "id": "s6rUD55arlB6",
    "outputId": "156ebb89-52d3-4e4e-b7b2-fa28f8200a7d"
   },
   "outputs": [
    {
     "name": "stdout",
     "output_type": "stream",
     "text": [
      "Fitting 5 folds for each of 1152 candidates, totalling 5760 fits\n"
     ]
    },
    {
     "name": "stderr",
     "output_type": "stream",
     "text": [
      "[Parallel(n_jobs=-1)]: Using backend LokyBackend with 2 concurrent workers.\n",
      "[Parallel(n_jobs=-1)]: Done  46 tasks      | elapsed:   14.6s\n",
      "[Parallel(n_jobs=-1)]: Done 196 tasks      | elapsed:  1.6min\n",
      "[Parallel(n_jobs=-1)]: Done 446 tasks      | elapsed:  4.6min\n",
      "[Parallel(n_jobs=-1)]: Done 796 tasks      | elapsed:  8.3min\n",
      "[Parallel(n_jobs=-1)]: Done 1246 tasks      | elapsed: 13.4min\n",
      "[Parallel(n_jobs=-1)]: Done 1796 tasks      | elapsed: 19.9min\n",
      "[Parallel(n_jobs=-1)]: Done 2446 tasks      | elapsed: 27.1min\n",
      "[Parallel(n_jobs=-1)]: Done 3196 tasks      | elapsed: 35.3min\n",
      "[Parallel(n_jobs=-1)]: Done 4046 tasks      | elapsed: 45.0min\n",
      "[Parallel(n_jobs=-1)]: Done 4996 tasks      | elapsed: 60.7min\n",
      "[Parallel(n_jobs=-1)]: Done 5760 out of 5760 | elapsed: 74.4min finished\n"
     ]
    },
    {
     "name": "stdout",
     "output_type": "stream",
     "text": [
      "[12:42:25] WARNING: /workspace/src/objective/regression_obj.cu:152: reg:linear is now deprecated in favor of reg:squarederror.\n"
     ]
    }
   ],
   "source": [
    "# fit the grid on the train data\n",
    "grid_result = grid.fit(X_train, y_train)"
   ]
  },
  {
   "cell_type": "code",
   "execution_count": null,
   "metadata": {
    "colab": {
     "base_uri": "https://localhost:8080/"
    },
    "id": "Bf9faxL4rlB7",
    "outputId": "27205564-456f-41b0-c36d-52f20660290d"
   },
   "outputs": [
    {
     "name": "stdout",
     "output_type": "stream",
     "text": [
      "Best Score:  -0.016081142855098807\n",
      "Best Params:  {'colsample_bytree': 1, 'learning_rate': 0.01, 'max_depth': 8, 'n_estimators': 1000, 'subsample': 1}\n"
     ]
    }
   ],
   "source": [
    "# print the best score and parameters found\n",
    "print('Best Score: ', grid_result.best_score_)\n",
    "print('Best Params: ', grid_result.best_params_)"
   ]
  },
  {
   "cell_type": "code",
   "execution_count": null,
   "metadata": {
    "id": "LbFLuXV4rlB8"
   },
   "outputs": [],
   "source": [
    "# find predictions for test data\n",
    "y_pred = grid_result.best_estimator_.predict(X_test)"
   ]
  },
  {
   "cell_type": "code",
   "execution_count": null,
   "metadata": {
    "id": "VgGcop_trlB8"
   },
   "outputs": [],
   "source": [
    "#normalizing y_pred\n",
    "y_pred = (y_pred - y_pred.min())/(y_pred.max() - y_pred.min())"
   ]
  },
  {
   "cell_type": "code",
   "execution_count": null,
   "metadata": {
    "colab": {
     "base_uri": "https://localhost:8080/"
    },
    "id": "ejofnp1UrlB9",
    "outputId": "5a4acea5-667c-498f-ad9b-b3d96d60c3d0"
   },
   "outputs": [
    {
     "data": {
      "text/plain": [
       "0.02528232677151125"
      ]
     },
     "execution_count": 50,
     "metadata": {
      "tags": []
     },
     "output_type": "execute_result"
    }
   ],
   "source": [
    "# find median absolute error\n",
    "median_absolute_error(y_test,y_pred)"
   ]
  },
  {
   "cell_type": "code",
   "execution_count": null,
   "metadata": {
    "colab": {
     "base_uri": "https://localhost:8080/"
    },
    "id": "XLuqFCfgrlB9",
    "outputId": "4691235d-251e-4598-df21-20fbc4632fdb"
   },
   "outputs": [
    {
     "data": {
      "text/plain": [
       "0.053061569375817304"
      ]
     },
     "execution_count": 51,
     "metadata": {
      "tags": []
     },
     "output_type": "execute_result"
    }
   ],
   "source": [
    "# find root mean square log error\n",
    "np.sqrt(mean_squared_log_error(y_test,y_pred))"
   ]
  },
  {
   "cell_type": "code",
   "execution_count": null,
   "metadata": {
    "colab": {
     "base_uri": "https://localhost:8080/"
    },
    "id": "xGrSyZ2OrlB-",
    "outputId": "3bddc16c-0a5f-429d-9148-127b8cb910c6"
   },
   "outputs": [
    {
     "data": {
      "text/plain": [
       "0.9585200503118089"
      ]
     },
     "execution_count": 52,
     "metadata": {
      "tags": []
     },
     "output_type": "execute_result"
    }
   ],
   "source": [
    "# find r2 score\n",
    "r2_score(y_test,y_pred)"
   ]
  },
  {
   "cell_type": "code",
   "execution_count": null,
   "metadata": {
    "id": "H7omTzqErlB-"
   },
   "outputs": [],
   "source": []
  },
  {
   "cell_type": "code",
   "execution_count": null,
   "metadata": {
    "id": "sVhHcr32_7hg"
   },
   "outputs": [],
   "source": []
  },
  {
   "cell_type": "markdown",
   "metadata": {
    "id": "0LDbREIVMZxV"
   },
   "source": [
    "### AdaBoost Regressor"
   ]
  },
  {
   "cell_type": "code",
   "execution_count": null,
   "metadata": {
    "id": "3aqioYMOMZxy"
   },
   "outputs": [],
   "source": [
    "abreg = AdaBoostRegressor(base_estimator=DecisionTreeRegressor(),\n",
    "                              random_state=0)"
   ]
  },
  {
   "cell_type": "code",
   "execution_count": null,
   "metadata": {
    "id": "UkiQQN8RMZxz"
   },
   "outputs": [],
   "source": [
    "# find optimal parameters with grid search\n",
    "param_grid = { 'loss' : ['linear', 'square', 'exponential'],\n",
    "              'learning_rate': [0.001,0.01,0.1,1],\n",
    "              'base_estimator__max_depth': range(2,10),\n",
    "              'n_estimators': [100,200,500,1000]}\n",
    "grid = GridSearchCV(estimator=abreg, param_grid=param_grid, cv=5,\n",
    "                    scoring=['neg_median_absolute_error','r2'], refit = 'neg_median_absolute_error',\n",
    "                    verbose=1, n_jobs=-1)"
   ]
  },
  {
   "cell_type": "code",
   "execution_count": null,
   "metadata": {
    "colab": {
     "background_save": true,
     "base_uri": "https://localhost:8080/"
    },
    "id": "UY1Ibe79MZx1",
    "outputId": "14833845-e2aa-420e-9206-e3fc0a00da9b"
   },
   "outputs": [
    {
     "name": "stdout",
     "output_type": "stream",
     "text": [
      "Fitting 5 folds for each of 384 candidates, totalling 1920 fits\n"
     ]
    },
    {
     "name": "stderr",
     "output_type": "stream",
     "text": [
      "[Parallel(n_jobs=-1)]: Using backend LokyBackend with 2 concurrent workers.\n",
      "[Parallel(n_jobs=-1)]: Done  46 tasks      | elapsed:  1.8min\n",
      "[Parallel(n_jobs=-1)]: Done 196 tasks      | elapsed:  5.8min\n",
      "[Parallel(n_jobs=-1)]: Done 446 tasks      | elapsed: 12.6min\n",
      "[Parallel(n_jobs=-1)]: Done 796 tasks      | elapsed: 27.6min\n",
      "[Parallel(n_jobs=-1)]: Done 1246 tasks      | elapsed: 53.7min\n",
      "[Parallel(n_jobs=-1)]: Done 1796 tasks      | elapsed: 100.0min\n",
      "[Parallel(n_jobs=-1)]: Done 1920 out of 1920 | elapsed: 108.9min finished\n"
     ]
    }
   ],
   "source": [
    "# fit the grid on the train data\n",
    "grid_result = grid.fit(X_train, y_train)"
   ]
  },
  {
   "cell_type": "code",
   "execution_count": null,
   "metadata": {
    "colab": {
     "background_save": true
    },
    "id": "u9UJmbWiMZx3",
    "outputId": "1a2ffeb8-d5b1-4f54-b438-835a6fc6e2cc"
   },
   "outputs": [
    {
     "name": "stdout",
     "output_type": "stream",
     "text": [
      "Best Score:  -0.014184367982375096\n",
      "Best Params:  {'base_estimator__max_depth': 9, 'learning_rate': 1, 'loss': 'square', 'n_estimators': 200}\n"
     ]
    }
   ],
   "source": [
    "# print the best score and parameters found\n",
    "print('Best Score: ', grid_result.best_score_)\n",
    "print('Best Params: ', grid_result.best_params_)"
   ]
  },
  {
   "cell_type": "code",
   "execution_count": null,
   "metadata": {
    "colab": {
     "background_save": true
    },
    "id": "jIHinwR-MZx4"
   },
   "outputs": [],
   "source": [
    "# find predictions for test data\n",
    "y_pred = grid_result.best_estimator_.predict(X_test)"
   ]
  },
  {
   "cell_type": "code",
   "execution_count": null,
   "metadata": {
    "colab": {
     "background_save": true
    },
    "id": "npp8Xl3HMZx5"
   },
   "outputs": [],
   "source": [
    "#normalizing y_pred\n",
    "y_pred = (y_pred - y_pred.min())/(y_pred.max() - y_pred.min())"
   ]
  },
  {
   "cell_type": "code",
   "execution_count": null,
   "metadata": {
    "colab": {
     "background_save": true
    },
    "id": "n8uFLj1UMZx6",
    "outputId": "a7b4d8af-4c71-4164-e972-d7c061b379ea"
   },
   "outputs": [
    {
     "data": {
      "text/plain": [
       "0.02192634636241439"
      ]
     },
     "execution_count": 0,
     "metadata": {
      "tags": []
     },
     "output_type": "execute_result"
    }
   ],
   "source": [
    "# find median absolute error\n",
    "median_absolute_error(y_test,y_pred)"
   ]
  },
  {
   "cell_type": "code",
   "execution_count": null,
   "metadata": {
    "colab": {
     "background_save": true
    },
    "id": "YAzVMLK7MZx7",
    "outputId": "94eb751c-159b-424e-dbc4-6ff214803780"
   },
   "outputs": [
    {
     "data": {
      "text/plain": [
       "0.051313886313701484"
      ]
     },
     "execution_count": 0,
     "metadata": {
      "tags": []
     },
     "output_type": "execute_result"
    }
   ],
   "source": [
    "# find root mean square log error\n",
    "np.sqrt(mean_squared_log_error(y_test,y_pred))"
   ]
  },
  {
   "cell_type": "code",
   "execution_count": null,
   "metadata": {
    "colab": {
     "background_save": true
    },
    "id": "DZO8FthwMZx8",
    "outputId": "0dafe50b-a517-43e0-b2f6-0196b6ffe10f"
   },
   "outputs": [
    {
     "data": {
      "text/plain": [
       "0.9641048020090041"
      ]
     },
     "execution_count": 0,
     "metadata": {
      "tags": []
     },
     "output_type": "execute_result"
    }
   ],
   "source": [
    "# find r2 score\n",
    "r2_score(y_test,y_pred)"
   ]
  },
  {
   "cell_type": "code",
   "execution_count": null,
   "metadata": {
    "id": "G5BelQXIMZx9"
   },
   "outputs": [],
   "source": []
  },
  {
   "cell_type": "code",
   "execution_count": null,
   "metadata": {
    "id": "qJsxYZkV_7hg"
   },
   "outputs": [],
   "source": []
  },
  {
   "cell_type": "code",
   "execution_count": null,
   "metadata": {
    "id": "6Tb21zwv_7hg"
   },
   "outputs": [],
   "source": []
  },
  {
   "cell_type": "markdown",
   "metadata": {
    "id": "rIcG9UQsFF-U"
   },
   "source": [
    "### MLP Regressor"
   ]
  },
  {
   "cell_type": "code",
   "execution_count": null,
   "metadata": {
    "id": "Ur6yxy7HftaU"
   },
   "outputs": [],
   "source": [
    "from tensorflow.keras.callbacks import ModelCheckpoint, TensorBoard"
   ]
  },
  {
   "cell_type": "code",
   "execution_count": null,
   "metadata": {
    "id": "qcNv0M8yftaq"
   },
   "outputs": [],
   "source": [
    "# create a directory to save the model weights\n",
    "import os\n",
    "os.mkdir('model_aquifer_save')"
   ]
  },
  {
   "cell_type": "code",
   "execution_count": null,
   "metadata": {
    "id": "wc2nHOIWftar"
   },
   "outputs": [],
   "source": [
    "'''Callbacks'''\n",
    "#file path, it saves the model in the 'model_aquifers_save' folder\n",
    "#and we are monitoring model with val_root_mean_squared_error\n",
    "filepath=\"model_aquifer_save/weights.h5\"\n",
    "checkpoint = ModelCheckpoint(filepath=filepath, monitor='val_root_mean_squared_error', verbose=1, save_best_only=True, mode='auto')"
   ]
  },
  {
   "cell_type": "code",
   "execution_count": null,
   "metadata": {
    "id": "bI1HbxDLftat"
   },
   "outputs": [],
   "source": [
    "import datetime"
   ]
  },
  {
   "cell_type": "code",
   "execution_count": null,
   "metadata": {
    "colab": {
     "base_uri": "https://localhost:8080/"
    },
    "id": "28Uof5CGftav",
    "outputId": "7abca97b-d368-4a70-8db0-fc0e8b45663b"
   },
   "outputs": [
    {
     "name": "stdout",
     "output_type": "stream",
     "text": [
      "WARNING:tensorflow:`write_grads` will be ignored in TensorFlow 2.0 for the `TensorBoard` Callback.\n"
     ]
    }
   ],
   "source": [
    "# the log directory path is used to write the tensorboard logs\n",
    "log_dir=\"logs_aquifer\\\\fit\\\\\" + datetime.datetime.now().strftime(\"%Y%m%d-%H%M%S\")\n",
    "tensorboard_callback = TensorBoard(log_dir=log_dir,histogram_freq=1, write_graph=True,write_grads=True)"
   ]
  },
  {
   "cell_type": "code",
   "execution_count": null,
   "metadata": {
    "id": "5BSReZJZkemC"
   },
   "outputs": [],
   "source": [
    "# Creating a Neural Network Model\n",
    "import tensorflow as tf\n",
    "from tensorflow.keras.models import Sequential\n",
    "from tensorflow.keras.layers import Dense, Activation\n",
    "from tensorflow.keras.optimizers import Adam"
   ]
  },
  {
   "cell_type": "code",
   "execution_count": null,
   "metadata": {
    "id": "4xidUMthkeYu"
   },
   "outputs": [],
   "source": [
    "model = Sequential()\n",
    "model.add(Dense(1000,activation='relu'))\n",
    "model.add(Dense(1000,activation='relu'))\n",
    "model.add(Dense(1000,activation='relu'))\n",
    "model.add(Dense(1000,activation='relu'))\n",
    "model.add(Dense(1))"
   ]
  },
  {
   "cell_type": "code",
   "execution_count": null,
   "metadata": {
    "id": "_5JvEx1co-YD"
   },
   "outputs": [],
   "source": [
    "import tensorflow.keras.backend as K"
   ]
  },
  {
   "cell_type": "code",
   "execution_count": null,
   "metadata": {
    "id": "v-_gsL6po8D4"
   },
   "outputs": [],
   "source": [
    "\n",
    "def rmsle(y_true, y_pred):\n",
    "    msle = tf.keras.losses.MeanSquaredLogarithmicError()\n",
    "    return K.sqrt(msle(y_true, y_pred)) "
   ]
  },
  {
   "cell_type": "code",
   "execution_count": null,
   "metadata": {
    "id": "QNp6GRSblCRK"
   },
   "outputs": [],
   "source": [
    "model.compile(optimizer='Adam',loss=rmsle,metrics=[tf.keras.metrics.RootMeanSquaredError()])"
   ]
  },
  {
   "cell_type": "code",
   "execution_count": null,
   "metadata": {
    "colab": {
     "base_uri": "https://localhost:8080/"
    },
    "id": "uKV4hFzBk1jI",
    "outputId": "30008b8b-fe9e-4c4a-de60-3dc7595f7b2c"
   },
   "outputs": [
    {
     "name": "stdout",
     "output_type": "stream",
     "text": [
      "Epoch 1/100\n",
      "51/51 [==============================] - 5s 77ms/step - loss: 0.2173 - root_mean_squared_error: 0.3251 - val_loss: 0.1129 - val_root_mean_squared_error: 0.1807\n",
      "\n",
      "Epoch 00001: val_root_mean_squared_error improved from inf to 0.18073, saving model to model_aquifer_save/weights.h5\n",
      "Epoch 2/100\n",
      "51/51 [==============================] - 3s 67ms/step - loss: 0.0996 - root_mean_squared_error: 0.1531 - val_loss: 0.1082 - val_root_mean_squared_error: 0.1678\n",
      "\n",
      "Epoch 00002: val_root_mean_squared_error improved from 0.18073 to 0.16782, saving model to model_aquifer_save/weights.h5\n",
      "Epoch 3/100\n",
      "51/51 [==============================] - 3s 68ms/step - loss: 0.0849 - root_mean_squared_error: 0.1313 - val_loss: 0.0783 - val_root_mean_squared_error: 0.1181\n",
      "\n",
      "Epoch 00003: val_root_mean_squared_error improved from 0.16782 to 0.11809, saving model to model_aquifer_save/weights.h5\n",
      "Epoch 4/100\n",
      "51/51 [==============================] - 3s 67ms/step - loss: 0.0758 - root_mean_squared_error: 0.1164 - val_loss: 0.0696 - val_root_mean_squared_error: 0.1064\n",
      "\n",
      "Epoch 00004: val_root_mean_squared_error improved from 0.11809 to 0.10638, saving model to model_aquifer_save/weights.h5\n",
      "Epoch 5/100\n",
      "51/51 [==============================] - 3s 67ms/step - loss: 0.0757 - root_mean_squared_error: 0.1177 - val_loss: 0.0730 - val_root_mean_squared_error: 0.1100\n",
      "\n",
      "Epoch 00005: val_root_mean_squared_error did not improve from 0.10638\n",
      "Epoch 6/100\n",
      "51/51 [==============================] - 3s 67ms/step - loss: 0.0717 - root_mean_squared_error: 0.1093 - val_loss: 0.0707 - val_root_mean_squared_error: 0.1117\n",
      "\n",
      "Epoch 00006: val_root_mean_squared_error did not improve from 0.10638\n",
      "Epoch 7/100\n",
      "51/51 [==============================] - 3s 68ms/step - loss: 0.0713 - root_mean_squared_error: 0.1095 - val_loss: 0.0623 - val_root_mean_squared_error: 0.0986\n",
      "\n",
      "Epoch 00007: val_root_mean_squared_error improved from 0.10638 to 0.09863, saving model to model_aquifer_save/weights.h5\n",
      "Epoch 8/100\n",
      "51/51 [==============================] - 3s 68ms/step - loss: 0.0677 - root_mean_squared_error: 0.1053 - val_loss: 0.0610 - val_root_mean_squared_error: 0.0935\n",
      "\n",
      "Epoch 00008: val_root_mean_squared_error improved from 0.09863 to 0.09347, saving model to model_aquifer_save/weights.h5\n",
      "Epoch 9/100\n",
      "51/51 [==============================] - 3s 68ms/step - loss: 0.0686 - root_mean_squared_error: 0.1069 - val_loss: 0.0630 - val_root_mean_squared_error: 0.0983\n",
      "\n",
      "Epoch 00009: val_root_mean_squared_error did not improve from 0.09347\n",
      "Epoch 10/100\n",
      "51/51 [==============================] - 3s 68ms/step - loss: 0.0678 - root_mean_squared_error: 0.1070 - val_loss: 0.0603 - val_root_mean_squared_error: 0.0892\n",
      "\n",
      "Epoch 00010: val_root_mean_squared_error improved from 0.09347 to 0.08918, saving model to model_aquifer_save/weights.h5\n",
      "Epoch 11/100\n",
      "51/51 [==============================] - 3s 69ms/step - loss: 0.0731 - root_mean_squared_error: 0.1125 - val_loss: 0.0622 - val_root_mean_squared_error: 0.0973\n",
      "\n",
      "Epoch 00011: val_root_mean_squared_error did not improve from 0.08918\n",
      "Epoch 12/100\n",
      "51/51 [==============================] - 4s 69ms/step - loss: 0.0689 - root_mean_squared_error: 0.1068 - val_loss: 0.0635 - val_root_mean_squared_error: 0.1000\n",
      "\n",
      "Epoch 00012: val_root_mean_squared_error did not improve from 0.08918\n",
      "Epoch 13/100\n",
      "51/51 [==============================] - 3s 68ms/step - loss: 0.0647 - root_mean_squared_error: 0.1005 - val_loss: 0.0657 - val_root_mean_squared_error: 0.1006\n",
      "\n",
      "Epoch 00013: val_root_mean_squared_error did not improve from 0.08918\n",
      "Epoch 14/100\n",
      "51/51 [==============================] - 3s 68ms/step - loss: 0.0630 - root_mean_squared_error: 0.0974 - val_loss: 0.0740 - val_root_mean_squared_error: 0.1218\n",
      "\n",
      "Epoch 00014: val_root_mean_squared_error did not improve from 0.08918\n",
      "Epoch 15/100\n",
      "51/51 [==============================] - 3s 68ms/step - loss: 0.0625 - root_mean_squared_error: 0.0984 - val_loss: 0.0671 - val_root_mean_squared_error: 0.1086\n",
      "\n",
      "Epoch 00015: val_root_mean_squared_error did not improve from 0.08918\n",
      "Epoch 16/100\n",
      "51/51 [==============================] - 3s 68ms/step - loss: 0.0654 - root_mean_squared_error: 0.1016 - val_loss: 0.0652 - val_root_mean_squared_error: 0.1013\n",
      "\n",
      "Epoch 00016: val_root_mean_squared_error did not improve from 0.08918\n",
      "Epoch 17/100\n",
      "51/51 [==============================] - 3s 68ms/step - loss: 0.0667 - root_mean_squared_error: 0.1019 - val_loss: 0.0642 - val_root_mean_squared_error: 0.0988\n",
      "\n",
      "Epoch 00017: val_root_mean_squared_error did not improve from 0.08918\n",
      "Epoch 18/100\n",
      "51/51 [==============================] - 3s 67ms/step - loss: 0.0591 - root_mean_squared_error: 0.0898 - val_loss: 0.0548 - val_root_mean_squared_error: 0.0813\n",
      "\n",
      "Epoch 00018: val_root_mean_squared_error improved from 0.08918 to 0.08133, saving model to model_aquifer_save/weights.h5\n",
      "Epoch 19/100\n",
      "51/51 [==============================] - 3s 67ms/step - loss: 0.0591 - root_mean_squared_error: 0.0906 - val_loss: 0.0620 - val_root_mean_squared_error: 0.0943\n",
      "\n",
      "Epoch 00019: val_root_mean_squared_error did not improve from 0.08133\n",
      "Epoch 20/100\n",
      "51/51 [==============================] - 3s 68ms/step - loss: 0.0647 - root_mean_squared_error: 0.1002 - val_loss: 0.0792 - val_root_mean_squared_error: 0.1186\n",
      "\n",
      "Epoch 00020: val_root_mean_squared_error did not improve from 0.08133\n",
      "Epoch 21/100\n",
      "51/51 [==============================] - 3s 67ms/step - loss: 0.0642 - root_mean_squared_error: 0.0993 - val_loss: 0.0607 - val_root_mean_squared_error: 0.0953\n",
      "\n",
      "Epoch 00021: val_root_mean_squared_error did not improve from 0.08133\n",
      "Epoch 22/100\n",
      "51/51 [==============================] - 3s 67ms/step - loss: 0.0617 - root_mean_squared_error: 0.0943 - val_loss: 0.0620 - val_root_mean_squared_error: 0.0978\n",
      "\n",
      "Epoch 00022: val_root_mean_squared_error did not improve from 0.08133\n",
      "Epoch 23/100\n",
      "51/51 [==============================] - 3s 68ms/step - loss: 0.0591 - root_mean_squared_error: 0.0898 - val_loss: 0.0548 - val_root_mean_squared_error: 0.0817\n",
      "\n",
      "Epoch 00023: val_root_mean_squared_error did not improve from 0.08133\n",
      "Epoch 24/100\n",
      "51/51 [==============================] - 3s 68ms/step - loss: 0.0630 - root_mean_squared_error: 0.0992 - val_loss: 0.0551 - val_root_mean_squared_error: 0.0872\n",
      "\n",
      "Epoch 00024: val_root_mean_squared_error did not improve from 0.08133\n",
      "Epoch 25/100\n",
      "51/51 [==============================] - 3s 67ms/step - loss: 0.0569 - root_mean_squared_error: 0.0891 - val_loss: 0.0610 - val_root_mean_squared_error: 0.0954\n",
      "\n",
      "Epoch 00025: val_root_mean_squared_error did not improve from 0.08133\n",
      "Epoch 26/100\n",
      "51/51 [==============================] - 3s 68ms/step - loss: 0.0592 - root_mean_squared_error: 0.0925 - val_loss: 0.0676 - val_root_mean_squared_error: 0.1077\n",
      "\n",
      "Epoch 00026: val_root_mean_squared_error did not improve from 0.08133\n",
      "Epoch 27/100\n",
      "51/51 [==============================] - 3s 68ms/step - loss: 0.0568 - root_mean_squared_error: 0.0879 - val_loss: 0.0538 - val_root_mean_squared_error: 0.0818\n",
      "\n",
      "Epoch 00027: val_root_mean_squared_error did not improve from 0.08133\n",
      "Epoch 28/100\n",
      "51/51 [==============================] - 3s 68ms/step - loss: 0.0561 - root_mean_squared_error: 0.0868 - val_loss: 0.0502 - val_root_mean_squared_error: 0.0774\n",
      "\n",
      "Epoch 00028: val_root_mean_squared_error improved from 0.08133 to 0.07739, saving model to model_aquifer_save/weights.h5\n",
      "Epoch 29/100\n",
      "51/51 [==============================] - 3s 68ms/step - loss: 0.0592 - root_mean_squared_error: 0.0913 - val_loss: 0.0555 - val_root_mean_squared_error: 0.0864\n",
      "\n",
      "Epoch 00029: val_root_mean_squared_error did not improve from 0.07739\n",
      "Epoch 30/100\n",
      "51/51 [==============================] - 3s 68ms/step - loss: 0.0523 - root_mean_squared_error: 0.0811 - val_loss: 0.0548 - val_root_mean_squared_error: 0.0840\n",
      "\n",
      "Epoch 00030: val_root_mean_squared_error did not improve from 0.07739\n",
      "Epoch 31/100\n",
      "51/51 [==============================] - 3s 68ms/step - loss: 0.0598 - root_mean_squared_error: 0.0918 - val_loss: 0.0518 - val_root_mean_squared_error: 0.0808\n",
      "\n",
      "Epoch 00031: val_root_mean_squared_error did not improve from 0.07739\n",
      "Epoch 32/100\n",
      "51/51 [==============================] - 3s 68ms/step - loss: 0.0567 - root_mean_squared_error: 0.0900 - val_loss: 0.0489 - val_root_mean_squared_error: 0.0738\n",
      "\n",
      "Epoch 00032: val_root_mean_squared_error improved from 0.07739 to 0.07381, saving model to model_aquifer_save/weights.h5\n",
      "Epoch 33/100\n",
      "51/51 [==============================] - 3s 68ms/step - loss: 0.0556 - root_mean_squared_error: 0.0855 - val_loss: 0.0610 - val_root_mean_squared_error: 0.0973\n",
      "\n",
      "Epoch 00033: val_root_mean_squared_error did not improve from 0.07381\n",
      "Epoch 34/100\n",
      "51/51 [==============================] - 3s 68ms/step - loss: 0.0546 - root_mean_squared_error: 0.0850 - val_loss: 0.0453 - val_root_mean_squared_error: 0.0694\n",
      "\n",
      "Epoch 00034: val_root_mean_squared_error improved from 0.07381 to 0.06937, saving model to model_aquifer_save/weights.h5\n",
      "Epoch 35/100\n",
      "51/51 [==============================] - 3s 68ms/step - loss: 0.0534 - root_mean_squared_error: 0.0818 - val_loss: 0.0543 - val_root_mean_squared_error: 0.0840\n",
      "\n",
      "Epoch 00035: val_root_mean_squared_error did not improve from 0.06937\n",
      "Epoch 36/100\n",
      "51/51 [==============================] - 3s 68ms/step - loss: 0.0540 - root_mean_squared_error: 0.0850 - val_loss: 0.0476 - val_root_mean_squared_error: 0.0747\n",
      "\n",
      "Epoch 00036: val_root_mean_squared_error did not improve from 0.06937\n",
      "Epoch 37/100\n",
      "51/51 [==============================] - 3s 68ms/step - loss: 0.0491 - root_mean_squared_error: 0.0770 - val_loss: 0.0512 - val_root_mean_squared_error: 0.0795\n",
      "\n",
      "Epoch 00037: val_root_mean_squared_error did not improve from 0.06937\n",
      "Epoch 38/100\n",
      "51/51 [==============================] - 3s 68ms/step - loss: 0.0523 - root_mean_squared_error: 0.0801 - val_loss: 0.0533 - val_root_mean_squared_error: 0.0844\n",
      "\n",
      "Epoch 00038: val_root_mean_squared_error did not improve from 0.06937\n",
      "Epoch 39/100\n",
      "51/51 [==============================] - 3s 68ms/step - loss: 0.0554 - root_mean_squared_error: 0.0866 - val_loss: 0.0466 - val_root_mean_squared_error: 0.0713\n",
      "\n",
      "Epoch 00039: val_root_mean_squared_error did not improve from 0.06937\n",
      "Epoch 40/100\n",
      "51/51 [==============================] - 3s 68ms/step - loss: 0.0539 - root_mean_squared_error: 0.0827 - val_loss: 0.0539 - val_root_mean_squared_error: 0.0861\n",
      "\n",
      "Epoch 00040: val_root_mean_squared_error did not improve from 0.06937\n",
      "Epoch 41/100\n",
      "51/51 [==============================] - 3s 68ms/step - loss: 0.0492 - root_mean_squared_error: 0.0776 - val_loss: 0.0568 - val_root_mean_squared_error: 0.0861\n",
      "\n",
      "Epoch 00041: val_root_mean_squared_error did not improve from 0.06937\n",
      "Epoch 42/100\n",
      "51/51 [==============================] - 3s 68ms/step - loss: 0.0462 - root_mean_squared_error: 0.0706 - val_loss: 0.0510 - val_root_mean_squared_error: 0.0822\n",
      "\n",
      "Epoch 00042: val_root_mean_squared_error did not improve from 0.06937\n",
      "Epoch 43/100\n",
      "51/51 [==============================] - 3s 68ms/step - loss: 0.0483 - root_mean_squared_error: 0.0756 - val_loss: 0.0482 - val_root_mean_squared_error: 0.0735\n",
      "\n",
      "Epoch 00043: val_root_mean_squared_error did not improve from 0.06937\n",
      "Epoch 44/100\n",
      "51/51 [==============================] - 4s 69ms/step - loss: 0.0513 - root_mean_squared_error: 0.0787 - val_loss: 0.0663 - val_root_mean_squared_error: 0.0996\n",
      "\n",
      "Epoch 00044: val_root_mean_squared_error did not improve from 0.06937\n",
      "Epoch 45/100\n",
      "51/51 [==============================] - 3s 68ms/step - loss: 0.0559 - root_mean_squared_error: 0.0870 - val_loss: 0.0701 - val_root_mean_squared_error: 0.1034\n",
      "\n",
      "Epoch 00045: val_root_mean_squared_error did not improve from 0.06937\n",
      "Epoch 46/100\n",
      "51/51 [==============================] - 3s 68ms/step - loss: 0.0560 - root_mean_squared_error: 0.0848 - val_loss: 0.0498 - val_root_mean_squared_error: 0.0730\n",
      "\n",
      "Epoch 00046: val_root_mean_squared_error did not improve from 0.06937\n",
      "Epoch 47/100\n",
      "51/51 [==============================] - 3s 68ms/step - loss: 0.0557 - root_mean_squared_error: 0.0858 - val_loss: 0.0484 - val_root_mean_squared_error: 0.0708\n",
      "\n",
      "Epoch 00047: val_root_mean_squared_error did not improve from 0.06937\n",
      "Epoch 48/100\n",
      "51/51 [==============================] - 4s 70ms/step - loss: 0.0496 - root_mean_squared_error: 0.0750 - val_loss: 0.0496 - val_root_mean_squared_error: 0.0728\n",
      "\n",
      "Epoch 00048: val_root_mean_squared_error did not improve from 0.06937\n",
      "Epoch 49/100\n",
      "51/51 [==============================] - 4s 69ms/step - loss: 0.0478 - root_mean_squared_error: 0.0717 - val_loss: 0.0429 - val_root_mean_squared_error: 0.0646\n",
      "\n",
      "Epoch 00049: val_root_mean_squared_error improved from 0.06937 to 0.06458, saving model to model_aquifer_save/weights.h5\n",
      "Epoch 50/100\n",
      "51/51 [==============================] - 3s 69ms/step - loss: 0.0413 - root_mean_squared_error: 0.0624 - val_loss: 0.0495 - val_root_mean_squared_error: 0.0763\n",
      "\n",
      "Epoch 00050: val_root_mean_squared_error did not improve from 0.06458\n",
      "Epoch 51/100\n",
      "51/51 [==============================] - 3s 68ms/step - loss: 0.0481 - root_mean_squared_error: 0.0747 - val_loss: 0.0399 - val_root_mean_squared_error: 0.0599\n",
      "\n",
      "Epoch 00051: val_root_mean_squared_error improved from 0.06458 to 0.05994, saving model to model_aquifer_save/weights.h5\n",
      "Epoch 52/100\n",
      "51/51 [==============================] - 3s 68ms/step - loss: 0.0431 - root_mean_squared_error: 0.0671 - val_loss: 0.0471 - val_root_mean_squared_error: 0.0745\n",
      "\n",
      "Epoch 00052: val_root_mean_squared_error did not improve from 0.05994\n",
      "Epoch 53/100\n",
      "51/51 [==============================] - 3s 68ms/step - loss: 0.0448 - root_mean_squared_error: 0.0687 - val_loss: 0.0523 - val_root_mean_squared_error: 0.0783\n",
      "\n",
      "Epoch 00053: val_root_mean_squared_error did not improve from 0.05994\n",
      "Epoch 54/100\n",
      "51/51 [==============================] - 4s 69ms/step - loss: 0.0510 - root_mean_squared_error: 0.0803 - val_loss: 0.0603 - val_root_mean_squared_error: 0.0956\n",
      "\n",
      "Epoch 00054: val_root_mean_squared_error did not improve from 0.05994\n",
      "Epoch 55/100\n",
      "51/51 [==============================] - 3s 68ms/step - loss: 0.0525 - root_mean_squared_error: 0.0808 - val_loss: 0.0565 - val_root_mean_squared_error: 0.0924\n",
      "\n",
      "Epoch 00055: val_root_mean_squared_error did not improve from 0.05994\n",
      "Epoch 56/100\n",
      "51/51 [==============================] - 3s 68ms/step - loss: 0.0550 - root_mean_squared_error: 0.0853 - val_loss: 0.0461 - val_root_mean_squared_error: 0.0684\n",
      "\n",
      "Epoch 00056: val_root_mean_squared_error did not improve from 0.05994\n",
      "Epoch 57/100\n",
      "51/51 [==============================] - 4s 69ms/step - loss: 0.0471 - root_mean_squared_error: 0.0718 - val_loss: 0.0455 - val_root_mean_squared_error: 0.0672\n",
      "\n",
      "Epoch 00057: val_root_mean_squared_error did not improve from 0.05994\n",
      "Epoch 58/100\n",
      "51/51 [==============================] - 3s 68ms/step - loss: 0.0464 - root_mean_squared_error: 0.0715 - val_loss: 0.0437 - val_root_mean_squared_error: 0.0649\n",
      "\n",
      "Epoch 00058: val_root_mean_squared_error did not improve from 0.05994\n",
      "Epoch 59/100\n",
      "51/51 [==============================] - 3s 68ms/step - loss: 0.0441 - root_mean_squared_error: 0.0677 - val_loss: 0.0468 - val_root_mean_squared_error: 0.0730\n",
      "\n",
      "Epoch 00059: val_root_mean_squared_error did not improve from 0.05994\n",
      "Epoch 60/100\n",
      "51/51 [==============================] - 3s 69ms/step - loss: 0.0445 - root_mean_squared_error: 0.0686 - val_loss: 0.0599 - val_root_mean_squared_error: 0.0910\n",
      "\n",
      "Epoch 00060: val_root_mean_squared_error did not improve from 0.05994\n",
      "Epoch 61/100\n",
      "51/51 [==============================] - 3s 69ms/step - loss: 0.0484 - root_mean_squared_error: 0.0751 - val_loss: 0.0437 - val_root_mean_squared_error: 0.0658\n",
      "\n",
      "Epoch 00061: val_root_mean_squared_error did not improve from 0.05994\n",
      "Epoch 62/100\n",
      "51/51 [==============================] - 4s 70ms/step - loss: 0.0487 - root_mean_squared_error: 0.0753 - val_loss: 0.0596 - val_root_mean_squared_error: 0.0909\n",
      "\n",
      "Epoch 00062: val_root_mean_squared_error did not improve from 0.05994\n",
      "Epoch 63/100\n",
      "51/51 [==============================] - 4s 69ms/step - loss: 0.0576 - root_mean_squared_error: 0.0906 - val_loss: 0.0588 - val_root_mean_squared_error: 0.0891\n",
      "\n",
      "Epoch 00063: val_root_mean_squared_error did not improve from 0.05994\n",
      "Epoch 64/100\n",
      "51/51 [==============================] - 4s 69ms/step - loss: 0.0491 - root_mean_squared_error: 0.0743 - val_loss: 0.0530 - val_root_mean_squared_error: 0.0800\n",
      "\n",
      "Epoch 00064: val_root_mean_squared_error did not improve from 0.05994\n",
      "Epoch 65/100\n",
      "51/51 [==============================] - 3s 69ms/step - loss: 0.0504 - root_mean_squared_error: 0.0770 - val_loss: 0.0490 - val_root_mean_squared_error: 0.0737\n",
      "\n",
      "Epoch 00065: val_root_mean_squared_error did not improve from 0.05994\n",
      "Epoch 66/100\n",
      "51/51 [==============================] - 4s 69ms/step - loss: 0.0536 - root_mean_squared_error: 0.0821 - val_loss: 0.0508 - val_root_mean_squared_error: 0.0778\n",
      "\n",
      "Epoch 00066: val_root_mean_squared_error did not improve from 0.05994\n",
      "Epoch 67/100\n",
      "51/51 [==============================] - 4s 69ms/step - loss: 0.0513 - root_mean_squared_error: 0.0798 - val_loss: 0.0470 - val_root_mean_squared_error: 0.0702\n",
      "\n",
      "Epoch 00067: val_root_mean_squared_error did not improve from 0.05994\n",
      "Epoch 68/100\n",
      "51/51 [==============================] - 4s 69ms/step - loss: 0.0476 - root_mean_squared_error: 0.0738 - val_loss: 0.0476 - val_root_mean_squared_error: 0.0728\n",
      "\n",
      "Epoch 00068: val_root_mean_squared_error did not improve from 0.05994\n",
      "Epoch 69/100\n",
      "51/51 [==============================] - 4s 69ms/step - loss: 0.0450 - root_mean_squared_error: 0.0692 - val_loss: 0.0483 - val_root_mean_squared_error: 0.0736\n",
      "\n",
      "Epoch 00069: val_root_mean_squared_error did not improve from 0.05994\n",
      "Epoch 70/100\n",
      "51/51 [==============================] - 3s 69ms/step - loss: 0.0534 - root_mean_squared_error: 0.0828 - val_loss: 0.0474 - val_root_mean_squared_error: 0.0751\n",
      "\n",
      "Epoch 00070: val_root_mean_squared_error did not improve from 0.05994\n",
      "Epoch 71/100\n",
      "51/51 [==============================] - 4s 69ms/step - loss: 0.0488 - root_mean_squared_error: 0.0763 - val_loss: 0.0427 - val_root_mean_squared_error: 0.0681\n",
      "\n",
      "Epoch 00071: val_root_mean_squared_error did not improve from 0.05994\n",
      "Epoch 72/100\n",
      "51/51 [==============================] - 4s 70ms/step - loss: 0.0440 - root_mean_squared_error: 0.0671 - val_loss: 0.0528 - val_root_mean_squared_error: 0.0843\n",
      "\n",
      "Epoch 00072: val_root_mean_squared_error did not improve from 0.05994\n",
      "Epoch 73/100\n",
      "51/51 [==============================] - 4s 69ms/step - loss: 0.0465 - root_mean_squared_error: 0.0707 - val_loss: 0.0484 - val_root_mean_squared_error: 0.0731\n",
      "\n",
      "Epoch 00073: val_root_mean_squared_error did not improve from 0.05994\n",
      "Epoch 74/100\n",
      "51/51 [==============================] - 4s 69ms/step - loss: 0.0405 - root_mean_squared_error: 0.0608 - val_loss: 0.0481 - val_root_mean_squared_error: 0.0748\n",
      "\n",
      "Epoch 00074: val_root_mean_squared_error did not improve from 0.05994\n",
      "Epoch 75/100\n",
      "51/51 [==============================] - 4s 70ms/step - loss: 0.0404 - root_mean_squared_error: 0.0626 - val_loss: 0.0421 - val_root_mean_squared_error: 0.0599\n",
      "\n",
      "Epoch 00075: val_root_mean_squared_error improved from 0.05994 to 0.05988, saving model to model_aquifer_save/weights.h5\n",
      "Epoch 76/100\n",
      "51/51 [==============================] - 4s 70ms/step - loss: 0.0467 - root_mean_squared_error: 0.0720 - val_loss: 0.0415 - val_root_mean_squared_error: 0.0612\n",
      "\n",
      "Epoch 00076: val_root_mean_squared_error did not improve from 0.05988\n",
      "Epoch 77/100\n",
      "51/51 [==============================] - 3s 69ms/step - loss: 0.0456 - root_mean_squared_error: 0.0707 - val_loss: 0.0428 - val_root_mean_squared_error: 0.0656\n",
      "\n",
      "Epoch 00077: val_root_mean_squared_error did not improve from 0.05988\n",
      "Epoch 78/100\n",
      "51/51 [==============================] - 4s 69ms/step - loss: 0.0462 - root_mean_squared_error: 0.0709 - val_loss: 0.0427 - val_root_mean_squared_error: 0.0663\n",
      "\n",
      "Epoch 00078: val_root_mean_squared_error did not improve from 0.05988\n",
      "Epoch 79/100\n",
      "51/51 [==============================] - 3s 69ms/step - loss: 0.0446 - root_mean_squared_error: 0.0681 - val_loss: 0.0463 - val_root_mean_squared_error: 0.0683\n",
      "\n",
      "Epoch 00079: val_root_mean_squared_error did not improve from 0.05988\n",
      "Epoch 80/100\n",
      "51/51 [==============================] - 4s 70ms/step - loss: 0.0442 - root_mean_squared_error: 0.0684 - val_loss: 0.0466 - val_root_mean_squared_error: 0.0744\n",
      "\n",
      "Epoch 00080: val_root_mean_squared_error did not improve from 0.05988\n",
      "Epoch 81/100\n",
      "51/51 [==============================] - 4s 71ms/step - loss: 0.0443 - root_mean_squared_error: 0.0685 - val_loss: 0.0435 - val_root_mean_squared_error: 0.0671\n",
      "\n",
      "Epoch 00081: val_root_mean_squared_error did not improve from 0.05988\n",
      "Epoch 82/100\n",
      "51/51 [==============================] - 4s 69ms/step - loss: 0.0452 - root_mean_squared_error: 0.0705 - val_loss: 0.0469 - val_root_mean_squared_error: 0.0742\n",
      "\n",
      "Epoch 00082: val_root_mean_squared_error did not improve from 0.05988\n",
      "Epoch 83/100\n",
      "51/51 [==============================] - 4s 70ms/step - loss: 0.0425 - root_mean_squared_error: 0.0653 - val_loss: 0.0516 - val_root_mean_squared_error: 0.0781\n",
      "\n",
      "Epoch 00083: val_root_mean_squared_error did not improve from 0.05988\n",
      "Epoch 84/100\n",
      "51/51 [==============================] - 4s 71ms/step - loss: 0.0480 - root_mean_squared_error: 0.0746 - val_loss: 0.0481 - val_root_mean_squared_error: 0.0747\n",
      "\n",
      "Epoch 00084: val_root_mean_squared_error did not improve from 0.05988\n",
      "Epoch 85/100\n",
      "51/51 [==============================] - 4s 69ms/step - loss: 0.0542 - root_mean_squared_error: 0.0833 - val_loss: 0.0480 - val_root_mean_squared_error: 0.0735\n",
      "\n",
      "Epoch 00085: val_root_mean_squared_error did not improve from 0.05988\n",
      "Epoch 86/100\n",
      "51/51 [==============================] - 4s 69ms/step - loss: 0.0452 - root_mean_squared_error: 0.0704 - val_loss: 0.0433 - val_root_mean_squared_error: 0.0672\n",
      "\n",
      "Epoch 00086: val_root_mean_squared_error did not improve from 0.05988\n",
      "Epoch 87/100\n",
      "51/51 [==============================] - 4s 70ms/step - loss: 0.0426 - root_mean_squared_error: 0.0662 - val_loss: 0.0476 - val_root_mean_squared_error: 0.0728\n",
      "\n",
      "Epoch 00087: val_root_mean_squared_error did not improve from 0.05988\n",
      "Epoch 88/100\n",
      "51/51 [==============================] - 4s 70ms/step - loss: 0.0426 - root_mean_squared_error: 0.0654 - val_loss: 0.0468 - val_root_mean_squared_error: 0.0711\n",
      "\n",
      "Epoch 00088: val_root_mean_squared_error did not improve from 0.05988\n",
      "Epoch 89/100\n",
      "51/51 [==============================] - 4s 70ms/step - loss: 0.0442 - root_mean_squared_error: 0.0664 - val_loss: 0.0470 - val_root_mean_squared_error: 0.0692\n",
      "\n",
      "Epoch 00089: val_root_mean_squared_error did not improve from 0.05988\n",
      "Epoch 90/100\n",
      "51/51 [==============================] - 4s 69ms/step - loss: 0.0482 - root_mean_squared_error: 0.0742 - val_loss: 0.0447 - val_root_mean_squared_error: 0.0711\n",
      "\n",
      "Epoch 00090: val_root_mean_squared_error did not improve from 0.05988\n",
      "Epoch 91/100\n",
      "51/51 [==============================] - 4s 69ms/step - loss: 0.0431 - root_mean_squared_error: 0.0670 - val_loss: 0.0493 - val_root_mean_squared_error: 0.0751\n",
      "\n",
      "Epoch 00091: val_root_mean_squared_error did not improve from 0.05988\n",
      "Epoch 92/100\n",
      "51/51 [==============================] - 4s 69ms/step - loss: 0.0433 - root_mean_squared_error: 0.0676 - val_loss: 0.0435 - val_root_mean_squared_error: 0.0646\n",
      "\n",
      "Epoch 00092: val_root_mean_squared_error did not improve from 0.05988\n",
      "Epoch 93/100\n",
      "51/51 [==============================] - 4s 70ms/step - loss: 0.0464 - root_mean_squared_error: 0.0715 - val_loss: 0.0431 - val_root_mean_squared_error: 0.0664\n",
      "\n",
      "Epoch 00093: val_root_mean_squared_error did not improve from 0.05988\n",
      "Epoch 94/100\n",
      "51/51 [==============================] - 4s 70ms/step - loss: 0.0438 - root_mean_squared_error: 0.0694 - val_loss: 0.0465 - val_root_mean_squared_error: 0.0707\n",
      "\n",
      "Epoch 00094: val_root_mean_squared_error did not improve from 0.05988\n",
      "Epoch 95/100\n",
      "51/51 [==============================] - 4s 70ms/step - loss: 0.0413 - root_mean_squared_error: 0.0630 - val_loss: 0.0464 - val_root_mean_squared_error: 0.0751\n",
      "\n",
      "Epoch 00095: val_root_mean_squared_error did not improve from 0.05988\n",
      "Epoch 96/100\n",
      "51/51 [==============================] - 4s 71ms/step - loss: 0.0419 - root_mean_squared_error: 0.0641 - val_loss: 0.0419 - val_root_mean_squared_error: 0.0631\n",
      "\n",
      "Epoch 00096: val_root_mean_squared_error did not improve from 0.05988\n",
      "Epoch 97/100\n",
      "51/51 [==============================] - 4s 70ms/step - loss: 0.0508 - root_mean_squared_error: 0.0790 - val_loss: 0.0529 - val_root_mean_squared_error: 0.0854\n",
      "\n",
      "Epoch 00097: val_root_mean_squared_error did not improve from 0.05988\n",
      "Epoch 98/100\n",
      "51/51 [==============================] - 4s 70ms/step - loss: 0.0455 - root_mean_squared_error: 0.0708 - val_loss: 0.0419 - val_root_mean_squared_error: 0.0638\n",
      "\n",
      "Epoch 00098: val_root_mean_squared_error did not improve from 0.05988\n",
      "Epoch 99/100\n",
      "51/51 [==============================] - 4s 70ms/step - loss: 0.0432 - root_mean_squared_error: 0.0662 - val_loss: 0.0512 - val_root_mean_squared_error: 0.0792\n",
      "\n",
      "Epoch 00099: val_root_mean_squared_error did not improve from 0.05988\n",
      "Epoch 100/100\n",
      "51/51 [==============================] - 4s 70ms/step - loss: 0.0424 - root_mean_squared_error: 0.0636 - val_loss: 0.0474 - val_root_mean_squared_error: 0.0766\n",
      "\n",
      "Epoch 00100: val_root_mean_squared_error did not improve from 0.05988\n"
     ]
    },
    {
     "data": {
      "text/plain": [
       "<tensorflow.python.keras.callbacks.History at 0x7f970274b9d0>"
      ]
     },
     "execution_count": 22,
     "metadata": {
      "tags": []
     },
     "output_type": "execute_result"
    }
   ],
   "source": [
    "model.fit(x=X_train,y=y_train,\n",
    "          validation_data=(X_test,y_test),\n",
    "          callbacks=[checkpoint,tensorboard_callback],\n",
    "          batch_size=128,epochs=100)\n"
   ]
  },
  {
   "cell_type": "code",
   "execution_count": null,
   "metadata": {
    "colab": {
     "base_uri": "https://localhost:8080/"
    },
    "id": "VuPMzK7elK2F",
    "outputId": "673761c9-5da3-4588-ddbf-2690071b11c4"
   },
   "outputs": [
    {
     "name": "stdout",
     "output_type": "stream",
     "text": [
      "Model: \"sequential\"\n",
      "_________________________________________________________________\n",
      "Layer (type)                 Output Shape              Param #   \n",
      "=================================================================\n",
      "dense (Dense)                (None, 1000)              5000      \n",
      "_________________________________________________________________\n",
      "dense_1 (Dense)              (None, 1000)              1001000   \n",
      "_________________________________________________________________\n",
      "dense_2 (Dense)              (None, 1000)              1001000   \n",
      "_________________________________________________________________\n",
      "dense_3 (Dense)              (None, 1000)              1001000   \n",
      "_________________________________________________________________\n",
      "dense_4 (Dense)              (None, 1)                 1001      \n",
      "=================================================================\n",
      "Total params: 3,009,001\n",
      "Trainable params: 3,009,001\n",
      "Non-trainable params: 0\n",
      "_________________________________________________________________\n"
     ]
    }
   ],
   "source": [
    "model.summary()"
   ]
  },
  {
   "cell_type": "code",
   "execution_count": null,
   "metadata": {
    "id": "lf6L4ZexpwNS"
   },
   "outputs": [],
   "source": [
    "y_pred = model.predict(X_test)"
   ]
  },
  {
   "cell_type": "code",
   "execution_count": null,
   "metadata": {
    "colab": {
     "base_uri": "https://localhost:8080/"
    },
    "id": "FVLgHjeXp4pP",
    "outputId": "807fe0b4-f64e-49e5-8e0e-e870dbb5f10f"
   },
   "outputs": [
    {
     "data": {
      "text/plain": [
       "0.020680591275962612"
      ]
     },
     "execution_count": 28,
     "metadata": {
      "tags": []
     },
     "output_type": "execute_result"
    }
   ],
   "source": [
    "# find median absolute error\n",
    "median_absolute_error(y_test,y_pred)"
   ]
  },
  {
   "cell_type": "code",
   "execution_count": null,
   "metadata": {
    "colab": {
     "base_uri": "https://localhost:8080/"
    },
    "id": "bBPnIjFjqBaJ",
    "outputId": "e2b3b102-0978-49cd-bf22-3dfc38b07e78"
   },
   "outputs": [
    {
     "data": {
      "text/plain": [
       "0.0506280141315964"
      ]
     },
     "execution_count": 29,
     "metadata": {
      "tags": []
     },
     "output_type": "execute_result"
    }
   ],
   "source": [
    "# find root mean square log error\n",
    "np.sqrt(mean_squared_log_error(y_test,y_pred))"
   ]
  },
  {
   "cell_type": "code",
   "execution_count": null,
   "metadata": {
    "colab": {
     "base_uri": "https://localhost:8080/"
    },
    "id": "A4gUOxBkqBUv",
    "outputId": "d35deedd-606c-4bf2-c662-0bdbcee5bf30"
   },
   "outputs": [
    {
     "data": {
      "text/plain": [
       "0.9561026133850481"
      ]
     },
     "execution_count": 30,
     "metadata": {
      "tags": []
     },
     "output_type": "execute_result"
    }
   ],
   "source": [
    "# find r2 score\n",
    "r2_score(y_test,y_pred)"
   ]
  },
  {
   "cell_type": "code",
   "execution_count": null,
   "metadata": {},
   "outputs": [],
   "source": []
  }
 ],
 "metadata": {
  "colab": {
   "collapsed_sections": [],
   "name": "Acea_Smart_Water_Analytics_Model-Copy1.ipynb",
   "provenance": [],
   "toc_visible": true
  },
  "kernelspec": {
   "display_name": "Python 3",
   "language": "python",
   "name": "python3"
  },
  "language_info": {
   "codemirror_mode": {
    "name": "ipython",
    "version": 3
   },
   "file_extension": ".py",
   "mimetype": "text/x-python",
   "name": "python",
   "nbconvert_exporter": "python",
   "pygments_lexer": "ipython3",
   "version": "3.8.3"
  },
  "toc": {
   "base_numbering": 1,
   "nav_menu": {},
   "number_sections": true,
   "sideBar": true,
   "skip_h1_title": false,
   "title_cell": "Table of Contents",
   "title_sidebar": "Contents",
   "toc_cell": false,
   "toc_position": {},
   "toc_section_display": true,
   "toc_window_display": true
  },
  "varInspector": {
   "cols": {
    "lenName": 16,
    "lenType": 16,
    "lenVar": 40
   },
   "kernels_config": {
    "python": {
     "delete_cmd_postfix": "",
     "delete_cmd_prefix": "del ",
     "library": "var_list.py",
     "varRefreshCmd": "print(var_dic_list())"
    },
    "r": {
     "delete_cmd_postfix": ") ",
     "delete_cmd_prefix": "rm(",
     "library": "var_list.r",
     "varRefreshCmd": "cat(var_dic_list()) "
    }
   },
   "types_to_exclude": [
    "module",
    "function",
    "builtin_function_or_method",
    "instance",
    "_Feature"
   ],
   "window_display": false
  }
 },
 "nbformat": 4,
 "nbformat_minor": 1
}
