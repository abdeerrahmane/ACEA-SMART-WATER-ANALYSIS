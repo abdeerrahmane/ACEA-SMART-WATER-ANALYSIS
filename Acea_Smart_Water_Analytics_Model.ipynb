{
 "cells": [
  {
   "cell_type": "markdown",
   "metadata": {
    "id": "RJk9RE8DXv9B"
   },
   "source": [
    "import the basics required packages."
   ]
  },
  {
   "cell_type": "code",
   "execution_count": 3,
   "metadata": {
    "id": "a6P88QK2Xv9s"
   },
   "outputs": [],
   "source": [
    "#  Import some data manipulation and plotting packages\n",
    "import numpy as np\n",
    "import pandas as pd\n",
    "import matplotlib.pyplot as plt\n",
    "import seaborn as sns\n",
    "import os\n",
    "\n",
    "#ignore warnings\n",
    "import warnings\n",
    "warnings.filterwarnings(\"ignore\")\n",
    "\n",
    "from sklearn.model_selection import train_test_split\n",
    "from sklearn.linear_model import LinearRegression\n",
    "from sklearn.linear_model import SGDRegressor\n",
    "from sklearn.neighbors import KNeighborsRegressor\n",
    "from sklearn.tree import DecisionTreeRegressor\n",
    "from xgboost import XGBRegressor\n",
    "from sklearn.ensemble import AdaBoostRegressor\n",
    "from sklearn.ensemble import RandomForestRegressor\n",
    "from sklearn.svm import SVR\n",
    "from sklearn.neural_network import MLPRegressor\n",
    "from sklearn.metrics import mean_absolute_error,median_absolute_error,mean_squared_log_error, r2_score\n",
    "from sklearn.model_selection import GridSearchCV"
   ]
  },
  {
   "cell_type": "markdown",
   "metadata": {
    "id": "vKwVloU2Xv9y"
   },
   "source": [
    "# Read Datasets"
   ]
  },
  {
   "cell_type": "code",
   "execution_count": 6,
   "metadata": {
    "id": "3-gchmegXv90"
   },
   "outputs": [],
   "source": [
    "# Read all the given datasets into separate dataframes\n",
    "aquifers = pd.read_csv(\"Feature-Engineered-Datasets/aquifers_fe.csv\")\n",
    "lakes = pd.read_csv('Feature-Engineered-Datasets/lakes_fe.csv')\n",
    "rivers = pd.read_csv('Feature-Engineered-Datasets/rivers_fe.csv')\n",
    "springs = pd.read_csv('Feature-Engineered-Datasets/springs_fe.csv')"
   ]
  },
  {
   "cell_type": "markdown",
   "metadata": {
    "id": "w5aoEzKaXv92"
   },
   "source": [
    "# Model"
   ]
  },
  {
   "cell_type": "markdown",
   "metadata": {
    "id": "6-qsjCzxXv-N"
   },
   "source": [
    "# ==============================================================\n",
    "# ==============================================================\n",
    "## ============================= aquifers ====================================\n",
    "# ==============================================================\n",
    "# =============================================================="
   ]
  },
  {
   "cell_type": "code",
   "execution_count": 7,
   "metadata": {
    "colab": {
     "base_uri": "https://localhost:8080/",
     "height": 204
    },
    "id": "9IRmBE2aXv-Q",
    "outputId": "7ca2af07-7bbe-4894-ae84-be2398126c13"
   },
   "outputs": [
    {
     "data": {
      "text/html": [
       "<div>\n",
       "<style scoped>\n",
       "    .dataframe tbody tr th:only-of-type {\n",
       "        vertical-align: middle;\n",
       "    }\n",
       "\n",
       "    .dataframe tbody tr th {\n",
       "        vertical-align: top;\n",
       "    }\n",
       "\n",
       "    .dataframe thead th {\n",
       "        text-align: right;\n",
       "    }\n",
       "</style>\n",
       "<table border=\"1\" class=\"dataframe\">\n",
       "  <thead>\n",
       "    <tr style=\"text-align: right;\">\n",
       "      <th></th>\n",
       "      <th>Mean_Rainfall</th>\n",
       "      <th>Mean_Temp</th>\n",
       "      <th>Actual_Depth</th>\n",
       "      <th>Actual_Volume</th>\n",
       "      <th>Actual_Hydrometry</th>\n",
       "      <th>Date</th>\n",
       "    </tr>\n",
       "  </thead>\n",
       "  <tbody>\n",
       "    <tr>\n",
       "      <th>0</th>\n",
       "      <td>0.415556</td>\n",
       "      <td>6.6250</td>\n",
       "      <td>-6.08026</td>\n",
       "      <td>-8019.271158</td>\n",
       "      <td>-0.083056</td>\n",
       "      <td>1998-01-04</td>\n",
       "    </tr>\n",
       "    <tr>\n",
       "      <th>1</th>\n",
       "      <td>2.054444</td>\n",
       "      <td>6.0750</td>\n",
       "      <td>-6.06452</td>\n",
       "      <td>-7956.571285</td>\n",
       "      <td>-0.104167</td>\n",
       "      <td>1998-01-05</td>\n",
       "    </tr>\n",
       "    <tr>\n",
       "      <th>2</th>\n",
       "      <td>0.921111</td>\n",
       "      <td>9.0875</td>\n",
       "      <td>-6.15706</td>\n",
       "      <td>-7715.808854</td>\n",
       "      <td>0.011944</td>\n",
       "      <td>1998-01-06</td>\n",
       "    </tr>\n",
       "    <tr>\n",
       "      <th>3</th>\n",
       "      <td>0.878889</td>\n",
       "      <td>12.3250</td>\n",
       "      <td>-6.10774</td>\n",
       "      <td>-7731.378766</td>\n",
       "      <td>-0.008611</td>\n",
       "      <td>1998-01-07</td>\n",
       "    </tr>\n",
       "    <tr>\n",
       "      <th>4</th>\n",
       "      <td>0.908889</td>\n",
       "      <td>12.6500</td>\n",
       "      <td>-6.05310</td>\n",
       "      <td>-7812.676449</td>\n",
       "      <td>-0.072222</td>\n",
       "      <td>1998-01-08</td>\n",
       "    </tr>\n",
       "  </tbody>\n",
       "</table>\n",
       "</div>"
      ],
      "text/plain": [
       "   Mean_Rainfall  Mean_Temp  Actual_Depth  Actual_Volume  Actual_Hydrometry  \\\n",
       "0       0.415556     6.6250      -6.08026   -8019.271158          -0.083056   \n",
       "1       2.054444     6.0750      -6.06452   -7956.571285          -0.104167   \n",
       "2       0.921111     9.0875      -6.15706   -7715.808854           0.011944   \n",
       "3       0.878889    12.3250      -6.10774   -7731.378766          -0.008611   \n",
       "4       0.908889    12.6500      -6.05310   -7812.676449          -0.072222   \n",
       "\n",
       "         Date  \n",
       "0  1998-01-04  \n",
       "1  1998-01-05  \n",
       "2  1998-01-06  \n",
       "3  1998-01-07  \n",
       "4  1998-01-08  "
      ]
     },
     "execution_count": 7,
     "metadata": {},
     "output_type": "execute_result"
    }
   ],
   "source": [
    "aquifers.head()"
   ]
  },
  {
   "cell_type": "code",
   "execution_count": 8,
   "metadata": {
    "id": "95A8Ao3mXv-s"
   },
   "outputs": [],
   "source": [
    "# Normalizing the columns to remove negative values\n",
    "aquifers['Mean_Rainfall'] = (aquifers['Mean_Rainfall'] - aquifers['Mean_Rainfall'].min()) / (aquifers['Mean_Rainfall'].max() - aquifers['Mean_Rainfall'].min())\n",
    "aquifers['Mean_Temp'] = (aquifers['Mean_Temp'] - aquifers['Mean_Temp'].min()) / (aquifers['Mean_Temp'].max() - aquifers['Mean_Temp'].min())\n",
    "aquifers['Actual_Depth'] = (aquifers['Actual_Depth'] - aquifers['Actual_Depth'].min()) / (aquifers['Actual_Depth'].max() - aquifers['Actual_Depth'].min())\n",
    "aquifers['Actual_Volume'] = (aquifers['Actual_Volume'] - aquifers['Actual_Volume'].min()) / (aquifers['Actual_Volume'].max() - aquifers['Actual_Volume'].min())\n",
    "aquifers['Actual_Hydrometry'] = (aquifers['Actual_Hydrometry'] - aquifers['Actual_Hydrometry'].min()) / (aquifers['Actual_Hydrometry'].max() - aquifers['Actual_Hydrometry'].min())"
   ]
  },
  {
   "cell_type": "code",
   "execution_count": 9,
   "metadata": {
    "colab": {
     "base_uri": "https://localhost:8080/",
     "height": 204
    },
    "id": "dDkcX9gcXv-v",
    "outputId": "97d55a9d-abb2-4508-b9a9-688f3cacb898"
   },
   "outputs": [
    {
     "data": {
      "text/html": [
       "<div>\n",
       "<style scoped>\n",
       "    .dataframe tbody tr th:only-of-type {\n",
       "        vertical-align: middle;\n",
       "    }\n",
       "\n",
       "    .dataframe tbody tr th {\n",
       "        vertical-align: top;\n",
       "    }\n",
       "\n",
       "    .dataframe thead th {\n",
       "        text-align: right;\n",
       "    }\n",
       "</style>\n",
       "<table border=\"1\" class=\"dataframe\">\n",
       "  <thead>\n",
       "    <tr style=\"text-align: right;\">\n",
       "      <th></th>\n",
       "      <th>Mean_Rainfall</th>\n",
       "      <th>Mean_Temp</th>\n",
       "      <th>Actual_Depth</th>\n",
       "      <th>Actual_Volume</th>\n",
       "      <th>Actual_Hydrometry</th>\n",
       "      <th>Date</th>\n",
       "    </tr>\n",
       "  </thead>\n",
       "  <tbody>\n",
       "    <tr>\n",
       "      <th>0</th>\n",
       "      <td>0.007267</td>\n",
       "      <td>0.295126</td>\n",
       "      <td>0.984879</td>\n",
       "      <td>0.395764</td>\n",
       "      <td>0.090032</td>\n",
       "      <td>1998-01-04</td>\n",
       "    </tr>\n",
       "    <tr>\n",
       "      <th>1</th>\n",
       "      <td>0.035926</td>\n",
       "      <td>0.276216</td>\n",
       "      <td>0.985372</td>\n",
       "      <td>0.401094</td>\n",
       "      <td>0.084072</td>\n",
       "      <td>1998-01-05</td>\n",
       "    </tr>\n",
       "    <tr>\n",
       "      <th>2</th>\n",
       "      <td>0.016108</td>\n",
       "      <td>0.379792</td>\n",
       "      <td>0.982474</td>\n",
       "      <td>0.421561</td>\n",
       "      <td>0.116854</td>\n",
       "      <td>1998-01-06</td>\n",
       "    </tr>\n",
       "    <tr>\n",
       "      <th>3</th>\n",
       "      <td>0.015369</td>\n",
       "      <td>0.491104</td>\n",
       "      <td>0.984019</td>\n",
       "      <td>0.420238</td>\n",
       "      <td>0.111050</td>\n",
       "      <td>1998-01-07</td>\n",
       "    </tr>\n",
       "    <tr>\n",
       "      <th>4</th>\n",
       "      <td>0.015894</td>\n",
       "      <td>0.502278</td>\n",
       "      <td>0.985729</td>\n",
       "      <td>0.413327</td>\n",
       "      <td>0.093091</td>\n",
       "      <td>1998-01-08</td>\n",
       "    </tr>\n",
       "  </tbody>\n",
       "</table>\n",
       "</div>"
      ],
      "text/plain": [
       "   Mean_Rainfall  Mean_Temp  Actual_Depth  Actual_Volume  Actual_Hydrometry  \\\n",
       "0       0.007267   0.295126      0.984879       0.395764           0.090032   \n",
       "1       0.035926   0.276216      0.985372       0.401094           0.084072   \n",
       "2       0.016108   0.379792      0.982474       0.421561           0.116854   \n",
       "3       0.015369   0.491104      0.984019       0.420238           0.111050   \n",
       "4       0.015894   0.502278      0.985729       0.413327           0.093091   \n",
       "\n",
       "         Date  \n",
       "0  1998-01-04  \n",
       "1  1998-01-05  \n",
       "2  1998-01-06  \n",
       "3  1998-01-07  \n",
       "4  1998-01-08  "
      ]
     },
     "execution_count": 9,
     "metadata": {},
     "output_type": "execute_result"
    }
   ],
   "source": [
    "aquifers.head()"
   ]
  },
  {
   "cell_type": "code",
   "execution_count": 10,
   "metadata": {
    "id": "eKskL-oHXv-y"
   },
   "outputs": [],
   "source": [
    "# separating the date and target feature\n",
    "X = aquifers.drop(['Date','Actual_Depth'],axis=1)\n",
    "y = aquifers['Actual_Depth']"
   ]
  },
  {
   "cell_type": "code",
   "execution_count": 11,
   "metadata": {
    "id": "VM0RptCAXv-z"
   },
   "outputs": [],
   "source": [
    "#Dividing the dataset into train and test for features as well as labels\n",
    "X_train, X_test, y_train, y_test = train_test_split(X,y,test_size=0.2,random_state=42)"
   ]
  },
  {
   "cell_type": "code",
   "execution_count": 12,
   "metadata": {
    "colab": {
     "base_uri": "https://localhost:8080/"
    },
    "id": "JyBW6Y_RXv-1",
    "outputId": "bb9fe9ac-2672-4751-cedf-c9604435e16f"
   },
   "outputs": [
    {
     "data": {
      "text/plain": [
       "6523"
      ]
     },
     "execution_count": 12,
     "metadata": {},
     "output_type": "execute_result"
    }
   ],
   "source": [
    "#checking the number of rows in training data\n",
    "len(X_train)"
   ]
  },
  {
   "cell_type": "code",
   "execution_count": 14,
   "metadata": {
    "colab": {
     "base_uri": "https://localhost:8080/"
    },
    "id": "lAQ-ecbDXv-2",
    "outputId": "e6176678-3d02-4aed-8ce3-aa4d634bb1e2"
   },
   "outputs": [
    {
     "data": {
      "text/plain": [
       "6523"
      ]
     },
     "execution_count": 14,
     "metadata": {},
     "output_type": "execute_result"
    }
   ],
   "source": [
    "\n",
    "#checking the number of rows in training labels\n",
    "len(y_train)"
   ]
  },
  {
   "cell_type": "code",
   "execution_count": 15,
   "metadata": {
    "colab": {
     "base_uri": "https://localhost:8080/"
    },
    "id": "iUwY9XNbXv-4",
    "outputId": "d74716fd-c780-4b1f-d37f-4e7738392baa"
   },
   "outputs": [
    {
     "data": {
      "text/plain": [
       "1631"
      ]
     },
     "execution_count": 15,
     "metadata": {},
     "output_type": "execute_result"
    }
   ],
   "source": [
    "#checking the number of rows in testing data\n",
    "len(X_test)"
   ]
  },
  {
   "cell_type": "code",
   "execution_count": 16,
   "metadata": {
    "colab": {
     "base_uri": "https://localhost:8080/"
    },
    "id": "BappERekXv-6",
    "outputId": "70fe6fde-f538-4ec9-e39b-7d08b9e74c1b"
   },
   "outputs": [
    {
     "data": {
      "text/plain": [
       "1631"
      ]
     },
     "execution_count": 16,
     "metadata": {},
     "output_type": "execute_result"
    }
   ],
   "source": [
    "#checking the number of rows in testing labels\n",
    "len(y_test)"
   ]
  },
  {
   "cell_type": "markdown",
   "metadata": {},
   "source": [
    "# ================================================================"
   ]
  },
  {
   "cell_type": "markdown",
   "metadata": {
    "id": "4B6JN2j1Xv-7"
   },
   "source": [
    "### knn"
   ]
  },
  {
   "cell_type": "code",
   "execution_count": 17,
   "metadata": {
    "id": "CqIATBRWXv-8"
   },
   "outputs": [],
   "source": [
    "# create a knn regressor\n",
    "neigh = KNeighborsRegressor()"
   ]
  },
  {
   "cell_type": "code",
   "execution_count": 18,
   "metadata": {
    "id": "S95F2PnuXv-9"
   },
   "outputs": [],
   "source": [
    "# find optimal parameters with grid search\n",
    "param_grid = {\n",
    "    'n_neighbors': [3,5,7,9,11,19],\n",
    "    'weights': ['uniform', 'distance'],\n",
    "    'metric' : ['euclidean','manhattan']\n",
    "}\n",
    "grid = GridSearchCV(estimator=neigh, param_grid=param_grid, cv=10,\n",
    "                    scoring=['neg_median_absolute_error','neg_mean_squared_log_error','r2'], refit = 'neg_mean_squared_log_error',\n",
    "                    verbose=1, n_jobs=-1)"
   ]
  },
  {
   "cell_type": "code",
   "execution_count": 19,
   "metadata": {
    "colab": {
     "base_uri": "https://localhost:8080/"
    },
    "id": "eHLPHlXnXv-_",
    "outputId": "bfd1a537-2903-4971-888f-fa3be8b53ea0"
   },
   "outputs": [
    {
     "name": "stdout",
     "output_type": "stream",
     "text": [
      "Fitting 10 folds for each of 24 candidates, totalling 240 fits\n"
     ]
    }
   ],
   "source": [
    "# fit the grid on the train data\n",
    "grid_result = grid.fit(X_train, y_train)"
   ]
  },
  {
   "cell_type": "code",
   "execution_count": 20,
   "metadata": {
    "colab": {
     "base_uri": "https://localhost:8080/"
    },
    "id": "F-0_GPcoXv_B",
    "outputId": "57b94cd5-24c4-4e7e-b390-870638215acb"
   },
   "outputs": [
    {
     "name": "stdout",
     "output_type": "stream",
     "text": [
      "Best Score:  -0.0028144705118891005\n",
      "Best Params:  {'metric': 'manhattan', 'n_neighbors': 7, 'weights': 'distance'}\n"
     ]
    }
   ],
   "source": [
    "# print the best score and parameters found\n",
    "print('Best Score: ', grid_result.best_score_)\n",
    "print('Best Params: ', grid_result.best_params_)"
   ]
  },
  {
   "cell_type": "code",
   "execution_count": 21,
   "metadata": {
    "id": "SmGLgFzoXv_E"
   },
   "outputs": [],
   "source": [
    "# find predictions for test data\n",
    "y_pred = grid_result.best_estimator_.predict(X_test)"
   ]
  },
  {
   "cell_type": "code",
   "execution_count": 22,
   "metadata": {
    "id": "klnlXHMaXv_F"
   },
   "outputs": [],
   "source": [
    "#normalizing y_pred\n",
    "y_pred = (y_pred - y_pred.min())/(y_pred.max() - y_pred.min())"
   ]
  },
  {
   "cell_type": "code",
   "execution_count": 23,
   "metadata": {
    "colab": {
     "base_uri": "https://localhost:8080/"
    },
    "id": "vT2EZ-mVXv_G",
    "outputId": "ae67d71d-f79e-4a18-ab89-d37ff3ca4d29"
   },
   "outputs": [
    {
     "data": {
      "text/plain": [
       "0.02103068051342738"
      ]
     },
     "execution_count": 23,
     "metadata": {},
     "output_type": "execute_result"
    }
   ],
   "source": [
    "# find median absolute error\n",
    "median_absolute_error(y_test,y_pred)"
   ]
  },
  {
   "cell_type": "code",
   "execution_count": 24,
   "metadata": {
    "colab": {
     "base_uri": "https://localhost:8080/"
    },
    "id": "oZnhfbctXv_H",
    "outputId": "ab7294b2-ab35-4378-cb32-01944a251c22"
   },
   "outputs": [
    {
     "data": {
      "text/plain": [
       "0.05328383316662198"
      ]
     },
     "execution_count": 24,
     "metadata": {},
     "output_type": "execute_result"
    }
   ],
   "source": [
    "# find root mean square log error\n",
    "np.sqrt(mean_squared_log_error(y_test,y_pred))"
   ]
  },
  {
   "cell_type": "code",
   "execution_count": 25,
   "metadata": {
    "colab": {
     "base_uri": "https://localhost:8080/"
    },
    "id": "pLjWSLzUXv_I",
    "outputId": "ff8b7d36-b8ed-4247-c3f4-dc9eb2ce4295"
   },
   "outputs": [
    {
     "data": {
      "text/plain": [
       "0.9607730924181563"
      ]
     },
     "execution_count": 25,
     "metadata": {},
     "output_type": "execute_result"
    }
   ],
   "source": [
    "# find r2 score\n",
    "r2_score(y_test,y_pred)"
   ]
  },
  {
   "cell_type": "markdown",
   "metadata": {
    "id": "dTbnhNWh4rRb"
   },
   "source": [
    "## ===========================================================================\n"
   ]
  },
  {
   "cell_type": "code",
   "execution_count": null,
   "metadata": {
    "id": "0HRrGyQU4qub"
   },
   "outputs": [],
   "source": []
  },
  {
   "cell_type": "markdown",
   "metadata": {
    "id": "BUc3GorwXv_K"
   },
   "source": [
    "### Multiple Linear Regression"
   ]
  },
  {
   "cell_type": "code",
   "execution_count": 26,
   "metadata": {
    "id": "pMRscec1Xv_L"
   },
   "outputs": [],
   "source": [
    "# create a linear regressor\n",
    "lr = LinearRegression()"
   ]
  },
  {
   "cell_type": "code",
   "execution_count": 27,
   "metadata": {
    "id": "mHzK6CzsXv_N"
   },
   "outputs": [],
   "source": [
    "# fit the lr on the train data\n",
    "lr = lr.fit(X_train, y_train)"
   ]
  },
  {
   "cell_type": "code",
   "execution_count": 28,
   "metadata": {
    "id": "RKDZCBZUXv_P"
   },
   "outputs": [],
   "source": [
    "# find predictions for test data\n",
    "y_pred = lr.predict(X_test)"
   ]
  },
  {
   "cell_type": "code",
   "execution_count": 29,
   "metadata": {
    "id": "kJe2h2AZXv_Q"
   },
   "outputs": [],
   "source": [
    "#normalizing y_pred\n",
    "y_pred = (y_pred - y_pred.min())/(y_pred.max() - y_pred.min())"
   ]
  },
  {
   "cell_type": "code",
   "execution_count": 30,
   "metadata": {
    "colab": {
     "base_uri": "https://localhost:8080/"
    },
    "id": "IwxqRz91Xv_R",
    "outputId": "debc0c49-8104-4352-9b02-6db9afbb8580"
   },
   "outputs": [
    {
     "data": {
      "text/plain": [
       "0.3866462761518887"
      ]
     },
     "execution_count": 30,
     "metadata": {},
     "output_type": "execute_result"
    }
   ],
   "source": [
    "# find median absolute error\n",
    "median_absolute_error(y_test,y_pred)"
   ]
  },
  {
   "cell_type": "code",
   "execution_count": 31,
   "metadata": {
    "colab": {
     "base_uri": "https://localhost:8080/"
    },
    "id": "ls9GRwCCXv_T",
    "outputId": "32859e83-d25f-4346-f54f-98bd1c6c41b1"
   },
   "outputs": [
    {
     "data": {
      "text/plain": [
       "0.31056503793039225"
      ]
     },
     "execution_count": 31,
     "metadata": {},
     "output_type": "execute_result"
    }
   ],
   "source": [
    "# find root mean square log error\n",
    "np.sqrt(mean_squared_log_error(y_test,y_pred))"
   ]
  },
  {
   "cell_type": "code",
   "execution_count": 32,
   "metadata": {
    "colab": {
     "base_uri": "https://localhost:8080/"
    },
    "id": "6t65Xo-2Xv_U",
    "outputId": "229785bb-dfd7-4ed5-993d-d79d336e7d2e"
   },
   "outputs": [
    {
     "data": {
      "text/plain": [
       "-0.361099450434454"
      ]
     },
     "execution_count": 32,
     "metadata": {},
     "output_type": "execute_result"
    }
   ],
   "source": [
    "# find r2 score\n",
    "r2_score(y_test,y_pred)"
   ]
  },
  {
   "cell_type": "markdown",
   "metadata": {
    "id": "-2EYukSuXv_V"
   },
   "source": [
    "R2  is negative only when the chosen model does not follow the trend of the data, so fits worse than a horizontal line."
   ]
  },
  {
   "cell_type": "markdown",
   "metadata": {
    "id": "RdzM3Oyd5H03"
   },
   "source": [
    "## =========================================================================================================================================================="
   ]
  },
  {
   "cell_type": "markdown",
   "metadata": {
    "id": "uk-Z350jXv_W"
   },
   "source": [
    "### Random Forest"
   ]
  },
  {
   "cell_type": "code",
   "execution_count": null,
   "metadata": {
    "id": "dC-6ZXhvXv_X"
   },
   "outputs": [],
   "source": [
    "# create a random forest regressor\n",
    "rf = RandomForestRegressor()"
   ]
  },
  {
   "cell_type": "code",
   "execution_count": null,
   "metadata": {
    "id": "ff213c81Xv_Y"
   },
   "outputs": [],
   "source": [
    "# find optimal parameters with grid search\n",
    "param_grid = {\n",
    "'bootstrap': [True, False],\n",
    " 'max_depth': [None,2,10, 20, 50, 100],\n",
    " 'max_features': ['auto', 'sqrt'],\n",
    " 'min_samples_leaf': [1, 2, 4],\n",
    " 'min_samples_split': [2, 5, 10],\n",
    " 'n_estimators': [100,200,500, 1000]\n",
    "             }\n",
    "grid = GridSearchCV(estimator=rf, param_grid=param_grid, cv=5,\n",
    "                    scoring=['neg_median_absolute_error','neg_mean_squared_log_error','r2'], refit = 'neg_mean_squared_log_error',\n",
    "                    verbose=1, n_jobs=-1)"
   ]
  },
  {
   "cell_type": "code",
   "execution_count": null,
   "metadata": {
    "colab": {
     "base_uri": "https://localhost:8080/"
    },
    "id": "Z6yqWeQhXv_a",
    "outputId": "b881a8da-ae8b-47fd-b683-54996aab4122"
   },
   "outputs": [
    {
     "name": "stdout",
     "output_type": "stream",
     "text": [
      "Fitting 5 folds for each of 864 candidates, totalling 4320 fits\n"
     ]
    },
    {
     "name": "stderr",
     "output_type": "stream",
     "text": [
      "[Parallel(n_jobs=-1)]: Using backend LokyBackend with 2 concurrent workers.\n",
      "[Parallel(n_jobs=-1)]: Done  46 tasks      | elapsed:  5.2min\n",
      "[Parallel(n_jobs=-1)]: Done 196 tasks      | elapsed: 21.1min\n",
      "[Parallel(n_jobs=-1)]: Done 446 tasks      | elapsed: 33.6min\n",
      "[Parallel(n_jobs=-1)]: Done 796 tasks      | elapsed: 45.0min\n",
      "[Parallel(n_jobs=-1)]: Done 1246 tasks      | elapsed: 79.3min\n",
      "[Parallel(n_jobs=-1)]: Done 1796 tasks      | elapsed: 122.7min\n",
      "[Parallel(n_jobs=-1)]: Done 2446 tasks      | elapsed: 196.9min\n",
      "[Parallel(n_jobs=-1)]: Done 3196 tasks      | elapsed: 242.8min\n",
      "[Parallel(n_jobs=-1)]: Done 4046 tasks      | elapsed: 358.7min\n",
      "[Parallel(n_jobs=-1)]: Done 4320 out of 4320 | elapsed: 392.0min finished\n"
     ]
    }
   ],
   "source": [
    "# fit the grid on the train data\n",
    "grid_result = grid.fit(X_train, y_train)"
   ]
  },
  {
   "cell_type": "code",
   "execution_count": null,
   "metadata": {
    "colab": {
     "base_uri": "https://localhost:8080/"
    },
    "id": "Wy1V5MmsXv_b",
    "outputId": "7b967d1a-0ebe-44f4-9e6b-abf587f9a17a"
   },
   "outputs": [
    {
     "name": "stdout",
     "output_type": "stream",
     "text": [
      "Best Score:  -0.0021697543201036028\n",
      "Best Params:  {'bootstrap': True, 'max_depth': None, 'max_features': 'sqrt', 'min_samples_leaf': 1, 'min_samples_split': 2, 'n_estimators': 1000}\n"
     ]
    }
   ],
   "source": [
    "# print the best score and parameters found\n",
    "print('Best Score: ', grid_result.best_score_)\n",
    "print('Best Params: ', grid_result.best_params_)"
   ]
  },
  {
   "cell_type": "code",
   "execution_count": null,
   "metadata": {
    "id": "IvM6k9P1Xv_c"
   },
   "outputs": [],
   "source": [
    "# find predictions for test data\n",
    "y_pred = grid_result.best_estimator_.predict(X_test)"
   ]
  },
  {
   "cell_type": "code",
   "execution_count": null,
   "metadata": {
    "id": "Qzf2zBXLXv_d"
   },
   "outputs": [],
   "source": [
    "#normalizing y_pred\n",
    "y_pred = (y_pred - y_pred.min())/(y_pred.max() - y_pred.min())"
   ]
  },
  {
   "cell_type": "code",
   "execution_count": null,
   "metadata": {
    "colab": {
     "base_uri": "https://localhost:8080/"
    },
    "id": "xWQylZ49Xv_e",
    "outputId": "32e2f280-b5ee-465a-f964-6af63f6d16ac"
   },
   "outputs": [
    {
     "data": {
      "text/plain": [
       "0.019655865584285948"
      ]
     },
     "execution_count": 25,
     "metadata": {
      "tags": []
     },
     "output_type": "execute_result"
    }
   ],
   "source": [
    "# find median absolute error\n",
    "median_absolute_error(y_test,y_pred)"
   ]
  },
  {
   "cell_type": "code",
   "execution_count": null,
   "metadata": {
    "colab": {
     "base_uri": "https://localhost:8080/"
    },
    "id": "9ka0zhm5Xv_f",
    "outputId": "9fb0ab7b-34b7-4a84-bc8b-b405bdab7d3a"
   },
   "outputs": [
    {
     "data": {
      "text/plain": [
       "0.04842439087861878"
      ]
     },
     "execution_count": 26,
     "metadata": {
      "tags": []
     },
     "output_type": "execute_result"
    }
   ],
   "source": [
    "# find root mean square log error\n",
    "np.sqrt(mean_squared_log_error(y_test,y_pred))"
   ]
  },
  {
   "cell_type": "code",
   "execution_count": null,
   "metadata": {
    "colab": {
     "base_uri": "https://localhost:8080/"
    },
    "id": "Lh_AAGyxXv_g",
    "outputId": "95b33724-4b6d-4138-be67-39b3dbc77ee7"
   },
   "outputs": [
    {
     "data": {
      "text/plain": [
       "0.9668303549718164"
      ]
     },
     "execution_count": 27,
     "metadata": {
      "tags": []
     },
     "output_type": "execute_result"
    }
   ],
   "source": [
    "# find r2 score\n",
    "r2_score(y_test,y_pred)"
   ]
  },
  {
   "cell_type": "markdown",
   "metadata": {
    "id": "hgkms6-6Xv_h"
   },
   "source": [
    "# ==============================================================="
   ]
  },
  {
   "cell_type": "markdown",
   "metadata": {
    "id": "oFj3QlIV_7hN"
   },
   "source": [
    "### SGDRegression"
   ]
  },
  {
   "cell_type": "code",
   "execution_count": 33,
   "metadata": {
    "id": "LAnNHqgD_7hO"
   },
   "outputs": [],
   "source": [
    "# create a linear regressor\n",
    "lr = SGDRegressor()"
   ]
  },
  {
   "cell_type": "code",
   "execution_count": 34,
   "metadata": {
    "id": "Myp1J7cy_7hQ"
   },
   "outputs": [],
   "source": [
    "# find optimal parameters with grid search\n",
    "param_grid = {\n",
    "    \n",
    "    'loss' : ['squared_loss','huber'],\n",
    "    'alpha': [0.0001,0.001,0.01,0.1],\n",
    "     'eta0': [0.01,0.1,1,10,100],\n",
    "    'tol' : [0.00001,0.0001,0.001,0.01,0.1]    \n",
    " }\n",
    "grid = GridSearchCV(estimator=lr, param_grid=param_grid,cv=5,\n",
    "                    scoring=['neg_median_absolute_error','r2'], refit = 'neg_median_absolute_error',\n",
    "                    verbose=1, n_jobs=-1)"
   ]
  },
  {
   "cell_type": "code",
   "execution_count": 35,
   "metadata": {
    "colab": {
     "base_uri": "https://localhost:8080/"
    },
    "id": "9_zoRyiB_7hR",
    "outputId": "364c60e5-7cde-4576-a844-708d7ee3bf53"
   },
   "outputs": [
    {
     "name": "stdout",
     "output_type": "stream",
     "text": [
      "Fitting 5 folds for each of 200 candidates, totalling 1000 fits\n"
     ]
    }
   ],
   "source": [
    "# fit the grid on the train data\n",
    "grid_result = grid.fit(X_train, y_train)"
   ]
  },
  {
   "cell_type": "code",
   "execution_count": 36,
   "metadata": {
    "colab": {
     "base_uri": "https://localhost:8080/"
    },
    "id": "itAO7X0g_7hR",
    "outputId": "eb0804f8-a430-455e-ca09-6c7c8dbffef6"
   },
   "outputs": [
    {
     "name": "stdout",
     "output_type": "stream",
     "text": [
      "Best Score:  -0.04661886028567611\n",
      "Best Params:  {'alpha': 0.01, 'eta0': 0.01, 'loss': 'huber', 'tol': 0.01}\n"
     ]
    }
   ],
   "source": [
    "# print the best score and parameters found\n",
    "print('Best Score: ', grid_result.best_score_)\n",
    "print('Best Params: ', grid_result.best_params_)"
   ]
  },
  {
   "cell_type": "code",
   "execution_count": 37,
   "metadata": {
    "id": "vfRjhHA-_7hS"
   },
   "outputs": [],
   "source": [
    "# find predictions for test data\n",
    "y_pred = grid_result.best_estimator_.predict(X_test)"
   ]
  },
  {
   "cell_type": "code",
   "execution_count": 38,
   "metadata": {
    "id": "0qIRyDs5_7hT"
   },
   "outputs": [],
   "source": [
    "#normalizing y_pred\n",
    "y_pred = (y_pred - y_pred.min())/(y_pred.max() - y_pred.min())"
   ]
  },
  {
   "cell_type": "code",
   "execution_count": 39,
   "metadata": {
    "colab": {
     "base_uri": "https://localhost:8080/"
    },
    "id": "abVubLUL_7hT",
    "outputId": "c845faae-b053-4bb8-dce9-78f26ff1ccc7"
   },
   "outputs": [
    {
     "data": {
      "text/plain": [
       "0.21549702959981842"
      ]
     },
     "execution_count": 39,
     "metadata": {},
     "output_type": "execute_result"
    }
   ],
   "source": [
    "# find median absolute error\n",
    "median_absolute_error(y_test,y_pred)"
   ]
  },
  {
   "cell_type": "code",
   "execution_count": 40,
   "metadata": {
    "colab": {
     "base_uri": "https://localhost:8080/"
    },
    "id": "XbNOj3Fv_7hU",
    "outputId": "08165019-0237-4eee-f366-79c825399d91"
   },
   "outputs": [
    {
     "data": {
      "text/plain": [
       "0.2411878618526684"
      ]
     },
     "execution_count": 40,
     "metadata": {},
     "output_type": "execute_result"
    }
   ],
   "source": [
    "# find root mean square log error\n",
    "np.sqrt(mean_squared_log_error(y_test,y_pred))"
   ]
  },
  {
   "cell_type": "code",
   "execution_count": 41,
   "metadata": {
    "colab": {
     "base_uri": "https://localhost:8080/"
    },
    "id": "hn_pLXQb_7hV",
    "outputId": "0b320f23-f6f5-4b3a-bac9-0e0748cd8e7b"
   },
   "outputs": [
    {
     "data": {
      "text/plain": [
       "0.11108558019503556"
      ]
     },
     "execution_count": 41,
     "metadata": {},
     "output_type": "execute_result"
    }
   ],
   "source": [
    "# find r2 score\n",
    "r2_score(y_test,y_pred)"
   ]
  },
  {
   "cell_type": "markdown",
   "metadata": {
    "id": "veVBXDH1_7hV"
   },
   "source": [
    "# ================================================================ "
   ]
  },
  {
   "cell_type": "markdown",
   "metadata": {
    "id": "Ol4SuM5d_7hW"
   },
   "source": [
    "### Decision Tree Regressor"
   ]
  },
  {
   "cell_type": "code",
   "execution_count": null,
   "metadata": {
    "id": "gqMbo9dO_7hW"
   },
   "outputs": [],
   "source": [
    "dt = DecisionTreeRegressor()"
   ]
  },
  {
   "cell_type": "code",
   "execution_count": null,
   "metadata": {
    "id": "cwi6G5lm_7hX"
   },
   "outputs": [],
   "source": [
    "# find optimal parameters with grid search\n",
    "param_grid = {\n",
    "    \n",
    "    'criterion' : ['mse','mae'],\n",
    "    'max_depth': range(10,20),\n",
    "     'min_samples_split': range(2,10),\n",
    "    'min_samples_leaf' : range(1,5)    \n",
    " }\n",
    "grid = GridSearchCV(estimator=dt, param_grid=param_grid, cv=10,\n",
    "                    scoring=['neg_median_absolute_error','neg_mean_squared_log_error','r2'], refit = 'neg_mean_squared_log_error',\n",
    "                    verbose=1, n_jobs=-1)"
   ]
  },
  {
   "cell_type": "code",
   "execution_count": null,
   "metadata": {
    "id": "kTqxl7Fn_7hY",
    "outputId": "45ec821a-73e1-4491-bbeb-c209211bf862"
   },
   "outputs": [
    {
     "name": "stdout",
     "output_type": "stream",
     "text": [
      "Fitting 10 folds for each of 640 candidates, totalling 6400 fits\n"
     ]
    },
    {
     "name": "stderr",
     "output_type": "stream",
     "text": [
      "[Parallel(n_jobs=-1)]: Using backend LokyBackend with 4 concurrent workers.\n",
      "[Parallel(n_jobs=-1)]: Done  42 tasks      | elapsed:    1.8s\n",
      "[Parallel(n_jobs=-1)]: Done 192 tasks      | elapsed:    7.2s\n",
      "[Parallel(n_jobs=-1)]: Done 442 tasks      | elapsed:   17.7s\n",
      "[Parallel(n_jobs=-1)]: Done 792 tasks      | elapsed:   32.5s\n",
      "[Parallel(n_jobs=-1)]: Done 1242 tasks      | elapsed:   53.0s\n",
      "[Parallel(n_jobs=-1)]: Done 1792 tasks      | elapsed:  1.9min\n",
      "[Parallel(n_jobs=-1)]: Done 2442 tasks      | elapsed:  3.3min\n",
      "[Parallel(n_jobs=-1)]: Done 3192 tasks      | elapsed:  4.6min\n",
      "[Parallel(n_jobs=-1)]: Done 4042 tasks      | elapsed: 40.9min\n",
      "[Parallel(n_jobs=-1)]: Done 4992 tasks      | elapsed: 64.8min\n",
      "[Parallel(n_jobs=-1)]: Done 6042 tasks      | elapsed: 90.8min\n",
      "[Parallel(n_jobs=-1)]: Done 6400 out of 6400 | elapsed: 99.5min finished\n"
     ]
    }
   ],
   "source": [
    "# fit the grid on the train data\n",
    "grid_result = grid.fit(X_train, y_train)"
   ]
  },
  {
   "cell_type": "code",
   "execution_count": null,
   "metadata": {
    "id": "37hJyzt2_7hZ",
    "outputId": "f1e2f1d9-507c-4280-972c-a41937f55014"
   },
   "outputs": [
    {
     "name": "stdout",
     "output_type": "stream",
     "text": [
      "Best Score:  -0.0029725895160034803\n",
      "Best Params:  {'criterion': 'mae', 'max_depth': 12, 'min_samples_leaf': 2, 'min_samples_split': 4}\n"
     ]
    }
   ],
   "source": [
    "# print the best score and parameters found\n",
    "print('Best Score: ', grid_result.best_score_)\n",
    "print('Best Params: ', grid_result.best_params_)"
   ]
  },
  {
   "cell_type": "code",
   "execution_count": null,
   "metadata": {
    "id": "b8qANgSQ_7ha"
   },
   "outputs": [],
   "source": [
    "# find predictions for test data\n",
    "y_pred = grid_result.best_estimator_.predict(X_test)"
   ]
  },
  {
   "cell_type": "code",
   "execution_count": null,
   "metadata": {
    "id": "dPqLYBqw_7hb"
   },
   "outputs": [],
   "source": [
    "#normalizing y_pred\n",
    "y_pred = (y_pred - y_pred.min())/(y_pred.max() - y_pred.min())"
   ]
  },
  {
   "cell_type": "code",
   "execution_count": null,
   "metadata": {
    "id": "Djs9_1YK_7hb",
    "outputId": "01f55a87-13a4-4779-e822-ca16e813c53a"
   },
   "outputs": [
    {
     "data": {
      "text/plain": [
       "0.01684240996782499"
      ]
     },
     "execution_count": 26,
     "metadata": {
      "tags": []
     },
     "output_type": "execute_result"
    }
   ],
   "source": [
    "# find median absolute error\n",
    "median_absolute_error(y_test,y_pred)"
   ]
  },
  {
   "cell_type": "code",
   "execution_count": null,
   "metadata": {
    "id": "RBq2UQp5_7hc",
    "outputId": "e442edbe-6b9b-4bf3-960e-9dc675b006d6"
   },
   "outputs": [
    {
     "data": {
      "text/plain": [
       "0.05367391890221074"
      ]
     },
     "execution_count": 27,
     "metadata": {
      "tags": []
     },
     "output_type": "execute_result"
    }
   ],
   "source": [
    "# find root mean square log error\n",
    "np.sqrt(mean_squared_log_error(y_test,y_pred))"
   ]
  },
  {
   "cell_type": "code",
   "execution_count": null,
   "metadata": {
    "id": "_i6mwkv6_7hd",
    "outputId": "147285e8-bc2d-4981-9c51-90502e3c9258"
   },
   "outputs": [
    {
     "data": {
      "text/plain": [
       "0.9561599730076912"
      ]
     },
     "execution_count": 28,
     "metadata": {
      "tags": []
     },
     "output_type": "execute_result"
    }
   ],
   "source": [
    "# find r2 score\n",
    "r2_score(y_test,y_pred)"
   ]
  },
  {
   "cell_type": "markdown",
   "metadata": {
    "id": "JnpyIPuq_7hf"
   },
   "source": [
    "# ================================================================"
   ]
  },
  {
   "cell_type": "markdown",
   "metadata": {
    "id": "xoBr3uF4rlB0"
   },
   "source": [
    "### XGBoost Regressor"
   ]
  },
  {
   "cell_type": "code",
   "execution_count": null,
   "metadata": {
    "id": "uLgV-eu2rlB2"
   },
   "outputs": [],
   "source": [
    "xgbtree = XGBRegressor()"
   ]
  },
  {
   "cell_type": "code",
   "execution_count": null,
   "metadata": {
    "id": "7dlXDbrxrlB2"
   },
   "outputs": [],
   "source": [
    "# find optimal parameters with grid search\n",
    "param_grid = {\n",
    "              'learning_rate': [0.001,0.01,0.1,1],\n",
    "              'max_depth': range(2,10),\n",
    "              'subsample':[0.01,0.1,1] ,\n",
    "              'colsample_bytree': [0.01,0.1,1],\n",
    "              'n_estimators': [100,200,500,1000]}\n",
    "grid = GridSearchCV(estimator=xgbtree, param_grid=param_grid, cv=5,\n",
    "                    scoring=['neg_median_absolute_error','r2'], refit = 'neg_median_absolute_error',\n",
    "                    verbose=1, n_jobs=-1)"
   ]
  },
  {
   "cell_type": "code",
   "execution_count": null,
   "metadata": {
    "colab": {
     "base_uri": "https://localhost:8080/"
    },
    "id": "s6rUD55arlB6",
    "outputId": "156ebb89-52d3-4e4e-b7b2-fa28f8200a7d"
   },
   "outputs": [
    {
     "name": "stdout",
     "output_type": "stream",
     "text": [
      "Fitting 5 folds for each of 1152 candidates, totalling 5760 fits\n"
     ]
    },
    {
     "name": "stderr",
     "output_type": "stream",
     "text": [
      "[Parallel(n_jobs=-1)]: Using backend LokyBackend with 2 concurrent workers.\n",
      "[Parallel(n_jobs=-1)]: Done  46 tasks      | elapsed:   14.6s\n",
      "[Parallel(n_jobs=-1)]: Done 196 tasks      | elapsed:  1.6min\n",
      "[Parallel(n_jobs=-1)]: Done 446 tasks      | elapsed:  4.6min\n",
      "[Parallel(n_jobs=-1)]: Done 796 tasks      | elapsed:  8.3min\n",
      "[Parallel(n_jobs=-1)]: Done 1246 tasks      | elapsed: 13.4min\n",
      "[Parallel(n_jobs=-1)]: Done 1796 tasks      | elapsed: 19.9min\n",
      "[Parallel(n_jobs=-1)]: Done 2446 tasks      | elapsed: 27.1min\n",
      "[Parallel(n_jobs=-1)]: Done 3196 tasks      | elapsed: 35.3min\n",
      "[Parallel(n_jobs=-1)]: Done 4046 tasks      | elapsed: 45.0min\n",
      "[Parallel(n_jobs=-1)]: Done 4996 tasks      | elapsed: 60.7min\n",
      "[Parallel(n_jobs=-1)]: Done 5760 out of 5760 | elapsed: 74.4min finished\n"
     ]
    },
    {
     "name": "stdout",
     "output_type": "stream",
     "text": [
      "[12:42:25] WARNING: /workspace/src/objective/regression_obj.cu:152: reg:linear is now deprecated in favor of reg:squarederror.\n"
     ]
    }
   ],
   "source": [
    "# fit the grid on the train data\n",
    "grid_result = grid.fit(X_train, y_train)"
   ]
  },
  {
   "cell_type": "code",
   "execution_count": null,
   "metadata": {
    "colab": {
     "base_uri": "https://localhost:8080/"
    },
    "id": "Bf9faxL4rlB7",
    "outputId": "27205564-456f-41b0-c36d-52f20660290d"
   },
   "outputs": [
    {
     "name": "stdout",
     "output_type": "stream",
     "text": [
      "Best Score:  -0.016081142855098807\n",
      "Best Params:  {'colsample_bytree': 1, 'learning_rate': 0.01, 'max_depth': 8, 'n_estimators': 1000, 'subsample': 1}\n"
     ]
    }
   ],
   "source": [
    "# print the best score and parameters found\n",
    "print('Best Score: ', grid_result.best_score_)\n",
    "print('Best Params: ', grid_result.best_params_)"
   ]
  },
  {
   "cell_type": "code",
   "execution_count": null,
   "metadata": {
    "id": "LbFLuXV4rlB8"
   },
   "outputs": [],
   "source": [
    "# find predictions for test data\n",
    "y_pred = grid_result.best_estimator_.predict(X_test)"
   ]
  },
  {
   "cell_type": "code",
   "execution_count": null,
   "metadata": {
    "id": "VgGcop_trlB8"
   },
   "outputs": [],
   "source": [
    "#normalizing y_pred\n",
    "y_pred = (y_pred - y_pred.min())/(y_pred.max() - y_pred.min())"
   ]
  },
  {
   "cell_type": "code",
   "execution_count": null,
   "metadata": {
    "colab": {
     "base_uri": "https://localhost:8080/"
    },
    "id": "ejofnp1UrlB9",
    "outputId": "5a4acea5-667c-498f-ad9b-b3d96d60c3d0"
   },
   "outputs": [
    {
     "data": {
      "text/plain": [
       "0.02528232677151125"
      ]
     },
     "execution_count": 50,
     "metadata": {
      "tags": []
     },
     "output_type": "execute_result"
    }
   ],
   "source": [
    "# find median absolute error\n",
    "median_absolute_error(y_test,y_pred)"
   ]
  },
  {
   "cell_type": "code",
   "execution_count": null,
   "metadata": {
    "colab": {
     "base_uri": "https://localhost:8080/"
    },
    "id": "XLuqFCfgrlB9",
    "outputId": "4691235d-251e-4598-df21-20fbc4632fdb"
   },
   "outputs": [
    {
     "data": {
      "text/plain": [
       "0.053061569375817304"
      ]
     },
     "execution_count": 51,
     "metadata": {
      "tags": []
     },
     "output_type": "execute_result"
    }
   ],
   "source": [
    "# find root mean square log error\n",
    "np.sqrt(mean_squared_log_error(y_test,y_pred))"
   ]
  },
  {
   "cell_type": "code",
   "execution_count": null,
   "metadata": {
    "colab": {
     "base_uri": "https://localhost:8080/"
    },
    "id": "xGrSyZ2OrlB-",
    "outputId": "3bddc16c-0a5f-429d-9148-127b8cb910c6"
   },
   "outputs": [
    {
     "data": {
      "text/plain": [
       "0.9585200503118089"
      ]
     },
     "execution_count": 52,
     "metadata": {
      "tags": []
     },
     "output_type": "execute_result"
    }
   ],
   "source": [
    "# find r2 score\n",
    "r2_score(y_test,y_pred)"
   ]
  },
  {
   "cell_type": "markdown",
   "metadata": {
    "id": "H7omTzqErlB-"
   },
   "source": [
    "# ================================================================"
   ]
  },
  {
   "cell_type": "markdown",
   "metadata": {
    "id": "0LDbREIVMZxV"
   },
   "source": [
    "### AdaBoost Regressor"
   ]
  },
  {
   "cell_type": "code",
   "execution_count": 42,
   "metadata": {
    "id": "3aqioYMOMZxy"
   },
   "outputs": [],
   "source": [
    "abreg = AdaBoostRegressor(base_estimator=DecisionTreeRegressor(),\n",
    "                              random_state=0)"
   ]
  },
  {
   "cell_type": "code",
   "execution_count": 43,
   "metadata": {
    "id": "UkiQQN8RMZxz"
   },
   "outputs": [],
   "source": [
    "# find optimal parameters with grid search\n",
    "param_grid = { 'loss' : ['linear', 'square', 'exponential'],\n",
    "              'learning_rate': [0.001,0.01,0.1,1],\n",
    "              'base_estimator__max_depth': range(2,10),\n",
    "              'n_estimators': [100,200,500,1000]}\n",
    "grid = GridSearchCV(estimator=abreg, param_grid=param_grid, cv=5,\n",
    "                    scoring=['neg_median_absolute_error','r2'], refit = 'neg_median_absolute_error',\n",
    "                    verbose=1, n_jobs=-1)"
   ]
  },
  {
   "cell_type": "code",
   "execution_count": null,
   "metadata": {
    "colab": {
     "background_save": true,
     "base_uri": "https://localhost:8080/"
    },
    "id": "UY1Ibe79MZx1",
    "outputId": "14833845-e2aa-420e-9206-e3fc0a00da9b"
   },
   "outputs": [
    {
     "name": "stdout",
     "output_type": "stream",
     "text": [
      "Fitting 5 folds for each of 384 candidates, totalling 1920 fits\n"
     ]
    },
    {
     "name": "stderr",
     "output_type": "stream",
     "text": [
      "[Parallel(n_jobs=-1)]: Using backend LokyBackend with 2 concurrent workers.\n",
      "[Parallel(n_jobs=-1)]: Done  46 tasks      | elapsed:  1.8min\n",
      "[Parallel(n_jobs=-1)]: Done 196 tasks      | elapsed:  5.8min\n",
      "[Parallel(n_jobs=-1)]: Done 446 tasks      | elapsed: 12.6min\n",
      "[Parallel(n_jobs=-1)]: Done 796 tasks      | elapsed: 27.6min\n",
      "[Parallel(n_jobs=-1)]: Done 1246 tasks      | elapsed: 53.7min\n",
      "[Parallel(n_jobs=-1)]: Done 1796 tasks      | elapsed: 100.0min\n",
      "[Parallel(n_jobs=-1)]: Done 1920 out of 1920 | elapsed: 108.9min finished\n"
     ]
    }
   ],
   "source": [
    "# fit the grid on the train data\n",
    "grid_result = grid.fit(X_train, y_train)"
   ]
  },
  {
   "cell_type": "code",
   "execution_count": null,
   "metadata": {
    "colab": {
     "background_save": true
    },
    "id": "u9UJmbWiMZx3",
    "outputId": "1a2ffeb8-d5b1-4f54-b438-835a6fc6e2cc"
   },
   "outputs": [
    {
     "name": "stdout",
     "output_type": "stream",
     "text": [
      "Best Score:  -0.014184367982375096\n",
      "Best Params:  {'base_estimator__max_depth': 9, 'learning_rate': 1, 'loss': 'square', 'n_estimators': 200}\n"
     ]
    }
   ],
   "source": [
    "# print the best score and parameters found\n",
    "print('Best Score: ', grid_result.best_score_)\n",
    "print('Best Params: ', grid_result.best_params_)"
   ]
  },
  {
   "cell_type": "code",
   "execution_count": null,
   "metadata": {
    "colab": {
     "background_save": true
    },
    "id": "jIHinwR-MZx4"
   },
   "outputs": [],
   "source": [
    "# find predictions for test data\n",
    "y_pred = grid_result.best_estimator_.predict(X_test)"
   ]
  },
  {
   "cell_type": "code",
   "execution_count": null,
   "metadata": {
    "colab": {
     "background_save": true
    },
    "id": "npp8Xl3HMZx5"
   },
   "outputs": [],
   "source": [
    "#normalizing y_pred\n",
    "y_pred = (y_pred - y_pred.min())/(y_pred.max() - y_pred.min())"
   ]
  },
  {
   "cell_type": "code",
   "execution_count": null,
   "metadata": {
    "colab": {
     "background_save": true
    },
    "id": "n8uFLj1UMZx6",
    "outputId": "a7b4d8af-4c71-4164-e972-d7c061b379ea"
   },
   "outputs": [
    {
     "data": {
      "text/plain": [
       "0.02192634636241439"
      ]
     },
     "execution_count": 0,
     "metadata": {
      "tags": []
     },
     "output_type": "execute_result"
    }
   ],
   "source": [
    "# find median absolute error\n",
    "median_absolute_error(y_test,y_pred)"
   ]
  },
  {
   "cell_type": "code",
   "execution_count": null,
   "metadata": {
    "colab": {
     "background_save": true
    },
    "id": "YAzVMLK7MZx7",
    "outputId": "94eb751c-159b-424e-dbc4-6ff214803780"
   },
   "outputs": [
    {
     "data": {
      "text/plain": [
       "0.051313886313701484"
      ]
     },
     "execution_count": 0,
     "metadata": {
      "tags": []
     },
     "output_type": "execute_result"
    }
   ],
   "source": [
    "# find root mean square log error\n",
    "np.sqrt(mean_squared_log_error(y_test,y_pred))"
   ]
  },
  {
   "cell_type": "code",
   "execution_count": null,
   "metadata": {
    "colab": {
     "background_save": true
    },
    "id": "DZO8FthwMZx8",
    "outputId": "0dafe50b-a517-43e0-b2f6-0196b6ffe10f"
   },
   "outputs": [
    {
     "data": {
      "text/plain": [
       "0.9641048020090041"
      ]
     },
     "execution_count": 0,
     "metadata": {
      "tags": []
     },
     "output_type": "execute_result"
    }
   ],
   "source": [
    "# find r2 score\n",
    "r2_score(y_test,y_pred)"
   ]
  },
  {
   "cell_type": "markdown",
   "metadata": {
    "id": "6Tb21zwv_7hg"
   },
   "source": [
    "# ==============================================================="
   ]
  },
  {
   "cell_type": "markdown",
   "metadata": {
    "id": "rIcG9UQsFF-U"
   },
   "source": [
    "### MLP Regressor"
   ]
  },
  {
   "cell_type": "code",
   "execution_count": 44,
   "metadata": {
    "id": "Ur6yxy7HftaU"
   },
   "outputs": [],
   "source": [
    "from tensorflow.keras.callbacks import ModelCheckpoint, TensorBoard"
   ]
  },
  {
   "cell_type": "code",
   "execution_count": null,
   "metadata": {
    "id": "bI1HbxDLftat"
   },
   "outputs": [],
   "source": [
    "import datetime"
   ]
  },
  {
   "cell_type": "code",
   "execution_count": 46,
   "metadata": {
    "id": "5BSReZJZkemC"
   },
   "outputs": [],
   "source": [
    "# Creating a Neural Network Model\n",
    "import tensorflow as tf\n",
    "from tensorflow.keras.models import Sequential\n",
    "from tensorflow.keras.layers import Dense, Activation\n",
    "from tensorflow.keras.optimizers import Adam"
   ]
  },
  {
   "cell_type": "code",
   "execution_count": 47,
   "metadata": {
    "id": "4xidUMthkeYu"
   },
   "outputs": [],
   "source": [
    "model = Sequential()\n",
    "model.add(Dense(1000,activation='relu'))\n",
    "model.add(Dense(1000,activation='relu'))\n",
    "model.add(Dense(1000,activation='relu'))\n",
    "model.add(Dense(1000,activation='relu'))\n",
    "model.add(Dense(1))"
   ]
  },
  {
   "cell_type": "code",
   "execution_count": 48,
   "metadata": {
    "id": "_5JvEx1co-YD"
   },
   "outputs": [],
   "source": [
    "import tensorflow.keras.backend as K"
   ]
  },
  {
   "cell_type": "code",
   "execution_count": 49,
   "metadata": {
    "id": "v-_gsL6po8D4"
   },
   "outputs": [],
   "source": [
    "\n",
    "def rmsle(y_true, y_pred):\n",
    "    msle = tf.keras.losses.MeanSquaredLogarithmicError()\n",
    "    return K.sqrt(msle(y_true, y_pred)) "
   ]
  },
  {
   "cell_type": "code",
   "execution_count": 50,
   "metadata": {
    "id": "QNp6GRSblCRK"
   },
   "outputs": [],
   "source": [
    "model.compile(optimizer='Adam',loss=rmsle,metrics=[tf.keras.metrics.RootMeanSquaredError()])"
   ]
  },
  {
   "cell_type": "code",
   "execution_count": 52,
   "metadata": {
    "colab": {
     "base_uri": "https://localhost:8080/"
    },
    "id": "uKV4hFzBk1jI",
    "outputId": "30008b8b-fe9e-4c4a-de60-3dc7595f7b2c"
   },
   "outputs": [
    {
     "name": "stdout",
     "output_type": "stream",
     "text": [
      "Epoch 1/100\n",
      "51/51 [==============================] - 6s 85ms/step - loss: 0.2137 - root_mean_squared_error: 0.3198 - val_loss: 0.1086 - val_root_mean_squared_error: 0.1742\n",
      "Epoch 2/100\n",
      "51/51 [==============================] - 4s 77ms/step - loss: 0.1004 - root_mean_squared_error: 0.1555 - val_loss: 0.0872 - val_root_mean_squared_error: 0.1367\n",
      "Epoch 3/100\n",
      "51/51 [==============================] - 4s 78ms/step - loss: 0.0839 - root_mean_squared_error: 0.1285 - val_loss: 0.0809 - val_root_mean_squared_error: 0.1232\n",
      "Epoch 4/100\n",
      "51/51 [==============================] - 4s 72ms/step - loss: 0.0799 - root_mean_squared_error: 0.1246 - val_loss: 0.0728 - val_root_mean_squared_error: 0.1112\n",
      "Epoch 5/100\n",
      "51/51 [==============================] - 4s 74ms/step - loss: 0.0701 - root_mean_squared_error: 0.1161 - val_loss: 0.0661 - val_root_mean_squared_error: 0.1038\n",
      "Epoch 6/100\n",
      "51/51 [==============================] - 4s 73ms/step - loss: 0.0686 - root_mean_squared_error: 0.1087 - val_loss: 0.0651 - val_root_mean_squared_error: 0.1030\n",
      "Epoch 7/100\n",
      "51/51 [==============================] - 4s 76ms/step - loss: 0.0665 - root_mean_squared_error: 0.1032 - val_loss: 0.0716 - val_root_mean_squared_error: 0.1144\n",
      "Epoch 8/100\n",
      "51/51 [==============================] - 4s 74ms/step - loss: 0.0659 - root_mean_squared_error: 0.1017 - val_loss: 0.0713 - val_root_mean_squared_error: 0.1043\n",
      "Epoch 9/100\n",
      "51/51 [==============================] - 4s 76ms/step - loss: 0.0638 - root_mean_squared_error: 0.0974 - val_loss: 0.0610 - val_root_mean_squared_error: 0.0924\n",
      "Epoch 10/100\n",
      "51/51 [==============================] - 4s 74ms/step - loss: 0.0637 - root_mean_squared_error: 0.0972 - val_loss: 0.0759 - val_root_mean_squared_error: 0.1135\n",
      "Epoch 11/100\n",
      "51/51 [==============================] - 4s 72ms/step - loss: 0.0669 - root_mean_squared_error: 0.1069 - val_loss: 0.0613 - val_root_mean_squared_error: 0.0958\n",
      "Epoch 12/100\n",
      "51/51 [==============================] - 4s 76ms/step - loss: 0.0641 - root_mean_squared_error: 0.1003 - val_loss: 0.0650 - val_root_mean_squared_error: 0.1020\n",
      "Epoch 13/100\n",
      "51/51 [==============================] - 4s 75ms/step - loss: 0.0642 - root_mean_squared_error: 0.0993 - val_loss: 0.0678 - val_root_mean_squared_error: 0.0994\n",
      "Epoch 14/100\n",
      "51/51 [==============================] - 4s 69ms/step - loss: 0.0643 - root_mean_squared_error: 0.0978 - val_loss: 0.0757 - val_root_mean_squared_error: 0.1109\n",
      "Epoch 15/100\n",
      "51/51 [==============================] - 3s 64ms/step - loss: 0.0670 - root_mean_squared_error: 0.1029 - val_loss: 0.0573 - val_root_mean_squared_error: 0.0873\n",
      "Epoch 16/100\n",
      "51/51 [==============================] - 4s 72ms/step - loss: 0.0625 - root_mean_squared_error: 0.0969 - val_loss: 0.0665 - val_root_mean_squared_error: 0.1052\n",
      "Epoch 17/100\n",
      "51/51 [==============================] - 4s 78ms/step - loss: 0.0627 - root_mean_squared_error: 0.0969 - val_loss: 0.0566 - val_root_mean_squared_error: 0.0863\n",
      "Epoch 18/100\n",
      "51/51 [==============================] - 4s 74ms/step - loss: 0.0612 - root_mean_squared_error: 0.0943 - val_loss: 0.0620 - val_root_mean_squared_error: 0.0952\n",
      "Epoch 19/100\n",
      "51/51 [==============================] - 4s 75ms/step - loss: 0.0588 - root_mean_squared_error: 0.0914 - val_loss: 0.0685 - val_root_mean_squared_error: 0.1016\n",
      "Epoch 20/100\n",
      "51/51 [==============================] - 4s 72ms/step - loss: 0.0616 - root_mean_squared_error: 0.0943 - val_loss: 0.0593 - val_root_mean_squared_error: 0.0881: 1s - loss: 0.0641 - root_\n",
      "Epoch 21/100\n",
      "51/51 [==============================] - 4s 73ms/step - loss: 0.0612 - root_mean_squared_error: 0.0949 - val_loss: 0.0592 - val_root_mean_squared_error: 0.0911\n",
      "Epoch 22/100\n",
      "51/51 [==============================] - 4s 76ms/step - loss: 0.0593 - root_mean_squared_error: 0.0904 - val_loss: 0.0555 - val_root_mean_squared_error: 0.0849\n",
      "Epoch 23/100\n",
      "51/51 [==============================] - 4s 71ms/step - loss: 0.0537 - root_mean_squared_error: 0.0827 - val_loss: 0.0606 - val_root_mean_squared_error: 0.0895\n",
      "Epoch 24/100\n",
      "51/51 [==============================] - 4s 80ms/step - loss: 0.0598 - root_mean_squared_error: 0.0913 - val_loss: 0.0524 - val_root_mean_squared_error: 0.0791\n",
      "Epoch 25/100\n",
      "51/51 [==============================] - 3s 67ms/step - loss: 0.0646 - root_mean_squared_error: 0.1007 - val_loss: 0.0571 - val_root_mean_squared_error: 0.0850\n",
      "Epoch 26/100\n",
      "51/51 [==============================] - 3s 67ms/step - loss: 0.0585 - root_mean_squared_error: 0.0916 - val_loss: 0.0668 - val_root_mean_squared_error: 0.1090\n",
      "Epoch 27/100\n",
      "51/51 [==============================] - 3s 61ms/step - loss: 0.0696 - root_mean_squared_error: 0.1089 - val_loss: 0.0597 - val_root_mean_squared_error: 0.0958\n",
      "Epoch 28/100\n",
      "51/51 [==============================] - 3s 59ms/step - loss: 0.0551 - root_mean_squared_error: 0.0843 - val_loss: 0.0531 - val_root_mean_squared_error: 0.0817\n",
      "Epoch 29/100\n",
      "51/51 [==============================] - 3s 55ms/step - loss: 0.0558 - root_mean_squared_error: 0.0861 - val_loss: 0.0528 - val_root_mean_squared_error: 0.0790\n",
      "Epoch 30/100\n",
      "51/51 [==============================] - 3s 61ms/step - loss: 0.0526 - root_mean_squared_error: 0.0822 - val_loss: 0.0716 - val_root_mean_squared_error: 0.1143\n",
      "Epoch 31/100\n",
      "51/51 [==============================] - 4s 76ms/step - loss: 0.0598 - root_mean_squared_error: 0.0930 - val_loss: 0.0637 - val_root_mean_squared_error: 0.1017\n",
      "Epoch 32/100\n",
      "51/51 [==============================] - 3s 66ms/step - loss: 0.0568 - root_mean_squared_error: 0.0880 - val_loss: 0.0477 - val_root_mean_squared_error: 0.0697\n",
      "Epoch 33/100\n",
      "51/51 [==============================] - 3s 66ms/step - loss: 0.0494 - root_mean_squared_error: 0.0770 - val_loss: 0.0502 - val_root_mean_squared_error: 0.0764\n",
      "Epoch 34/100\n",
      "51/51 [==============================] - 3s 67ms/step - loss: 0.0555 - root_mean_squared_error: 0.0845 - val_loss: 0.0556 - val_root_mean_squared_error: 0.0838\n",
      "Epoch 35/100\n",
      "51/51 [==============================] - 3s 62ms/step - loss: 0.0631 - root_mean_squared_error: 0.0984 - val_loss: 0.0555 - val_root_mean_squared_error: 0.0864\n",
      "Epoch 36/100\n",
      "51/51 [==============================] - 3s 64ms/step - loss: 0.0546 - root_mean_squared_error: 0.0849 - val_loss: 0.0518 - val_root_mean_squared_error: 0.0804\n",
      "Epoch 37/100\n",
      "51/51 [==============================] - 3s 63ms/step - loss: 0.0516 - root_mean_squared_error: 0.0809 - val_loss: 0.0527 - val_root_mean_squared_error: 0.0791\n",
      "Epoch 38/100\n",
      "51/51 [==============================] - 5s 92ms/step - loss: 0.0593 - root_mean_squared_error: 0.0919 - val_loss: 0.0738 - val_root_mean_squared_error: 0.1176\n",
      "Epoch 39/100\n",
      "51/51 [==============================] - 5s 89ms/step - loss: 0.0659 - root_mean_squared_error: 0.1015 - val_loss: 0.0491 - val_root_mean_squared_error: 0.0731\n",
      "Epoch 40/100\n",
      "51/51 [==============================] - 4s 72ms/step - loss: 0.0468 - root_mean_squared_error: 0.0724 - val_loss: 0.0528 - val_root_mean_squared_error: 0.0782\n",
      "Epoch 41/100\n",
      "51/51 [==============================] - 3s 62ms/step - loss: 0.0516 - root_mean_squared_error: 0.0778 - val_loss: 0.0860 - val_root_mean_squared_error: 0.1368\n",
      "Epoch 42/100\n",
      "51/51 [==============================] - 4s 73ms/step - loss: 0.0653 - root_mean_squared_error: 0.1013 - val_loss: 0.0542 - val_root_mean_squared_error: 0.0873\n",
      "Epoch 43/100\n",
      "51/51 [==============================] - 3s 64ms/step - loss: 0.0527 - root_mean_squared_error: 0.0813 - val_loss: 0.0489 - val_root_mean_squared_error: 0.0721\n",
      "Epoch 44/100\n",
      "51/51 [==============================] - 3s 61ms/step - loss: 0.0480 - root_mean_squared_error: 0.0734 - val_loss: 0.0568 - val_root_mean_squared_error: 0.0919\n",
      "Epoch 45/100\n",
      "51/51 [==============================] - 3s 65ms/step - loss: 0.0506 - root_mean_squared_error: 0.0788 - val_loss: 0.0440 - val_root_mean_squared_error: 0.0645\n",
      "Epoch 46/100\n",
      "51/51 [==============================] - 3s 68ms/step - loss: 0.0461 - root_mean_squared_error: 0.0701 - val_loss: 0.0551 - val_root_mean_squared_error: 0.0900\n",
      "Epoch 47/100\n",
      "51/51 [==============================] - 3s 69ms/step - loss: 0.0552 - root_mean_squared_error: 0.0860 - val_loss: 0.0607 - val_root_mean_squared_error: 0.0932\n",
      "Epoch 48/100\n",
      "51/51 [==============================] - 3s 68ms/step - loss: 0.0502 - root_mean_squared_error: 0.0764 - val_loss: 0.0487 - val_root_mean_squared_error: 0.0734\n",
      "Epoch 49/100\n",
      "51/51 [==============================] - 4s 71ms/step - loss: 0.0478 - root_mean_squared_error: 0.0736 - val_loss: 0.0569 - val_root_mean_squared_error: 0.0904 loss: 0.0450 - ro\n",
      "Epoch 50/100\n",
      "51/51 [==============================] - 4s 73ms/step - loss: 0.0507 - root_mean_squared_error: 0.0793 - val_loss: 0.0466 - val_root_mean_squared_error: 0.0736\n",
      "Epoch 51/100\n",
      "51/51 [==============================] - 3s 65ms/step - loss: 0.0455 - root_mean_squared_error: 0.0698 - val_loss: 0.0539 - val_root_mean_squared_error: 0.0854\n",
      "Epoch 52/100\n",
      "51/51 [==============================] - 3s 62ms/step - loss: 0.0474 - root_mean_squared_error: 0.0744 - val_loss: 0.0487 - val_root_mean_squared_error: 0.0753\n",
      "Epoch 53/100\n",
      "51/51 [==============================] - 3s 65ms/step - loss: 0.0574 - root_mean_squared_error: 0.0897 - val_loss: 0.0466 - val_root_mean_squared_error: 0.0713ot_mean_squared_error\n",
      "Epoch 54/100\n",
      "51/51 [==============================] - 3s 57ms/step - loss: 0.0504 - root_mean_squared_error: 0.0766 - val_loss: 0.0537 - val_root_mean_squared_error: 0.0802\n",
      "Epoch 55/100\n",
      "51/51 [==============================] - 3s 56ms/step - loss: 0.0516 - root_mean_squared_error: 0.0789 - val_loss: 0.0507 - val_root_mean_squared_error: 0.0810\n",
      "Epoch 56/100\n",
      "51/51 [==============================] - 3s 63ms/step - loss: 0.0498 - root_mean_squared_error: 0.0770 - val_loss: 0.0488 - val_root_mean_squared_error: 0.0776\n",
      "Epoch 57/100\n",
      "51/51 [==============================] - 3s 57ms/step - loss: 0.0452 - root_mean_squared_error: 0.0704 - val_loss: 0.0496 - val_root_mean_squared_error: 0.0773\n",
      "Epoch 58/100\n",
      "51/51 [==============================] - 3s 58ms/step - loss: 0.0478 - root_mean_squared_error: 0.0732 - val_loss: 0.0484 - val_root_mean_squared_error: 0.0745\n",
      "Epoch 59/100\n",
      "51/51 [==============================] - 3s 58ms/step - loss: 0.0532 - root_mean_squared_error: 0.0809 - val_loss: 0.0473 - val_root_mean_squared_error: 0.0696\n",
      "Epoch 60/100\n",
      "51/51 [==============================] - 3s 64ms/step - loss: 0.0440 - root_mean_squared_error: 0.0690 - val_loss: 0.0461 - val_root_mean_squared_error: 0.0733\n",
      "Epoch 61/100\n",
      "51/51 [==============================] - 3s 62ms/step - loss: 0.0457 - root_mean_squared_error: 0.0707 - val_loss: 0.0459 - val_root_mean_squared_error: 0.0699\n",
      "Epoch 62/100\n",
      "51/51 [==============================] - 3s 56ms/step - loss: 0.0469 - root_mean_squared_error: 0.0718 - val_loss: 0.0487 - val_root_mean_squared_error: 0.0726\n",
      "Epoch 63/100\n",
      "51/51 [==============================] - 3s 57ms/step - loss: 0.0490 - root_mean_squared_error: 0.0761 - val_loss: 0.0444 - val_root_mean_squared_error: 0.0662\n",
      "Epoch 64/100\n",
      "51/51 [==============================] - 3s 57ms/step - loss: 0.0463 - root_mean_squared_error: 0.0712 - val_loss: 0.0490 - val_root_mean_squared_error: 0.0747\n",
      "Epoch 65/100\n",
      "51/51 [==============================] - 3s 60ms/step - loss: 0.0548 - root_mean_squared_error: 0.0839 - val_loss: 0.0429 - val_root_mean_squared_error: 0.0638\n",
      "Epoch 66/100\n",
      "51/51 [==============================] - 3s 63ms/step - loss: 0.0502 - root_mean_squared_error: 0.0780 - val_loss: 0.0628 - val_root_mean_squared_error: 0.0941\n",
      "Epoch 67/100\n",
      "51/51 [==============================] - 3s 63ms/step - loss: 0.0507 - root_mean_squared_error: 0.0763 - val_loss: 0.0443 - val_root_mean_squared_error: 0.0654\n",
      "Epoch 68/100\n",
      "51/51 [==============================] - 3s 61ms/step - loss: 0.0443 - root_mean_squared_error: 0.0691 - val_loss: 0.0525 - val_root_mean_squared_error: 0.0846\n",
      "Epoch 69/100\n",
      "51/51 [==============================] - 3s 59ms/step - loss: 0.0470 - root_mean_squared_error: 0.0732 - val_loss: 0.0494 - val_root_mean_squared_error: 0.0777\n",
      "Epoch 70/100\n",
      "51/51 [==============================] - 3s 56ms/step - loss: 0.0482 - root_mean_squared_error: 0.0744 - val_loss: 0.0458 - val_root_mean_squared_error: 0.0690\n",
      "Epoch 71/100\n",
      "51/51 [==============================] - 3s 57ms/step - loss: 0.0449 - root_mean_squared_error: 0.0697 - val_loss: 0.0476 - val_root_mean_squared_error: 0.0759\n",
      "Epoch 72/100\n",
      "51/51 [==============================] - 3s 60ms/step - loss: 0.0451 - root_mean_squared_error: 0.0692 - val_loss: 0.0496 - val_root_mean_squared_error: 0.0751\n",
      "Epoch 73/100\n",
      "51/51 [==============================] - 3s 60ms/step - loss: 0.0483 - root_mean_squared_error: 0.0740 - val_loss: 0.0775 - val_root_mean_squared_error: 0.1213\n",
      "Epoch 74/100\n",
      "51/51 [==============================] - 3s 58ms/step - loss: 0.0661 - root_mean_squared_error: 0.1055 - val_loss: 0.0438 - val_root_mean_squared_error: 0.0669\n",
      "Epoch 75/100\n",
      "51/51 [==============================] - 3s 63ms/step - loss: 0.0435 - root_mean_squared_error: 0.0657 - val_loss: 0.0506 - val_root_mean_squared_error: 0.0775\n",
      "Epoch 76/100\n",
      "51/51 [==============================] - 3s 62ms/step - loss: 0.0498 - root_mean_squared_error: 0.0763 - val_loss: 0.0506 - val_root_mean_squared_error: 0.0793\n",
      "Epoch 77/100\n",
      "51/51 [==============================] - 3s 63ms/step - loss: 0.0508 - root_mean_squared_error: 0.0774 - val_loss: 0.0432 - val_root_mean_squared_error: 0.0665\n",
      "Epoch 78/100\n",
      "51/51 [==============================] - 3s 61ms/step - loss: 0.0472 - root_mean_squared_error: 0.0716 - val_loss: 0.0436 - val_root_mean_squared_error: 0.0652\n",
      "Epoch 79/100\n",
      "51/51 [==============================] - 3s 58ms/step - loss: 0.0427 - root_mean_squared_error: 0.0661 - val_loss: 0.0569 - val_root_mean_squared_error: 0.0861\n",
      "Epoch 80/100\n",
      "51/51 [==============================] - 3s 67ms/step - loss: 0.0487 - root_mean_squared_error: 0.0750 - val_loss: 0.0432 - val_root_mean_squared_error: 0.0658\n",
      "Epoch 81/100\n",
      "51/51 [==============================] - 4s 74ms/step - loss: 0.0399 - root_mean_squared_error: 0.0600 - val_loss: 0.0464 - val_root_mean_squared_error: 0.0702\n",
      "Epoch 82/100\n",
      "51/51 [==============================] - 3s 59ms/step - loss: 0.0454 - root_mean_squared_error: 0.0708 - val_loss: 0.0399 - val_root_mean_squared_error: 0.0610\n",
      "Epoch 83/100\n",
      "51/51 [==============================] - 3s 59ms/step - loss: 0.0420 - root_mean_squared_error: 0.0636 - val_loss: 0.0502 - val_root_mean_squared_error: 0.0814\n",
      "Epoch 84/100\n",
      "51/51 [==============================] - 3s 54ms/step - loss: 0.0461 - root_mean_squared_error: 0.0707 - val_loss: 0.0453 - val_root_mean_squared_error: 0.0698\n",
      "Epoch 85/100\n",
      "51/51 [==============================] - 3s 63ms/step - loss: 0.0406 - root_mean_squared_error: 0.0615 - val_loss: 0.0416 - val_root_mean_squared_error: 0.0616\n",
      "Epoch 86/100\n",
      "51/51 [==============================] - 4s 69ms/step - loss: 0.0422 - root_mean_squared_error: 0.0649 - val_loss: 0.0455 - val_root_mean_squared_error: 0.0686\n",
      "Epoch 87/100\n",
      "51/51 [==============================] - 4s 76ms/step - loss: 0.0432 - root_mean_squared_error: 0.0656 - val_loss: 0.0616 - val_root_mean_squared_error: 0.0942\n",
      "Epoch 88/100\n",
      "51/51 [==============================] - 4s 88ms/step - loss: 0.0602 - root_mean_squared_error: 0.0941 - val_loss: 0.0441 - val_root_mean_squared_error: 0.0654\n",
      "Epoch 89/100\n",
      "51/51 [==============================] - 4s 80ms/step - loss: 0.0439 - root_mean_squared_error: 0.0665 - val_loss: 0.0465 - val_root_mean_squared_error: 0.0732\n",
      "Epoch 90/100\n",
      "51/51 [==============================] - 4s 82ms/step - loss: 0.0444 - root_mean_squared_error: 0.0686 - val_loss: 0.0467 - val_root_mean_squared_error: 0.0703\n",
      "Epoch 91/100\n",
      "51/51 [==============================] - 4s 77ms/step - loss: 0.0421 - root_mean_squared_error: 0.0639 - val_loss: 0.0494 - val_root_mean_squared_error: 0.0741\n",
      "Epoch 92/100\n",
      "51/51 [==============================] - 3s 68ms/step - loss: 0.0447 - root_mean_squared_error: 0.0674 - val_loss: 0.0451 - val_root_mean_squared_error: 0.0663\n",
      "Epoch 93/100\n",
      "51/51 [==============================] - 3s 63ms/step - loss: 0.0426 - root_mean_squared_error: 0.0645 - val_loss: 0.0426 - val_root_mean_squared_error: 0.0648\n",
      "Epoch 94/100\n",
      "51/51 [==============================] - 3s 61ms/step - loss: 0.0389 - root_mean_squared_error: 0.0589 - val_loss: 0.0531 - val_root_mean_squared_error: 0.0790\n",
      "Epoch 95/100\n"
     ]
    },
    {
     "name": "stdout",
     "output_type": "stream",
     "text": [
      "51/51 [==============================] - 3s 64ms/step - loss: 0.0488 - root_mean_squared_error: 0.0771 - val_loss: 0.0443 - val_root_mean_squared_error: 0.0688\n",
      "Epoch 96/100\n",
      "51/51 [==============================] - 3s 68ms/step - loss: 0.0416 - root_mean_squared_error: 0.0651 - val_loss: 0.0436 - val_root_mean_squared_error: 0.0668\n",
      "Epoch 97/100\n",
      "51/51 [==============================] - 4s 77ms/step - loss: 0.0409 - root_mean_squared_error: 0.0613 - val_loss: 0.0522 - val_root_mean_squared_error: 0.0788\n",
      "Epoch 98/100\n",
      "51/51 [==============================] - 4s 81ms/step - loss: 0.0415 - root_mean_squared_error: 0.0620 - val_loss: 0.0504 - val_root_mean_squared_error: 0.0763\n",
      "Epoch 99/100\n",
      "51/51 [==============================] - 5s 98ms/step - loss: 0.0427 - root_mean_squared_error: 0.0654 - val_loss: 0.0531 - val_root_mean_squared_error: 0.0871\n",
      "Epoch 100/100\n",
      "51/51 [==============================] - 4s 71ms/step - loss: 0.0497 - root_mean_squared_error: 0.0766 - val_loss: 0.0444 - val_root_mean_squared_error: 0.0653\n"
     ]
    },
    {
     "data": {
      "text/plain": [
       "<tensorflow.python.keras.callbacks.History at 0x1436b00e3a0>"
      ]
     },
     "execution_count": 52,
     "metadata": {},
     "output_type": "execute_result"
    }
   ],
   "source": [
    "model.fit(x=X_train,y=y_train,\n",
    "          validation_data=(X_test,y_test),\n",
    "          \n",
    "          batch_size=128,epochs=100)\n"
   ]
  },
  {
   "cell_type": "code",
   "execution_count": null,
   "metadata": {
    "colab": {
     "base_uri": "https://localhost:8080/"
    },
    "id": "VuPMzK7elK2F",
    "outputId": "673761c9-5da3-4588-ddbf-2690071b11c4"
   },
   "outputs": [
    {
     "name": "stdout",
     "output_type": "stream",
     "text": [
      "Model: \"sequential\"\n",
      "_________________________________________________________________\n",
      "Layer (type)                 Output Shape              Param #   \n",
      "=================================================================\n",
      "dense (Dense)                (None, 1000)              5000      \n",
      "_________________________________________________________________\n",
      "dense_1 (Dense)              (None, 1000)              1001000   \n",
      "_________________________________________________________________\n",
      "dense_2 (Dense)              (None, 1000)              1001000   \n",
      "_________________________________________________________________\n",
      "dense_3 (Dense)              (None, 1000)              1001000   \n",
      "_________________________________________________________________\n",
      "dense_4 (Dense)              (None, 1)                 1001      \n",
      "=================================================================\n",
      "Total params: 3,009,001\n",
      "Trainable params: 3,009,001\n",
      "Non-trainable params: 0\n",
      "_________________________________________________________________\n"
     ]
    }
   ],
   "source": [
    "model.summary()"
   ]
  },
  {
   "cell_type": "code",
   "execution_count": 53,
   "metadata": {
    "id": "N1Lk_flioE1I"
   },
   "outputs": [],
   "source": [
    "K.clear_session()"
   ]
  },
  {
   "cell_type": "code",
   "execution_count": 54,
   "metadata": {
    "id": "lf6L4ZexpwNS"
   },
   "outputs": [],
   "source": [
    "y_pred = model.predict(X_test)"
   ]
  },
  {
   "cell_type": "code",
   "execution_count": 55,
   "metadata": {
    "colab": {
     "base_uri": "https://localhost:8080/"
    },
    "id": "FVLgHjeXp4pP",
    "outputId": "807fe0b4-f64e-49e5-8e0e-e870dbb5f10f"
   },
   "outputs": [
    {
     "data": {
      "text/plain": [
       "0.019173547932702206"
      ]
     },
     "execution_count": 55,
     "metadata": {},
     "output_type": "execute_result"
    }
   ],
   "source": [
    "# find median absolute error\n",
    "median_absolute_error(y_test,y_pred)"
   ]
  },
  {
   "cell_type": "code",
   "execution_count": 56,
   "metadata": {
    "colab": {
     "base_uri": "https://localhost:8080/"
    },
    "id": "bBPnIjFjqBaJ",
    "outputId": "e2b3b102-0978-49cd-bf22-3dfc38b07e78"
   },
   "outputs": [
    {
     "data": {
      "text/plain": [
       "0.047100793422137466"
      ]
     },
     "execution_count": 56,
     "metadata": {},
     "output_type": "execute_result"
    }
   ],
   "source": [
    "# find root mean square log error\n",
    "np.sqrt(mean_squared_log_error(y_test,y_pred))"
   ]
  },
  {
   "cell_type": "code",
   "execution_count": 57,
   "metadata": {
    "colab": {
     "base_uri": "https://localhost:8080/"
    },
    "id": "A4gUOxBkqBUv",
    "outputId": "d35deedd-606c-4bf2-c662-0bdbcee5bf30"
   },
   "outputs": [
    {
     "data": {
      "text/plain": [
       "0.9680868404916957"
      ]
     },
     "execution_count": 57,
     "metadata": {},
     "output_type": "execute_result"
    }
   ],
   "source": [
    "# find r2 score\n",
    "r2_score(y_test,y_pred)"
   ]
  },
  {
   "cell_type": "markdown",
   "metadata": {
    "id": "-7ERMO246U54"
   },
   "source": [
    "# =============================================================\n",
    "# =============================================================\n",
    "## ============================= Lakes =====================================\n",
    "# =============================================================\n",
    "# ============================================================="
   ]
  },
  {
   "cell_type": "code",
   "execution_count": 58,
   "metadata": {
    "colab": {
     "base_uri": "https://localhost:8080/",
     "height": 204
    },
    "id": "g1I4EMsi8gIS",
    "outputId": "c7796caa-2754-4e52-f0bc-c7ec71fe82d9"
   },
   "outputs": [
    {
     "data": {
      "text/html": [
       "<div>\n",
       "<style scoped>\n",
       "    .dataframe tbody tr th:only-of-type {\n",
       "        vertical-align: middle;\n",
       "    }\n",
       "\n",
       "    .dataframe tbody tr th {\n",
       "        vertical-align: top;\n",
       "    }\n",
       "\n",
       "    .dataframe thead th {\n",
       "        text-align: right;\n",
       "    }\n",
       "</style>\n",
       "<table border=\"1\" class=\"dataframe\">\n",
       "  <thead>\n",
       "    <tr style=\"text-align: right;\">\n",
       "      <th></th>\n",
       "      <th>Date</th>\n",
       "      <th>Mean_Rainfall</th>\n",
       "      <th>Mean_Temp</th>\n",
       "      <th>Actual_Flow_Rate</th>\n",
       "      <th>Actual_Lake_Level</th>\n",
       "    </tr>\n",
       "  </thead>\n",
       "  <tbody>\n",
       "    <tr>\n",
       "      <th>0</th>\n",
       "      <td>0</td>\n",
       "      <td>2.857312</td>\n",
       "      <td>14.530141</td>\n",
       "      <td>2.578255</td>\n",
       "      <td>249.606745</td>\n",
       "    </tr>\n",
       "    <tr>\n",
       "      <th>1</th>\n",
       "      <td>1</td>\n",
       "      <td>2.857312</td>\n",
       "      <td>14.530141</td>\n",
       "      <td>2.578255</td>\n",
       "      <td>249.606745</td>\n",
       "    </tr>\n",
       "    <tr>\n",
       "      <th>2</th>\n",
       "      <td>2</td>\n",
       "      <td>2.857312</td>\n",
       "      <td>14.530141</td>\n",
       "      <td>2.578255</td>\n",
       "      <td>249.606745</td>\n",
       "    </tr>\n",
       "    <tr>\n",
       "      <th>3</th>\n",
       "      <td>3</td>\n",
       "      <td>2.857312</td>\n",
       "      <td>14.530141</td>\n",
       "      <td>2.578255</td>\n",
       "      <td>249.606745</td>\n",
       "    </tr>\n",
       "    <tr>\n",
       "      <th>4</th>\n",
       "      <td>4</td>\n",
       "      <td>2.857312</td>\n",
       "      <td>14.530141</td>\n",
       "      <td>2.578255</td>\n",
       "      <td>249.606745</td>\n",
       "    </tr>\n",
       "  </tbody>\n",
       "</table>\n",
       "</div>"
      ],
      "text/plain": [
       "   Date  Mean_Rainfall  Mean_Temp  Actual_Flow_Rate  Actual_Lake_Level\n",
       "0     0       2.857312  14.530141          2.578255         249.606745\n",
       "1     1       2.857312  14.530141          2.578255         249.606745\n",
       "2     2       2.857312  14.530141          2.578255         249.606745\n",
       "3     3       2.857312  14.530141          2.578255         249.606745\n",
       "4     4       2.857312  14.530141          2.578255         249.606745"
      ]
     },
     "execution_count": 58,
     "metadata": {},
     "output_type": "execute_result"
    }
   ],
   "source": [
    "lakes.head()"
   ]
  },
  {
   "cell_type": "code",
   "execution_count": 59,
   "metadata": {
    "id": "w0FVVROK8gIY"
   },
   "outputs": [],
   "source": [
    "# Normalizing the columns to remove negative values\n",
    "lakes['Mean_Rainfall'] = (lakes['Mean_Rainfall'] - lakes['Mean_Rainfall'].min()) / (lakes['Mean_Rainfall'].max() - lakes['Mean_Rainfall'].min())\n",
    "lakes['Mean_Temp'] = (lakes['Mean_Temp'] - lakes['Mean_Temp'].min()) / (lakes['Mean_Temp'].max() - lakes['Mean_Temp'].min())\n",
    "lakes['Actual_Flow_Rate'] = (lakes['Actual_Flow_Rate'] - lakes['Actual_Flow_Rate'].min()) / (lakes['Actual_Flow_Rate'].max() - lakes['Actual_Flow_Rate'].min())\n",
    "lakes['Actual_Lake_Level'] = (lakes['Actual_Lake_Level'] - lakes['Actual_Lake_Level'].min()) / (lakes['Actual_Lake_Level'].max() - lakes['Actual_Lake_Level'].min())"
   ]
  },
  {
   "cell_type": "code",
   "execution_count": 60,
   "metadata": {
    "colab": {
     "base_uri": "https://localhost:8080/",
     "height": 204
    },
    "id": "8bTEnL3h8gIb",
    "outputId": "1ba80789-9982-499b-df09-e5b0f2c13fd2"
   },
   "outputs": [
    {
     "data": {
      "text/html": [
       "<div>\n",
       "<style scoped>\n",
       "    .dataframe tbody tr th:only-of-type {\n",
       "        vertical-align: middle;\n",
       "    }\n",
       "\n",
       "    .dataframe tbody tr th {\n",
       "        vertical-align: top;\n",
       "    }\n",
       "\n",
       "    .dataframe thead th {\n",
       "        text-align: right;\n",
       "    }\n",
       "</style>\n",
       "<table border=\"1\" class=\"dataframe\">\n",
       "  <thead>\n",
       "    <tr style=\"text-align: right;\">\n",
       "      <th></th>\n",
       "      <th>Date</th>\n",
       "      <th>Mean_Rainfall</th>\n",
       "      <th>Mean_Temp</th>\n",
       "      <th>Actual_Flow_Rate</th>\n",
       "      <th>Actual_Lake_Level</th>\n",
       "    </tr>\n",
       "  </thead>\n",
       "  <tbody>\n",
       "    <tr>\n",
       "      <th>0</th>\n",
       "      <td>0</td>\n",
       "      <td>0.033568</td>\n",
       "      <td>0.505213</td>\n",
       "      <td>0.028683</td>\n",
       "      <td>0.658369</td>\n",
       "    </tr>\n",
       "    <tr>\n",
       "      <th>1</th>\n",
       "      <td>1</td>\n",
       "      <td>0.033568</td>\n",
       "      <td>0.505213</td>\n",
       "      <td>0.028683</td>\n",
       "      <td>0.658369</td>\n",
       "    </tr>\n",
       "    <tr>\n",
       "      <th>2</th>\n",
       "      <td>2</td>\n",
       "      <td>0.033568</td>\n",
       "      <td>0.505213</td>\n",
       "      <td>0.028683</td>\n",
       "      <td>0.658369</td>\n",
       "    </tr>\n",
       "    <tr>\n",
       "      <th>3</th>\n",
       "      <td>3</td>\n",
       "      <td>0.033568</td>\n",
       "      <td>0.505213</td>\n",
       "      <td>0.028683</td>\n",
       "      <td>0.658369</td>\n",
       "    </tr>\n",
       "    <tr>\n",
       "      <th>4</th>\n",
       "      <td>4</td>\n",
       "      <td>0.033568</td>\n",
       "      <td>0.505213</td>\n",
       "      <td>0.028683</td>\n",
       "      <td>0.658369</td>\n",
       "    </tr>\n",
       "  </tbody>\n",
       "</table>\n",
       "</div>"
      ],
      "text/plain": [
       "   Date  Mean_Rainfall  Mean_Temp  Actual_Flow_Rate  Actual_Lake_Level\n",
       "0     0       0.033568   0.505213          0.028683           0.658369\n",
       "1     1       0.033568   0.505213          0.028683           0.658369\n",
       "2     2       0.033568   0.505213          0.028683           0.658369\n",
       "3     3       0.033568   0.505213          0.028683           0.658369\n",
       "4     4       0.033568   0.505213          0.028683           0.658369"
      ]
     },
     "execution_count": 60,
     "metadata": {},
     "output_type": "execute_result"
    }
   ],
   "source": [
    "lakes.head()"
   ]
  },
  {
   "cell_type": "code",
   "execution_count": 61,
   "metadata": {
    "id": "Jl9-VVWs8gIc"
   },
   "outputs": [],
   "source": [
    "# separating the date and target feature\n",
    "X = lakes.drop(['Date','Actual_Flow_Rate','Actual_Lake_Level'],axis=1)\n",
    "y = lakes[['Actual_Flow_Rate','Actual_Lake_Level']]"
   ]
  },
  {
   "cell_type": "code",
   "execution_count": 62,
   "metadata": {
    "id": "mtYB3OA78gIe"
   },
   "outputs": [],
   "source": [
    "#Dividing the dataset into train and test for features as well as labels\n",
    "X_train, X_test, y_train, y_test = train_test_split(X,y,test_size=0.2,random_state=42)"
   ]
  },
  {
   "cell_type": "code",
   "execution_count": 63,
   "metadata": {
    "colab": {
     "base_uri": "https://localhost:8080/"
    },
    "id": "JwZg8jAI8gIf",
    "outputId": "9f874b6b-de92-4109-ef2d-2af9647dbd0e"
   },
   "outputs": [
    {
     "data": {
      "text/plain": [
       "5282"
      ]
     },
     "execution_count": 63,
     "metadata": {},
     "output_type": "execute_result"
    }
   ],
   "source": [
    "#checking the number of rows in training data\n",
    "len(X_train)"
   ]
  },
  {
   "cell_type": "code",
   "execution_count": 64,
   "metadata": {
    "colab": {
     "base_uri": "https://localhost:8080/"
    },
    "id": "YzhEKXFW8gIh",
    "outputId": "af7aaedb-5855-4e06-a725-99040cd98973"
   },
   "outputs": [
    {
     "data": {
      "text/plain": [
       "5282"
      ]
     },
     "execution_count": 64,
     "metadata": {},
     "output_type": "execute_result"
    }
   ],
   "source": [
    "#checking the number of rows in training labels\n",
    "len(y_train)"
   ]
  },
  {
   "cell_type": "code",
   "execution_count": 65,
   "metadata": {
    "colab": {
     "base_uri": "https://localhost:8080/"
    },
    "id": "96-wyIO-8gIj",
    "outputId": "a325bc50-4eac-469d-823d-6e06d30e2972"
   },
   "outputs": [
    {
     "data": {
      "text/plain": [
       "1321"
      ]
     },
     "execution_count": 65,
     "metadata": {},
     "output_type": "execute_result"
    }
   ],
   "source": [
    "#checking the number of rows in testing data\n",
    "len(X_test)"
   ]
  },
  {
   "cell_type": "code",
   "execution_count": 66,
   "metadata": {
    "colab": {
     "base_uri": "https://localhost:8080/"
    },
    "id": "PkW3JD6B8gIk",
    "outputId": "7500fa5f-31d5-423a-887f-70ceca5a506f"
   },
   "outputs": [
    {
     "data": {
      "text/plain": [
       "1321"
      ]
     },
     "execution_count": 66,
     "metadata": {},
     "output_type": "execute_result"
    }
   ],
   "source": [
    "#checking the number of rows in testing labels\n",
    "len(y_test)"
   ]
  },
  {
   "cell_type": "markdown",
   "metadata": {},
   "source": [
    "# ================================================================"
   ]
  },
  {
   "cell_type": "markdown",
   "metadata": {
    "id": "2c-YuYlI8gIm"
   },
   "source": [
    "### knn"
   ]
  },
  {
   "cell_type": "code",
   "execution_count": 67,
   "metadata": {
    "id": "G0ePxzfl8gIn"
   },
   "outputs": [],
   "source": [
    "# create a knn regressor\n",
    "neigh = KNeighborsRegressor()"
   ]
  },
  {
   "cell_type": "code",
   "execution_count": 68,
   "metadata": {
    "id": "68LKYosL8gIo"
   },
   "outputs": [],
   "source": [
    "# find optimal parameters with grid search\n",
    "param_grid = {\n",
    "    'n_neighbors': [3,5,7,9,11,19],\n",
    "    'weights': ['uniform', 'distance'],\n",
    "    'metric' : ['euclidean','manhattan']\n",
    "}\n",
    "grid = GridSearchCV(estimator=neigh, param_grid=param_grid,\n",
    "                    scoring=['neg_median_absolute_error','neg_mean_squared_log_error','r2'], refit = 'neg_mean_squared_log_error',\n",
    "                    verbose=1, n_jobs=-1)"
   ]
  },
  {
   "cell_type": "code",
   "execution_count": 69,
   "metadata": {
    "colab": {
     "base_uri": "https://localhost:8080/"
    },
    "id": "aDaFl1M18gIp",
    "outputId": "c599ce25-6660-47ae-ae0b-580c64c3130a"
   },
   "outputs": [
    {
     "name": "stdout",
     "output_type": "stream",
     "text": [
      "Fitting 5 folds for each of 24 candidates, totalling 120 fits\n"
     ]
    }
   ],
   "source": [
    "# fit the grid on the train data\n",
    "grid_result = grid.fit(X_train, y_train)"
   ]
  },
  {
   "cell_type": "code",
   "execution_count": 70,
   "metadata": {
    "colab": {
     "base_uri": "https://localhost:8080/"
    },
    "id": "egR7x5rf8gIq",
    "outputId": "690409f1-0428-4396-9bb1-d96667188493"
   },
   "outputs": [
    {
     "name": "stdout",
     "output_type": "stream",
     "text": [
      "Best Score:  -0.007168036852265819\n",
      "Best Params:  {'metric': 'euclidean', 'n_neighbors': 19, 'weights': 'uniform'}\n"
     ]
    }
   ],
   "source": [
    "# print the best score and parameters found\n",
    "print('Best Score: ', grid_result.best_score_)\n",
    "print('Best Params: ', grid_result.best_params_)"
   ]
  },
  {
   "cell_type": "code",
   "execution_count": 71,
   "metadata": {
    "id": "fM0x0hUM8gIs"
   },
   "outputs": [],
   "source": [
    "# find predictions for test data\n",
    "y_pred = grid_result.best_estimator_.predict(X_test)"
   ]
  },
  {
   "cell_type": "code",
   "execution_count": 72,
   "metadata": {
    "id": "UgcbjTMF_8Yp"
   },
   "outputs": [],
   "source": [
    "# normalizing the predicted values\n",
    "y_pred[:,0] = (y_pred[:,0] - y_pred[:,0].min())/(y_pred[:,0].max() - y_pred[:,0].min())"
   ]
  },
  {
   "cell_type": "code",
   "execution_count": 73,
   "metadata": {
    "id": "B7c0CZuV_8Yq"
   },
   "outputs": [],
   "source": [
    "\n",
    "# normalizing the predicted values\n",
    "y_pred[:,1] = (y_pred[:,1] - y_pred[:,1].min())/(y_pred[:,1].max() - y_pred[:,1].min())"
   ]
  },
  {
   "cell_type": "code",
   "execution_count": 74,
   "metadata": {
    "colab": {
     "base_uri": "https://localhost:8080/"
    },
    "id": "IX7IXFgJ_8Yr",
    "outputId": "b4023e32-8633-44c5-9824-5ac20fc5abaa"
   },
   "outputs": [
    {
     "data": {
      "text/plain": [
       "0.11279539978027128"
      ]
     },
     "execution_count": 74,
     "metadata": {},
     "output_type": "execute_result"
    }
   ],
   "source": [
    "# find median absolute error\n",
    "median_absolute_error(y_test.iloc[:,0],y_pred[:,0])"
   ]
  },
  {
   "cell_type": "code",
   "execution_count": 75,
   "metadata": {
    "colab": {
     "base_uri": "https://localhost:8080/"
    },
    "id": "PI4hVfvR_8Ys",
    "outputId": "03f18fd3-69a1-4751-be88-c5469b10cbba"
   },
   "outputs": [
    {
     "data": {
      "text/plain": [
       "0.1570520689352546"
      ]
     },
     "execution_count": 75,
     "metadata": {},
     "output_type": "execute_result"
    }
   ],
   "source": [
    "# find root mean square log error\n",
    "np.sqrt(mean_squared_log_error(y_test.iloc[:,0],y_pred[:,0]))"
   ]
  },
  {
   "cell_type": "code",
   "execution_count": 76,
   "metadata": {
    "colab": {
     "base_uri": "https://localhost:8080/"
    },
    "id": "U06YbPOO_8Yt",
    "outputId": "17e87a49-aa8f-43f0-f7ad-042ecfc3aaaf"
   },
   "outputs": [
    {
     "data": {
      "text/plain": [
       "-18.42880247998059"
      ]
     },
     "execution_count": 76,
     "metadata": {},
     "output_type": "execute_result"
    }
   ],
   "source": [
    "# find r2 score\n",
    "r2_score(y_test.iloc[:,0],y_pred[:,0])"
   ]
  },
  {
   "cell_type": "markdown",
   "metadata": {
    "id": "H-xYJbmC_8Yu"
   },
   "source": [
    "#### the secoond prediction"
   ]
  },
  {
   "cell_type": "code",
   "execution_count": 77,
   "metadata": {
    "colab": {
     "base_uri": "https://localhost:8080/"
    },
    "id": "VZPdnj-__8Yv",
    "outputId": "c41b9550-c86c-4903-d2ae-80c7ae90b596"
   },
   "outputs": [
    {
     "data": {
      "text/plain": [
       "0.1811120486734537"
      ]
     },
     "execution_count": 77,
     "metadata": {},
     "output_type": "execute_result"
    }
   ],
   "source": [
    "# find median absolute error\n",
    "median_absolute_error(y_test.iloc[:,1],y_pred[:,1])"
   ]
  },
  {
   "cell_type": "code",
   "execution_count": 78,
   "metadata": {
    "colab": {
     "base_uri": "https://localhost:8080/"
    },
    "id": "VYlcCcGJ_8Yw",
    "outputId": "0b6eb50a-a799-4753-cf06-ad27d34b11bf"
   },
   "outputs": [
    {
     "data": {
      "text/plain": [
       "0.1791217384377378"
      ]
     },
     "execution_count": 78,
     "metadata": {},
     "output_type": "execute_result"
    }
   ],
   "source": [
    "# find root mean square log error\n",
    "np.sqrt(mean_squared_log_error(y_test.iloc[:,1],y_pred[:,1]))"
   ]
  },
  {
   "cell_type": "code",
   "execution_count": 79,
   "metadata": {
    "colab": {
     "base_uri": "https://localhost:8080/"
    },
    "id": "0U9_etB7_8Yx",
    "outputId": "7ebed540-3f92-4faa-926b-250786736804"
   },
   "outputs": [
    {
     "data": {
      "text/plain": [
       "-1.4160763701487715"
      ]
     },
     "execution_count": 79,
     "metadata": {},
     "output_type": "execute_result"
    }
   ],
   "source": [
    "# find r2 score\n",
    "r2_score(y_test.iloc[:,1],y_pred[:,1])"
   ]
  },
  {
   "cell_type": "markdown",
   "metadata": {},
   "source": [
    "# ================================================================"
   ]
  },
  {
   "cell_type": "markdown",
   "metadata": {
    "id": "QbyPtz1v8gIx"
   },
   "source": [
    "### Multiple Linear Regression"
   ]
  },
  {
   "cell_type": "code",
   "execution_count": 80,
   "metadata": {
    "id": "lyp43v3w8gIy"
   },
   "outputs": [],
   "source": [
    "# create a linear regressor\n",
    "lr = LinearRegression()"
   ]
  },
  {
   "cell_type": "code",
   "execution_count": 81,
   "metadata": {
    "id": "fmqU5SkY8gI0"
   },
   "outputs": [],
   "source": [
    "# fit the lr on train data\n",
    "lr = lr.fit(X_train, y_train)"
   ]
  },
  {
   "cell_type": "code",
   "execution_count": 82,
   "metadata": {
    "id": "p5TUCPy58gI2"
   },
   "outputs": [],
   "source": [
    "# find the predictions on test data\n",
    "y_pred = lr.predict(X_test)"
   ]
  },
  {
   "cell_type": "code",
   "execution_count": 83,
   "metadata": {
    "id": "-78922K8_K2D"
   },
   "outputs": [],
   "source": [
    "# normalize the predictions\n",
    "y_pred[:,0] = (y_pred[:,0] - y_pred[:,0].min())/(y_pred[:,0].max() - y_pred[:,0].min())"
   ]
  },
  {
   "cell_type": "code",
   "execution_count": 84,
   "metadata": {
    "id": "lpdZpfns8gI3"
   },
   "outputs": [],
   "source": [
    "# normalize the predictions\n",
    "y_pred[:,1] = (y_pred[:,1] - y_pred[:,1].min())/(y_pred[:,1].max() - y_pred[:,1].min())"
   ]
  },
  {
   "cell_type": "code",
   "execution_count": 85,
   "metadata": {
    "colab": {
     "base_uri": "https://localhost:8080/"
    },
    "id": "2OJzMRLn8gI3",
    "outputId": "c33d7372-9ee6-440a-c42a-1ab98237cc79"
   },
   "outputs": [
    {
     "data": {
      "text/plain": [
       "0.5015375144710312"
      ]
     },
     "execution_count": 85,
     "metadata": {},
     "output_type": "execute_result"
    }
   ],
   "source": [
    "# find median absolute error\n",
    "median_absolute_error(y_test.iloc[:,0],y_pred[:,0])"
   ]
  },
  {
   "cell_type": "code",
   "execution_count": 86,
   "metadata": {
    "colab": {
     "base_uri": "https://localhost:8080/"
    },
    "id": "0RuP8jP28gI5",
    "outputId": "0b13d23b-17d3-49f9-d7bf-d086a46c6da2"
   },
   "outputs": [
    {
     "data": {
      "text/plain": [
       "0.4073832306770018"
      ]
     },
     "execution_count": 86,
     "metadata": {},
     "output_type": "execute_result"
    }
   ],
   "source": [
    "# find root mean square log error\n",
    "np.sqrt(mean_squared_log_error(y_test.iloc[:,0],y_pred[:,0]))"
   ]
  },
  {
   "cell_type": "code",
   "execution_count": 87,
   "metadata": {
    "colab": {
     "base_uri": "https://localhost:8080/"
    },
    "id": "35VF7U8V8gI6",
    "outputId": "d9fbd1f8-c4a3-40a3-b4f6-d676ee2aba26"
   },
   "outputs": [
    {
     "data": {
      "text/plain": [
       "-156.95424008399553"
      ]
     },
     "execution_count": 87,
     "metadata": {},
     "output_type": "execute_result"
    }
   ],
   "source": [
    "# find r2 score\n",
    "r2_score(y_test.iloc[:,0],y_pred[:,0])"
   ]
  },
  {
   "cell_type": "markdown",
   "metadata": {},
   "source": [
    "####  the second prediction"
   ]
  },
  {
   "cell_type": "code",
   "execution_count": 88,
   "metadata": {
    "colab": {
     "base_uri": "https://localhost:8080/"
    },
    "id": "3BVyaCgQ_b3_",
    "outputId": "157622cf-821b-4f1e-8bd8-384ad6f75999"
   },
   "outputs": [
    {
     "data": {
      "text/plain": [
       "0.16368554371553756"
      ]
     },
     "execution_count": 88,
     "metadata": {},
     "output_type": "execute_result"
    }
   ],
   "source": [
    "# find median absolute error\n",
    "median_absolute_error(y_test.iloc[:,1],y_pred[:,1])"
   ]
  },
  {
   "cell_type": "code",
   "execution_count": 89,
   "metadata": {
    "colab": {
     "base_uri": "https://localhost:8080/"
    },
    "id": "DDIOqOUS_b4X",
    "outputId": "ab126236-d9d2-4bc2-b0b1-e336a61538f0"
   },
   "outputs": [
    {
     "data": {
      "text/plain": [
       "0.14938090265660803"
      ]
     },
     "execution_count": 89,
     "metadata": {},
     "output_type": "execute_result"
    }
   ],
   "source": [
    "# find root mean square log error\n",
    "np.sqrt(mean_squared_log_error(y_test.iloc[:,1],y_pred[:,1]))"
   ]
  },
  {
   "cell_type": "code",
   "execution_count": 90,
   "metadata": {
    "colab": {
     "base_uri": "https://localhost:8080/"
    },
    "id": "pUIgF3KZ_b4Y",
    "outputId": "eee8fc2f-5faa-4728-b796-fa7b6e81831c"
   },
   "outputs": [
    {
     "data": {
      "text/plain": [
       "-0.8211047468624715"
      ]
     },
     "execution_count": 90,
     "metadata": {},
     "output_type": "execute_result"
    }
   ],
   "source": [
    "# find r2 score\n",
    "r2_score(y_test.iloc[:,1],y_pred[:,1])"
   ]
  },
  {
   "cell_type": "markdown",
   "metadata": {
    "id": "Yf4JRSgY8gI7"
   },
   "source": [
    "R2  is negative only when the chosen model does not follow the trend of the data, so fits worse than a horizontal line."
   ]
  },
  {
   "cell_type": "markdown",
   "metadata": {},
   "source": [
    "# ================================================================"
   ]
  },
  {
   "cell_type": "markdown",
   "metadata": {
    "id": "ieSlrUVT8gI8"
   },
   "source": [
    "### Random Forest"
   ]
  },
  {
   "cell_type": "code",
   "execution_count": 91,
   "metadata": {
    "id": "c6Bb4-wK8gI9"
   },
   "outputs": [],
   "source": [
    "# create a random forest regressor\n",
    "rf = RandomForestRegressor()"
   ]
  },
  {
   "cell_type": "code",
   "execution_count": 92,
   "metadata": {
    "id": "GUtd_Xnk8gI-"
   },
   "outputs": [],
   "source": [
    "# find optimal parameters with grid search\n",
    "param_grid = {\n",
    "'bootstrap': [True, False],\n",
    " 'max_depth': [None,10, 20, 50, 100],\n",
    " 'max_features': ['auto', 'sqrt'],\n",
    " 'min_samples_leaf': [1, 2, 4],\n",
    " 'min_samples_split': [2, 5, 10],\n",
    " 'n_estimators': [100,200,500, 1000]\n",
    "             }\n",
    "grid = GridSearchCV(estimator=rf, param_grid=param_grid,\n",
    "                    scoring=['neg_median_absolute_error','neg_mean_squared_log_error','r2'], refit = 'neg_mean_squared_log_error',\n",
    "                    verbose=1, n_jobs=-1)"
   ]
  },
  {
   "cell_type": "code",
   "execution_count": null,
   "metadata": {
    "colab": {
     "base_uri": "https://localhost:8080/"
    },
    "id": "n5LjIaHL8gI_",
    "outputId": "21e15b15-0f6c-4bea-efc9-b15d5800a93d"
   },
   "outputs": [
    {
     "name": "stdout",
     "output_type": "stream",
     "text": [
      "Fitting 5 folds for each of 720 candidates, totalling 3600 fits\n"
     ]
    },
    {
     "name": "stderr",
     "output_type": "stream",
     "text": [
      "[Parallel(n_jobs=-1)]: Using backend LokyBackend with 2 concurrent workers.\n",
      "[Parallel(n_jobs=-1)]: Done  46 tasks      | elapsed:  1.5min\n",
      "[Parallel(n_jobs=-1)]: Done 196 tasks      | elapsed:  6.2min\n",
      "[Parallel(n_jobs=-1)]: Done 446 tasks      | elapsed: 12.5min\n",
      "[Parallel(n_jobs=-1)]: Done 796 tasks      | elapsed: 21.3min\n",
      "[Parallel(n_jobs=-1)]: Done 1246 tasks      | elapsed: 34.7min\n",
      "[Parallel(n_jobs=-1)]: Done 1796 tasks      | elapsed: 50.6min\n",
      "[Parallel(n_jobs=-1)]: Done 2446 tasks      | elapsed: 73.4min\n",
      "[Parallel(n_jobs=-1)]: Done 3196 tasks      | elapsed: 101.1min\n",
      "[Parallel(n_jobs=-1)]: Done 3600 out of 3600 | elapsed: 116.7min finished\n"
     ]
    }
   ],
   "source": [
    "# fit the grid on the train data\n",
    "grid_result = grid.fit(X_train, y_train)"
   ]
  },
  {
   "cell_type": "code",
   "execution_count": null,
   "metadata": {
    "colab": {
     "base_uri": "https://localhost:8080/"
    },
    "id": "T0bjtnqN8gJA",
    "outputId": "6f62414a-cb39-44b7-937f-9bff57d29e05"
   },
   "outputs": [
    {
     "name": "stdout",
     "output_type": "stream",
     "text": [
      "Best Score:  -0.00704013646129713\n",
      "Best Params:  {'bootstrap': True, 'max_depth': 10, 'max_features': 'sqrt', 'min_samples_leaf': 2, 'min_samples_split': 10, 'n_estimators': 500}\n"
     ]
    }
   ],
   "source": [
    "# print the best score and parameters found\n",
    "print('Best Score: ', grid_result.best_score_)\n",
    "print('Best Params: ', grid_result.best_params_)"
   ]
  },
  {
   "cell_type": "code",
   "execution_count": null,
   "metadata": {
    "id": "tzMxgGTl8gJB"
   },
   "outputs": [],
   "source": [
    "# find predictions for test data\n",
    "y_pred = grid_result.best_estimator_.predict(X_test)"
   ]
  },
  {
   "cell_type": "code",
   "execution_count": null,
   "metadata": {
    "id": "wZ-2n29qADpp"
   },
   "outputs": [],
   "source": [
    "# normalize the predictions\n",
    "y_pred[:,0] = (y_pred[:,0] - y_pred[:,0].min())/(y_pred[:,0].max() - y_pred[:,0].min())"
   ]
  },
  {
   "cell_type": "code",
   "execution_count": null,
   "metadata": {
    "id": "GUDbLEW5ADpq"
   },
   "outputs": [],
   "source": [
    "# normalize the predictions\n",
    "y_pred[:,1] = (y_pred[:,1] - y_pred[:,1].min())/(y_pred[:,1].max() - y_pred[:,1].min())"
   ]
  },
  {
   "cell_type": "code",
   "execution_count": null,
   "metadata": {
    "colab": {
     "base_uri": "https://localhost:8080/"
    },
    "id": "9ctgCmaFADpq",
    "outputId": "87897b09-34ce-4dfc-d83f-e6f695953375"
   },
   "outputs": [
    {
     "data": {
      "text/plain": [
       "0.13486025796631473"
      ]
     },
     "execution_count": 77,
     "metadata": {
      "tags": []
     },
     "output_type": "execute_result"
    }
   ],
   "source": [
    "# find median absolute error\n",
    "median_absolute_error(y_test.iloc[:,0],y_pred[:,0])"
   ]
  },
  {
   "cell_type": "code",
   "execution_count": null,
   "metadata": {
    "colab": {
     "base_uri": "https://localhost:8080/"
    },
    "id": "hfI_I0zgADpr",
    "outputId": "e1b3a70f-6b5a-4efb-b2b8-5fb9634879db"
   },
   "outputs": [
    {
     "data": {
      "text/plain": [
       "0.18098893002166355"
      ]
     },
     "execution_count": 78,
     "metadata": {
      "tags": []
     },
     "output_type": "execute_result"
    }
   ],
   "source": [
    "# find root mean square log error\n",
    "np.sqrt(mean_squared_log_error(y_test.iloc[:,0],y_pred[:,0]))"
   ]
  },
  {
   "cell_type": "code",
   "execution_count": null,
   "metadata": {
    "colab": {
     "base_uri": "https://localhost:8080/"
    },
    "id": "69TuyYP7ADpr",
    "outputId": "c1d97679-70fb-4d3e-feee-366864a9293e"
   },
   "outputs": [
    {
     "data": {
      "text/plain": [
       "-25.890108945315262"
      ]
     },
     "execution_count": 79,
     "metadata": {
      "tags": []
     },
     "output_type": "execute_result"
    }
   ],
   "source": [
    "# find r2 score\n",
    "r2_score(y_test.iloc[:,0],y_pred[:,0])"
   ]
  },
  {
   "cell_type": "markdown",
   "metadata": {
    "id": "bUO9-z6kADps"
   },
   "source": [
    "#### the second prediction"
   ]
  },
  {
   "cell_type": "code",
   "execution_count": null,
   "metadata": {
    "colab": {
     "base_uri": "https://localhost:8080/"
    },
    "id": "mpwE5D4uADps",
    "outputId": "864c2254-db2b-4bca-b5d7-b63a7e8f4147"
   },
   "outputs": [
    {
     "data": {
      "text/plain": [
       "0.13719308429587834"
      ]
     },
     "execution_count": 80,
     "metadata": {
      "tags": []
     },
     "output_type": "execute_result"
    }
   ],
   "source": [
    "# find median absolute error\n",
    "median_absolute_error(y_test.iloc[:,1],y_pred[:,1])"
   ]
  },
  {
   "cell_type": "code",
   "execution_count": null,
   "metadata": {
    "colab": {
     "base_uri": "https://localhost:8080/"
    },
    "id": "2DXBPVokADpt",
    "outputId": "c89ec5d2-1495-4404-9a1b-57ce35087380"
   },
   "outputs": [
    {
     "data": {
      "text/plain": [
       "0.1461849494815439"
      ]
     },
     "execution_count": 81,
     "metadata": {
      "tags": []
     },
     "output_type": "execute_result"
    }
   ],
   "source": [
    "# find root mean square log error\n",
    "np.sqrt(mean_squared_log_error(y_test.iloc[:,1],y_pred[:,1]))"
   ]
  },
  {
   "cell_type": "code",
   "execution_count": null,
   "metadata": {
    "colab": {
     "base_uri": "https://localhost:8080/"
    },
    "id": "sP6wpRFxADpu",
    "outputId": "84470fb5-968e-4356-aefd-b93ea01affee"
   },
   "outputs": [
    {
     "data": {
      "text/plain": [
       "-0.6840530272584708"
      ]
     },
     "execution_count": 82,
     "metadata": {
      "tags": []
     },
     "output_type": "execute_result"
    }
   ],
   "source": [
    "# find r2 score\n",
    "r2_score(y_test.iloc[:,1],y_pred[:,1])"
   ]
  },
  {
   "cell_type": "markdown",
   "metadata": {
    "id": "w505G4_e8gJH"
   },
   "source": [
    "# ================================================================"
   ]
  },
  {
   "cell_type": "markdown",
   "metadata": {
    "id": "vi1X1Uun_7iH"
   },
   "source": [
    "### SGRegression"
   ]
  },
  {
   "cell_type": "code",
   "execution_count": 93,
   "metadata": {
    "id": "AQMd4EIH_7iI"
   },
   "outputs": [],
   "source": [
    "from sklearn.multioutput import MultiOutputRegressor"
   ]
  },
  {
   "cell_type": "code",
   "execution_count": 94,
   "metadata": {
    "id": "ho0l_0r9_7iI"
   },
   "outputs": [],
   "source": [
    "# create a linear regressor\n",
    "lr = MultiOutputRegressor(SGDRegressor())"
   ]
  },
  {
   "cell_type": "code",
   "execution_count": 95,
   "metadata": {
    "id": "dfZO54SO_7iJ"
   },
   "outputs": [],
   "source": [
    "# find optimal parameters with grid search\n",
    "param_grid = {\n",
    "    \n",
    "    'estimator__loss' : ['squared_loss','huber'],\n",
    "    'estimator__alpha': [0.0001,0.001,0.01,0.1],\n",
    "     'estimator__eta0': [0.01,0.1,1,10,100],\n",
    "    'estimator__tol' : [0.00001,0.0001,0.001,0.01,0.1]    \n",
    " }\n",
    "grid = GridSearchCV(estimator=lr, param_grid=param_grid,\n",
    "                    scoring=['neg_median_absolute_error','r2'], refit = 'neg_median_absolute_error',\n",
    "                    verbose=1, n_jobs=-1)"
   ]
  },
  {
   "cell_type": "code",
   "execution_count": 96,
   "metadata": {
    "id": "XnI5b7bG_7iK",
    "outputId": "4af59e34-12e3-4123-ee44-0fd9d3227d7f"
   },
   "outputs": [
    {
     "name": "stdout",
     "output_type": "stream",
     "text": [
      "Fitting 5 folds for each of 200 candidates, totalling 1000 fits\n"
     ]
    }
   ],
   "source": [
    "# fit the grid on the train data\n",
    "grid_result = grid.fit(X_train, y_train)"
   ]
  },
  {
   "cell_type": "code",
   "execution_count": 97,
   "metadata": {
    "id": "6lIgAuwJ_7iK",
    "outputId": "382f9152-a2f4-4b55-efdb-9ea4172cb31b"
   },
   "outputs": [
    {
     "name": "stdout",
     "output_type": "stream",
     "text": [
      "Best Score:  -0.0499613785813279\n",
      "Best Params:  {'estimator__alpha': 0.01, 'estimator__eta0': 1, 'estimator__loss': 'huber', 'estimator__tol': 1e-05}\n"
     ]
    }
   ],
   "source": [
    "# print the best score and parameters found\n",
    "print('Best Score: ', grid_result.best_score_)\n",
    "print('Best Params: ', grid_result.best_params_)"
   ]
  },
  {
   "cell_type": "code",
   "execution_count": 98,
   "metadata": {
    "id": "s6WKvLex_7iL"
   },
   "outputs": [],
   "source": [
    "# find predictions for test data\n",
    "y_pred = grid_result.best_estimator_.predict(X_test)"
   ]
  },
  {
   "cell_type": "code",
   "execution_count": null,
   "metadata": {},
   "outputs": [],
   "source": []
  },
  {
   "cell_type": "code",
   "execution_count": 99,
   "metadata": {
    "id": "p1oOz3wX_7iM"
   },
   "outputs": [],
   "source": [
    "#normalizing y_pred\n",
    "y_pred = (y_pred - y_pred.min())/(y_pred.max() - y_pred.min())"
   ]
  },
  {
   "cell_type": "code",
   "execution_count": 100,
   "metadata": {
    "colab": {
     "base_uri": "https://localhost:8080/"
    },
    "id": "Q2a6sfxs_7iN",
    "outputId": "339a463b-de87-4f47-c552-a3c1149eb273"
   },
   "outputs": [
    {
     "data": {
      "text/plain": [
       "0.11297241870299786"
      ]
     },
     "execution_count": 100,
     "metadata": {},
     "output_type": "execute_result"
    }
   ],
   "source": [
    "# find median absolute error\n",
    "median_absolute_error(y_test,y_pred)"
   ]
  },
  {
   "cell_type": "code",
   "execution_count": 101,
   "metadata": {
    "colab": {
     "base_uri": "https://localhost:8080/"
    },
    "id": "nYsuVBQc_7iO",
    "outputId": "734ca61c-5794-44b9-cc4c-ee04d78dfe84"
   },
   "outputs": [
    {
     "data": {
      "text/plain": [
       "0.12222366848096275"
      ]
     },
     "execution_count": 101,
     "metadata": {},
     "output_type": "execute_result"
    }
   ],
   "source": [
    "# find root mean square log error\n",
    "np.sqrt(mean_squared_log_error(y_test,y_pred))"
   ]
  },
  {
   "cell_type": "code",
   "execution_count": 102,
   "metadata": {
    "colab": {
     "base_uri": "https://localhost:8080/"
    },
    "id": "VwPt3OaG_7iO",
    "outputId": "ad2ffdd8-4502-4ac3-997d-8ad4bcb51b7b"
   },
   "outputs": [
    {
     "data": {
      "text/plain": [
       "-0.8425463518399292"
      ]
     },
     "execution_count": 102,
     "metadata": {},
     "output_type": "execute_result"
    }
   ],
   "source": [
    "# find r2 score\n",
    "r2_score(y_test,y_pred)"
   ]
  },
  {
   "cell_type": "markdown",
   "metadata": {
    "id": "4FjMY633_7iW"
   },
   "source": [
    "# ================================================================"
   ]
  },
  {
   "cell_type": "markdown",
   "metadata": {
    "id": "tu3Mqgp9NW1U"
   },
   "source": [
    "### Decision Tree Regressor"
   ]
  },
  {
   "cell_type": "code",
   "execution_count": null,
   "metadata": {
    "id": "HzCOjNKeNW1g"
   },
   "outputs": [],
   "source": [
    "dt = DecisionTreeRegressor()"
   ]
  },
  {
   "cell_type": "code",
   "execution_count": null,
   "metadata": {
    "id": "UsU89sCHNW1i"
   },
   "outputs": [],
   "source": [
    "# find optimal parameters with grid search\n",
    "param_grid = {\n",
    "    \n",
    "    'criterion' : ['mse','mae'],\n",
    "    'max_depth': range(10,20),\n",
    "     'min_samples_split': range(2,10),\n",
    "    'min_samples_leaf' : range(1,5)    \n",
    " }\n",
    "grid = GridSearchCV(estimator=dt, param_grid=param_grid, cv=10,\n",
    "                    scoring=['neg_median_absolute_error','neg_mean_squared_log_error','r2'], refit = 'neg_mean_squared_log_error',\n",
    "                    verbose=1, n_jobs=-1)"
   ]
  },
  {
   "cell_type": "code",
   "execution_count": null,
   "metadata": {
    "colab": {
     "base_uri": "https://localhost:8080/"
    },
    "id": "lpkdehfONW1j",
    "outputId": "197a1bfd-9c6b-4bff-f8e5-c4de40ab29a1"
   },
   "outputs": [
    {
     "name": "stdout",
     "output_type": "stream",
     "text": [
      "Fitting 10 folds for each of 640 candidates, totalling 6400 fits\n"
     ]
    },
    {
     "name": "stderr",
     "output_type": "stream",
     "text": [
      "[Parallel(n_jobs=-1)]: Using backend LokyBackend with 2 concurrent workers.\n",
      "[Parallel(n_jobs=-1)]: Done 202 tasks      | elapsed:    3.5s\n",
      "[Parallel(n_jobs=-1)]: Done 1402 tasks      | elapsed:   16.4s\n",
      "[Parallel(n_jobs=-1)]: Done 3262 tasks      | elapsed:   58.4s\n",
      "[Parallel(n_jobs=-1)]: Done 3612 tasks      | elapsed:  3.0min\n",
      "[Parallel(n_jobs=-1)]: Done 4062 tasks      | elapsed:  5.6min\n",
      "[Parallel(n_jobs=-1)]: Done 4612 tasks      | elapsed:  8.9min\n",
      "[Parallel(n_jobs=-1)]: Done 5262 tasks      | elapsed: 12.8min\n",
      "[Parallel(n_jobs=-1)]: Done 6012 tasks      | elapsed: 17.3min\n",
      "[Parallel(n_jobs=-1)]: Done 6400 out of 6400 | elapsed: 19.7min finished\n"
     ]
    }
   ],
   "source": [
    "# fit the grid on the train data\n",
    "grid_result = grid.fit(X_train, y_train)"
   ]
  },
  {
   "cell_type": "code",
   "execution_count": null,
   "metadata": {
    "colab": {
     "base_uri": "https://localhost:8080/"
    },
    "id": "hS-X0TXdNW1k",
    "outputId": "769e2438-b40c-4d62-f0d6-058750e4a3bc"
   },
   "outputs": [
    {
     "name": "stdout",
     "output_type": "stream",
     "text": [
      "Best Score:  -0.00773425390770469\n",
      "Best Params:  {'criterion': 'mse', 'max_depth': 10, 'min_samples_leaf': 4, 'min_samples_split': 9}\n"
     ]
    }
   ],
   "source": [
    "# print the best score and parameters found\n",
    "print('Best Score: ', grid_result.best_score_)\n",
    "print('Best Params: ', grid_result.best_params_)"
   ]
  },
  {
   "cell_type": "code",
   "execution_count": null,
   "metadata": {
    "id": "gAXs4fp7NW1l"
   },
   "outputs": [],
   "source": [
    "# find predictions for test data\n",
    "y_pred = grid_result.best_estimator_.predict(X_test)"
   ]
  },
  {
   "cell_type": "code",
   "execution_count": null,
   "metadata": {
    "id": "oZP4NrN7NW1m"
   },
   "outputs": [],
   "source": [
    "#normalizing y_pred\n",
    "y_pred = (y_pred - y_pred.min())/(y_pred.max() - y_pred.min())"
   ]
  },
  {
   "cell_type": "code",
   "execution_count": null,
   "metadata": {
    "colab": {
     "base_uri": "https://localhost:8080/"
    },
    "id": "NwcQeWqxNW1n",
    "outputId": "5fbe1cbc-9da4-4375-e759-f6755ccd706d"
   },
   "outputs": [
    {
     "data": {
      "text/plain": [
       "0.051486780984233205"
      ]
     },
     "execution_count": 69,
     "metadata": {
      "tags": []
     },
     "output_type": "execute_result"
    }
   ],
   "source": [
    "# find median absolute error\n",
    "median_absolute_error(y_test,y_pred)"
   ]
  },
  {
   "cell_type": "code",
   "execution_count": null,
   "metadata": {
    "colab": {
     "base_uri": "https://localhost:8080/"
    },
    "id": "ftaDWE46NW1o",
    "outputId": "f46c9584-72ae-4985-977d-44db1745ca5b"
   },
   "outputs": [
    {
     "data": {
      "text/plain": [
       "0.08403082471073176"
      ]
     },
     "execution_count": 70,
     "metadata": {
      "tags": []
     },
     "output_type": "execute_result"
    }
   ],
   "source": [
    "# find root mean square log error\n",
    "np.sqrt(mean_squared_log_error(y_test,y_pred))"
   ]
  },
  {
   "cell_type": "code",
   "execution_count": null,
   "metadata": {
    "colab": {
     "base_uri": "https://localhost:8080/"
    },
    "id": "ZO00G6YkNW1p",
    "outputId": "6d567b7b-d436-4206-cb29-5ae3f1e11aca"
   },
   "outputs": [
    {
     "data": {
      "text/plain": [
       "-0.091339400115092"
      ]
     },
     "execution_count": 71,
     "metadata": {
      "tags": []
     },
     "output_type": "execute_result"
    }
   ],
   "source": [
    "# find r2 score\n",
    "r2_score(y_test,y_pred)"
   ]
  },
  {
   "cell_type": "markdown",
   "metadata": {
    "id": "04lzCo2RNW1r"
   },
   "source": [
    "# ================================================================"
   ]
  },
  {
   "cell_type": "markdown",
   "metadata": {
    "id": "vusrvMm-NW1s"
   },
   "source": [
    "### XGBoost Regressor"
   ]
  },
  {
   "cell_type": "code",
   "execution_count": null,
   "metadata": {
    "id": "-o1oBwXCS74u"
   },
   "outputs": [],
   "source": [
    "from sklearn.multioutput import MultiOutputRegressor"
   ]
  },
  {
   "cell_type": "code",
   "execution_count": null,
   "metadata": {
    "id": "FykGgRkUNW1s"
   },
   "outputs": [],
   "source": [
    "xgbtree = MultiOutputRegressor(XGBRegressor())"
   ]
  },
  {
   "cell_type": "code",
   "execution_count": null,
   "metadata": {
    "id": "m6b3xzP3NW1t"
   },
   "outputs": [],
   "source": [
    "# find optimal parameters with grid search\n",
    "param_grid = {\n",
    "              'estimator__learning_rate': [0.001,0.01,0.1,1],\n",
    "              'estimator__max_depth': range(2,10),\n",
    "              'estimator__subsample':[0.01,0.1,1] ,\n",
    "              'estimator__colsample_bytree': [0.01,0.1,1],\n",
    "              'estimator__n_estimators': [100,200,500,1000]}\n",
    "grid = GridSearchCV(estimator=xgbtree, param_grid=param_grid, cv=5,\n",
    "                    scoring=['neg_median_absolute_error','r2'], refit = 'neg_median_absolute_error',\n",
    "                    verbose=1, n_jobs=-1)"
   ]
  },
  {
   "cell_type": "code",
   "execution_count": null,
   "metadata": {
    "colab": {
     "base_uri": "https://localhost:8080/"
    },
    "id": "2hDU1sXFNW1u",
    "outputId": "f804beb9-a980-4037-f6a1-c5a187785593"
   },
   "outputs": [
    {
     "name": "stdout",
     "output_type": "stream",
     "text": [
      "Fitting 5 folds for each of 1152 candidates, totalling 5760 fits\n"
     ]
    },
    {
     "name": "stderr",
     "output_type": "stream",
     "text": [
      "[Parallel(n_jobs=-1)]: Using backend LokyBackend with 2 concurrent workers.\n",
      "[Parallel(n_jobs=-1)]: Done  46 tasks      | elapsed:   20.7s\n",
      "[Parallel(n_jobs=-1)]: Done 196 tasks      | elapsed:  2.2min\n",
      "[Parallel(n_jobs=-1)]: Done 446 tasks      | elapsed:  5.7min\n",
      "[Parallel(n_jobs=-1)]: Done 796 tasks      | elapsed: 11.1min\n",
      "[Parallel(n_jobs=-1)]: Done 1246 tasks      | elapsed: 18.8min\n",
      "[Parallel(n_jobs=-1)]: Done 1796 tasks      | elapsed: 28.8min\n",
      "[Parallel(n_jobs=-1)]: Done 2446 tasks      | elapsed: 38.1min\n",
      "[Parallel(n_jobs=-1)]: Done 3196 tasks      | elapsed: 50.5min\n",
      "[Parallel(n_jobs=-1)]: Done 4046 tasks      | elapsed: 64.6min\n",
      "[Parallel(n_jobs=-1)]: Done 4996 tasks      | elapsed: 82.9min\n",
      "[Parallel(n_jobs=-1)]: Done 5760 out of 5760 | elapsed: 99.7min finished\n"
     ]
    },
    {
     "name": "stdout",
     "output_type": "stream",
     "text": [
      "[20:25:02] WARNING: /workspace/src/objective/regression_obj.cu:152: reg:linear is now deprecated in favor of reg:squarederror.\n",
      "[20:25:03] WARNING: /workspace/src/objective/regression_obj.cu:152: reg:linear is now deprecated in favor of reg:squarederror.\n"
     ]
    }
   ],
   "source": [
    "# fit the grid on the train data\n",
    "grid_result = grid.fit(X_train, y_train)"
   ]
  },
  {
   "cell_type": "code",
   "execution_count": null,
   "metadata": {
    "colab": {
     "base_uri": "https://localhost:8080/"
    },
    "id": "YoFpVd3QNW1y",
    "outputId": "6f04a0e2-0880-4fb9-9ad1-68d373a3345c"
   },
   "outputs": [
    {
     "name": "stdout",
     "output_type": "stream",
     "text": [
      "Best Score:  -0.05736183594793019\n",
      "Best Params:  {'estimator__colsample_bytree': 0.01, 'estimator__learning_rate': 0.01, 'estimator__max_depth': 8, 'estimator__n_estimators': 1000, 'estimator__subsample': 0.01}\n"
     ]
    }
   ],
   "source": [
    "# print the best score and parameters found\n",
    "print('Best Score: ', grid_result.best_score_)\n",
    "print('Best Params: ', grid_result.best_params_)"
   ]
  },
  {
   "cell_type": "code",
   "execution_count": null,
   "metadata": {
    "id": "3YrdsNHCNW1z"
   },
   "outputs": [],
   "source": [
    "# find predictions for test data\n",
    "y_pred = grid_result.best_estimator_.predict(X_test)"
   ]
  },
  {
   "cell_type": "code",
   "execution_count": null,
   "metadata": {
    "id": "9s2N4r1oNW1z"
   },
   "outputs": [],
   "source": [
    "#normalizing y_pred\n",
    "y_pred = (y_pred - y_pred.min())/(y_pred.max() - y_pred.min())"
   ]
  },
  {
   "cell_type": "code",
   "execution_count": null,
   "metadata": {
    "colab": {
     "base_uri": "https://localhost:8080/"
    },
    "id": "8pHaa4eDNW10",
    "outputId": "44a07304-2055-4fba-a0e8-3d7a1fa318ae"
   },
   "outputs": [
    {
     "data": {
      "text/plain": [
       "0.073711019955124"
      ]
     },
     "execution_count": 86,
     "metadata": {
      "tags": []
     },
     "output_type": "execute_result"
    }
   ],
   "source": [
    "# find median absolute error\n",
    "median_absolute_error(y_test,y_pred)"
   ]
  },
  {
   "cell_type": "code",
   "execution_count": null,
   "metadata": {
    "colab": {
     "base_uri": "https://localhost:8080/"
    },
    "id": "FSS7Q_EHNW14",
    "outputId": "390c18a1-e522-4bc4-bd4a-1413afd9cf36"
   },
   "outputs": [
    {
     "data": {
      "text/plain": [
       "0.0992570475717765"
      ]
     },
     "execution_count": 87,
     "metadata": {
      "tags": []
     },
     "output_type": "execute_result"
    }
   ],
   "source": [
    "# find root mean square log error\n",
    "np.sqrt(mean_squared_log_error(y_test,y_pred))"
   ]
  },
  {
   "cell_type": "code",
   "execution_count": null,
   "metadata": {
    "colab": {
     "base_uri": "https://localhost:8080/"
    },
    "id": "uCfcJ6BbNW15",
    "outputId": "8ae740cd-b12e-46b4-f794-1c21671edbe7"
   },
   "outputs": [
    {
     "data": {
      "text/plain": [
       "-0.3250485495553004"
      ]
     },
     "execution_count": 88,
     "metadata": {
      "tags": []
     },
     "output_type": "execute_result"
    }
   ],
   "source": [
    "# find r2 score\n",
    "r2_score(y_test,y_pred)"
   ]
  },
  {
   "cell_type": "markdown",
   "metadata": {
    "id": "MaBdtb1DNW16"
   },
   "source": [
    "# ================================================================"
   ]
  },
  {
   "cell_type": "markdown",
   "metadata": {
    "id": "yeJyOIHiNW18"
   },
   "source": [
    "### AdaBoost Regressor"
   ]
  },
  {
   "cell_type": "code",
   "execution_count": null,
   "metadata": {
    "id": "JXeWEeyHNW18"
   },
   "outputs": [],
   "source": [
    "abreg = MultiOutputRegressor(AdaBoostRegressor(base_estimator=DecisionTreeRegressor(),\n",
    "                              random_state=0))"
   ]
  },
  {
   "cell_type": "code",
   "execution_count": null,
   "metadata": {
    "id": "cwlmQkmANW19"
   },
   "outputs": [],
   "source": [
    "# find optimal parameters with grid search\n",
    "param_grid = { 'estimator__loss' : ['linear', 'square', 'exponential'],\n",
    "              'estimator__learning_rate': [0.001,0.01,0.1,1],\n",
    "              'estimator__base_estimator__max_depth': range(2,10),\n",
    "              'estimator__n_estimators': [100,200,500,1000]}\n",
    "grid = GridSearchCV(estimator=abreg, param_grid=param_grid, cv=5,\n",
    "                    scoring=['neg_median_absolute_error','r2'], refit = 'neg_median_absolute_error',\n",
    "                    verbose=1, n_jobs=-1)"
   ]
  },
  {
   "cell_type": "code",
   "execution_count": null,
   "metadata": {
    "colab": {
     "base_uri": "https://localhost:8080/"
    },
    "id": "QAicKLfpNW1_",
    "outputId": "7914c7ca-5c61-401f-d9ee-2b25f92e5ca3"
   },
   "outputs": [
    {
     "name": "stdout",
     "output_type": "stream",
     "text": [
      "Fitting 5 folds for each of 384 candidates, totalling 1920 fits\n"
     ]
    },
    {
     "name": "stderr",
     "output_type": "stream",
     "text": [
      "[Parallel(n_jobs=-1)]: Using backend LokyBackend with 2 concurrent workers.\n",
      "[Parallel(n_jobs=-1)]: Done  46 tasks      | elapsed:  1.9min\n",
      "[Parallel(n_jobs=-1)]: Done 196 tasks      | elapsed:  5.9min\n",
      "[Parallel(n_jobs=-1)]: Done 446 tasks      | elapsed: 13.7min\n",
      "[Parallel(n_jobs=-1)]: Done 796 tasks      | elapsed: 28.4min\n",
      "[Parallel(n_jobs=-1)]: Done 1246 tasks      | elapsed: 48.8min\n",
      "[Parallel(n_jobs=-1)]: Done 1796 tasks      | elapsed: 80.0min\n",
      "[Parallel(n_jobs=-1)]: Done 1920 out of 1920 | elapsed: 84.8min finished\n"
     ]
    }
   ],
   "source": [
    "# fit the grid on the train data\n",
    "grid_result = grid.fit(X_train, y_train)"
   ]
  },
  {
   "cell_type": "code",
   "execution_count": null,
   "metadata": {
    "colab": {
     "base_uri": "https://localhost:8080/"
    },
    "id": "HeX5fH8INW1_",
    "outputId": "a2d7aec3-1e35-4483-da0b-d0cac56fb9b5"
   },
   "outputs": [
    {
     "name": "stdout",
     "output_type": "stream",
     "text": [
      "Best Score:  -0.05696000343719722\n",
      "Best Params:  {'estimator__base_estimator__max_depth': 9, 'estimator__learning_rate': 0.001, 'estimator__loss': 'exponential', 'estimator__n_estimators': 100}\n"
     ]
    }
   ],
   "source": [
    "# print the best score and parameters found\n",
    "print('Best Score: ', grid_result.best_score_)\n",
    "print('Best Params: ', grid_result.best_params_)"
   ]
  },
  {
   "cell_type": "code",
   "execution_count": null,
   "metadata": {
    "id": "rWL8p7bdNW2A"
   },
   "outputs": [],
   "source": [
    "# find predictions for test data\n",
    "y_pred = grid_result.best_estimator_.predict(X_test)"
   ]
  },
  {
   "cell_type": "code",
   "execution_count": null,
   "metadata": {
    "id": "2THfBAn5NW2B"
   },
   "outputs": [],
   "source": [
    "#normalizing y_pred\n",
    "y_pred = (y_pred - y_pred.min())/(y_pred.max() - y_pred.min())"
   ]
  },
  {
   "cell_type": "code",
   "execution_count": null,
   "metadata": {
    "colab": {
     "base_uri": "https://localhost:8080/"
    },
    "id": "cs6B65jONW2B",
    "outputId": "0feeef38-8b01-45f9-bd8e-be295d079b94"
   },
   "outputs": [
    {
     "data": {
      "text/plain": [
       "0.049232930801555316"
      ]
     },
     "execution_count": 95,
     "metadata": {
      "tags": []
     },
     "output_type": "execute_result"
    }
   ],
   "source": [
    "# find median absolute error\n",
    "median_absolute_error(y_test,y_pred)"
   ]
  },
  {
   "cell_type": "code",
   "execution_count": null,
   "metadata": {
    "colab": {
     "base_uri": "https://localhost:8080/"
    },
    "id": "drHEf0feNW2C",
    "outputId": "bb293625-e95a-4634-b3cd-6e01d2614d85"
   },
   "outputs": [
    {
     "data": {
      "text/plain": [
       "0.08178335355032659"
      ]
     },
     "execution_count": 96,
     "metadata": {
      "tags": []
     },
     "output_type": "execute_result"
    }
   ],
   "source": [
    "# find root mean square log error\n",
    "np.sqrt(mean_squared_log_error(y_test,y_pred))"
   ]
  },
  {
   "cell_type": "code",
   "execution_count": null,
   "metadata": {
    "colab": {
     "base_uri": "https://localhost:8080/"
    },
    "id": "YF000rliNW2D",
    "outputId": "d7124d65-2cb5-4963-c1fc-d413cc30a91f"
   },
   "outputs": [
    {
     "data": {
      "text/plain": [
       "-0.053764952172182356"
      ]
     },
     "execution_count": 97,
     "metadata": {
      "tags": []
     },
     "output_type": "execute_result"
    }
   ],
   "source": [
    "# find r2 score\n",
    "r2_score(y_test,y_pred)"
   ]
  },
  {
   "cell_type": "markdown",
   "metadata": {
    "id": "jtfEdgQPNW2E"
   },
   "source": [
    "# ================================================================"
   ]
  },
  {
   "cell_type": "markdown",
   "metadata": {
    "id": "hxtkkTwunDRU"
   },
   "source": [
    "### MLP Regressor"
   ]
  },
  {
   "cell_type": "code",
   "execution_count": 104,
   "metadata": {
    "id": "aW2jxTi0qbw4"
   },
   "outputs": [],
   "source": [
    "from tensorflow.keras.callbacks import ModelCheckpoint, TensorBoard"
   ]
  },
  {
   "cell_type": "code",
   "execution_count": 105,
   "metadata": {
    "id": "SIAGfGIWqbxb"
   },
   "outputs": [],
   "source": [
    "import datetime"
   ]
  },
  {
   "cell_type": "code",
   "execution_count": 106,
   "metadata": {
    "id": "C4QONjA6y2Pv"
   },
   "outputs": [],
   "source": [
    "# Creating a Neural Network Model\n",
    "import tensorflow as tf\n",
    "from tensorflow.keras.models import Sequential\n",
    "from tensorflow.keras.layers import Dense, Activation, Dropout\n",
    "from tensorflow.keras.optimizers import Adam"
   ]
  },
  {
   "cell_type": "code",
   "execution_count": 107,
   "metadata": {
    "id": "JTVpJlYQy2Py"
   },
   "outputs": [],
   "source": [
    "model = Sequential()\n",
    "model.add(Dense(1024,activation='relu'))\n",
    "model.add(Dropout(0.2))\n",
    "model.add(Dense(1024,activation='relu'))\n",
    "#model.add(Dropout(0.2))\n",
    "model.add(Dense(128,activation='relu'))\n",
    "#model.add(Dropout(0.2))\n",
    "model.add(Dense(128,activation='relu'))\n",
    "#model.add(Dropout(0.2))\n",
    "model.add(Dense(128,activation='relu'))\n",
    "model.add(Dense(2))"
   ]
  },
  {
   "cell_type": "code",
   "execution_count": 108,
   "metadata": {
    "id": "AY8hY1GQy2Py"
   },
   "outputs": [],
   "source": [
    "import tensorflow.keras.backend as K"
   ]
  },
  {
   "cell_type": "code",
   "execution_count": 109,
   "metadata": {
    "id": "wgdBz0yjy2Py"
   },
   "outputs": [],
   "source": [
    "\n",
    "def rmsle(y_true, y_pred):\n",
    "    msle = tf.keras.losses.MeanSquaredLogarithmicError()\n",
    "    return K.sqrt(msle(y_true, y_pred)) "
   ]
  },
  {
   "cell_type": "code",
   "execution_count": 110,
   "metadata": {
    "id": "hZDreMsey2Pz"
   },
   "outputs": [],
   "source": [
    "model.compile(optimizer='Adam',loss=rmsle,metrics=[tf.keras.metrics.RootMeanSquaredError()])"
   ]
  },
  {
   "cell_type": "code",
   "execution_count": 111,
   "metadata": {
    "colab": {
     "base_uri": "https://localhost:8080/"
    },
    "id": "JZQc_FLRy2Pz",
    "outputId": "66c30e3b-39c1-4cc6-d8b5-052505180025"
   },
   "outputs": [
    {
     "name": "stdout",
     "output_type": "stream",
     "text": [
      "Epoch 1/100\n",
      "83/83 [==============================] - 4s 36ms/step - loss: 0.1525 - root_mean_squared_error: 0.2419 - val_loss: 0.0762 - val_root_mean_squared_error: 0.1155s: 0.1615 - root_mean_squared_error\n",
      "Epoch 2/100\n",
      "83/83 [==============================] - 3s 31ms/step - loss: 0.0846 - root_mean_squared_error: 0.1269 - val_loss: 0.0765 - val_root_mean_squared_error: 0.1169\n",
      "Epoch 3/100\n",
      "83/83 [==============================] - 2s 29ms/step - loss: 0.0852 - root_mean_squared_error: 0.1275 - val_loss: 0.0793 - val_root_mean_squared_error: 0.1198\n",
      "Epoch 4/100\n",
      "83/83 [==============================] - 3s 34ms/step - loss: 0.0833 - root_mean_squared_error: 0.1246 - val_loss: 0.0784 - val_root_mean_squared_error: 0.1183\n",
      "Epoch 5/100\n",
      "83/83 [==============================] - 2s 30ms/step - loss: 0.0832 - root_mean_squared_error: 0.1248 - val_loss: 0.0777 - val_root_mean_squared_error: 0.1167\n",
      "Epoch 6/100\n",
      "83/83 [==============================] - 2s 25ms/step - loss: 0.0829 - root_mean_squared_error: 0.1242 - val_loss: 0.0757 - val_root_mean_squared_error: 0.1145 0s - loss: 0.0829 - root_mean_squared_error: 0.12\n",
      "Epoch 7/100\n",
      "83/83 [==============================] - 2s 25ms/step - loss: 0.0824 - root_mean_squared_error: 0.1236 - val_loss: 0.0770 - val_root_mean_squared_error: 0.1181\n",
      "Epoch 8/100\n",
      "83/83 [==============================] - 2s 25ms/step - loss: 0.0820 - root_mean_squared_error: 0.1231 - val_loss: 0.0758 - val_root_mean_squared_error: 0.1147\n",
      "Epoch 9/100\n",
      "83/83 [==============================] - 2s 27ms/step - loss: 0.0831 - root_mean_squared_error: 0.1244 - val_loss: 0.0758 - val_root_mean_squared_error: 0.1151\n",
      "Epoch 10/100\n",
      "83/83 [==============================] - 4s 44ms/step - loss: 0.0831 - root_mean_squared_error: 0.1248 - val_loss: 0.0763 - val_root_mean_squared_error: 0.1158\n",
      "Epoch 11/100\n",
      "83/83 [==============================] - 4s 46ms/step - loss: 0.0845 - root_mean_squared_error: 0.1262 - val_loss: 0.0757 - val_root_mean_squared_error: 0.1152\n",
      "Epoch 12/100\n",
      "83/83 [==============================] - 3s 40ms/step - loss: 0.0821 - root_mean_squared_error: 0.1233 - val_loss: 0.0764 - val_root_mean_squared_error: 0.1161\n",
      "Epoch 13/100\n",
      "83/83 [==============================] - 3s 31ms/step - loss: 0.0810 - root_mean_squared_error: 0.1222 - val_loss: 0.0790 - val_root_mean_squared_error: 0.1220\n",
      "Epoch 14/100\n",
      "83/83 [==============================] - 2s 29ms/step - loss: 0.0818 - root_mean_squared_error: 0.1228 - val_loss: 0.0754 - val_root_mean_squared_error: 0.1144\n",
      "Epoch 15/100\n",
      "83/83 [==============================] - 2s 28ms/step - loss: 0.0842 - root_mean_squared_error: 0.1258 - val_loss: 0.0761 - val_root_mean_squared_error: 0.1147\n",
      "Epoch 16/100\n",
      "83/83 [==============================] - 3s 31ms/step - loss: 0.0846 - root_mean_squared_error: 0.1268 - val_loss: 0.0754 - val_root_mean_squared_error: 0.1140\n",
      "Epoch 17/100\n",
      "83/83 [==============================] - 2s 28ms/step - loss: 0.0845 - root_mean_squared_error: 0.1262 - val_loss: 0.0759 - val_root_mean_squared_error: 0.1144\n",
      "Epoch 18/100\n",
      "83/83 [==============================] - 2s 26ms/step - loss: 0.0810 - root_mean_squared_error: 0.1219 - val_loss: 0.0766 - val_root_mean_squared_error: 0.1173\n",
      "Epoch 19/100\n",
      "83/83 [==============================] - 3s 39ms/step - loss: 0.0804 - root_mean_squared_error: 0.1210 - val_loss: 0.0765 - val_root_mean_squared_error: 0.1170\n",
      "Epoch 20/100\n",
      "83/83 [==============================] - 3s 35ms/step - loss: 0.0820 - root_mean_squared_error: 0.1231 - val_loss: 0.0756 - val_root_mean_squared_error: 0.1143\n",
      "Epoch 21/100\n",
      "83/83 [==============================] - 3s 31ms/step - loss: 0.0817 - root_mean_squared_error: 0.1224 - val_loss: 0.0754 - val_root_mean_squared_error: 0.1142\n",
      "Epoch 22/100\n",
      "83/83 [==============================] - 3s 32ms/step - loss: 0.0807 - root_mean_squared_error: 0.1213 - val_loss: 0.0755 - val_root_mean_squared_error: 0.1145\n",
      "Epoch 23/100\n",
      "83/83 [==============================] - 3s 37ms/step - loss: 0.0833 - root_mean_squared_error: 0.1246 - val_loss: 0.0755 - val_root_mean_squared_error: 0.1143\n",
      "Epoch 24/100\n",
      "83/83 [==============================] - 2s 30ms/step - loss: 0.0820 - root_mean_squared_error: 0.1232 - val_loss: 0.0760 - val_root_mean_squared_error: 0.1146\n",
      "Epoch 25/100\n",
      "83/83 [==============================] - 2s 26ms/step - loss: 0.0841 - root_mean_squared_error: 0.1253 - val_loss: 0.0754 - val_root_mean_squared_error: 0.1141\n",
      "Epoch 26/100\n",
      "83/83 [==============================] - 2s 28ms/step - loss: 0.0826 - root_mean_squared_error: 0.1237 - val_loss: 0.0772 - val_root_mean_squared_error: 0.1186\n",
      "Epoch 27/100\n",
      "83/83 [==============================] - 2s 30ms/step - loss: 0.0813 - root_mean_squared_error: 0.1222 - val_loss: 0.0754 - val_root_mean_squared_error: 0.1145\n",
      "Epoch 28/100\n",
      "83/83 [==============================] - 3s 34ms/step - loss: 0.0800 - root_mean_squared_error: 0.1204 - val_loss: 0.0754 - val_root_mean_squared_error: 0.1144\n",
      "Epoch 29/100\n",
      "83/83 [==============================] - 3s 34ms/step - loss: 0.0824 - root_mean_squared_error: 0.1236 - val_loss: 0.0759 - val_root_mean_squared_error: 0.1157\n",
      "Epoch 30/100\n",
      "83/83 [==============================] - 3s 38ms/step - loss: 0.0837 - root_mean_squared_error: 0.1259 - val_loss: 0.0754 - val_root_mean_squared_error: 0.1140\n",
      "Epoch 31/100\n",
      "83/83 [==============================] - 3s 33ms/step - loss: 0.0830 - root_mean_squared_error: 0.1244 - val_loss: 0.0759 - val_root_mean_squared_error: 0.1158\n",
      "Epoch 32/100\n",
      "83/83 [==============================] - 3s 34ms/step - loss: 0.0811 - root_mean_squared_error: 0.1214 - val_loss: 0.0757 - val_root_mean_squared_error: 0.1153\n",
      "Epoch 33/100\n",
      "83/83 [==============================] - 3s 38ms/step - loss: 0.0816 - root_mean_squared_error: 0.1226 - val_loss: 0.0758 - val_root_mean_squared_error: 0.1143\n",
      "Epoch 34/100\n",
      "83/83 [==============================] - 3s 34ms/step - loss: 0.0813 - root_mean_squared_error: 0.1223 - val_loss: 0.0772 - val_root_mean_squared_error: 0.1157\n",
      "Epoch 35/100\n",
      "83/83 [==============================] - 3s 35ms/step - loss: 0.0819 - root_mean_squared_error: 0.1228 - val_loss: 0.0755 - val_root_mean_squared_error: 0.1142\n",
      "Epoch 36/100\n",
      "83/83 [==============================] - 3s 38ms/step - loss: 0.0825 - root_mean_squared_error: 0.1235 - val_loss: 0.0757 - val_root_mean_squared_error: 0.1150\n",
      "Epoch 37/100\n",
      "83/83 [==============================] - 3s 39ms/step - loss: 0.0830 - root_mean_squared_error: 0.1240 - val_loss: 0.0756 - val_root_mean_squared_error: 0.1153\n",
      "Epoch 38/100\n",
      "83/83 [==============================] - 3s 40ms/step - loss: 0.0810 - root_mean_squared_error: 0.1220 - val_loss: 0.0765 - val_root_mean_squared_error: 0.1172\n",
      "Epoch 39/100\n",
      "83/83 [==============================] - 3s 37ms/step - loss: 0.0831 - root_mean_squared_error: 0.1249 - val_loss: 0.0754 - val_root_mean_squared_error: 0.1147\n",
      "Epoch 40/100\n",
      "83/83 [==============================] - 3s 37ms/step - loss: 0.0813 - root_mean_squared_error: 0.1222 - val_loss: 0.0753 - val_root_mean_squared_error: 0.1144\n",
      "Epoch 41/100\n",
      "83/83 [==============================] - 4s 46ms/step - loss: 0.0826 - root_mean_squared_error: 0.1241 - val_loss: 0.0755 - val_root_mean_squared_error: 0.1149\n",
      "Epoch 42/100\n",
      "83/83 [==============================] - 4s 45ms/step - loss: 0.0819 - root_mean_squared_error: 0.1231 - val_loss: 0.0767 - val_root_mean_squared_error: 0.1176\n",
      "Epoch 43/100\n",
      "83/83 [==============================] - 3s 36ms/step - loss: 0.0831 - root_mean_squared_error: 0.1254 - val_loss: 0.0754 - val_root_mean_squared_error: 0.1140\n",
      "Epoch 44/100\n",
      "83/83 [==============================] - 3s 40ms/step - loss: 0.0831 - root_mean_squared_error: 0.1243 - val_loss: 0.0753 - val_root_mean_squared_error: 0.1139\n",
      "Epoch 45/100\n",
      "83/83 [==============================] - 3s 34ms/step - loss: 0.0816 - root_mean_squared_error: 0.1225 - val_loss: 0.0753 - val_root_mean_squared_error: 0.11420.0814 - root_mean_squar\n",
      "Epoch 46/100\n",
      "83/83 [==============================] - 3s 37ms/step - loss: 0.0833 - root_mean_squared_error: 0.1242 - val_loss: 0.0760 - val_root_mean_squared_error: 0.1161\n",
      "Epoch 47/100\n",
      "83/83 [==============================] - 3s 38ms/step - loss: 0.0842 - root_mean_squared_error: 0.1264 - val_loss: 0.0761 - val_root_mean_squared_error: 0.1162\n"
     ]
    },
    {
     "name": "stdout",
     "output_type": "stream",
     "text": [
      "Epoch 48/100\n",
      "83/83 [==============================] - 3s 37ms/step - loss: 0.0826 - root_mean_squared_error: 0.1233 - val_loss: 0.0755 - val_root_mean_squared_error: 0.1140\n",
      "Epoch 49/100\n",
      "83/83 [==============================] - 3s 36ms/step - loss: 0.0820 - root_mean_squared_error: 0.1228 - val_loss: 0.0755 - val_root_mean_squared_error: 0.1140\n",
      "Epoch 50/100\n",
      "83/83 [==============================] - 3s 34ms/step - loss: 0.0841 - root_mean_squared_error: 0.1257 - val_loss: 0.0756 - val_root_mean_squared_error: 0.1142\n",
      "Epoch 51/100\n",
      "83/83 [==============================] - 3s 33ms/step - loss: 0.0821 - root_mean_squared_error: 0.1231 - val_loss: 0.0755 - val_root_mean_squared_error: 0.1142\n",
      "Epoch 52/100\n",
      "83/83 [==============================] - 3s 33ms/step - loss: 0.0823 - root_mean_squared_error: 0.1235 - val_loss: 0.0758 - val_root_mean_squared_error: 0.1154\n",
      "Epoch 53/100\n",
      "83/83 [==============================] - 3s 31ms/step - loss: 0.0839 - root_mean_squared_error: 0.1252 - val_loss: 0.0765 - val_root_mean_squared_error: 0.1170\n",
      "Epoch 54/100\n",
      "83/83 [==============================] - 3s 34ms/step - loss: 0.0822 - root_mean_squared_error: 0.1237 - val_loss: 0.0755 - val_root_mean_squared_error: 0.1143\n",
      "Epoch 55/100\n",
      "83/83 [==============================] - 3s 32ms/step - loss: 0.0813 - root_mean_squared_error: 0.1222 - val_loss: 0.0758 - val_root_mean_squared_error: 0.1156\n",
      "Epoch 56/100\n",
      "83/83 [==============================] - 3s 33ms/step - loss: 0.0816 - root_mean_squared_error: 0.1226 - val_loss: 0.0755 - val_root_mean_squared_error: 0.1146\n",
      "Epoch 57/100\n",
      "83/83 [==============================] - 3s 33ms/step - loss: 0.0817 - root_mean_squared_error: 0.1222 - val_loss: 0.0757 - val_root_mean_squared_error: 0.1149: 0.0826 - root_mean_square - ETA: 0s - loss: 0.0817 - root_mean_squared_err\n",
      "Epoch 58/100\n",
      "83/83 [==============================] - 2s 29ms/step - loss: 0.0827 - root_mean_squared_error: 0.1237 - val_loss: 0.0757 - val_root_mean_squared_error: 0.1149\n",
      "Epoch 59/100\n",
      "83/83 [==============================] - 2s 27ms/step - loss: 0.0835 - root_mean_squared_error: 0.1251 - val_loss: 0.0758 - val_root_mean_squared_error: 0.1152\n",
      "Epoch 60/100\n",
      "83/83 [==============================] - 2s 28ms/step - loss: 0.0829 - root_mean_squared_error: 0.1243 - val_loss: 0.0764 - val_root_mean_squared_error: 0.1149\n",
      "Epoch 61/100\n",
      "83/83 [==============================] - 2s 28ms/step - loss: 0.0825 - root_mean_squared_error: 0.1233 - val_loss: 0.0759 - val_root_mean_squared_error: 0.1155\n",
      "Epoch 62/100\n",
      "83/83 [==============================] - 2s 27ms/step - loss: 0.0813 - root_mean_squared_error: 0.1223 - val_loss: 0.0759 - val_root_mean_squared_error: 0.1145\n",
      "Epoch 63/100\n",
      "83/83 [==============================] - 2s 28ms/step - loss: 0.0823 - root_mean_squared_error: 0.1235 - val_loss: 0.0753 - val_root_mean_squared_error: 0.1142\n",
      "Epoch 64/100\n",
      "83/83 [==============================] - 2s 29ms/step - loss: 0.0828 - root_mean_squared_error: 0.1245 - val_loss: 0.0755 - val_root_mean_squared_error: 0.1148\n",
      "Epoch 65/100\n",
      "83/83 [==============================] - 2s 28ms/step - loss: 0.0837 - root_mean_squared_error: 0.1252 - val_loss: 0.0756 - val_root_mean_squared_error: 0.1150\n",
      "Epoch 66/100\n",
      "83/83 [==============================] - 3s 34ms/step - loss: 0.0827 - root_mean_squared_error: 0.1239 - val_loss: 0.0754 - val_root_mean_squared_error: 0.1145\n",
      "Epoch 67/100\n",
      "83/83 [==============================] - 3s 32ms/step - loss: 0.0814 - root_mean_squared_error: 0.1222 - val_loss: 0.0756 - val_root_mean_squared_error: 0.1150\n",
      "Epoch 68/100\n",
      "83/83 [==============================] - 3s 33ms/step - loss: 0.0817 - root_mean_squared_error: 0.1229 - val_loss: 0.0764 - val_root_mean_squared_error: 0.1170\n",
      "Epoch 69/100\n",
      "83/83 [==============================] - 3s 34ms/step - loss: 0.0847 - root_mean_squared_error: 0.1271 - val_loss: 0.0755 - val_root_mean_squared_error: 0.1145\n",
      "Epoch 70/100\n",
      "83/83 [==============================] - 2s 29ms/step - loss: 0.0829 - root_mean_squared_error: 0.1240 - val_loss: 0.0756 - val_root_mean_squared_error: 0.1148\n",
      "Epoch 71/100\n",
      "83/83 [==============================] - 3s 32ms/step - loss: 0.0819 - root_mean_squared_error: 0.1229 - val_loss: 0.0754 - val_root_mean_squared_error: 0.1142\n",
      "Epoch 72/100\n",
      "83/83 [==============================] - 3s 33ms/step - loss: 0.0814 - root_mean_squared_error: 0.1220 - val_loss: 0.0756 - val_root_mean_squared_error: 0.1149\n",
      "Epoch 73/100\n",
      "83/83 [==============================] - 3s 31ms/step - loss: 0.0813 - root_mean_squared_error: 0.1223 - val_loss: 0.0755 - val_root_mean_squared_error: 0.1148\n",
      "Epoch 74/100\n",
      "83/83 [==============================] - 3s 31ms/step - loss: 0.0833 - root_mean_squared_error: 0.1251 - val_loss: 0.0752 - val_root_mean_squared_error: 0.1140\n",
      "Epoch 75/100\n",
      "83/83 [==============================] - 2s 30ms/step - loss: 0.0839 - root_mean_squared_error: 0.1262 - val_loss: 0.0755 - val_root_mean_squared_error: 0.1149\n",
      "Epoch 76/100\n",
      "83/83 [==============================] - 2s 27ms/step - loss: 0.0836 - root_mean_squared_error: 0.1246 - val_loss: 0.0756 - val_root_mean_squared_error: 0.1142\n",
      "Epoch 77/100\n",
      "83/83 [==============================] - 2s 28ms/step - loss: 0.0817 - root_mean_squared_error: 0.1225 - val_loss: 0.0760 - val_root_mean_squared_error: 0.1147\n",
      "Epoch 78/100\n",
      "83/83 [==============================] - 2s 28ms/step - loss: 0.0832 - root_mean_squared_error: 0.1247 - val_loss: 0.0753 - val_root_mean_squared_error: 0.1142\n",
      "Epoch 79/100\n",
      "83/83 [==============================] - 2s 28ms/step - loss: 0.0815 - root_mean_squared_error: 0.1221 - val_loss: 0.0755 - val_root_mean_squared_error: 0.1148\n",
      "Epoch 80/100\n",
      "83/83 [==============================] - 2s 26ms/step - loss: 0.0814 - root_mean_squared_error: 0.1225 - val_loss: 0.0756 - val_root_mean_squared_error: 0.1150\n",
      "Epoch 81/100\n",
      "83/83 [==============================] - 2s 25ms/step - loss: 0.0816 - root_mean_squared_error: 0.1232 - val_loss: 0.0757 - val_root_mean_squared_error: 0.1149\n",
      "Epoch 82/100\n",
      "83/83 [==============================] - 2s 28ms/step - loss: 0.0806 - root_mean_squared_error: 0.1218 - val_loss: 0.0754 - val_root_mean_squared_error: 0.1139\n",
      "Epoch 83/100\n",
      "83/83 [==============================] - 2s 28ms/step - loss: 0.0833 - root_mean_squared_error: 0.1249 - val_loss: 0.0758 - val_root_mean_squared_error: 0.1144\n",
      "Epoch 84/100\n",
      "83/83 [==============================] - 3s 30ms/step - loss: 0.0814 - root_mean_squared_error: 0.1219 - val_loss: 0.0753 - val_root_mean_squared_error: 0.1144\n",
      "Epoch 85/100\n",
      "83/83 [==============================] - 3s 32ms/step - loss: 0.0817 - root_mean_squared_error: 0.1229 - val_loss: 0.0756 - val_root_mean_squared_error: 0.1150\n",
      "Epoch 86/100\n",
      "83/83 [==============================] - 3s 34ms/step - loss: 0.0822 - root_mean_squared_error: 0.1229 - val_loss: 0.0754 - val_root_mean_squared_error: 0.1145\n",
      "Epoch 87/100\n",
      "83/83 [==============================] - 3s 31ms/step - loss: 0.0805 - root_mean_squared_error: 0.1214 - val_loss: 0.0761 - val_root_mean_squared_error: 0.1164\n",
      "Epoch 88/100\n",
      "83/83 [==============================] - 3s 31ms/step - loss: 0.0826 - root_mean_squared_error: 0.1237 - val_loss: 0.0756 - val_root_mean_squared_error: 0.1146\n",
      "Epoch 89/100\n",
      "83/83 [==============================] - 3s 32ms/step - loss: 0.0800 - root_mean_squared_error: 0.1204 - val_loss: 0.0758 - val_root_mean_squared_error: 0.1152\n",
      "Epoch 90/100\n",
      "83/83 [==============================] - 3s 40ms/step - loss: 0.0817 - root_mean_squared_error: 0.1227 - val_loss: 0.0760 - val_root_mean_squared_error: 0.1160\n",
      "Epoch 91/100\n",
      "83/83 [==============================] - 3s 42ms/step - loss: 0.0814 - root_mean_squared_error: 0.1225 - val_loss: 0.0756 - val_root_mean_squared_error: 0.1144\n",
      "Epoch 92/100\n",
      "83/83 [==============================] - 3s 40ms/step - loss: 0.0835 - root_mean_squared_error: 0.1249 - val_loss: 0.0754 - val_root_mean_squared_error: 0.1140\n",
      "Epoch 93/100\n",
      "83/83 [==============================] - 4s 43ms/step - loss: 0.0843 - root_mean_squared_error: 0.1259 - val_loss: 0.0752 - val_root_mean_squared_error: 0.1140\n",
      "Epoch 94/100\n",
      "83/83 [==============================] - 3s 41ms/step - loss: 0.0818 - root_mean_squared_error: 0.1224 - val_loss: 0.0753 - val_root_mean_squared_error: 0.1143\n",
      "Epoch 95/100\n",
      "83/83 [==============================] - 3s 39ms/step - loss: 0.0819 - root_mean_squared_error: 0.1226 - val_loss: 0.0753 - val_root_mean_squared_error: 0.1140\n",
      "Epoch 96/100\n",
      "83/83 [==============================] - 3s 32ms/step - loss: 0.0817 - root_mean_squared_error: 0.1224 - val_loss: 0.0757 - val_root_mean_squared_error: 0.1153\n",
      "Epoch 97/100\n",
      "83/83 [==============================] - 3s 32ms/step - loss: 0.0818 - root_mean_squared_error: 0.1227 - val_loss: 0.0754 - val_root_mean_squared_error: 0.1144\n",
      "Epoch 98/100\n",
      "83/83 [==============================] - 3s 35ms/step - loss: 0.0807 - root_mean_squared_error: 0.1214 - val_loss: 0.0754 - val_root_mean_squared_error: 0.1145\n",
      "Epoch 99/100\n",
      "83/83 [==============================] - 3s 41ms/step - loss: 0.0821 - root_mean_squared_error: 0.1231 - val_loss: 0.0775 - val_root_mean_squared_error: 0.1190\n",
      "Epoch 100/100\n",
      "83/83 [==============================] - 3s 38ms/step - loss: 0.0817 - root_mean_squared_error: 0.1230 - val_loss: 0.0754 - val_root_mean_squared_error: 0.1142\n"
     ]
    },
    {
     "data": {
      "text/plain": [
       "<tensorflow.python.keras.callbacks.History at 0x1436bec7c10>"
      ]
     },
     "execution_count": 111,
     "metadata": {},
     "output_type": "execute_result"
    }
   ],
   "source": [
    "model.fit(x=X_train,y=y_train,\n",
    "          validation_data=(X_test,y_test),\n",
    "          batch_size=64,epochs=100)\n"
   ]
  },
  {
   "cell_type": "code",
   "execution_count": 112,
   "metadata": {
    "colab": {
     "base_uri": "https://localhost:8080/"
    },
    "id": "u-R_z2zfy2P0",
    "outputId": "b44e6683-5b19-428b-c020-5ddc079a2b9c"
   },
   "outputs": [
    {
     "name": "stdout",
     "output_type": "stream",
     "text": [
      "Model: \"sequential\"\n",
      "_________________________________________________________________\n",
      "Layer (type)                 Output Shape              Param #   \n",
      "=================================================================\n",
      "dense (Dense)                (None, 1024)              3072      \n",
      "_________________________________________________________________\n",
      "dropout (Dropout)            (None, 1024)              0         \n",
      "_________________________________________________________________\n",
      "dense_1 (Dense)              (None, 1024)              1049600   \n",
      "_________________________________________________________________\n",
      "dense_2 (Dense)              (None, 128)               131200    \n",
      "_________________________________________________________________\n",
      "dense_3 (Dense)              (None, 128)               16512     \n",
      "_________________________________________________________________\n",
      "dense_4 (Dense)              (None, 128)               16512     \n",
      "_________________________________________________________________\n",
      "dense_5 (Dense)              (None, 2)                 258       \n",
      "=================================================================\n",
      "Total params: 1,217,154\n",
      "Trainable params: 1,217,154\n",
      "Non-trainable params: 0\n",
      "_________________________________________________________________\n"
     ]
    }
   ],
   "source": [
    "model.summary()"
   ]
  },
  {
   "cell_type": "code",
   "execution_count": 113,
   "metadata": {
    "id": "ixa_CU6CrYVg"
   },
   "outputs": [],
   "source": [
    "K.clear_session()"
   ]
  },
  {
   "cell_type": "code",
   "execution_count": null,
   "metadata": {
    "id": "_iuUfUDvt2d9"
   },
   "outputs": [],
   "source": []
  },
  {
   "cell_type": "code",
   "execution_count": 114,
   "metadata": {
    "id": "Btq2ovNqy2P0"
   },
   "outputs": [],
   "source": [
    "y_pred = model.predict(X_test)"
   ]
  },
  {
   "cell_type": "code",
   "execution_count": 115,
   "metadata": {
    "colab": {
     "base_uri": "https://localhost:8080/"
    },
    "id": "4hELRBb_0a5Q",
    "outputId": "07e97c27-3c2f-4fef-8854-ad35e31b99c4"
   },
   "outputs": [
    {
     "data": {
      "text/plain": [
       "(1321, 2)"
      ]
     },
     "execution_count": 115,
     "metadata": {},
     "output_type": "execute_result"
    }
   ],
   "source": [
    "y_pred.shape"
   ]
  },
  {
   "cell_type": "code",
   "execution_count": 116,
   "metadata": {
    "colab": {
     "base_uri": "https://localhost:8080/"
    },
    "id": "kmyUIFc5y2P1",
    "outputId": "b00b8f66-b175-4c0d-e305-2171a67ea9d3"
   },
   "outputs": [
    {
     "data": {
      "text/plain": [
       "0.05627708154857054"
      ]
     },
     "execution_count": 116,
     "metadata": {},
     "output_type": "execute_result"
    }
   ],
   "source": [
    "# find median absolute error\n",
    "median_absolute_error(y_test,y_pred)"
   ]
  },
  {
   "cell_type": "code",
   "execution_count": 117,
   "metadata": {
    "colab": {
     "base_uri": "https://localhost:8080/"
    },
    "id": "53_50r_Cy2P1",
    "outputId": "93b06cdb-2666-4650-e82a-db036081469f"
   },
   "outputs": [
    {
     "data": {
      "text/plain": [
       "0.07571663797547266"
      ]
     },
     "execution_count": 117,
     "metadata": {},
     "output_type": "execute_result"
    }
   ],
   "source": [
    "# find root mean square log error\n",
    "np.sqrt(mean_squared_log_error(y_test,y_pred))"
   ]
  },
  {
   "cell_type": "code",
   "execution_count": 118,
   "metadata": {
    "colab": {
     "base_uri": "https://localhost:8080/"
    },
    "id": "vXNyE1Apy2P1",
    "outputId": "4888dd78-53e4-4612-8c7e-58b68a92ee63"
   },
   "outputs": [
    {
     "data": {
      "text/plain": [
       "0.08660359814715346"
      ]
     },
     "execution_count": 118,
     "metadata": {},
     "output_type": "execute_result"
    }
   ],
   "source": [
    "# find r2 score\n",
    "r2_score(y_test,y_pred)"
   ]
  },
  {
   "cell_type": "markdown",
   "metadata": {
    "id": "fFE1GXRTy2P2"
   },
   "source": [
    "# ================================================================"
   ]
  },
  {
   "cell_type": "markdown",
   "metadata": {},
   "source": [
    "# =============================================================\n",
    "# =============================================================\n",
    "## ============================= Rivers =====================================\n",
    "# =============================================================\n",
    "# ============================================================="
   ]
  },
  {
   "cell_type": "code",
   "execution_count": 119,
   "metadata": {
    "colab": {
     "base_uri": "https://localhost:8080/",
     "height": 204
    },
    "id": "cJuBYTmgihB5",
    "outputId": "f1ca9ab9-890f-4851-cfb9-372ffa5a8fe5"
   },
   "outputs": [
    {
     "data": {
      "text/html": [
       "<div>\n",
       "<style scoped>\n",
       "    .dataframe tbody tr th:only-of-type {\n",
       "        vertical-align: middle;\n",
       "    }\n",
       "\n",
       "    .dataframe tbody tr th {\n",
       "        vertical-align: top;\n",
       "    }\n",
       "\n",
       "    .dataframe thead th {\n",
       "        text-align: right;\n",
       "    }\n",
       "</style>\n",
       "<table border=\"1\" class=\"dataframe\">\n",
       "  <thead>\n",
       "    <tr style=\"text-align: right;\">\n",
       "      <th></th>\n",
       "      <th>Date</th>\n",
       "      <th>Mean_Rainfall</th>\n",
       "      <th>Mean_Temp</th>\n",
       "      <th>Actual_Hydrometry</th>\n",
       "    </tr>\n",
       "  </thead>\n",
       "  <tbody>\n",
       "    <tr>\n",
       "      <th>0</th>\n",
       "      <td>0</td>\n",
       "      <td>2.789049</td>\n",
       "      <td>16.605386</td>\n",
       "      <td>1.602951</td>\n",
       "    </tr>\n",
       "    <tr>\n",
       "      <th>1</th>\n",
       "      <td>1</td>\n",
       "      <td>2.789049</td>\n",
       "      <td>16.605386</td>\n",
       "      <td>1.602951</td>\n",
       "    </tr>\n",
       "    <tr>\n",
       "      <th>2</th>\n",
       "      <td>2</td>\n",
       "      <td>2.789049</td>\n",
       "      <td>16.605386</td>\n",
       "      <td>1.602951</td>\n",
       "    </tr>\n",
       "    <tr>\n",
       "      <th>3</th>\n",
       "      <td>3</td>\n",
       "      <td>2.789049</td>\n",
       "      <td>16.605386</td>\n",
       "      <td>1.602951</td>\n",
       "    </tr>\n",
       "    <tr>\n",
       "      <th>4</th>\n",
       "      <td>4</td>\n",
       "      <td>2.789049</td>\n",
       "      <td>16.605386</td>\n",
       "      <td>1.602951</td>\n",
       "    </tr>\n",
       "  </tbody>\n",
       "</table>\n",
       "</div>"
      ],
      "text/plain": [
       "   Date  Mean_Rainfall  Mean_Temp  Actual_Hydrometry\n",
       "0     0       2.789049  16.605386           1.602951\n",
       "1     1       2.789049  16.605386           1.602951\n",
       "2     2       2.789049  16.605386           1.602951\n",
       "3     3       2.789049  16.605386           1.602951\n",
       "4     4       2.789049  16.605386           1.602951"
      ]
     },
     "execution_count": 119,
     "metadata": {},
     "output_type": "execute_result"
    }
   ],
   "source": [
    "rivers.head()"
   ]
  },
  {
   "cell_type": "code",
   "execution_count": 120,
   "metadata": {
    "id": "mLdCmnUgihB-"
   },
   "outputs": [],
   "source": [
    "# Normalizing the columns to remove negative values\n",
    "rivers['Mean_Rainfall'] = (rivers['Mean_Rainfall'] - rivers['Mean_Rainfall'].min()) / (rivers['Mean_Rainfall'].max() - rivers['Mean_Rainfall'].min())\n",
    "rivers['Mean_Temp'] = (rivers['Mean_Temp'] - rivers['Mean_Temp'].min()) / (rivers['Mean_Temp'].max() - rivers['Mean_Temp'].min())\n",
    "rivers['Actual_Hydrometry'] = (rivers['Actual_Hydrometry'] - rivers['Actual_Hydrometry'].min()) / (rivers['Actual_Hydrometry'].max() - rivers['Actual_Hydrometry'].min())"
   ]
  },
  {
   "cell_type": "code",
   "execution_count": 121,
   "metadata": {
    "colab": {
     "base_uri": "https://localhost:8080/",
     "height": 204
    },
    "id": "1vBQie9CihCA",
    "outputId": "87600cef-08e1-47fc-b4b3-b28473e1d634"
   },
   "outputs": [
    {
     "data": {
      "text/html": [
       "<div>\n",
       "<style scoped>\n",
       "    .dataframe tbody tr th:only-of-type {\n",
       "        vertical-align: middle;\n",
       "    }\n",
       "\n",
       "    .dataframe tbody tr th {\n",
       "        vertical-align: top;\n",
       "    }\n",
       "\n",
       "    .dataframe thead th {\n",
       "        text-align: right;\n",
       "    }\n",
       "</style>\n",
       "<table border=\"1\" class=\"dataframe\">\n",
       "  <thead>\n",
       "    <tr style=\"text-align: right;\">\n",
       "      <th></th>\n",
       "      <th>Date</th>\n",
       "      <th>Mean_Rainfall</th>\n",
       "      <th>Mean_Temp</th>\n",
       "      <th>Actual_Hydrometry</th>\n",
       "    </tr>\n",
       "  </thead>\n",
       "  <tbody>\n",
       "    <tr>\n",
       "      <th>0</th>\n",
       "      <td>0</td>\n",
       "      <td>0.060726</td>\n",
       "      <td>0.513441</td>\n",
       "      <td>0.260642</td>\n",
       "    </tr>\n",
       "    <tr>\n",
       "      <th>1</th>\n",
       "      <td>1</td>\n",
       "      <td>0.060726</td>\n",
       "      <td>0.513441</td>\n",
       "      <td>0.260642</td>\n",
       "    </tr>\n",
       "    <tr>\n",
       "      <th>2</th>\n",
       "      <td>2</td>\n",
       "      <td>0.060726</td>\n",
       "      <td>0.513441</td>\n",
       "      <td>0.260642</td>\n",
       "    </tr>\n",
       "    <tr>\n",
       "      <th>3</th>\n",
       "      <td>3</td>\n",
       "      <td>0.060726</td>\n",
       "      <td>0.513441</td>\n",
       "      <td>0.260642</td>\n",
       "    </tr>\n",
       "    <tr>\n",
       "      <th>4</th>\n",
       "      <td>4</td>\n",
       "      <td>0.060726</td>\n",
       "      <td>0.513441</td>\n",
       "      <td>0.260642</td>\n",
       "    </tr>\n",
       "  </tbody>\n",
       "</table>\n",
       "</div>"
      ],
      "text/plain": [
       "   Date  Mean_Rainfall  Mean_Temp  Actual_Hydrometry\n",
       "0     0       0.060726   0.513441           0.260642\n",
       "1     1       0.060726   0.513441           0.260642\n",
       "2     2       0.060726   0.513441           0.260642\n",
       "3     3       0.060726   0.513441           0.260642\n",
       "4     4       0.060726   0.513441           0.260642"
      ]
     },
     "execution_count": 121,
     "metadata": {},
     "output_type": "execute_result"
    }
   ],
   "source": [
    "rivers.head()"
   ]
  },
  {
   "cell_type": "code",
   "execution_count": 122,
   "metadata": {
    "id": "9nsZpLijihCC"
   },
   "outputs": [],
   "source": [
    "# separating the date and target feature\n",
    "X = rivers.drop(['Date','Actual_Hydrometry'],axis=1)\n",
    "y = rivers['Actual_Hydrometry']"
   ]
  },
  {
   "cell_type": "code",
   "execution_count": 123,
   "metadata": {
    "id": "KkrbIp6eihCD"
   },
   "outputs": [],
   "source": [
    "#Dividing the dataset into train and test for features as well as labels\n",
    "X_train, X_test, y_train, y_test = train_test_split(X,y,test_size=0.2,random_state=42)"
   ]
  },
  {
   "cell_type": "code",
   "execution_count": 124,
   "metadata": {
    "colab": {
     "base_uri": "https://localhost:8080/"
    },
    "id": "HpkjwJ9eihCE",
    "outputId": "ae639f18-a1dd-44d5-9ef3-43f4f8b5ec5b"
   },
   "outputs": [
    {
     "data": {
      "text/plain": [
       "6573"
      ]
     },
     "execution_count": 124,
     "metadata": {},
     "output_type": "execute_result"
    }
   ],
   "source": [
    "#checking the number of rows in training data\n",
    "len(X_train)"
   ]
  },
  {
   "cell_type": "code",
   "execution_count": 125,
   "metadata": {
    "colab": {
     "base_uri": "https://localhost:8080/"
    },
    "id": "WooCKbfvihCG",
    "outputId": "46911a7e-85be-4700-9dc0-9793e8da1b76"
   },
   "outputs": [
    {
     "data": {
      "text/plain": [
       "6573"
      ]
     },
     "execution_count": 125,
     "metadata": {},
     "output_type": "execute_result"
    }
   ],
   "source": [
    "#checking the number of rows in training labels\n",
    "len(y_train)"
   ]
  },
  {
   "cell_type": "code",
   "execution_count": 126,
   "metadata": {
    "colab": {
     "base_uri": "https://localhost:8080/"
    },
    "id": "XBa6kniXihCH",
    "outputId": "153d6413-adbe-4572-ccc3-a7ff4ddd9fd9"
   },
   "outputs": [
    {
     "data": {
      "text/plain": [
       "1644"
      ]
     },
     "execution_count": 126,
     "metadata": {},
     "output_type": "execute_result"
    }
   ],
   "source": [
    "#checking the number of rows in testing data\n",
    "len(X_test)"
   ]
  },
  {
   "cell_type": "code",
   "execution_count": 127,
   "metadata": {
    "colab": {
     "base_uri": "https://localhost:8080/"
    },
    "id": "e164n3gbihCI",
    "outputId": "5451b8d7-9b15-4290-a77f-5289b4286cd5"
   },
   "outputs": [
    {
     "data": {
      "text/plain": [
       "1644"
      ]
     },
     "execution_count": 127,
     "metadata": {},
     "output_type": "execute_result"
    }
   ],
   "source": [
    "#checking the number of rows in testing labels\n",
    "len(y_test)"
   ]
  },
  {
   "cell_type": "markdown",
   "metadata": {},
   "source": [
    "# ==============================================================="
   ]
  },
  {
   "cell_type": "markdown",
   "metadata": {
    "id": "oQpxFjpoihCK"
   },
   "source": [
    "### knn"
   ]
  },
  {
   "cell_type": "code",
   "execution_count": 128,
   "metadata": {
    "id": "6b5KZVMOihCL"
   },
   "outputs": [],
   "source": [
    "# create a knn regressor\n",
    "neigh = KNeighborsRegressor()"
   ]
  },
  {
   "cell_type": "code",
   "execution_count": 129,
   "metadata": {
    "id": "gIcaFOdOihCM"
   },
   "outputs": [],
   "source": [
    "# find optimal parameters with grid search\n",
    "param_grid = {\n",
    "    'n_neighbors': [3,5,7,9,11,19],\n",
    "    'weights': ['uniform', 'distance'],\n",
    "    'metric' : ['euclidean','manhattan']\n",
    "}\n",
    "grid = GridSearchCV(estimator=neigh, param_grid=param_grid,\n",
    "                    scoring=['neg_median_absolute_error','neg_mean_squared_log_error','r2'], refit = 'neg_mean_squared_log_error',\n",
    "                    verbose=1, n_jobs=-1)"
   ]
  },
  {
   "cell_type": "code",
   "execution_count": 130,
   "metadata": {
    "colab": {
     "base_uri": "https://localhost:8080/"
    },
    "id": "y5HMaBwQihCN",
    "outputId": "4e3878b9-a2a0-4369-eca8-95ca615ae553"
   },
   "outputs": [
    {
     "name": "stdout",
     "output_type": "stream",
     "text": [
      "Fitting 5 folds for each of 24 candidates, totalling 120 fits\n"
     ]
    }
   ],
   "source": [
    "# fit the grid on the train data\n",
    "grid_result = grid.fit(X_train, y_train)"
   ]
  },
  {
   "cell_type": "code",
   "execution_count": 131,
   "metadata": {
    "colab": {
     "base_uri": "https://localhost:8080/"
    },
    "id": "00OWNVg2ihCP",
    "outputId": "d08346a4-3522-459d-90c6-5b084510ac81"
   },
   "outputs": [
    {
     "name": "stdout",
     "output_type": "stream",
     "text": [
      "Best Score:  -0.0044697518815531015\n",
      "Best Params:  {'metric': 'euclidean', 'n_neighbors': 19, 'weights': 'uniform'}\n"
     ]
    }
   ],
   "source": [
    "# print the best score and parameters found\n",
    "print('Best Score: ', grid_result.best_score_)\n",
    "print('Best Params: ', grid_result.best_params_)"
   ]
  },
  {
   "cell_type": "code",
   "execution_count": 132,
   "metadata": {
    "id": "dr6NKY32ihCQ"
   },
   "outputs": [],
   "source": [
    "# find predictions for test data\n",
    "y_pred = grid_result.best_estimator_.predict(X_test)"
   ]
  },
  {
   "cell_type": "code",
   "execution_count": 133,
   "metadata": {
    "id": "0iJyCHCbihCR"
   },
   "outputs": [],
   "source": [
    "#normalizing y_pred\n",
    "y_pred = (y_pred - y_pred.min())/(y_pred.max() - y_pred.min())"
   ]
  },
  {
   "cell_type": "code",
   "execution_count": 134,
   "metadata": {
    "colab": {
     "base_uri": "https://localhost:8080/"
    },
    "id": "f0Qb8x-nihCR",
    "outputId": "175db56a-b522-4cfa-8377-b300e4563fa8"
   },
   "outputs": [
    {
     "data": {
      "text/plain": [
       "0.19775886224766392"
      ]
     },
     "execution_count": 134,
     "metadata": {},
     "output_type": "execute_result"
    }
   ],
   "source": [
    "# find median absolute error\n",
    "median_absolute_error(y_test,y_pred)"
   ]
  },
  {
   "cell_type": "code",
   "execution_count": 135,
   "metadata": {
    "colab": {
     "base_uri": "https://localhost:8080/"
    },
    "id": "E-YREIDrihCS",
    "outputId": "344cfd94-c1fa-47d6-ec89-58e8ae18df58"
   },
   "outputs": [
    {
     "data": {
      "text/plain": [
       "0.1810277615039372"
      ]
     },
     "execution_count": 135,
     "metadata": {},
     "output_type": "execute_result"
    }
   ],
   "source": [
    "# find root mean square log error\n",
    "np.sqrt(mean_squared_log_error(y_test,y_pred))"
   ]
  },
  {
   "cell_type": "code",
   "execution_count": 136,
   "metadata": {
    "colab": {
     "base_uri": "https://localhost:8080/"
    },
    "id": "5BLthxwpihCU",
    "outputId": "bd079bfc-c75c-47a8-e0b6-da49429aa535"
   },
   "outputs": [
    {
     "data": {
      "text/plain": [
       "-6.605017025038958"
      ]
     },
     "execution_count": 136,
     "metadata": {},
     "output_type": "execute_result"
    }
   ],
   "source": [
    "# find r2 score\n",
    "r2_score(y_test,y_pred)"
   ]
  },
  {
   "cell_type": "markdown",
   "metadata": {},
   "source": [
    "# ==============================================================="
   ]
  },
  {
   "cell_type": "markdown",
   "metadata": {
    "id": "rvs228ogihCV"
   },
   "source": [
    "### Multiple Linear Regression"
   ]
  },
  {
   "cell_type": "code",
   "execution_count": 137,
   "metadata": {
    "id": "sPif8V_CihCV"
   },
   "outputs": [],
   "source": [
    "# create a linear regressor\n",
    "lr = LinearRegression()"
   ]
  },
  {
   "cell_type": "code",
   "execution_count": 138,
   "metadata": {
    "id": "GA0U-BWNihCX"
   },
   "outputs": [],
   "source": [
    "# fit the lr on the train data\n",
    "lr = lr.fit(X_train, y_train)"
   ]
  },
  {
   "cell_type": "code",
   "execution_count": 139,
   "metadata": {
    "id": "agWT6zweihCZ"
   },
   "outputs": [],
   "source": [
    "# find the predictions\n",
    "y_pred = lr.predict(X_test)"
   ]
  },
  {
   "cell_type": "code",
   "execution_count": 140,
   "metadata": {
    "id": "PVwRL9y7ihCa"
   },
   "outputs": [],
   "source": [
    "#normalizing y_pred\n",
    "y_pred = (y_pred - y_pred.min())/(y_pred.max() - y_pred.min())"
   ]
  },
  {
   "cell_type": "code",
   "execution_count": 141,
   "metadata": {
    "colab": {
     "base_uri": "https://localhost:8080/"
    },
    "id": "MRFmJQtjihCb",
    "outputId": "59afe288-3fb6-49d9-8ad6-e925f288df78"
   },
   "outputs": [
    {
     "data": {
      "text/plain": [
       "0.2475937752746636"
      ]
     },
     "execution_count": 141,
     "metadata": {},
     "output_type": "execute_result"
    }
   ],
   "source": [
    "# find median absolute error\n",
    "median_absolute_error(y_test,y_pred)"
   ]
  },
  {
   "cell_type": "code",
   "execution_count": 142,
   "metadata": {
    "colab": {
     "base_uri": "https://localhost:8080/"
    },
    "id": "ecJlAEKKihCc",
    "outputId": "a163640c-2863-45bb-dfc5-7651c714c0b2"
   },
   "outputs": [
    {
     "data": {
      "text/plain": [
       "0.2236055865817873"
      ]
     },
     "execution_count": 142,
     "metadata": {},
     "output_type": "execute_result"
    }
   ],
   "source": [
    "# find root mean square log error\n",
    "np.sqrt(mean_squared_log_error(y_test,y_pred))"
   ]
  },
  {
   "cell_type": "code",
   "execution_count": 143,
   "metadata": {
    "colab": {
     "base_uri": "https://localhost:8080/"
    },
    "id": "jTs5thN8ihCd",
    "outputId": "abdfc612-2bf5-4d50-ebdf-a8cbe6f093d9"
   },
   "outputs": [
    {
     "data": {
      "text/plain": [
       "-11.111931767657907"
      ]
     },
     "execution_count": 143,
     "metadata": {},
     "output_type": "execute_result"
    }
   ],
   "source": [
    "# find r2 score\n",
    "r2_score(y_test,y_pred)"
   ]
  },
  {
   "cell_type": "markdown",
   "metadata": {},
   "source": [
    "# ==============================================================="
   ]
  },
  {
   "cell_type": "markdown",
   "metadata": {
    "id": "gTo6S0PHihCf"
   },
   "source": [
    "### Random Forest"
   ]
  },
  {
   "cell_type": "code",
   "execution_count": 144,
   "metadata": {
    "id": "m1USqyD6ihCf"
   },
   "outputs": [],
   "source": [
    "# create a random forest regressor\n",
    "rf = RandomForestRegressor()"
   ]
  },
  {
   "cell_type": "code",
   "execution_count": 145,
   "metadata": {
    "id": "WesaI7rbihCg"
   },
   "outputs": [],
   "source": [
    "# find optimal parameters with grid search\n",
    "param_grid = {\n",
    "'bootstrap': [True, False],\n",
    " 'max_depth': [None,10, 20, 50, 100],\n",
    " 'max_features': ['auto', 'sqrt'],\n",
    " 'min_samples_leaf': [1, 2, 4],\n",
    " 'min_samples_split': [2, 5, 10],\n",
    " 'n_estimators': [100,200,500, 1000]\n",
    "             }\n",
    "grid = GridSearchCV(estimator=rf, param_grid=param_grid,\n",
    "                    scoring=['neg_median_absolute_error','neg_mean_squared_log_error','r2'], refit = 'neg_mean_squared_log_error',\n",
    "                    verbose=1, n_jobs=-1)"
   ]
  },
  {
   "cell_type": "code",
   "execution_count": null,
   "metadata": {
    "colab": {
     "base_uri": "https://localhost:8080/"
    },
    "id": "vBIusZFbihCh",
    "outputId": "7981abb0-f10f-42c0-9dac-508826f4af0c"
   },
   "outputs": [
    {
     "name": "stdout",
     "output_type": "stream",
     "text": [
      "Fitting 5 folds for each of 720 candidates, totalling 3600 fits\n"
     ]
    },
    {
     "name": "stderr",
     "output_type": "stream",
     "text": [
      "[Parallel(n_jobs=-1)]: Using backend LokyBackend with 2 concurrent workers.\n",
      "[Parallel(n_jobs=-1)]: Done  46 tasks      | elapsed:  2.2min\n",
      "[Parallel(n_jobs=-1)]: Done 196 tasks      | elapsed:  9.0min\n",
      "[Parallel(n_jobs=-1)]: Done 446 tasks      | elapsed: 17.3min\n",
      "[Parallel(n_jobs=-1)]: Done 796 tasks      | elapsed: 28.7min\n",
      "[Parallel(n_jobs=-1)]: Done 1246 tasks      | elapsed: 47.0min\n",
      "[Parallel(n_jobs=-1)]: Done 1796 tasks      | elapsed: 67.6min\n",
      "[Parallel(n_jobs=-1)]: Done 2446 tasks      | elapsed: 99.5min\n",
      "[Parallel(n_jobs=-1)]: Done 3196 tasks      | elapsed: 140.0min\n",
      "[Parallel(n_jobs=-1)]: Done 3600 out of 3600 | elapsed: 163.1min finished\n"
     ]
    }
   ],
   "source": [
    "# fit the grid on the train data\n",
    "grid_result = grid.fit(X_train, y_train)"
   ]
  },
  {
   "cell_type": "code",
   "execution_count": null,
   "metadata": {
    "colab": {
     "base_uri": "https://localhost:8080/"
    },
    "id": "1kQNrBSzihCp",
    "outputId": "dc52883f-62ac-4ffd-a143-0aeff57f1502"
   },
   "outputs": [
    {
     "name": "stdout",
     "output_type": "stream",
     "text": [
      "Best Score:  -0.004418392261406096\n",
      "Best Params:  {'bootstrap': True, 'max_depth': 10, 'max_features': 'sqrt', 'min_samples_leaf': 4, 'min_samples_split': 10, 'n_estimators': 200}\n"
     ]
    }
   ],
   "source": [
    "# print the best score and parameters found\n",
    "print('Best Score: ', grid_result.best_score_)\n",
    "print('Best Params: ', grid_result.best_params_)"
   ]
  },
  {
   "cell_type": "code",
   "execution_count": null,
   "metadata": {
    "id": "AvWfeYTAihCq"
   },
   "outputs": [],
   "source": [
    "# find predictions for test data\n",
    "y_pred = grid_result.best_estimator_.predict(X_test)"
   ]
  },
  {
   "cell_type": "code",
   "execution_count": null,
   "metadata": {
    "id": "SKBy1LXhihCr"
   },
   "outputs": [],
   "source": [
    "#normalizing y_pred\n",
    "y_pred = (y_pred - y_pred.min())/(y_pred.max() - y_pred.min())"
   ]
  },
  {
   "cell_type": "code",
   "execution_count": null,
   "metadata": {
    "colab": {
     "base_uri": "https://localhost:8080/"
    },
    "id": "EHEonbwHihCr",
    "outputId": "896ec30b-dcc2-4998-9084-454d78715ec6"
   },
   "outputs": [
    {
     "data": {
      "text/plain": [
       "0.2872661248004256"
      ]
     },
     "execution_count": 114,
     "metadata": {
      "tags": []
     },
     "output_type": "execute_result"
    }
   ],
   "source": [
    "# find median absolute error\n",
    "median_absolute_error(y_test,y_pred)"
   ]
  },
  {
   "cell_type": "code",
   "execution_count": null,
   "metadata": {
    "colab": {
     "base_uri": "https://localhost:8080/"
    },
    "id": "DlpGtff5ihCs",
    "outputId": "f4a418e8-eb5d-418b-c866-ebf961c52e02"
   },
   "outputs": [
    {
     "data": {
      "text/plain": [
       "0.2101381173298768"
      ]
     },
     "execution_count": 115,
     "metadata": {
      "tags": []
     },
     "output_type": "execute_result"
    }
   ],
   "source": [
    "# find root mean square log error\n",
    "np.sqrt(mean_squared_log_error(y_test,y_pred))"
   ]
  },
  {
   "cell_type": "code",
   "execution_count": null,
   "metadata": {
    "colab": {
     "base_uri": "https://localhost:8080/"
    },
    "id": "-rw_UJAUihCt",
    "outputId": "13e0e16c-096f-4945-aaee-050c9f0f43a6"
   },
   "outputs": [
    {
     "data": {
      "text/plain": [
       "-9.331726982797875"
      ]
     },
     "execution_count": 116,
     "metadata": {
      "tags": []
     },
     "output_type": "execute_result"
    }
   ],
   "source": [
    "# find r2 score\n",
    "r2_score(y_test,y_pred)"
   ]
  },
  {
   "cell_type": "markdown",
   "metadata": {
    "id": "Ugnv51h7ihCu"
   },
   "source": [
    "# ==============================================================="
   ]
  },
  {
   "cell_type": "markdown",
   "metadata": {
    "id": "yQ8oa193_7jQ"
   },
   "source": [
    "### SGRegression"
   ]
  },
  {
   "cell_type": "code",
   "execution_count": 146,
   "metadata": {
    "id": "HoIKbCCT_7jR"
   },
   "outputs": [],
   "source": [
    "# create a linear regressor\n",
    "lr = SGDRegressor()"
   ]
  },
  {
   "cell_type": "code",
   "execution_count": 147,
   "metadata": {
    "id": "HbI_QIaV_7jR"
   },
   "outputs": [],
   "source": [
    "# find optimal parameters with grid search\n",
    "param_grid = {\n",
    "    \n",
    "    'loss' : ['squared_loss','huber'],\n",
    "    'alpha': [0.0001,0.001,0.01,0.1],\n",
    "     'eta0': [0.01,0.1,1,10,100],\n",
    "    'tol' : [0.00001,0.0001,0.001,0.01,0.1]    \n",
    " }\n",
    "grid = GridSearchCV(estimator=lr, param_grid=param_grid,\n",
    "                    scoring=['neg_median_absolute_error','r2'], refit = 'neg_median_absolute_error',\n",
    "                    verbose=1, n_jobs=-1)"
   ]
  },
  {
   "cell_type": "code",
   "execution_count": 148,
   "metadata": {
    "id": "B4uqRWJt_7jS",
    "outputId": "94ea96cb-4692-485a-e3ef-6db4335e2621"
   },
   "outputs": [
    {
     "name": "stdout",
     "output_type": "stream",
     "text": [
      "Fitting 5 folds for each of 200 candidates, totalling 1000 fits\n"
     ]
    }
   ],
   "source": [
    "# fit the grid on the train data\n",
    "grid_result = grid.fit(X_train, y_train)"
   ]
  },
  {
   "cell_type": "code",
   "execution_count": 149,
   "metadata": {
    "id": "XgzETnOv_7jU",
    "outputId": "5dbe73de-81cb-41f8-d104-a2c9baa7dabf"
   },
   "outputs": [
    {
     "name": "stdout",
     "output_type": "stream",
     "text": [
      "Best Score:  -0.03492612920285247\n",
      "Best Params:  {'alpha': 0.001, 'eta0': 0.1, 'loss': 'huber', 'tol': 0.1}\n"
     ]
    }
   ],
   "source": [
    "# print the best score and parameters found\n",
    "print('Best Score: ', grid_result.best_score_)\n",
    "print('Best Params: ', grid_result.best_params_)"
   ]
  },
  {
   "cell_type": "code",
   "execution_count": 150,
   "metadata": {
    "id": "4teXm7jO_7jV"
   },
   "outputs": [],
   "source": [
    "# find predictions for test data\n",
    "y_pred = grid_result.best_estimator_.predict(X_test)"
   ]
  },
  {
   "cell_type": "code",
   "execution_count": null,
   "metadata": {
    "id": "-pHDxNPJ_7jV"
   },
   "outputs": [],
   "source": []
  },
  {
   "cell_type": "code",
   "execution_count": 151,
   "metadata": {
    "id": "H0ng9bwQ_7jW"
   },
   "outputs": [],
   "source": [
    "#normalizing y_pred\n",
    "y_pred = (y_pred - y_pred.min())/(y_pred.max() - y_pred.min())"
   ]
  },
  {
   "cell_type": "code",
   "execution_count": 152,
   "metadata": {
    "colab": {
     "base_uri": "https://localhost:8080/"
    },
    "id": "MnpvWBjM_7jz",
    "outputId": "339a463b-de87-4f47-c552-a3c1149eb273"
   },
   "outputs": [
    {
     "data": {
      "text/plain": [
       "0.2486989779219191"
      ]
     },
     "execution_count": 152,
     "metadata": {},
     "output_type": "execute_result"
    }
   ],
   "source": [
    "# find median absolute error\n",
    "median_absolute_error(y_test,y_pred)"
   ]
  },
  {
   "cell_type": "code",
   "execution_count": 153,
   "metadata": {
    "colab": {
     "base_uri": "https://localhost:8080/"
    },
    "id": "_UenhiPz_7j0",
    "outputId": "734ca61c-5794-44b9-cc4c-ee04d78dfe84"
   },
   "outputs": [
    {
     "data": {
      "text/plain": [
       "0.2241543323981015"
      ]
     },
     "execution_count": 153,
     "metadata": {},
     "output_type": "execute_result"
    }
   ],
   "source": [
    "# find root mean square log error\n",
    "np.sqrt(mean_squared_log_error(y_test,y_pred))"
   ]
  },
  {
   "cell_type": "code",
   "execution_count": 154,
   "metadata": {
    "colab": {
     "base_uri": "https://localhost:8080/"
    },
    "id": "2XMQ9PZr_7j1",
    "outputId": "ad2ffdd8-4502-4ac3-997d-8ad4bcb51b7b"
   },
   "outputs": [
    {
     "data": {
      "text/plain": [
       "-11.1807894557034"
      ]
     },
     "execution_count": 154,
     "metadata": {},
     "output_type": "execute_result"
    }
   ],
   "source": [
    "# find r2 score\n",
    "r2_score(y_test,y_pred)"
   ]
  },
  {
   "cell_type": "markdown",
   "metadata": {
    "id": "Lc-0y-1Fif4R"
   },
   "source": [
    "# ==============================================================="
   ]
  },
  {
   "cell_type": "markdown",
   "metadata": {
    "id": "ROR1G3e203-6"
   },
   "source": [
    "### Decision Tree Regressor"
   ]
  },
  {
   "cell_type": "code",
   "execution_count": 155,
   "metadata": {
    "id": "btkSZnm403_H"
   },
   "outputs": [],
   "source": [
    "dt = DecisionTreeRegressor()"
   ]
  },
  {
   "cell_type": "code",
   "execution_count": 156,
   "metadata": {
    "id": "pFIszrp103_J"
   },
   "outputs": [],
   "source": [
    "# find optimal parameters with grid search\n",
    "param_grid = {\n",
    "    \n",
    "    'criterion' : ['mse','mae'],\n",
    "    'max_depth': range(10,20),\n",
    "     'min_samples_split': range(2,10),\n",
    "    'min_samples_leaf' : range(1,5)    \n",
    " }\n",
    "grid = GridSearchCV(estimator=dt, param_grid=param_grid, cv=10,\n",
    "                    scoring=['neg_median_absolute_error','neg_mean_squared_log_error','r2'], refit = 'neg_mean_squared_log_error',\n",
    "                    verbose=1, n_jobs=-1)"
   ]
  },
  {
   "cell_type": "code",
   "execution_count": 157,
   "metadata": {
    "colab": {
     "base_uri": "https://localhost:8080/"
    },
    "id": "nhTDLnrE03_K",
    "outputId": "9e702120-d38d-43c1-befb-7828c59de023"
   },
   "outputs": [
    {
     "name": "stdout",
     "output_type": "stream",
     "text": [
      "Fitting 10 folds for each of 640 candidates, totalling 6400 fits\n"
     ]
    }
   ],
   "source": [
    "# fit the grid on the train data\n",
    "grid_result = grid.fit(X_train, y_train)"
   ]
  },
  {
   "cell_type": "code",
   "execution_count": 158,
   "metadata": {
    "colab": {
     "base_uri": "https://localhost:8080/"
    },
    "id": "VWKkhZ6-03_M",
    "outputId": "25ebb131-355f-48a7-ebff-b8adfb434fb3"
   },
   "outputs": [
    {
     "name": "stdout",
     "output_type": "stream",
     "text": [
      "Best Score:  -0.00484721745060179\n",
      "Best Params:  {'criterion': 'mae', 'max_depth': 10, 'min_samples_leaf': 4, 'min_samples_split': 7}\n"
     ]
    }
   ],
   "source": [
    "# print the best score and parameters found\n",
    "print('Best Score: ', grid_result.best_score_)\n",
    "print('Best Params: ', grid_result.best_params_)"
   ]
  },
  {
   "cell_type": "code",
   "execution_count": 159,
   "metadata": {
    "id": "ayGuxzgz03_O"
   },
   "outputs": [],
   "source": [
    "# find predictions for test data\n",
    "y_pred = grid_result.best_estimator_.predict(X_test)"
   ]
  },
  {
   "cell_type": "code",
   "execution_count": 160,
   "metadata": {
    "id": "-ahX85IN03_O"
   },
   "outputs": [],
   "source": [
    "#normalizing y_pred\n",
    "y_pred = (y_pred - y_pred.min())/(y_pred.max() - y_pred.min())"
   ]
  },
  {
   "cell_type": "code",
   "execution_count": 161,
   "metadata": {
    "colab": {
     "base_uri": "https://localhost:8080/"
    },
    "id": "imvrkrYj03_P",
    "outputId": "2ade2943-a416-4b41-9be7-2b005dfa3d26"
   },
   "outputs": [
    {
     "data": {
      "text/plain": [
       "0.2239422598307616"
      ]
     },
     "execution_count": 161,
     "metadata": {},
     "output_type": "execute_result"
    }
   ],
   "source": [
    "# find median absolute error\n",
    "median_absolute_error(y_test,y_pred)"
   ]
  },
  {
   "cell_type": "code",
   "execution_count": 162,
   "metadata": {
    "colab": {
     "base_uri": "https://localhost:8080/"
    },
    "id": "3IXMYiwl03_R",
    "outputId": "5da2bf41-0192-4819-ba05-2936055fda8c"
   },
   "outputs": [
    {
     "data": {
      "text/plain": [
       "0.18900328356148613"
      ]
     },
     "execution_count": 162,
     "metadata": {},
     "output_type": "execute_result"
    }
   ],
   "source": [
    "# find root mean square log error\n",
    "np.sqrt(mean_squared_log_error(y_test,y_pred))"
   ]
  },
  {
   "cell_type": "code",
   "execution_count": 163,
   "metadata": {
    "colab": {
     "base_uri": "https://localhost:8080/"
    },
    "id": "aNjQRWpd03_S",
    "outputId": "baeb8e47-8ce6-4588-b7fa-82d95d01702a"
   },
   "outputs": [
    {
     "data": {
      "text/plain": [
       "-6.969489312348588"
      ]
     },
     "execution_count": 163,
     "metadata": {},
     "output_type": "execute_result"
    }
   ],
   "source": [
    "# find r2 score\n",
    "r2_score(y_test,y_pred)"
   ]
  },
  {
   "cell_type": "markdown",
   "metadata": {
    "id": "s8Z2Qgjo03_U"
   },
   "source": [
    "# ==============================================================="
   ]
  },
  {
   "cell_type": "markdown",
   "metadata": {
    "id": "WJ94Xkf603_X"
   },
   "source": [
    "### XGBoost Regressor"
   ]
  },
  {
   "cell_type": "code",
   "execution_count": 164,
   "metadata": {
    "id": "C7b4O2Ar03_X"
   },
   "outputs": [],
   "source": [
    "xgbtree = XGBRegressor()"
   ]
  },
  {
   "cell_type": "code",
   "execution_count": 165,
   "metadata": {
    "id": "E8wqdxG203_Y"
   },
   "outputs": [],
   "source": [
    "# find optimal parameters with grid search\n",
    "param_grid = {\n",
    "              'learning_rate': [0.001,0.01,0.1,1],\n",
    "              'max_depth': range(2,10),\n",
    "              'subsample':[0.01,0.1,1] ,\n",
    "              'colsample_bytree': [0.01,0.1,1],\n",
    "              'n_estimators': [100,200,500,1000]}\n",
    "grid = GridSearchCV(estimator=xgbtree, param_grid=param_grid, cv=5,\n",
    "                    scoring=['neg_median_absolute_error','r2'], refit = 'neg_median_absolute_error',\n",
    "                    verbose=1, n_jobs=-1)"
   ]
  },
  {
   "cell_type": "code",
   "execution_count": null,
   "metadata": {
    "colab": {
     "base_uri": "https://localhost:8080/"
    },
    "id": "eG6h3wx203_Z",
    "outputId": "69058edd-e297-4dd3-8c38-a6eed045bf97"
   },
   "outputs": [
    {
     "name": "stdout",
     "output_type": "stream",
     "text": [
      "Fitting 5 folds for each of 1152 candidates, totalling 5760 fits\n"
     ]
    },
    {
     "name": "stderr",
     "output_type": "stream",
     "text": [
      "[Parallel(n_jobs=-1)]: Using backend LokyBackend with 2 concurrent workers.\n",
      "[Parallel(n_jobs=-1)]: Done  46 tasks      | elapsed:   13.4s\n",
      "[Parallel(n_jobs=-1)]: Done 196 tasks      | elapsed:  1.5min\n",
      "[Parallel(n_jobs=-1)]: Done 446 tasks      | elapsed:  4.0min\n",
      "[Parallel(n_jobs=-1)]: Done 796 tasks      | elapsed:  7.6min\n",
      "[Parallel(n_jobs=-1)]: Done 1246 tasks      | elapsed: 12.6min\n",
      "[Parallel(n_jobs=-1)]: Done 1796 tasks      | elapsed: 19.3min\n",
      "[Parallel(n_jobs=-1)]: Done 2446 tasks      | elapsed: 26.0min\n",
      "[Parallel(n_jobs=-1)]: Done 3196 tasks      | elapsed: 34.2min\n",
      "[Parallel(n_jobs=-1)]: Done 4046 tasks      | elapsed: 44.0min\n",
      "[Parallel(n_jobs=-1)]: Done 4996 tasks      | elapsed: 56.7min\n",
      "[Parallel(n_jobs=-1)]: Done 5760 out of 5760 | elapsed: 67.7min finished\n"
     ]
    },
    {
     "name": "stdout",
     "output_type": "stream",
     "text": [
      "[23:15:38] WARNING: /workspace/src/objective/regression_obj.cu:152: reg:linear is now deprecated in favor of reg:squarederror.\n"
     ]
    }
   ],
   "source": [
    "# fit the grid on the train data\n",
    "grid_result = grid.fit(X_train, y_train)"
   ]
  },
  {
   "cell_type": "code",
   "execution_count": 166,
   "metadata": {
    "colab": {
     "base_uri": "https://localhost:8080/"
    },
    "id": "ab8che0v03_a",
    "outputId": "f9da6724-8da4-4074-f035-1094056e8dc3"
   },
   "outputs": [
    {
     "name": "stdout",
     "output_type": "stream",
     "text": [
      "Best Score:  -0.00484721745060179\n",
      "Best Params:  {'criterion': 'mae', 'max_depth': 10, 'min_samples_leaf': 4, 'min_samples_split': 7}\n"
     ]
    }
   ],
   "source": [
    "# print the best score and parameters found\n",
    "print('Best Score: ', grid_result.best_score_)\n",
    "print('Best Params: ', grid_result.best_params_)"
   ]
  },
  {
   "cell_type": "code",
   "execution_count": 167,
   "metadata": {
    "id": "bwyjglNK03_a"
   },
   "outputs": [],
   "source": [
    "# find predictions for test data\n",
    "y_pred = grid_result.best_estimator_.predict(X_test)"
   ]
  },
  {
   "cell_type": "code",
   "execution_count": 168,
   "metadata": {
    "id": "pTBr2ou703_b"
   },
   "outputs": [],
   "source": [
    "#normalizing y_pred\n",
    "y_pred = (y_pred - y_pred.min())/(y_pred.max() - y_pred.min())"
   ]
  },
  {
   "cell_type": "code",
   "execution_count": 169,
   "metadata": {
    "colab": {
     "base_uri": "https://localhost:8080/"
    },
    "id": "j0_VNCa303_c",
    "outputId": "57e1b057-9fc7-4b5e-be6e-47669c4dcf95"
   },
   "outputs": [
    {
     "data": {
      "text/plain": [
       "0.2239422598307616"
      ]
     },
     "execution_count": 169,
     "metadata": {},
     "output_type": "execute_result"
    }
   ],
   "source": [
    "# find median absolute error\n",
    "median_absolute_error(y_test,y_pred)"
   ]
  },
  {
   "cell_type": "code",
   "execution_count": 170,
   "metadata": {
    "colab": {
     "base_uri": "https://localhost:8080/"
    },
    "id": "xBvPuYHs03_d",
    "outputId": "664b6058-277b-4431-c702-03e16ed5d34b"
   },
   "outputs": [
    {
     "data": {
      "text/plain": [
       "0.18900328356148613"
      ]
     },
     "execution_count": 170,
     "metadata": {},
     "output_type": "execute_result"
    }
   ],
   "source": [
    "# find root mean square log error\n",
    "np.sqrt(mean_squared_log_error(y_test,y_pred))"
   ]
  },
  {
   "cell_type": "code",
   "execution_count": 171,
   "metadata": {
    "colab": {
     "base_uri": "https://localhost:8080/"
    },
    "id": "9D_VHZrr03_e",
    "outputId": "9dd12f05-2664-4e29-9101-c588da052ba7"
   },
   "outputs": [
    {
     "data": {
      "text/plain": [
       "-6.969489312348588"
      ]
     },
     "execution_count": 171,
     "metadata": {},
     "output_type": "execute_result"
    }
   ],
   "source": [
    "# find r2 score\n",
    "r2_score(y_test,y_pred)"
   ]
  },
  {
   "cell_type": "markdown",
   "metadata": {
    "id": "Qflxmuvg03_f"
   },
   "source": [
    "# ==============================================================="
   ]
  },
  {
   "cell_type": "markdown",
   "metadata": {
    "id": "Gn6HHzb703_g"
   },
   "source": [
    "### AdaBoost Regressor"
   ]
  },
  {
   "cell_type": "code",
   "execution_count": 172,
   "metadata": {
    "id": "2DSZk6jq03_h"
   },
   "outputs": [],
   "source": [
    "abreg = AdaBoostRegressor(base_estimator=DecisionTreeRegressor(),\n",
    "                              random_state=0)"
   ]
  },
  {
   "cell_type": "code",
   "execution_count": null,
   "metadata": {
    "id": "39oRp2OC03_i"
   },
   "outputs": [],
   "source": [
    "# find optimal parameters with grid search\n",
    "param_grid = { 'loss' : ['linear', 'square', 'exponential'],\n",
    "              'learning_rate': [0.001,0.01,0.1,1],\n",
    "              'base_estimator__max_depth': range(2,10),\n",
    "              'n_estimators': [100,200,500,1000]}\n",
    "grid = GridSearchCV(estimator=abreg, param_grid=param_grid, cv=5,\n",
    "                    scoring=['neg_median_absolute_error','r2'], refit = 'neg_median_absolute_error',\n",
    "                    verbose=1, n_jobs=-1)"
   ]
  },
  {
   "cell_type": "code",
   "execution_count": null,
   "metadata": {
    "colab": {
     "base_uri": "https://localhost:8080/"
    },
    "id": "RkWImM2203_i",
    "outputId": "28cf6fd2-4f2f-4c61-9e3c-2816495846e0"
   },
   "outputs": [
    {
     "name": "stdout",
     "output_type": "stream",
     "text": [
      "Fitting 5 folds for each of 384 candidates, totalling 1920 fits\n"
     ]
    },
    {
     "name": "stderr",
     "output_type": "stream",
     "text": [
      "[Parallel(n_jobs=-1)]: Using backend LokyBackend with 2 concurrent workers.\n",
      "[Parallel(n_jobs=-1)]: Done  46 tasks      | elapsed:  1.2min\n",
      "[Parallel(n_jobs=-1)]: Done 196 tasks      | elapsed:  4.1min\n",
      "[Parallel(n_jobs=-1)]: Done 446 tasks      | elapsed:  9.7min\n",
      "[Parallel(n_jobs=-1)]: Done 796 tasks      | elapsed: 20.4min\n",
      "[Parallel(n_jobs=-1)]: Done 1246 tasks      | elapsed: 35.2min\n",
      "[Parallel(n_jobs=-1)]: Done 1796 tasks      | elapsed: 58.1min\n",
      "[Parallel(n_jobs=-1)]: Done 1920 out of 1920 | elapsed: 61.6min finished\n"
     ]
    }
   ],
   "source": [
    "# fit the grid on the train data\n",
    "grid_result = grid.fit(X_train, y_train)"
   ]
  },
  {
   "cell_type": "code",
   "execution_count": null,
   "metadata": {
    "colab": {
     "base_uri": "https://localhost:8080/"
    },
    "id": "h16LGSPm03_j",
    "outputId": "b9c3e58e-142b-4900-ffe3-fa3bd2cad448"
   },
   "outputs": [
    {
     "name": "stdout",
     "output_type": "stream",
     "text": [
      "Best Score:  -0.0347410677510596\n",
      "Best Params:  {'base_estimator__max_depth': 9, 'learning_rate': 0.001, 'loss': 'linear', 'n_estimators': 100}\n"
     ]
    }
   ],
   "source": [
    "# print the best score and parameters found\n",
    "print('Best Score: ', grid_result.best_score_)\n",
    "print('Best Params: ', grid_result.best_params_)"
   ]
  },
  {
   "cell_type": "code",
   "execution_count": null,
   "metadata": {
    "id": "Yj6vNi2f03_k"
   },
   "outputs": [],
   "source": [
    "# find predictions for test data\n",
    "y_pred = grid_result.best_estimator_.predict(X_test)"
   ]
  },
  {
   "cell_type": "code",
   "execution_count": null,
   "metadata": {
    "id": "T7oCsjRU03_k"
   },
   "outputs": [],
   "source": [
    "#normalizing y_pred\n",
    "y_pred = (y_pred - y_pred.min())/(y_pred.max() - y_pred.min())"
   ]
  },
  {
   "cell_type": "code",
   "execution_count": null,
   "metadata": {
    "colab": {
     "base_uri": "https://localhost:8080/"
    },
    "id": "hCmRTaBv03_l",
    "outputId": "bb75c625-cf27-4f42-fbda-664db22c3ae6"
   },
   "outputs": [
    {
     "data": {
      "text/plain": [
       "0.19729867696620906"
      ]
     },
     "execution_count": 131,
     "metadata": {
      "tags": []
     },
     "output_type": "execute_result"
    }
   ],
   "source": [
    "# find median absolute error\n",
    "median_absolute_error(y_test,y_pred)"
   ]
  },
  {
   "cell_type": "code",
   "execution_count": null,
   "metadata": {
    "colab": {
     "base_uri": "https://localhost:8080/"
    },
    "id": "AuV3p0qh03_l",
    "outputId": "a5b8848f-2500-4e89-f385-848578ab5c25"
   },
   "outputs": [
    {
     "data": {
      "text/plain": [
       "0.1536971298773078"
      ]
     },
     "execution_count": 132,
     "metadata": {
      "tags": []
     },
     "output_type": "execute_result"
    }
   ],
   "source": [
    "# find root mean square log error\n",
    "np.sqrt(mean_squared_log_error(y_test,y_pred))"
   ]
  },
  {
   "cell_type": "code",
   "execution_count": null,
   "metadata": {
    "colab": {
     "base_uri": "https://localhost:8080/"
    },
    "id": "zM8DQDFN03_m",
    "outputId": "e88107ea-98e1-48c0-bf02-680cc8e99167"
   },
   "outputs": [
    {
     "data": {
      "text/plain": [
       "-4.110286046096933"
      ]
     },
     "execution_count": 133,
     "metadata": {
      "tags": []
     },
     "output_type": "execute_result"
    }
   ],
   "source": [
    "# find r2 score\n",
    "r2_score(y_test,y_pred)"
   ]
  },
  {
   "cell_type": "markdown",
   "metadata": {
    "id": "XP09Ad16r4yF"
   },
   "source": [
    "# ==============================================================="
   ]
  },
  {
   "cell_type": "markdown",
   "metadata": {
    "id": "D8YZHaMgr5vE"
   },
   "source": [
    "### MLP Regressor"
   ]
  },
  {
   "cell_type": "code",
   "execution_count": 173,
   "metadata": {
    "id": "LgbsOcs2vlWS"
   },
   "outputs": [],
   "source": [
    "from tensorflow.keras.callbacks import ModelCheckpoint, TensorBoard"
   ]
  },
  {
   "cell_type": "code",
   "execution_count": 174,
   "metadata": {
    "id": "bmu8JyXrvlWr"
   },
   "outputs": [],
   "source": [
    "import datetime"
   ]
  },
  {
   "cell_type": "code",
   "execution_count": 175,
   "metadata": {
    "id": "0PDhTNSN0f_J"
   },
   "outputs": [],
   "source": [
    "# Creating a Neural Network Model\n",
    "import tensorflow as tf\n",
    "from tensorflow.keras.models import Sequential\n",
    "from tensorflow.keras.layers import Dense, Activation, Dropout\n",
    "from tensorflow.keras.optimizers import Adam"
   ]
  },
  {
   "cell_type": "code",
   "execution_count": 176,
   "metadata": {
    "id": "YwvpHXLF0f_L"
   },
   "outputs": [],
   "source": [
    "model = Sequential()\n",
    "model.add(Dense(1200,activation='relu'))\n",
    "model.add(Dropout(0.2))\n",
    "model.add(Dense(1200,activation='relu'))\n",
    "model.add(Dropout(0.2))\n",
    "model.add(Dense(128,activation='relu'))\n",
    "model.add(Dropout(0.2))\n",
    "model.add(Dense(128,activation='relu'))\n",
    "model.add(Dropout(0.2))\n",
    "model.add(Dense(128,activation='relu'))\n",
    "model.add(Dropout(0.2))\n",
    "model.add(Dense(1))"
   ]
  },
  {
   "cell_type": "code",
   "execution_count": null,
   "metadata": {
    "id": "3wqqZo9SPo1O"
   },
   "outputs": [],
   "source": []
  },
  {
   "cell_type": "code",
   "execution_count": 177,
   "metadata": {
    "id": "jJBpvD-O0f_M"
   },
   "outputs": [],
   "source": [
    "import tensorflow.keras.backend as K"
   ]
  },
  {
   "cell_type": "code",
   "execution_count": 178,
   "metadata": {
    "id": "d48JmRYD0f_M"
   },
   "outputs": [],
   "source": [
    "\n",
    "def rmsle(y_true, y_pred):\n",
    "    msle = tf.keras.losses.MeanSquaredLogarithmicError()\n",
    "    return K.sqrt(msle(y_true, y_pred)) "
   ]
  },
  {
   "cell_type": "code",
   "execution_count": 179,
   "metadata": {
    "id": "bP7gEoNT0f_M"
   },
   "outputs": [],
   "source": [
    "model.compile(optimizer='Adam',loss=rmsle,metrics=[tf.keras.metrics.RootMeanSquaredError()])"
   ]
  },
  {
   "cell_type": "code",
   "execution_count": 180,
   "metadata": {
    "colab": {
     "base_uri": "https://localhost:8080/"
    },
    "id": "vh3AtNzK0f_M",
    "outputId": "2121e494-8f2e-493f-fc64-a388dbecfb16"
   },
   "outputs": [
    {
     "name": "stdout",
     "output_type": "stream",
     "text": [
      "Epoch 1/100\n",
      "103/103 [==============================] - 7s 51ms/step - loss: 0.0961 - root_mean_squared_error: 0.1266 - val_loss: 0.0658 - val_root_mean_squared_error: 0.0859\n",
      "Epoch 2/100\n",
      "103/103 [==============================] - 4s 42ms/step - loss: 0.0671 - root_mean_squared_error: 0.0869 - val_loss: 0.0654 - val_root_mean_squared_error: 0.0856\n",
      "Epoch 3/100\n",
      "103/103 [==============================] - 5s 48ms/step - loss: 0.0696 - root_mean_squared_error: 0.0914 - val_loss: 0.0654 - val_root_mean_squared_error: 0.0859\n",
      "Epoch 4/100\n",
      "103/103 [==============================] - 4s 42ms/step - loss: 0.0686 - root_mean_squared_error: 0.0899 - val_loss: 0.0655 - val_root_mean_squared_error: 0.0856\n",
      "Epoch 5/100\n",
      "103/103 [==============================] - 4s 39ms/step - loss: 0.0671 - root_mean_squared_error: 0.0875 - val_loss: 0.0663 - val_root_mean_squared_error: 0.0871\n",
      "Epoch 6/100\n",
      "103/103 [==============================] - 4s 39ms/step - loss: 0.0677 - root_mean_squared_error: 0.0877 - val_loss: 0.0665 - val_root_mean_squared_error: 0.0866\n",
      "Epoch 7/100\n",
      "103/103 [==============================] - 4s 41ms/step - loss: 0.0664 - root_mean_squared_error: 0.0863 - val_loss: 0.0665 - val_root_mean_squared_error: 0.0874\n",
      "Epoch 8/100\n",
      "103/103 [==============================] - 4s 41ms/step - loss: 0.0686 - root_mean_squared_error: 0.0897 - val_loss: 0.0669 - val_root_mean_squared_error: 0.0879\n",
      "Epoch 9/100\n",
      "103/103 [==============================] - 5s 45ms/step - loss: 0.0663 - root_mean_squared_error: 0.0863 - val_loss: 0.0654 - val_root_mean_squared_error: 0.0858\n",
      "Epoch 10/100\n",
      "103/103 [==============================] - 5s 47ms/step - loss: 0.0660 - root_mean_squared_error: 0.0852 - val_loss: 0.0654 - val_root_mean_squared_error: 0.0857\n",
      "Epoch 11/100\n",
      "103/103 [==============================] - 5s 44ms/step - loss: 0.0664 - root_mean_squared_error: 0.0867 - val_loss: 0.0655 - val_root_mean_squared_error: 0.0860\n",
      "Epoch 12/100\n",
      "103/103 [==============================] - 4s 43ms/step - loss: 0.0671 - root_mean_squared_error: 0.0878 - val_loss: 0.0653 - val_root_mean_squared_error: 0.0857\n",
      "Epoch 13/100\n",
      "103/103 [==============================] - 5s 47ms/step - loss: 0.0660 - root_mean_squared_error: 0.0864 - val_loss: 0.0660 - val_root_mean_squared_error: 0.0861\n",
      "Epoch 14/100\n",
      "103/103 [==============================] - 4s 42ms/step - loss: 0.0654 - root_mean_squared_error: 0.0841 - val_loss: 0.0653 - val_root_mean_squared_error: 0.0857\n",
      "Epoch 15/100\n",
      "103/103 [==============================] - 4s 42ms/step - loss: 0.0667 - root_mean_squared_error: 0.0869 - val_loss: 0.0655 - val_root_mean_squared_error: 0.0859\n",
      "Epoch 16/100\n",
      "103/103 [==============================] - 5s 46ms/step - loss: 0.0653 - root_mean_squared_error: 0.0850 - val_loss: 0.0655 - val_root_mean_squared_error: 0.0859\n",
      "Epoch 17/100\n",
      "103/103 [==============================] - 5s 44ms/step - loss: 0.0642 - root_mean_squared_error: 0.0842 - val_loss: 0.0657 - val_root_mean_squared_error: 0.0860\n",
      "Epoch 18/100\n",
      "103/103 [==============================] - 4s 44ms/step - loss: 0.0656 - root_mean_squared_error: 0.0856 - val_loss: 0.0653 - val_root_mean_squared_error: 0.0858\n",
      "Epoch 19/100\n",
      "103/103 [==============================] - 5s 47ms/step - loss: 0.0667 - root_mean_squared_error: 0.0872 - val_loss: 0.0653 - val_root_mean_squared_error: 0.0856\n",
      "Epoch 20/100\n",
      "103/103 [==============================] - 5s 45ms/step - loss: 0.0661 - root_mean_squared_error: 0.0866 - val_loss: 0.0657 - val_root_mean_squared_error: 0.0862\n",
      "Epoch 21/100\n",
      "103/103 [==============================] - 4s 43ms/step - loss: 0.0656 - root_mean_squared_error: 0.0857 - val_loss: 0.0655 - val_root_mean_squared_error: 0.0857\n",
      "Epoch 22/100\n",
      "103/103 [==============================] - 4s 43ms/step - loss: 0.0644 - root_mean_squared_error: 0.0842 - val_loss: 0.0659 - val_root_mean_squared_error: 0.0860\n",
      "Epoch 23/100\n",
      "103/103 [==============================] - 4s 42ms/step - loss: 0.0658 - root_mean_squared_error: 0.0856 - val_loss: 0.0656 - val_root_mean_squared_error: 0.0859\n",
      "Epoch 24/100\n",
      "103/103 [==============================] - 4s 43ms/step - loss: 0.0676 - root_mean_squared_error: 0.0885 - val_loss: 0.0655 - val_root_mean_squared_error: 0.0860\n",
      "Epoch 25/100\n",
      "103/103 [==============================] - 4s 44ms/step - loss: 0.0651 - root_mean_squared_error: 0.0859 - val_loss: 0.0659 - val_root_mean_squared_error: 0.0861\n",
      "Epoch 26/100\n",
      "103/103 [==============================] - 4s 38ms/step - loss: 0.0664 - root_mean_squared_error: 0.0859 - val_loss: 0.0658 - val_root_mean_squared_error: 0.0862\n",
      "Epoch 27/100\n",
      "103/103 [==============================] - 4s 38ms/step - loss: 0.0672 - root_mean_squared_error: 0.0875 - val_loss: 0.0657 - val_root_mean_squared_error: 0.0859\n",
      "Epoch 28/100\n",
      "103/103 [==============================] - 4s 42ms/step - loss: 0.0681 - root_mean_squared_error: 0.0891 - val_loss: 0.0655 - val_root_mean_squared_error: 0.0861\n",
      "Epoch 29/100\n",
      "103/103 [==============================] - 4s 38ms/step - loss: 0.0658 - root_mean_squared_error: 0.0860 - val_loss: 0.0664 - val_root_mean_squared_error: 0.0872\n",
      "Epoch 30/100\n",
      "103/103 [==============================] - 3s 34ms/step - loss: 0.0662 - root_mean_squared_error: 0.0868 - val_loss: 0.0666 - val_root_mean_squared_error: 0.0876A: 0s - loss: 0.0664 - root_mean_squared_\n",
      "Epoch 31/100\n",
      "103/103 [==============================] - 4s 37ms/step - loss: 0.0665 - root_mean_squared_error: 0.0873 - val_loss: 0.0653 - val_root_mean_squared_error: 0.0858\n",
      "Epoch 32/100\n",
      "103/103 [==============================] - 4s 40ms/step - loss: 0.0645 - root_mean_squared_error: 0.0842 - val_loss: 0.0655 - val_root_mean_squared_error: 0.0857\n",
      "Epoch 33/100\n",
      "103/103 [==============================] - 5s 45ms/step - loss: 0.0656 - root_mean_squared_error: 0.0849 - val_loss: 0.0658 - val_root_mean_squared_error: 0.0859\n",
      "Epoch 34/100\n",
      "103/103 [==============================] - 4s 39ms/step - loss: 0.0660 - root_mean_squared_error: 0.0859 - val_loss: 0.0652 - val_root_mean_squared_error: 0.0856\n",
      "Epoch 35/100\n",
      "103/103 [==============================] - 4s 39ms/step - loss: 0.0633 - root_mean_squared_error: 0.0827 - val_loss: 0.0658 - val_root_mean_squared_error: 0.0864\n",
      "Epoch 36/100\n",
      "103/103 [==============================] - 4s 41ms/step - loss: 0.0652 - root_mean_squared_error: 0.0858 - val_loss: 0.0656 - val_root_mean_squared_error: 0.0863\n",
      "Epoch 37/100\n",
      "103/103 [==============================] - 5s 44ms/step - loss: 0.0651 - root_mean_squared_error: 0.0843 - val_loss: 0.0657 - val_root_mean_squared_error: 0.0861\n",
      "Epoch 38/100\n",
      "103/103 [==============================] - 4s 42ms/step - loss: 0.0635 - root_mean_squared_error: 0.0823 - val_loss: 0.0656 - val_root_mean_squared_error: 0.0861\n",
      "Epoch 39/100\n",
      "103/103 [==============================] - 4s 41ms/step - loss: 0.0641 - root_mean_squared_error: 0.0832 - val_loss: 0.0658 - val_root_mean_squared_error: 0.0861\n",
      "Epoch 40/100\n",
      "103/103 [==============================] - 4s 38ms/step - loss: 0.0665 - root_mean_squared_error: 0.0868 - val_loss: 0.0658 - val_root_mean_squared_error: 0.0864\n",
      "Epoch 41/100\n",
      "103/103 [==============================] - 4s 38ms/step - loss: 0.0654 - root_mean_squared_error: 0.0852 - val_loss: 0.0656 - val_root_mean_squared_error: 0.0861\n",
      "Epoch 42/100\n",
      "103/103 [==============================] - 4s 37ms/step - loss: 0.0656 - root_mean_squared_error: 0.0869 - val_loss: 0.0653 - val_root_mean_squared_error: 0.0859\n",
      "Epoch 43/100\n",
      "103/103 [==============================] - 5s 45ms/step - loss: 0.0654 - root_mean_squared_error: 0.0846 - val_loss: 0.0658 - val_root_mean_squared_error: 0.0866\n",
      "Epoch 44/100\n",
      "103/103 [==============================] - 5s 46ms/step - loss: 0.0645 - root_mean_squared_error: 0.0836 - val_loss: 0.0658 - val_root_mean_squared_error: 0.0864\n",
      "Epoch 45/100\n",
      "103/103 [==============================] - 5s 46ms/step - loss: 0.0662 - root_mean_squared_error: 0.0864 - val_loss: 0.0657 - val_root_mean_squared_error: 0.0865\n",
      "Epoch 46/100\n",
      "103/103 [==============================] - 5s 46ms/step - loss: 0.0645 - root_mean_squared_error: 0.0834 - val_loss: 0.0654 - val_root_mean_squared_error: 0.0860\n",
      "Epoch 47/100\n",
      "103/103 [==============================] - 4s 40ms/step - loss: 0.0666 - root_mean_squared_error: 0.0871 - val_loss: 0.0660 - val_root_mean_squared_error: 0.0868\n",
      "Epoch 48/100\n",
      "103/103 [==============================] - 5s 48ms/step - loss: 0.0664 - root_mean_squared_error: 0.0861 - val_loss: 0.0658 - val_root_mean_squared_error: 0.0866\n",
      "Epoch 49/100\n",
      "103/103 [==============================] - 6s 55ms/step - loss: 0.0650 - root_mean_squared_error: 0.0847 - val_loss: 0.0659 - val_root_mean_squared_error: 0.0867\n",
      "Epoch 50/100\n",
      "103/103 [==============================] - 5s 46ms/step - loss: 0.0666 - root_mean_squared_error: 0.0869 - val_loss: 0.0677 - val_root_mean_squared_error: 0.0889\n",
      "Epoch 51/100\n",
      "103/103 [==============================] - 4s 42ms/step - loss: 0.0658 - root_mean_squared_error: 0.0858 - val_loss: 0.0657 - val_root_mean_squared_error: 0.0863\n",
      "Epoch 52/100\n",
      "103/103 [==============================] - 4s 38ms/step - loss: 0.0659 - root_mean_squared_error: 0.0859 - val_loss: 0.0661 - val_root_mean_squared_error: 0.0870\n",
      "Epoch 53/100\n",
      "103/103 [==============================] - 4s 37ms/step - loss: 0.0668 - root_mean_squared_error: 0.0863 - val_loss: 0.0658 - val_root_mean_squared_error: 0.0864\n",
      "Epoch 54/100\n",
      "103/103 [==============================] - 5s 48ms/step - loss: 0.0645 - root_mean_squared_error: 0.0838 - val_loss: 0.0656 - val_root_mean_squared_error: 0.0858\n",
      "Epoch 55/100\n",
      "103/103 [==============================] - 5s 49ms/step - loss: 0.0655 - root_mean_squared_error: 0.0854 - val_loss: 0.0659 - val_root_mean_squared_error: 0.0861\n",
      "Epoch 56/100\n",
      "103/103 [==============================] - 5s 48ms/step - loss: 0.0654 - root_mean_squared_error: 0.0849 - val_loss: 0.0656 - val_root_mean_squared_error: 0.0862\n",
      "Epoch 57/100\n",
      "103/103 [==============================] - 5s 45ms/step - loss: 0.0636 - root_mean_squared_error: 0.0830 - val_loss: 0.0658 - val_root_mean_squared_error: 0.0863\n",
      "Epoch 58/100\n",
      "103/103 [==============================] - 5s 46ms/step - loss: 0.0668 - root_mean_squared_error: 0.0872 - val_loss: 0.0655 - val_root_mean_squared_error: 0.0859\n",
      "Epoch 59/100\n",
      "103/103 [==============================] - 5s 48ms/step - loss: 0.0663 - root_mean_squared_error: 0.0866 - val_loss: 0.0653 - val_root_mean_squared_error: 0.0858\n",
      "Epoch 60/100\n",
      "103/103 [==============================] - 5s 45ms/step - loss: 0.0654 - root_mean_squared_error: 0.0855 - val_loss: 0.0653 - val_root_mean_squared_error: 0.0857\n",
      "Epoch 61/100\n",
      "103/103 [==============================] - 5s 45ms/step - loss: 0.0663 - root_mean_squared_error: 0.0873 - val_loss: 0.0652 - val_root_mean_squared_error: 0.0856\n",
      "Epoch 62/100\n",
      "103/103 [==============================] - 5s 47ms/step - loss: 0.0660 - root_mean_squared_error: 0.0861 - val_loss: 0.0656 - val_root_mean_squared_error: 0.0862\n",
      "Epoch 63/100\n",
      "103/103 [==============================] - 5s 47ms/step - loss: 0.0653 - root_mean_squared_error: 0.0857 - val_loss: 0.0658 - val_root_mean_squared_error: 0.0864\n",
      "Epoch 64/100\n",
      "103/103 [==============================] - 5s 48ms/step - loss: 0.0678 - root_mean_squared_error: 0.0885 - val_loss: 0.0663 - val_root_mean_squared_error: 0.0872 - loss: 0.0679 - root_mean_squared_error: 0.\n",
      "Epoch 65/100\n",
      "103/103 [==============================] - 5s 47ms/step - loss: 0.0659 - root_mean_squared_error: 0.0861 - val_loss: 0.0652 - val_root_mean_squared_error: 0.0855\n",
      "Epoch 66/100\n",
      "103/103 [==============================] - 5s 47ms/step - loss: 0.0650 - root_mean_squared_error: 0.0844 - val_loss: 0.0656 - val_root_mean_squared_error: 0.0859\n",
      "Epoch 67/100\n",
      "103/103 [==============================] - 5s 50ms/step - loss: 0.0673 - root_mean_squared_error: 0.0891 - val_loss: 0.0656 - val_root_mean_squared_error: 0.0860\n",
      "Epoch 68/100\n",
      "103/103 [==============================] - 5s 47ms/step - loss: 0.0647 - root_mean_squared_error: 0.0836 - val_loss: 0.0655 - val_root_mean_squared_error: 0.0860\n",
      "Epoch 69/100\n",
      "103/103 [==============================] - 5s 46ms/step - loss: 0.0645 - root_mean_squared_error: 0.0840 - val_loss: 0.0657 - val_root_mean_squared_error: 0.0862\n",
      "Epoch 70/100\n",
      "103/103 [==============================] - 5s 47ms/step - loss: 0.0638 - root_mean_squared_error: 0.0830 - val_loss: 0.0654 - val_root_mean_squared_error: 0.0858\n",
      "Epoch 71/100\n",
      "103/103 [==============================] - 5s 46ms/step - loss: 0.0658 - root_mean_squared_error: 0.0861 - val_loss: 0.0655 - val_root_mean_squared_error: 0.0859\n",
      "Epoch 72/100\n",
      "103/103 [==============================] - 6s 55ms/step - loss: 0.0654 - root_mean_squared_error: 0.0857 - val_loss: 0.0655 - val_root_mean_squared_error: 0.0859\n",
      "Epoch 73/100\n",
      "103/103 [==============================] - 5s 52ms/step - loss: 0.0675 - root_mean_squared_error: 0.0880 - val_loss: 0.0655 - val_root_mean_squared_error: 0.0859\n",
      "Epoch 74/100\n",
      "103/103 [==============================] - 4s 39ms/step - loss: 0.0653 - root_mean_squared_error: 0.0849 - val_loss: 0.0656 - val_root_mean_squared_error: 0.0858\n",
      "Epoch 75/100\n",
      "103/103 [==============================] - 4s 37ms/step - loss: 0.0653 - root_mean_squared_error: 0.0854 - val_loss: 0.0660 - val_root_mean_squared_error: 0.0868\n",
      "Epoch 76/100\n",
      "103/103 [==============================] - 4s 38ms/step - loss: 0.0655 - root_mean_squared_error: 0.0854 - val_loss: 0.0655 - val_root_mean_squared_error: 0.0857\n",
      "Epoch 77/100\n",
      "103/103 [==============================] - 4s 38ms/step - loss: 0.0658 - root_mean_squared_error: 0.0860 - val_loss: 0.0657 - val_root_mean_squared_error: 0.0863\n",
      "Epoch 78/100\n",
      "103/103 [==============================] - 4s 35ms/step - loss: 0.0657 - root_mean_squared_error: 0.0852 - val_loss: 0.0655 - val_root_mean_squared_error: 0.0859\n",
      "Epoch 79/100\n",
      "103/103 [==============================] - 4s 36ms/step - loss: 0.0659 - root_mean_squared_error: 0.0861 - val_loss: 0.0655 - val_root_mean_squared_error: 0.0860\n",
      "Epoch 80/100\n",
      "103/103 [==============================] - 4s 35ms/step - loss: 0.0661 - root_mean_squared_error: 0.0869 - val_loss: 0.0661 - val_root_mean_squared_error: 0.0865\n",
      "Epoch 81/100\n",
      "103/103 [==============================] - 4s 36ms/step - loss: 0.0655 - root_mean_squared_error: 0.0859 - val_loss: 0.0659 - val_root_mean_squared_error: 0.0866\n",
      "Epoch 82/100\n",
      "103/103 [==============================] - 4s 35ms/step - loss: 0.0637 - root_mean_squared_error: 0.0834 - val_loss: 0.0654 - val_root_mean_squared_error: 0.0857\n",
      "Epoch 83/100\n",
      "103/103 [==============================] - 4s 35ms/step - loss: 0.0648 - root_mean_squared_error: 0.0840 - val_loss: 0.0654 - val_root_mean_squared_error: 0.0858\n",
      "Epoch 84/100\n",
      "103/103 [==============================] - 4s 35ms/step - loss: 0.0650 - root_mean_squared_error: 0.0852 - val_loss: 0.0657 - val_root_mean_squared_error: 0.0862\n",
      "Epoch 85/100\n",
      "103/103 [==============================] - 3s 30ms/step - loss: 0.0649 - root_mean_squared_error: 0.0845 - val_loss: 0.0659 - val_root_mean_squared_error: 0.0868\n",
      "Epoch 86/100\n",
      "103/103 [==============================] - 3s 31ms/step - loss: 0.0649 - root_mean_squared_error: 0.0854 - val_loss: 0.0655 - val_root_mean_squared_error: 0.0858\n",
      "Epoch 87/100\n",
      "103/103 [==============================] - 3s 30ms/step - loss: 0.0648 - root_mean_squared_error: 0.0848 - val_loss: 0.0659 - val_root_mean_squared_error: 0.0867\n",
      "Epoch 88/100\n",
      "103/103 [==============================] - 3s 32ms/step - loss: 0.0659 - root_mean_squared_error: 0.0860 - val_loss: 0.0656 - val_root_mean_squared_error: 0.0859\n",
      "Epoch 89/100\n",
      "103/103 [==============================] - 3s 31ms/step - loss: 0.0644 - root_mean_squared_error: 0.0833 - val_loss: 0.0656 - val_root_mean_squared_error: 0.0862\n",
      "Epoch 90/100\n",
      "103/103 [==============================] - 3s 32ms/step - loss: 0.0660 - root_mean_squared_error: 0.0863 - val_loss: 0.0653 - val_root_mean_squared_error: 0.0858\n",
      "Epoch 91/100\n",
      "103/103 [==============================] - 3s 29ms/step - loss: 0.0654 - root_mean_squared_error: 0.0853 - val_loss: 0.0657 - val_root_mean_squared_error: 0.0863\n",
      "Epoch 92/100\n",
      "103/103 [==============================] - 3s 33ms/step - loss: 0.0640 - root_mean_squared_error: 0.0837 - val_loss: 0.0656 - val_root_mean_squared_error: 0.0859\n",
      "Epoch 93/100\n"
     ]
    },
    {
     "name": "stdout",
     "output_type": "stream",
     "text": [
      "103/103 [==============================] - 3s 30ms/step - loss: 0.0659 - root_mean_squared_error: 0.0861 - val_loss: 0.0655 - val_root_mean_squared_error: 0.0860\n",
      "Epoch 94/100\n",
      "103/103 [==============================] - 3s 32ms/step - loss: 0.0636 - root_mean_squared_error: 0.0832 - val_loss: 0.0659 - val_root_mean_squared_error: 0.0866\n",
      "Epoch 95/100\n",
      "103/103 [==============================] - 3s 28ms/step - loss: 0.0641 - root_mean_squared_error: 0.0837 - val_loss: 0.0656 - val_root_mean_squared_error: 0.0863\n",
      "Epoch 96/100\n",
      "103/103 [==============================] - 3s 28ms/step - loss: 0.0665 - root_mean_squared_error: 0.0868 - val_loss: 0.0656 - val_root_mean_squared_error: 0.0860\n",
      "Epoch 97/100\n",
      "103/103 [==============================] - 3s 29ms/step - loss: 0.0667 - root_mean_squared_error: 0.0878 - val_loss: 0.0658 - val_root_mean_squared_error: 0.0862\n",
      "Epoch 98/100\n",
      "103/103 [==============================] - 3s 28ms/step - loss: 0.0659 - root_mean_squared_error: 0.0860 - val_loss: 0.0657 - val_root_mean_squared_error: 0.0860\n",
      "Epoch 99/100\n",
      "103/103 [==============================] - 3s 27ms/step - loss: 0.0651 - root_mean_squared_error: 0.0846 - val_loss: 0.0656 - val_root_mean_squared_error: 0.0860\n",
      "Epoch 100/100\n",
      "103/103 [==============================] - 3s 28ms/step - loss: 0.0658 - root_mean_squared_error: 0.0864 - val_loss: 0.0656 - val_root_mean_squared_error: 0.0860\n"
     ]
    },
    {
     "data": {
      "text/plain": [
       "<tensorflow.python.keras.callbacks.History at 0x1436f853d60>"
      ]
     },
     "execution_count": 180,
     "metadata": {},
     "output_type": "execute_result"
    }
   ],
   "source": [
    "model.fit(x=X_train,y=y_train,\n",
    "          validation_data=(X_test,y_test),\n",
    "          batch_size=64,epochs=100)\n"
   ]
  },
  {
   "cell_type": "code",
   "execution_count": 181,
   "metadata": {
    "colab": {
     "base_uri": "https://localhost:8080/"
    },
    "id": "yd2NyD8-0f_N",
    "outputId": "2910f73e-11e7-40d8-800f-df0ea79139ae"
   },
   "outputs": [
    {
     "name": "stdout",
     "output_type": "stream",
     "text": [
      "Model: \"sequential\"\n",
      "_________________________________________________________________\n",
      "Layer (type)                 Output Shape              Param #   \n",
      "=================================================================\n",
      "dense (Dense)                (None, 1200)              3600      \n",
      "_________________________________________________________________\n",
      "dropout (Dropout)            (None, 1200)              0         \n",
      "_________________________________________________________________\n",
      "dense_1 (Dense)              (None, 1200)              1441200   \n",
      "_________________________________________________________________\n",
      "dropout_1 (Dropout)          (None, 1200)              0         \n",
      "_________________________________________________________________\n",
      "dense_2 (Dense)              (None, 128)               153728    \n",
      "_________________________________________________________________\n",
      "dropout_2 (Dropout)          (None, 128)               0         \n",
      "_________________________________________________________________\n",
      "dense_3 (Dense)              (None, 128)               16512     \n",
      "_________________________________________________________________\n",
      "dropout_3 (Dropout)          (None, 128)               0         \n",
      "_________________________________________________________________\n",
      "dense_4 (Dense)              (None, 128)               16512     \n",
      "_________________________________________________________________\n",
      "dropout_4 (Dropout)          (None, 128)               0         \n",
      "_________________________________________________________________\n",
      "dense_5 (Dense)              (None, 1)                 129       \n",
      "=================================================================\n",
      "Total params: 1,631,681\n",
      "Trainable params: 1,631,681\n",
      "Non-trainable params: 0\n",
      "_________________________________________________________________\n"
     ]
    }
   ],
   "source": [
    "model.summary()"
   ]
  },
  {
   "cell_type": "code",
   "execution_count": 182,
   "metadata": {
    "id": "0yyomEcewfBS"
   },
   "outputs": [],
   "source": [
    "K.clear_session()"
   ]
  },
  {
   "cell_type": "code",
   "execution_count": 183,
   "metadata": {
    "id": "WbaMa8b60f_N"
   },
   "outputs": [],
   "source": [
    "y_pred = model.predict(X_test)"
   ]
  },
  {
   "cell_type": "code",
   "execution_count": 184,
   "metadata": {
    "colab": {
     "base_uri": "https://localhost:8080/"
    },
    "id": "Mslai97N0f_O",
    "outputId": "246edc86-b62f-49ee-a186-2389fdd0a385"
   },
   "outputs": [
    {
     "data": {
      "text/plain": [
       "(1644, 1)"
      ]
     },
     "execution_count": 184,
     "metadata": {},
     "output_type": "execute_result"
    }
   ],
   "source": [
    "y_pred.shape"
   ]
  },
  {
   "cell_type": "code",
   "execution_count": 185,
   "metadata": {
    "colab": {
     "base_uri": "https://localhost:8080/"
    },
    "id": "1aTK8yjg0f_O",
    "outputId": "579dbf15-2a24-4642-fedc-db4e8d647c0c"
   },
   "outputs": [
    {
     "data": {
      "text/plain": [
       "0.034375390010636026"
      ]
     },
     "execution_count": 185,
     "metadata": {},
     "output_type": "execute_result"
    }
   ],
   "source": [
    "# find median absolute error\n",
    "median_absolute_error(y_test,y_pred)"
   ]
  },
  {
   "cell_type": "code",
   "execution_count": 186,
   "metadata": {
    "colab": {
     "base_uri": "https://localhost:8080/"
    },
    "id": "Lm-upfKl0f_O",
    "outputId": "0ab3c8bc-b63e-4144-c9ae-2d6f5cec3381"
   },
   "outputs": [
    {
     "data": {
      "text/plain": [
       "0.06645822429299328"
      ]
     },
     "execution_count": 186,
     "metadata": {},
     "output_type": "execute_result"
    }
   ],
   "source": [
    "# find root mean square log error\n",
    "np.sqrt(mean_squared_log_error(y_test,y_pred))"
   ]
  },
  {
   "cell_type": "code",
   "execution_count": 187,
   "metadata": {
    "colab": {
     "base_uri": "https://localhost:8080/"
    },
    "id": "XcFsUqTX0f_P",
    "outputId": "a3e28f56-0b6f-46fa-e7dc-cbcd0c1763d1"
   },
   "outputs": [
    {
     "data": {
      "text/plain": [
       "0.10452870396800462"
      ]
     },
     "execution_count": 187,
     "metadata": {},
     "output_type": "execute_result"
    }
   ],
   "source": [
    "# find r2 score\n",
    "r2_score(y_test,y_pred)"
   ]
  },
  {
   "cell_type": "markdown",
   "metadata": {
    "id": "nWRWa7W90f_P"
   },
   "source": [
    "# ==============================================================="
   ]
  },
  {
   "cell_type": "markdown",
   "metadata": {},
   "source": [
    "# =============================================================\n",
    "# =============================================================\n",
    "## ============================= Springs =====================================\n",
    "# =============================================================\n",
    "# ============================================================="
   ]
  },
  {
   "cell_type": "code",
   "execution_count": 188,
   "metadata": {
    "colab": {
     "base_uri": "https://localhost:8080/",
     "height": 204
    },
    "id": "nLZpBXp6lHxj",
    "outputId": "e55d444c-e793-4bc2-9ce5-af2026be5350"
   },
   "outputs": [
    {
     "data": {
      "text/html": [
       "<div>\n",
       "<style scoped>\n",
       "    .dataframe tbody tr th:only-of-type {\n",
       "        vertical-align: middle;\n",
       "    }\n",
       "\n",
       "    .dataframe tbody tr th {\n",
       "        vertical-align: top;\n",
       "    }\n",
       "\n",
       "    .dataframe thead th {\n",
       "        text-align: right;\n",
       "    }\n",
       "</style>\n",
       "<table border=\"1\" class=\"dataframe\">\n",
       "  <thead>\n",
       "    <tr style=\"text-align: right;\">\n",
       "      <th></th>\n",
       "      <th>Mean_Rainfall</th>\n",
       "      <th>Mean_Temp</th>\n",
       "      <th>Actual_Depth</th>\n",
       "      <th>Actual_Flow_Rate</th>\n",
       "      <th>Date</th>\n",
       "    </tr>\n",
       "  </thead>\n",
       "  <tbody>\n",
       "    <tr>\n",
       "      <th>0</th>\n",
       "      <td>4.125714</td>\n",
       "      <td>-0.084921</td>\n",
       "      <td>-131.779048</td>\n",
       "      <td>-7.393259</td>\n",
       "      <td>2000-01-01</td>\n",
       "    </tr>\n",
       "    <tr>\n",
       "      <th>1</th>\n",
       "      <td>4.737143</td>\n",
       "      <td>6.701587</td>\n",
       "      <td>-132.510476</td>\n",
       "      <td>-7.393882</td>\n",
       "      <td>2000-01-02</td>\n",
       "    </tr>\n",
       "    <tr>\n",
       "      <th>2</th>\n",
       "      <td>6.824762</td>\n",
       "      <td>5.405556</td>\n",
       "      <td>-130.986190</td>\n",
       "      <td>-7.597644</td>\n",
       "      <td>2000-01-03</td>\n",
       "    </tr>\n",
       "    <tr>\n",
       "      <th>3</th>\n",
       "      <td>5.326667</td>\n",
       "      <td>4.813492</td>\n",
       "      <td>-129.141111</td>\n",
       "      <td>-6.168792</td>\n",
       "      <td>2000-01-04</td>\n",
       "    </tr>\n",
       "    <tr>\n",
       "      <th>4</th>\n",
       "      <td>4.177143</td>\n",
       "      <td>14.011905</td>\n",
       "      <td>-130.089524</td>\n",
       "      <td>-7.344170</td>\n",
       "      <td>2000-01-05</td>\n",
       "    </tr>\n",
       "  </tbody>\n",
       "</table>\n",
       "</div>"
      ],
      "text/plain": [
       "   Mean_Rainfall  Mean_Temp  Actual_Depth  Actual_Flow_Rate        Date\n",
       "0       4.125714  -0.084921   -131.779048         -7.393259  2000-01-01\n",
       "1       4.737143   6.701587   -132.510476         -7.393882  2000-01-02\n",
       "2       6.824762   5.405556   -130.986190         -7.597644  2000-01-03\n",
       "3       5.326667   4.813492   -129.141111         -6.168792  2000-01-04\n",
       "4       4.177143  14.011905   -130.089524         -7.344170  2000-01-05"
      ]
     },
     "execution_count": 188,
     "metadata": {},
     "output_type": "execute_result"
    }
   ],
   "source": [
    "springs.head()"
   ]
  },
  {
   "cell_type": "code",
   "execution_count": 189,
   "metadata": {
    "id": "W-BKSGaClHxn"
   },
   "outputs": [],
   "source": [
    "# Normalizing the columns to remove negative values\n",
    "springs['Mean_Rainfall'] = (springs['Mean_Rainfall'] - springs['Mean_Rainfall'].min()) / (springs['Mean_Rainfall'].max() - springs['Mean_Rainfall'].min())\n",
    "springs['Mean_Temp'] = (springs['Mean_Temp'] - springs['Mean_Temp'].min()) / (springs['Mean_Temp'].max() - springs['Mean_Temp'].min())\n",
    "springs['Actual_Depth'] = (springs['Actual_Depth'] - springs['Actual_Depth'].min()) / (springs['Actual_Depth'].max() - springs['Actual_Depth'].min())\n",
    "springs['Actual_Flow_Rate'] = (springs['Actual_Flow_Rate'] - springs['Actual_Flow_Rate'].min()) / (springs['Actual_Flow_Rate'].max() - springs['Actual_Flow_Rate'].min())"
   ]
  },
  {
   "cell_type": "code",
   "execution_count": 190,
   "metadata": {
    "colab": {
     "base_uri": "https://localhost:8080/",
     "height": 204
    },
    "id": "tHsgVyM0lHxp",
    "outputId": "1998c9e1-4e80-42b0-eed1-1a020c2007ff"
   },
   "outputs": [
    {
     "data": {
      "text/html": [
       "<div>\n",
       "<style scoped>\n",
       "    .dataframe tbody tr th:only-of-type {\n",
       "        vertical-align: middle;\n",
       "    }\n",
       "\n",
       "    .dataframe tbody tr th {\n",
       "        vertical-align: top;\n",
       "    }\n",
       "\n",
       "    .dataframe thead th {\n",
       "        text-align: right;\n",
       "    }\n",
       "</style>\n",
       "<table border=\"1\" class=\"dataframe\">\n",
       "  <thead>\n",
       "    <tr style=\"text-align: right;\">\n",
       "      <th></th>\n",
       "      <th>Mean_Rainfall</th>\n",
       "      <th>Mean_Temp</th>\n",
       "      <th>Actual_Depth</th>\n",
       "      <th>Actual_Flow_Rate</th>\n",
       "      <th>Date</th>\n",
       "    </tr>\n",
       "  </thead>\n",
       "  <tbody>\n",
       "    <tr>\n",
       "      <th>0</th>\n",
       "      <td>0.076309</td>\n",
       "      <td>0.169289</td>\n",
       "      <td>0.416992</td>\n",
       "      <td>0.530379</td>\n",
       "      <td>2000-01-01</td>\n",
       "    </tr>\n",
       "    <tr>\n",
       "      <th>1</th>\n",
       "      <td>0.087618</td>\n",
       "      <td>0.357043</td>\n",
       "      <td>0.346262</td>\n",
       "      <td>0.530375</td>\n",
       "      <td>2000-01-02</td>\n",
       "    </tr>\n",
       "    <tr>\n",
       "      <th>2</th>\n",
       "      <td>0.126230</td>\n",
       "      <td>0.321187</td>\n",
       "      <td>0.493661</td>\n",
       "      <td>0.529121</td>\n",
       "      <td>2000-01-03</td>\n",
       "    </tr>\n",
       "    <tr>\n",
       "      <th>3</th>\n",
       "      <td>0.098522</td>\n",
       "      <td>0.304807</td>\n",
       "      <td>0.672080</td>\n",
       "      <td>0.537916</td>\n",
       "      <td>2000-01-04</td>\n",
       "    </tr>\n",
       "    <tr>\n",
       "      <th>4</th>\n",
       "      <td>0.077260</td>\n",
       "      <td>0.559289</td>\n",
       "      <td>0.580368</td>\n",
       "      <td>0.530681</td>\n",
       "      <td>2000-01-05</td>\n",
       "    </tr>\n",
       "  </tbody>\n",
       "</table>\n",
       "</div>"
      ],
      "text/plain": [
       "   Mean_Rainfall  Mean_Temp  Actual_Depth  Actual_Flow_Rate        Date\n",
       "0       0.076309   0.169289      0.416992          0.530379  2000-01-01\n",
       "1       0.087618   0.357043      0.346262          0.530375  2000-01-02\n",
       "2       0.126230   0.321187      0.493661          0.529121  2000-01-03\n",
       "3       0.098522   0.304807      0.672080          0.537916  2000-01-04\n",
       "4       0.077260   0.559289      0.580368          0.530681  2000-01-05"
      ]
     },
     "execution_count": 190,
     "metadata": {},
     "output_type": "execute_result"
    }
   ],
   "source": [
    "springs.head()"
   ]
  },
  {
   "cell_type": "code",
   "execution_count": 191,
   "metadata": {
    "id": "5S4s5EcWlHxs"
   },
   "outputs": [],
   "source": [
    "# separating the date and target feature\n",
    "X = springs.drop(['Date','Actual_Flow_Rate'],axis=1)\n",
    "y = springs['Actual_Flow_Rate']"
   ]
  },
  {
   "cell_type": "code",
   "execution_count": 192,
   "metadata": {
    "id": "trd_a4rmlHxt"
   },
   "outputs": [],
   "source": [
    "#Dividing the dataset into train and test for features as well as labels\n",
    "X_train, X_test, y_train, y_test = train_test_split(X,y,test_size=0.2,random_state=42)"
   ]
  },
  {
   "cell_type": "code",
   "execution_count": 193,
   "metadata": {
    "colab": {
     "base_uri": "https://localhost:8080/"
    },
    "id": "tWETdpEKlHxu",
    "outputId": "4f4909e2-4034-44da-aa03-b95226928cfb"
   },
   "outputs": [
    {
     "data": {
      "text/plain": [
       "5989"
      ]
     },
     "execution_count": 193,
     "metadata": {},
     "output_type": "execute_result"
    }
   ],
   "source": [
    "#checking the number of rows in training data\n",
    "len(X_train)"
   ]
  },
  {
   "cell_type": "code",
   "execution_count": 194,
   "metadata": {
    "colab": {
     "base_uri": "https://localhost:8080/"
    },
    "id": "TmSJYtK3lHxw",
    "outputId": "5664d02d-b636-4a40-bf85-1170b054f1c0"
   },
   "outputs": [
    {
     "data": {
      "text/plain": [
       "5989"
      ]
     },
     "execution_count": 194,
     "metadata": {},
     "output_type": "execute_result"
    }
   ],
   "source": [
    "#checking the number of rows in training labels\n",
    "len(y_train)"
   ]
  },
  {
   "cell_type": "code",
   "execution_count": 195,
   "metadata": {
    "colab": {
     "base_uri": "https://localhost:8080/"
    },
    "id": "XbqIV8AUlHxx",
    "outputId": "8e1f2a3c-e254-4a56-b675-bcd33295ebd8"
   },
   "outputs": [
    {
     "data": {
      "text/plain": [
       "1498"
      ]
     },
     "execution_count": 195,
     "metadata": {},
     "output_type": "execute_result"
    }
   ],
   "source": [
    "#checking the number of rows in testing data\n",
    "len(X_test)"
   ]
  },
  {
   "cell_type": "code",
   "execution_count": 196,
   "metadata": {
    "colab": {
     "base_uri": "https://localhost:8080/"
    },
    "id": "PEpamw31lHxz",
    "outputId": "2363f6da-b0ad-4fd4-cfe5-359f748356f0"
   },
   "outputs": [
    {
     "data": {
      "text/plain": [
       "1498"
      ]
     },
     "execution_count": 196,
     "metadata": {},
     "output_type": "execute_result"
    }
   ],
   "source": [
    "#checking the number of rows in testing labels\n",
    "len(y_test)"
   ]
  },
  {
   "cell_type": "markdown",
   "metadata": {},
   "source": [
    "# ============================================================="
   ]
  },
  {
   "cell_type": "markdown",
   "metadata": {
    "id": "K0rwbQSvlHx0"
   },
   "source": [
    "### knn"
   ]
  },
  {
   "cell_type": "code",
   "execution_count": 197,
   "metadata": {
    "id": "URCuoDg_lHx1"
   },
   "outputs": [],
   "source": [
    "# create a knn regressor\n",
    "neigh = KNeighborsRegressor()"
   ]
  },
  {
   "cell_type": "code",
   "execution_count": 198,
   "metadata": {
    "id": "jYwvLILOlHx2"
   },
   "outputs": [],
   "source": [
    "# find optimal parameters with grid search\n",
    "param_grid = {\n",
    "    'n_neighbors': [3,5,7,9,11,19],\n",
    "    'weights': ['uniform', 'distance'],\n",
    "    'metric' : ['euclidean','manhattan']\n",
    "}\n",
    "grid = GridSearchCV(estimator=neigh, param_grid=param_grid,\n",
    "                    scoring=['neg_median_absolute_error','neg_mean_squared_log_error','r2'], refit = 'neg_mean_squared_log_error',\n",
    "                    verbose=1, n_jobs=-1)"
   ]
  },
  {
   "cell_type": "code",
   "execution_count": 199,
   "metadata": {
    "colab": {
     "base_uri": "https://localhost:8080/"
    },
    "id": "UDQy_L8nlHx3",
    "outputId": "fd805594-593a-483e-d061-b3ecc4847dec"
   },
   "outputs": [
    {
     "name": "stdout",
     "output_type": "stream",
     "text": [
      "Fitting 5 folds for each of 24 candidates, totalling 120 fits\n"
     ]
    }
   ],
   "source": [
    "# fit the grid on the train data\n",
    "grid_result = grid.fit(X_train, y_train)"
   ]
  },
  {
   "cell_type": "code",
   "execution_count": 200,
   "metadata": {
    "colab": {
     "base_uri": "https://localhost:8080/"
    },
    "id": "-4WAAhwHlHx5",
    "outputId": "435c0a5c-1bea-432a-be4b-b55eb6c73565"
   },
   "outputs": [
    {
     "name": "stdout",
     "output_type": "stream",
     "text": [
      "Best Score:  -0.021191998046753598\n",
      "Best Params:  {'metric': 'manhattan', 'n_neighbors': 19, 'weights': 'distance'}\n"
     ]
    }
   ],
   "source": [
    "# print the best score and parameters found\n",
    "print('Best Score: ', grid_result.best_score_)\n",
    "print('Best Params: ', grid_result.best_params_)"
   ]
  },
  {
   "cell_type": "code",
   "execution_count": 202,
   "metadata": {
    "id": "KjcWaixplHx6"
   },
   "outputs": [],
   "source": [
    "# find predictions for test data\n",
    "y_pred = grid_result.best_estimator_.predict(X_test)"
   ]
  },
  {
   "cell_type": "code",
   "execution_count": 203,
   "metadata": {
    "id": "xD-Pjca5lHx7"
   },
   "outputs": [],
   "source": [
    "#normalizing y_pred\n",
    "y_pred = (y_pred - y_pred.min())/(y_pred.max() - y_pred.min())"
   ]
  },
  {
   "cell_type": "code",
   "execution_count": 204,
   "metadata": {
    "colab": {
     "base_uri": "https://localhost:8080/"
    },
    "id": "y9g1MY6elHx8",
    "outputId": "f2f12e5b-dfd6-4cf5-95e6-62bf68fc2b3e"
   },
   "outputs": [
    {
     "data": {
      "text/plain": [
       "0.16653555878093784"
      ]
     },
     "execution_count": 204,
     "metadata": {},
     "output_type": "execute_result"
    }
   ],
   "source": [
    "# find median absolute error\n",
    "median_absolute_error(y_test,y_pred)"
   ]
  },
  {
   "cell_type": "code",
   "execution_count": 205,
   "metadata": {
    "colab": {
     "base_uri": "https://localhost:8080/"
    },
    "id": "0Z7YjZZolHx9",
    "outputId": "0adeea13-7db5-49b4-d17a-85731cb63895"
   },
   "outputs": [
    {
     "data": {
      "text/plain": [
       "0.16545173015424464"
      ]
     },
     "execution_count": 205,
     "metadata": {},
     "output_type": "execute_result"
    }
   ],
   "source": [
    "# find root mean square log error\n",
    "np.sqrt(mean_squared_log_error(y_test,y_pred))"
   ]
  },
  {
   "cell_type": "code",
   "execution_count": 206,
   "metadata": {
    "colab": {
     "base_uri": "https://localhost:8080/"
    },
    "id": "H451NLSWlHx-",
    "outputId": "37784198-467f-4b22-ad72-dd1e108e9968"
   },
   "outputs": [
    {
     "data": {
      "text/plain": [
       "-0.1472021736660043"
      ]
     },
     "execution_count": 206,
     "metadata": {},
     "output_type": "execute_result"
    }
   ],
   "source": [
    "# find r2 score\n",
    "r2_score(y_test,y_pred)"
   ]
  },
  {
   "cell_type": "markdown",
   "metadata": {},
   "source": [
    "# ============================================================="
   ]
  },
  {
   "cell_type": "markdown",
   "metadata": {
    "id": "4y84A3BqlHyA"
   },
   "source": [
    "### Multiple Linear Regression"
   ]
  },
  {
   "cell_type": "code",
   "execution_count": 207,
   "metadata": {
    "id": "iof3_QILlHyA"
   },
   "outputs": [],
   "source": [
    "# create a linear regressor\n",
    "lr = LinearRegression()"
   ]
  },
  {
   "cell_type": "code",
   "execution_count": 208,
   "metadata": {
    "id": "CAP0oX7slHyC"
   },
   "outputs": [],
   "source": [
    "# fit the lr on train data\n",
    "lr = lr.fit(X_train, y_train)"
   ]
  },
  {
   "cell_type": "code",
   "execution_count": 209,
   "metadata": {
    "id": "fS6xxyjBlHyE"
   },
   "outputs": [],
   "source": [
    "# find the predictions\n",
    "y_pred = lr.predict(X_test)"
   ]
  },
  {
   "cell_type": "code",
   "execution_count": 210,
   "metadata": {
    "id": "PyCJYHPflHyF"
   },
   "outputs": [],
   "source": [
    "#normalizing y_pred\n",
    "y_pred = (y_pred - y_pred.min())/(y_pred.max() - y_pred.min())"
   ]
  },
  {
   "cell_type": "code",
   "execution_count": 211,
   "metadata": {
    "colab": {
     "base_uri": "https://localhost:8080/"
    },
    "id": "UQNVTvcelHyG",
    "outputId": "ee17fd85-9d7a-4ff2-b80f-68866c661787"
   },
   "outputs": [
    {
     "data": {
      "text/plain": [
       "0.3106472486430929"
      ]
     },
     "execution_count": 211,
     "metadata": {},
     "output_type": "execute_result"
    }
   ],
   "source": [
    "# find median absolute error\n",
    "median_absolute_error(y_test,y_pred)"
   ]
  },
  {
   "cell_type": "code",
   "execution_count": 212,
   "metadata": {
    "colab": {
     "base_uri": "https://localhost:8080/"
    },
    "id": "mEjQHLT_lHyH",
    "outputId": "0de2f3fa-d1e6-4a13-aa7b-106ff367cc60"
   },
   "outputs": [
    {
     "data": {
      "text/plain": [
       "0.2848226752175971"
      ]
     },
     "execution_count": 212,
     "metadata": {},
     "output_type": "execute_result"
    }
   ],
   "source": [
    "# find root mean square log error\n",
    "np.sqrt(mean_squared_log_error(y_test,y_pred))"
   ]
  },
  {
   "cell_type": "code",
   "execution_count": 213,
   "metadata": {
    "colab": {
     "base_uri": "https://localhost:8080/"
    },
    "id": "ag8YdrsglHyI",
    "outputId": "2571bdad-bd05-4aeb-e56f-aeadf61126bd"
   },
   "outputs": [
    {
     "data": {
      "text/plain": [
       "-2.1411975666849132"
      ]
     },
     "execution_count": 213,
     "metadata": {},
     "output_type": "execute_result"
    }
   ],
   "source": [
    "# find r2 score\n",
    "r2_score(y_test,y_pred)"
   ]
  },
  {
   "cell_type": "markdown",
   "metadata": {
    "id": "SgAuz4PhlHyJ"
   },
   "source": [
    "R2  is negative only when the chosen model does not follow the trend of the data, so fits worse than a horizontal line."
   ]
  },
  {
   "cell_type": "markdown",
   "metadata": {},
   "source": [
    "# ============================================================="
   ]
  },
  {
   "cell_type": "markdown",
   "metadata": {
    "id": "7DFT12eClHyJ"
   },
   "source": [
    "### Random Forest"
   ]
  },
  {
   "cell_type": "code",
   "execution_count": null,
   "metadata": {
    "id": "ytWfbphrlHyK"
   },
   "outputs": [],
   "source": [
    "# create a random forest regressor\n",
    "rf = RandomForestRegressor()"
   ]
  },
  {
   "cell_type": "code",
   "execution_count": null,
   "metadata": {
    "id": "RkpAZ5mdlHyL"
   },
   "outputs": [],
   "source": [
    "# find optimal parameters with grid search\n",
    "param_grid = {\n",
    "'bootstrap': [True, False],\n",
    " 'max_depth': [None,10, 20, 50, 100],\n",
    " 'max_features': ['auto', 'sqrt'],\n",
    " 'min_samples_leaf': [1, 2, 4],\n",
    " 'min_samples_split': [2, 5, 10],\n",
    " 'n_estimators': [100,200,500, 1000]\n",
    "             }\n",
    "grid = GridSearchCV(estimator=rf, param_grid=param_grid,\n",
    "                    scoring=['neg_median_absolute_error','neg_mean_squared_log_error','r2'], refit = 'neg_mean_squared_log_error',\n",
    "                    verbose=1, n_jobs=-1)"
   ]
  },
  {
   "cell_type": "code",
   "execution_count": null,
   "metadata": {
    "colab": {
     "base_uri": "https://localhost:8080/"
    },
    "id": "kV1aeUwHlHyP",
    "outputId": "2ca74b29-f48a-4fe3-e768-2f5488a01070"
   },
   "outputs": [
    {
     "name": "stdout",
     "output_type": "stream",
     "text": [
      "Fitting 5 folds for each of 720 candidates, totalling 3600 fits\n"
     ]
    },
    {
     "name": "stderr",
     "output_type": "stream",
     "text": [
      "[Parallel(n_jobs=-1)]: Using backend LokyBackend with 2 concurrent workers.\n",
      "[Parallel(n_jobs=-1)]: Done  46 tasks      | elapsed:  3.6min\n",
      "[Parallel(n_jobs=-1)]: Done 196 tasks      | elapsed: 14.4min\n",
      "[Parallel(n_jobs=-1)]: Done 446 tasks      | elapsed: 25.3min\n",
      "[Parallel(n_jobs=-1)]: Done 796 tasks      | elapsed: 41.6min\n",
      "[Parallel(n_jobs=-1)]: Done 1246 tasks      | elapsed: 68.6min\n",
      "[Parallel(n_jobs=-1)]: Done 1796 tasks      | elapsed: 97.1min\n",
      "[Parallel(n_jobs=-1)]: Done 2446 tasks      | elapsed: 147.2min\n",
      "[Parallel(n_jobs=-1)]: Done 3196 tasks      | elapsed: 209.0min\n",
      "[Parallel(n_jobs=-1)]: Done 3600 out of 3600 | elapsed: 242.5min finished\n"
     ]
    }
   ],
   "source": [
    "# fit the grid on the train data\n",
    "grid_result = grid.fit(X_train, y_train)"
   ]
  },
  {
   "cell_type": "code",
   "execution_count": null,
   "metadata": {
    "colab": {
     "base_uri": "https://localhost:8080/"
    },
    "id": "lDnqM5qZlHyQ",
    "outputId": "7c7d305f-6d85-4665-c445-824b986dd9a2"
   },
   "outputs": [
    {
     "name": "stdout",
     "output_type": "stream",
     "text": [
      "Best Score:  -0.016208164634010154\n",
      "Best Params:  {'bootstrap': True, 'max_depth': None, 'max_features': 'sqrt', 'min_samples_leaf': 1, 'min_samples_split': 2, 'n_estimators': 500}\n"
     ]
    }
   ],
   "source": [
    "# print the best score and parameters found\n",
    "print('Best Score: ', grid_result.best_score_)\n",
    "print('Best Params: ', grid_result.best_params_)"
   ]
  },
  {
   "cell_type": "code",
   "execution_count": null,
   "metadata": {
    "id": "yt5qSl1plHyR"
   },
   "outputs": [],
   "source": [
    "# find predictions for test data\n",
    "y_pred = grid_result.best_estimator_.predict(X_test)"
   ]
  },
  {
   "cell_type": "code",
   "execution_count": null,
   "metadata": {
    "id": "DQe0XBMYlHyS"
   },
   "outputs": [],
   "source": [
    "#normalizing y_pred\n",
    "y_pred = (y_pred - y_pred.min())/(y_pred.max() - y_pred.min())"
   ]
  },
  {
   "cell_type": "code",
   "execution_count": null,
   "metadata": {
    "colab": {
     "base_uri": "https://localhost:8080/"
    },
    "id": "2vk-uepalHyT",
    "outputId": "95c40a46-c6e2-4396-f1d8-307ebe9a1792"
   },
   "outputs": [
    {
     "data": {
      "text/plain": [
       "0.06339626104495508"
      ]
     },
     "execution_count": 18,
     "metadata": {
      "tags": []
     },
     "output_type": "execute_result"
    }
   ],
   "source": [
    "# find median absolute error\n",
    "median_absolute_error(y_test,y_pred)"
   ]
  },
  {
   "cell_type": "code",
   "execution_count": null,
   "metadata": {
    "colab": {
     "base_uri": "https://localhost:8080/"
    },
    "id": "g8bqXryulHyU",
    "outputId": "01a2a84e-94ab-4ddb-961c-00937db44ec7"
   },
   "outputs": [
    {
     "data": {
      "text/plain": [
       "0.12466759306708458"
      ]
     },
     "execution_count": 19,
     "metadata": {
      "tags": []
     },
     "output_type": "execute_result"
    }
   ],
   "source": [
    "# find root mean square log error\n",
    "np.sqrt(mean_squared_log_error(y_test,y_pred))"
   ]
  },
  {
   "cell_type": "code",
   "execution_count": null,
   "metadata": {
    "colab": {
     "base_uri": "https://localhost:8080/"
    },
    "id": "CG8EECfdlHyV",
    "outputId": "c157c452-829b-4ec9-a439-6db68c577390"
   },
   "outputs": [
    {
     "data": {
      "text/plain": [
       "0.3552887850735922"
      ]
     },
     "execution_count": 20,
     "metadata": {
      "tags": []
     },
     "output_type": "execute_result"
    }
   ],
   "source": [
    "# find r2 score\n",
    "r2_score(y_test,y_pred)"
   ]
  },
  {
   "cell_type": "markdown",
   "metadata": {
    "id": "sIb-CiZjlHyW"
   },
   "source": [
    "# ============================================================="
   ]
  },
  {
   "cell_type": "markdown",
   "metadata": {
    "id": "Mxcgkm20_7kU"
   },
   "source": [
    "### SGRegression"
   ]
  },
  {
   "cell_type": "code",
   "execution_count": 214,
   "metadata": {
    "id": "XmLz019q_7kV"
   },
   "outputs": [],
   "source": [
    "# create a linear regressor\n",
    "lr = SGDRegressor()"
   ]
  },
  {
   "cell_type": "code",
   "execution_count": 215,
   "metadata": {
    "id": "Y7bqmREe_7kV"
   },
   "outputs": [],
   "source": [
    "# find optimal parameters with grid search\n",
    "param_grid = {\n",
    "    \n",
    "    'loss' : ['squared_loss','huber'],\n",
    "    'alpha': [0.0001,0.001,0.01,0.1],\n",
    "     'eta0': [0.01,0.1,1,10,100],\n",
    "    'tol' : [0.00001,0.0001,0.001,0.01,0.1]    \n",
    " }\n",
    "grid = GridSearchCV(estimator=lr, param_grid=param_grid,\n",
    "                    scoring=['neg_median_absolute_error','r2'], refit = 'neg_median_absolute_error',\n",
    "                    verbose=1, n_jobs=-1)"
   ]
  },
  {
   "cell_type": "code",
   "execution_count": 216,
   "metadata": {
    "id": "osSxzi13_7kW",
    "outputId": "3a6589d1-748d-4558-d8bd-b33b0fb7daf5"
   },
   "outputs": [
    {
     "name": "stdout",
     "output_type": "stream",
     "text": [
      "Fitting 5 folds for each of 200 candidates, totalling 1000 fits\n"
     ]
    }
   ],
   "source": [
    "# fit the grid on the train data\n",
    "grid_result = grid.fit(X_train, y_train)"
   ]
  },
  {
   "cell_type": "code",
   "execution_count": 217,
   "metadata": {
    "id": "Gkpj9OH8_7kX",
    "outputId": "f57c35bb-95af-40a7-f293-3d2aa735678c"
   },
   "outputs": [
    {
     "name": "stdout",
     "output_type": "stream",
     "text": [
      "Best Score:  -0.19886521836378318\n",
      "Best Params:  {'alpha': 0.0001, 'eta0': 10, 'loss': 'squared_loss', 'tol': 0.1}\n"
     ]
    }
   ],
   "source": [
    "# print the best score and parameters found\n",
    "print('Best Score: ', grid_result.best_score_)\n",
    "print('Best Params: ', grid_result.best_params_)"
   ]
  },
  {
   "cell_type": "code",
   "execution_count": 218,
   "metadata": {
    "id": "EJuMi2ZY_7kY"
   },
   "outputs": [],
   "source": [
    "# find predictions for test data\n",
    "y_pred = grid_result.best_estimator_.predict(X_test)"
   ]
  },
  {
   "cell_type": "code",
   "execution_count": null,
   "metadata": {
    "id": "x-B_QgA2_7kY"
   },
   "outputs": [],
   "source": []
  },
  {
   "cell_type": "code",
   "execution_count": 219,
   "metadata": {
    "id": "pc8scXwB_7kY"
   },
   "outputs": [],
   "source": [
    "#normalizing y_pred\n",
    "y_pred = (y_pred - y_pred.min())/(y_pred.max() - y_pred.min())"
   ]
  },
  {
   "cell_type": "code",
   "execution_count": 220,
   "metadata": {
    "colab": {
     "base_uri": "https://localhost:8080/"
    },
    "id": "tZ9LlPIP_7kZ",
    "outputId": "339a463b-de87-4f47-c552-a3c1149eb273"
   },
   "outputs": [
    {
     "data": {
      "text/plain": [
       "0.1578245789394696"
      ]
     },
     "execution_count": 220,
     "metadata": {},
     "output_type": "execute_result"
    }
   ],
   "source": [
    "# find median absolute error\n",
    "median_absolute_error(y_test,y_pred)"
   ]
  },
  {
   "cell_type": "code",
   "execution_count": 221,
   "metadata": {
    "colab": {
     "base_uri": "https://localhost:8080/"
    },
    "id": "cy_2nXDi_7kZ",
    "outputId": "734ca61c-5794-44b9-cc4c-ee04d78dfe84"
   },
   "outputs": [
    {
     "data": {
      "text/plain": [
       "0.2169134895048725"
      ]
     },
     "execution_count": 221,
     "metadata": {},
     "output_type": "execute_result"
    }
   ],
   "source": [
    "# find root mean square log error\n",
    "np.sqrt(mean_squared_log_error(y_test,y_pred))"
   ]
  },
  {
   "cell_type": "code",
   "execution_count": 222,
   "metadata": {
    "colab": {
     "base_uri": "https://localhost:8080/"
    },
    "id": "Yj2Akm7u_7ka",
    "outputId": "ad2ffdd8-4502-4ac3-997d-8ad4bcb51b7b"
   },
   "outputs": [
    {
     "data": {
      "text/plain": [
       "-0.8937296652360205"
      ]
     },
     "execution_count": 222,
     "metadata": {},
     "output_type": "execute_result"
    }
   ],
   "source": [
    "# find r2 score\n",
    "r2_score(y_test,y_pred)"
   ]
  },
  {
   "cell_type": "markdown",
   "metadata": {
    "id": "uw-Jzjx-_7kb"
   },
   "source": [
    "# ============================================================="
   ]
  },
  {
   "cell_type": "markdown",
   "metadata": {
    "id": "BrCXAxxdCwAZ"
   },
   "source": [
    "### Decision Tree Regressor"
   ]
  },
  {
   "cell_type": "code",
   "execution_count": 223,
   "metadata": {
    "id": "lUuM-ltECwAn"
   },
   "outputs": [],
   "source": [
    "dt = DecisionTreeRegressor()"
   ]
  },
  {
   "cell_type": "code",
   "execution_count": 224,
   "metadata": {
    "id": "0NomLu22CwAo"
   },
   "outputs": [],
   "source": [
    "# find optimal parameters with grid search\n",
    "param_grid = {\n",
    "    \n",
    "    'criterion' : ['mse','mae'],\n",
    "    'max_depth': range(10,20),\n",
    "     'min_samples_split': range(2,10),\n",
    "    'min_samples_leaf' : range(1,5)    \n",
    " }\n",
    "grid = GridSearchCV(estimator=dt, param_grid=param_grid, cv=10,\n",
    "                    scoring=['neg_median_absolute_error','neg_mean_squared_log_error','r2'], refit = 'neg_mean_squared_log_error',\n",
    "                    verbose=1, n_jobs=-1)"
   ]
  },
  {
   "cell_type": "code",
   "execution_count": 225,
   "metadata": {
    "colab": {
     "base_uri": "https://localhost:8080/"
    },
    "id": "IVx-v_hECwAq",
    "outputId": "abeb9da3-5165-472a-9934-2ee9b43f2e99"
   },
   "outputs": [
    {
     "name": "stdout",
     "output_type": "stream",
     "text": [
      "Fitting 10 folds for each of 640 candidates, totalling 6400 fits\n"
     ]
    }
   ],
   "source": [
    "# fit the grid on the train data\n",
    "grid_result = grid.fit(X_train, y_train)"
   ]
  },
  {
   "cell_type": "code",
   "execution_count": 232,
   "metadata": {
    "colab": {
     "base_uri": "https://localhost:8080/"
    },
    "id": "uS1VrD87CwAs",
    "outputId": "058f4ecc-a37b-458b-e0c9-1fcc4a98d83f"
   },
   "outputs": [
    {
     "name": "stdout",
     "output_type": "stream",
     "text": [
      "Best Score:  -0.021627997495911627\n",
      "Best Params:  {'criterion': 'mse', 'max_depth': 10, 'min_samples_leaf': 2, 'min_samples_split': 9}\n"
     ]
    }
   ],
   "source": [
    "# print the best score and parameters found\n",
    "print('Best Score: ', grid_result.best_score_)\n",
    "print('Best Params: ', grid_result.best_params_)"
   ]
  },
  {
   "cell_type": "code",
   "execution_count": 233,
   "metadata": {
    "id": "GhdjhfifCwAt"
   },
   "outputs": [],
   "source": [
    "# find predictions for test data\n",
    "y_pred = grid_result.best_estimator_.predict(X_test)"
   ]
  },
  {
   "cell_type": "code",
   "execution_count": 234,
   "metadata": {
    "id": "GTk96FliCwAu"
   },
   "outputs": [],
   "source": [
    "#normalizing y_pred\n",
    "y_pred = (y_pred - y_pred.min())/(y_pred.max() - y_pred.min())"
   ]
  },
  {
   "cell_type": "code",
   "execution_count": 235,
   "metadata": {
    "colab": {
     "base_uri": "https://localhost:8080/"
    },
    "id": "ThQL2NWSCwAv",
    "outputId": "4b7f14a1-d352-4a62-ac97-ab03d86395d3"
   },
   "outputs": [
    {
     "data": {
      "text/plain": [
       "0.08793477057526328"
      ]
     },
     "execution_count": 235,
     "metadata": {},
     "output_type": "execute_result"
    }
   ],
   "source": [
    "# find median absolute error\n",
    "median_absolute_error(y_test,y_pred)"
   ]
  },
  {
   "cell_type": "code",
   "execution_count": 236,
   "metadata": {
    "colab": {
     "base_uri": "https://localhost:8080/"
    },
    "id": "PmAnU48wCwAw",
    "outputId": "e6c12380-1e99-4a5a-8a65-7f4bff6bba68"
   },
   "outputs": [
    {
     "data": {
      "text/plain": [
       "0.13827971812096929"
      ]
     },
     "execution_count": 236,
     "metadata": {},
     "output_type": "execute_result"
    }
   ],
   "source": [
    "# find root mean square log error\n",
    "np.sqrt(mean_squared_log_error(y_test,y_pred))"
   ]
  },
  {
   "cell_type": "code",
   "execution_count": 237,
   "metadata": {
    "colab": {
     "base_uri": "https://localhost:8080/"
    },
    "id": "hu8RBeahCwAx",
    "outputId": "9b182974-82aa-4473-811e-8b061a4855a0"
   },
   "outputs": [
    {
     "data": {
      "text/plain": [
       "0.21134319535530133"
      ]
     },
     "execution_count": 237,
     "metadata": {},
     "output_type": "execute_result"
    }
   ],
   "source": [
    "# find r2 score\n",
    "r2_score(y_test,y_pred)"
   ]
  },
  {
   "cell_type": "markdown",
   "metadata": {
    "id": "yzjw7bQkCwA0"
   },
   "source": [
    "# ============================================================="
   ]
  },
  {
   "cell_type": "markdown",
   "metadata": {
    "id": "BNaeeeVZCwA1"
   },
   "source": [
    "### XGBoost Regressor"
   ]
  },
  {
   "cell_type": "code",
   "execution_count": 238,
   "metadata": {
    "id": "YvazE8ZcCwA2"
   },
   "outputs": [],
   "source": [
    "xgbtree = XGBRegressor()"
   ]
  },
  {
   "cell_type": "code",
   "execution_count": 239,
   "metadata": {
    "id": "NSNyZwv4CwA2"
   },
   "outputs": [],
   "source": [
    "# find optimal parameters with grid search\n",
    "param_grid = {\n",
    "              'learning_rate': [0.001,0.01,0.1,1],\n",
    "              'max_depth': range(2,10),\n",
    "              'subsample':[0.01,0.1,1] ,\n",
    "              'colsample_bytree': [0.01,0.1,1],\n",
    "              'n_estimators': [100,200,500,1000]}\n",
    "grid = GridSearchCV(estimator=xgbtree, param_grid=param_grid, cv=5,\n",
    "                    scoring=['neg_median_absolute_error','r2'], refit = 'neg_median_absolute_error',\n",
    "                    verbose=1, n_jobs=-1)"
   ]
  },
  {
   "cell_type": "code",
   "execution_count": null,
   "metadata": {
    "colab": {
     "base_uri": "https://localhost:8080/"
    },
    "id": "38N41GOvCwA3",
    "outputId": "19556304-a7eb-4b22-986b-83a7b5c394e4"
   },
   "outputs": [
    {
     "name": "stdout",
     "output_type": "stream",
     "text": [
      "Fitting 5 folds for each of 1152 candidates, totalling 5760 fits\n"
     ]
    },
    {
     "name": "stderr",
     "output_type": "stream",
     "text": [
      "[Parallel(n_jobs=-1)]: Using backend LokyBackend with 2 concurrent workers.\n",
      "[Parallel(n_jobs=-1)]: Done  46 tasks      | elapsed:   13.1s\n",
      "[Parallel(n_jobs=-1)]: Done 196 tasks      | elapsed:  1.5min\n",
      "[Parallel(n_jobs=-1)]: Done 446 tasks      | elapsed:  4.6min\n",
      "[Parallel(n_jobs=-1)]: Done 796 tasks      | elapsed:  8.3min\n",
      "[Parallel(n_jobs=-1)]: Done 1246 tasks      | elapsed: 13.3min\n",
      "[Parallel(n_jobs=-1)]: Done 1796 tasks      | elapsed: 19.7min\n",
      "[Parallel(n_jobs=-1)]: Done 2446 tasks      | elapsed: 27.1min\n",
      "[Parallel(n_jobs=-1)]: Done 3196 tasks      | elapsed: 35.2min\n",
      "[Parallel(n_jobs=-1)]: Done 4046 tasks      | elapsed: 44.9min\n",
      "[Parallel(n_jobs=-1)]: Done 4996 tasks      | elapsed: 60.7min\n",
      "[Parallel(n_jobs=-1)]: Done 5760 out of 5760 | elapsed: 73.3min finished\n"
     ]
    },
    {
     "name": "stdout",
     "output_type": "stream",
     "text": [
      "[02:10:46] WARNING: /workspace/src/objective/regression_obj.cu:152: reg:linear is now deprecated in favor of reg:squarederror.\n"
     ]
    }
   ],
   "source": [
    "# fit the grid on the train data\n",
    "grid_result = grid.fit(X_train, y_train)"
   ]
  },
  {
   "cell_type": "code",
   "execution_count": null,
   "metadata": {
    "colab": {
     "base_uri": "https://localhost:8080/"
    },
    "id": "MeS5fwbeCwA4",
    "outputId": "2c111b2a-1f97-471e-fac8-7d25a5c345ba"
   },
   "outputs": [
    {
     "name": "stdout",
     "output_type": "stream",
     "text": [
      "Best Score:  -0.07022984297011255\n",
      "Best Params:  {'colsample_bytree': 1, 'learning_rate': 0.1, 'max_depth': 9, 'n_estimators': 1000, 'subsample': 1}\n"
     ]
    }
   ],
   "source": [
    "# print the best score and parameters found\n",
    "print('Best Score: ', grid_result.best_score_)\n",
    "print('Best Params: ', grid_result.best_params_)"
   ]
  },
  {
   "cell_type": "code",
   "execution_count": null,
   "metadata": {
    "id": "PkwnVw8fCwA5"
   },
   "outputs": [],
   "source": [
    "# find predictions for test data\n",
    "y_pred = grid_result.best_estimator_.predict(X_test)"
   ]
  },
  {
   "cell_type": "code",
   "execution_count": null,
   "metadata": {
    "id": "mvHtoHIwCwA5"
   },
   "outputs": [],
   "source": [
    "#normalizing y_pred\n",
    "y_pred = (y_pred - y_pred.min())/(y_pred.max() - y_pred.min())"
   ]
  },
  {
   "cell_type": "code",
   "execution_count": null,
   "metadata": {
    "colab": {
     "base_uri": "https://localhost:8080/"
    },
    "id": "oUboQH5TCwA6",
    "outputId": "994fd984-8b03-438c-b3c9-faef048f37f5"
   },
   "outputs": [
    {
     "data": {
      "text/plain": [
       "0.07750636324936641"
      ]
     },
     "execution_count": 158,
     "metadata": {
      "tags": []
     },
     "output_type": "execute_result"
    }
   ],
   "source": [
    "# find median absolute error\n",
    "median_absolute_error(y_test,y_pred)"
   ]
  },
  {
   "cell_type": "code",
   "execution_count": null,
   "metadata": {
    "colab": {
     "base_uri": "https://localhost:8080/"
    },
    "id": "QexTtfk7CwA6",
    "outputId": "5d845781-ed05-41aa-9deb-1950850ca1fa"
   },
   "outputs": [
    {
     "data": {
      "text/plain": [
       "0.12503603225652735"
      ]
     },
     "execution_count": 159,
     "metadata": {
      "tags": []
     },
     "output_type": "execute_result"
    }
   ],
   "source": [
    "# find root mean square log error\n",
    "np.sqrt(mean_squared_log_error(y_test,y_pred))"
   ]
  },
  {
   "cell_type": "code",
   "execution_count": null,
   "metadata": {
    "colab": {
     "base_uri": "https://localhost:8080/"
    },
    "id": "nQhAz8agCwA7",
    "outputId": "26b562cc-0d62-4705-ccbb-411da5fbf1f2"
   },
   "outputs": [
    {
     "data": {
      "text/plain": [
       "0.3485884002530737"
      ]
     },
     "execution_count": 160,
     "metadata": {
      "tags": []
     },
     "output_type": "execute_result"
    }
   ],
   "source": [
    "# find r2 score\n",
    "r2_score(y_test,y_pred)"
   ]
  },
  {
   "cell_type": "markdown",
   "metadata": {
    "id": "V2RjU7rrCwA8"
   },
   "source": [
    "# ============================================================="
   ]
  },
  {
   "cell_type": "markdown",
   "metadata": {
    "id": "u6i-bk5CCwA8"
   },
   "source": [
    "### AdaBoost Regressor"
   ]
  },
  {
   "cell_type": "code",
   "execution_count": null,
   "metadata": {
    "id": "EMN_MNMKCwA9"
   },
   "outputs": [],
   "source": [
    "abreg = AdaBoostRegressor(base_estimator=DecisionTreeRegressor(),\n",
    "                              random_state=0)"
   ]
  },
  {
   "cell_type": "code",
   "execution_count": null,
   "metadata": {
    "id": "gZasIzxxCwA9"
   },
   "outputs": [],
   "source": [
    "# find optimal parameters with grid search\n",
    "param_grid = { 'loss' : ['linear', 'square', 'exponential'],\n",
    "              'learning_rate': [0.001,0.01,0.1,1],\n",
    "              'base_estimator__max_depth': range(2,10),\n",
    "              'n_estimators': [100,200,500,1000]}\n",
    "grid = GridSearchCV(estimator=abreg, param_grid=param_grid, cv=5,\n",
    "                    scoring=['neg_median_absolute_error','r2'], refit = 'neg_median_absolute_error',\n",
    "                    verbose=1, n_jobs=-1)"
   ]
  },
  {
   "cell_type": "code",
   "execution_count": null,
   "metadata": {
    "colab": {
     "base_uri": "https://localhost:8080/"
    },
    "id": "ZHzLUyq-CwA-",
    "outputId": "e972f4a4-5907-44ed-8da8-0b83452ef970"
   },
   "outputs": [
    {
     "name": "stdout",
     "output_type": "stream",
     "text": [
      "Fitting 5 folds for each of 384 candidates, totalling 1920 fits\n"
     ]
    },
    {
     "name": "stderr",
     "output_type": "stream",
     "text": [
      "[Parallel(n_jobs=-1)]: Using backend LokyBackend with 2 concurrent workers.\n",
      "[Parallel(n_jobs=-1)]: Done  46 tasks      | elapsed:  1.5min\n",
      "[Parallel(n_jobs=-1)]: Done 196 tasks      | elapsed:  4.6min\n",
      "[Parallel(n_jobs=-1)]: Done 446 tasks      | elapsed: 10.9min\n",
      "[Parallel(n_jobs=-1)]: Done 796 tasks      | elapsed: 25.5min\n",
      "[Parallel(n_jobs=-1)]: Done 1246 tasks      | elapsed: 48.1min\n",
      "[Parallel(n_jobs=-1)]: Done 1796 tasks      | elapsed: 86.3min\n",
      "[Parallel(n_jobs=-1)]: Done 1920 out of 1920 | elapsed: 95.1min finished\n"
     ]
    }
   ],
   "source": [
    "# fit the grid on the train data\n",
    "grid_result = grid.fit(X_train, y_train)"
   ]
  },
  {
   "cell_type": "code",
   "execution_count": null,
   "metadata": {
    "colab": {
     "base_uri": "https://localhost:8080/"
    },
    "id": "b5e1gVP6CwA_",
    "outputId": "afc009e0-a9d5-4a09-d3f1-a0d97ce2b743"
   },
   "outputs": [
    {
     "name": "stdout",
     "output_type": "stream",
     "text": [
      "Best Score:  -0.10607506721892213\n",
      "Best Params:  {'base_estimator__max_depth': 9, 'learning_rate': 0.001, 'loss': 'linear', 'n_estimators': 100}\n"
     ]
    }
   ],
   "source": [
    "# print the best score and parameters found\n",
    "print('Best Score: ', grid_result.best_score_)\n",
    "print('Best Params: ', grid_result.best_params_)"
   ]
  },
  {
   "cell_type": "code",
   "execution_count": null,
   "metadata": {
    "id": "fJBglLYNCwA_"
   },
   "outputs": [],
   "source": [
    "# find predictions for test data\n",
    "y_pred = grid_result.best_estimator_.predict(X_test)"
   ]
  },
  {
   "cell_type": "code",
   "execution_count": null,
   "metadata": {
    "id": "vaNFZHI0CwBA"
   },
   "outputs": [],
   "source": [
    "#normalizing y_pred\n",
    "y_pred = (y_pred - y_pred.min())/(y_pred.max() - y_pred.min())"
   ]
  },
  {
   "cell_type": "code",
   "execution_count": null,
   "metadata": {
    "colab": {
     "base_uri": "https://localhost:8080/"
    },
    "id": "xCSE0pvcCwBB",
    "outputId": "fba65074-917d-473a-de2d-3ec5f34cbacf"
   },
   "outputs": [
    {
     "data": {
      "text/plain": [
       "0.09586101757730897"
      ]
     },
     "execution_count": 167,
     "metadata": {
      "tags": []
     },
     "output_type": "execute_result"
    }
   ],
   "source": [
    "# find median absolute error\n",
    "median_absolute_error(y_test,y_pred)"
   ]
  },
  {
   "cell_type": "code",
   "execution_count": null,
   "metadata": {
    "colab": {
     "base_uri": "https://localhost:8080/"
    },
    "id": "72I1Q2UICwBB",
    "outputId": "221f0e92-1e82-437e-eab8-4d57b022532c"
   },
   "outputs": [
    {
     "data": {
      "text/plain": [
       "0.13071360759079187"
      ]
     },
     "execution_count": 168,
     "metadata": {
      "tags": []
     },
     "output_type": "execute_result"
    }
   ],
   "source": [
    "# find root mean square log error\n",
    "np.sqrt(mean_squared_log_error(y_test,y_pred))"
   ]
  },
  {
   "cell_type": "code",
   "execution_count": null,
   "metadata": {
    "colab": {
     "base_uri": "https://localhost:8080/"
    },
    "id": "4DSmdJ8pCwBC",
    "outputId": "82520747-8a63-4a81-cd53-9b1c28f98928"
   },
   "outputs": [
    {
     "data": {
      "text/plain": [
       "0.30911404242888374"
      ]
     },
     "execution_count": 169,
     "metadata": {
      "tags": []
     },
     "output_type": "execute_result"
    }
   ],
   "source": [
    "# find r2 score\n",
    "r2_score(y_test,y_pred)"
   ]
  },
  {
   "cell_type": "markdown",
   "metadata": {
    "id": "4mlimpGD_7kb"
   },
   "source": [
    "# ============================================================="
   ]
  },
  {
   "cell_type": "markdown",
   "metadata": {
    "id": "axhpDP3Ovrun"
   },
   "source": [
    "### MLP Regressor"
   ]
  },
  {
   "cell_type": "code",
   "execution_count": 240,
   "metadata": {
    "id": "SbLTruSux2Rr"
   },
   "outputs": [],
   "source": [
    "from tensorflow.keras.callbacks import ModelCheckpoint, TensorBoard"
   ]
  },
  {
   "cell_type": "code",
   "execution_count": 241,
   "metadata": {
    "id": "siRsYIOV6sdF"
   },
   "outputs": [],
   "source": [
    "# Creating a Neural Network Model\n",
    "import tensorflow as tf\n",
    "from tensorflow.keras.models import Sequential\n",
    "from tensorflow.keras.layers import Dense, Activation, Dropout\n",
    "from tensorflow.keras.optimizers import Adam"
   ]
  },
  {
   "cell_type": "code",
   "execution_count": 242,
   "metadata": {
    "id": "n1vkznQ26sdH"
   },
   "outputs": [],
   "source": [
    "model = Sequential()\n",
    "model.add(Dense(512,activation='relu'))\n",
    "model.add(Dropout(0.2))\n",
    "model.add(Dense(512,activation='relu'))\n",
    "model.add(Dropout(0.2))\n",
    "model.add(Dense(128,activation='relu'))\n",
    "model.add(Dropout(0.2))\n",
    "model.add(Dense(128,activation='relu'))\n",
    "model.add(Dropout(0.2))\n",
    "model.add(Dense(128,activation='relu'))\n",
    "model.add(Dropout(0.2))\n",
    "model.add(Dense(1))"
   ]
  },
  {
   "cell_type": "code",
   "execution_count": 243,
   "metadata": {
    "id": "l_Z7NOe46sdI"
   },
   "outputs": [],
   "source": [
    "import tensorflow.keras.backend as K"
   ]
  },
  {
   "cell_type": "code",
   "execution_count": 244,
   "metadata": {
    "id": "jhsf7X9-6sdI"
   },
   "outputs": [],
   "source": [
    "\n",
    "def rmsle(y_true, y_pred):\n",
    "    msle = tf.keras.losses.MeanSquaredLogarithmicError()\n",
    "    return K.sqrt(msle(y_true, y_pred)) "
   ]
  },
  {
   "cell_type": "code",
   "execution_count": 245,
   "metadata": {
    "id": "cGVyY96N6sdI"
   },
   "outputs": [],
   "source": [
    "model.compile(optimizer='Adam',loss=rmsle,metrics=[tf.keras.metrics.RootMeanSquaredError()])"
   ]
  },
  {
   "cell_type": "code",
   "execution_count": 246,
   "metadata": {
    "colab": {
     "base_uri": "https://localhost:8080/"
    },
    "id": "fRs-82wM6sdJ",
    "outputId": "3fcdefce-bef5-4824-92bf-d47341194de3"
   },
   "outputs": [
    {
     "name": "stdout",
     "output_type": "stream",
     "text": [
      "Epoch 1/100\n",
      "94/94 [==============================] - 2s 12ms/step - loss: 0.2280 - root_mean_squared_error: 0.3701 - val_loss: 0.1505 - val_root_mean_squared_error: 0.2420\n",
      "Epoch 2/100\n",
      "94/94 [==============================] - 1s 10ms/step - loss: 0.1616 - root_mean_squared_error: 0.2595 - val_loss: 0.1503 - val_root_mean_squared_error: 0.2415\n",
      "Epoch 3/100\n",
      "94/94 [==============================] - 1s 9ms/step - loss: 0.1572 - root_mean_squared_error: 0.2533 - val_loss: 0.1512 - val_root_mean_squared_error: 0.2461\n",
      "Epoch 4/100\n",
      "94/94 [==============================] - 1s 10ms/step - loss: 0.1601 - root_mean_squared_error: 0.2570 - val_loss: 0.1509 - val_root_mean_squared_error: 0.2455\n",
      "Epoch 5/100\n",
      "94/94 [==============================] - 1s 10ms/step - loss: 0.1579 - root_mean_squared_error: 0.2539 - val_loss: 0.1496 - val_root_mean_squared_error: 0.2422\n",
      "Epoch 6/100\n",
      "94/94 [==============================] - 1s 9ms/step - loss: 0.1598 - root_mean_squared_error: 0.2554 - val_loss: 0.1478 - val_root_mean_squared_error: 0.2377\n",
      "Epoch 7/100\n",
      "94/94 [==============================] - 1s 9ms/step - loss: 0.1557 - root_mean_squared_error: 0.2499 - val_loss: 0.1485 - val_root_mean_squared_error: 0.2377\n",
      "Epoch 8/100\n",
      "94/94 [==============================] - 1s 9ms/step - loss: 0.1543 - root_mean_squared_error: 0.2483 - val_loss: 0.1514 - val_root_mean_squared_error: 0.2473\n",
      "Epoch 9/100\n",
      "94/94 [==============================] - 1s 9ms/step - loss: 0.1565 - root_mean_squared_error: 0.2516 - val_loss: 0.1482 - val_root_mean_squared_error: 0.2391\n",
      "Epoch 10/100\n",
      "94/94 [==============================] - 1s 10ms/step - loss: 0.1534 - root_mean_squared_error: 0.2459 - val_loss: 0.1485 - val_root_mean_squared_error: 0.2377\n",
      "Epoch 11/100\n",
      "94/94 [==============================] - 1s 10ms/step - loss: 0.1549 - root_mean_squared_error: 0.2475 - val_loss: 0.1481 - val_root_mean_squared_error: 0.2397\n",
      "Epoch 12/100\n",
      "94/94 [==============================] - 1s 9ms/step - loss: 0.1553 - root_mean_squared_error: 0.2489 - val_loss: 0.1476 - val_root_mean_squared_error: 0.2377\n",
      "Epoch 13/100\n",
      "94/94 [==============================] - 1s 9ms/step - loss: 0.1547 - root_mean_squared_error: 0.2479 - val_loss: 0.1476 - val_root_mean_squared_error: 0.2366\n",
      "Epoch 14/100\n",
      "94/94 [==============================] - 1s 9ms/step - loss: 0.1538 - root_mean_squared_error: 0.2468 - val_loss: 0.1481 - val_root_mean_squared_error: 0.2391\n",
      "Epoch 15/100\n",
      "94/94 [==============================] - 1s 9ms/step - loss: 0.1546 - root_mean_squared_error: 0.2462 - val_loss: 0.1480 - val_root_mean_squared_error: 0.2366\n",
      "Epoch 16/100\n",
      "94/94 [==============================] - 1s 9ms/step - loss: 0.1553 - root_mean_squared_error: 0.2479 - val_loss: 0.1479 - val_root_mean_squared_error: 0.2389\n",
      "Epoch 17/100\n",
      "94/94 [==============================] - 1s 9ms/step - loss: 0.1513 - root_mean_squared_error: 0.2429 - val_loss: 0.1477 - val_root_mean_squared_error: 0.2382\n",
      "Epoch 18/100\n",
      "94/94 [==============================] - 1s 9ms/step - loss: 0.1552 - root_mean_squared_error: 0.2480 - val_loss: 0.1476 - val_root_mean_squared_error: 0.2385\n",
      "Epoch 19/100\n",
      "94/94 [==============================] - 1s 9ms/step - loss: 0.1475 - root_mean_squared_error: 0.2380 - val_loss: 0.1488 - val_root_mean_squared_error: 0.2403\n",
      "Epoch 20/100\n",
      "94/94 [==============================] - 1s 9ms/step - loss: 0.1540 - root_mean_squared_error: 0.2458 - val_loss: 0.1473 - val_root_mean_squared_error: 0.2363\n",
      "Epoch 21/100\n",
      "94/94 [==============================] - 1s 10ms/step - loss: 0.1527 - root_mean_squared_error: 0.2435 - val_loss: 0.1471 - val_root_mean_squared_error: 0.2363\n",
      "Epoch 22/100\n",
      "94/94 [==============================] - 1s 10ms/step - loss: 0.1546 - root_mean_squared_error: 0.2464 - val_loss: 0.1485 - val_root_mean_squared_error: 0.2409\n",
      "Epoch 23/100\n",
      "94/94 [==============================] - 1s 9ms/step - loss: 0.1539 - root_mean_squared_error: 0.2461 - val_loss: 0.1480 - val_root_mean_squared_error: 0.2392\n",
      "Epoch 24/100\n",
      "94/94 [==============================] - 1s 9ms/step - loss: 0.1533 - root_mean_squared_error: 0.2459 - val_loss: 0.1478 - val_root_mean_squared_error: 0.2389\n",
      "Epoch 25/100\n",
      "94/94 [==============================] - 1s 9ms/step - loss: 0.1529 - root_mean_squared_error: 0.2438 - val_loss: 0.1475 - val_root_mean_squared_error: 0.2385\n",
      "Epoch 26/100\n",
      "94/94 [==============================] - 1s 9ms/step - loss: 0.1544 - root_mean_squared_error: 0.2467 - val_loss: 0.1465 - val_root_mean_squared_error: 0.2349\n",
      "Epoch 27/100\n",
      "94/94 [==============================] - 1s 11ms/step - loss: 0.1492 - root_mean_squared_error: 0.2387 - val_loss: 0.1472 - val_root_mean_squared_error: 0.2356\n",
      "Epoch 28/100\n",
      "94/94 [==============================] - 1s 10ms/step - loss: 0.1509 - root_mean_squared_error: 0.2409 - val_loss: 0.1465 - val_root_mean_squared_error: 0.2356\n",
      "Epoch 29/100\n",
      "94/94 [==============================] - 1s 10ms/step - loss: 0.1535 - root_mean_squared_error: 0.2461 - val_loss: 0.1467 - val_root_mean_squared_error: 0.2348\n",
      "Epoch 30/100\n",
      "94/94 [==============================] - 1s 13ms/step - loss: 0.1520 - root_mean_squared_error: 0.2430 - val_loss: 0.1488 - val_root_mean_squared_error: 0.2369\n",
      "Epoch 31/100\n",
      "94/94 [==============================] - 1s 12ms/step - loss: 0.1518 - root_mean_squared_error: 0.2416 - val_loss: 0.1471 - val_root_mean_squared_error: 0.2371\n",
      "Epoch 32/100\n",
      "94/94 [==============================] - 1s 13ms/step - loss: 0.1521 - root_mean_squared_error: 0.2433 - val_loss: 0.1467 - val_root_mean_squared_error: 0.2349\n",
      "Epoch 33/100\n",
      "94/94 [==============================] - 1s 11ms/step - loss: 0.1516 - root_mean_squared_error: 0.2422 - val_loss: 0.1466 - val_root_mean_squared_error: 0.2353\n",
      "Epoch 34/100\n",
      "94/94 [==============================] - 1s 10ms/step - loss: 0.1515 - root_mean_squared_error: 0.2427 - val_loss: 0.1470 - val_root_mean_squared_error: 0.2361\n",
      "Epoch 35/100\n",
      "94/94 [==============================] - 1s 10ms/step - loss: 0.1518 - root_mean_squared_error: 0.2427 - val_loss: 0.1460 - val_root_mean_squared_error: 0.2346\n",
      "Epoch 36/100\n",
      "94/94 [==============================] - 1s 11ms/step - loss: 0.1494 - root_mean_squared_error: 0.2400 - val_loss: 0.1465 - val_root_mean_squared_error: 0.2347\n",
      "Epoch 37/100\n",
      "94/94 [==============================] - ETA: 0s - loss: 0.1513 - root_mean_squared_error: 0.241 - 1s 12ms/step - loss: 0.1512 - root_mean_squared_error: 0.2414 - val_loss: 0.1467 - val_root_mean_squared_error: 0.2373\n",
      "Epoch 38/100\n",
      "94/94 [==============================] - 1s 12ms/step - loss: 0.1521 - root_mean_squared_error: 0.2432 - val_loss: 0.1462 - val_root_mean_squared_error: 0.2360\n",
      "Epoch 39/100\n",
      "94/94 [==============================] - 1s 11ms/step - loss: 0.1479 - root_mean_squared_error: 0.2372 - val_loss: 0.1462 - val_root_mean_squared_error: 0.2353\n",
      "Epoch 40/100\n",
      "94/94 [==============================] - 1s 10ms/step - loss: 0.1527 - root_mean_squared_error: 0.2442 - val_loss: 0.1468 - val_root_mean_squared_error: 0.2348\n",
      "Epoch 41/100\n",
      "94/94 [==============================] - 1s 10ms/step - loss: 0.1489 - root_mean_squared_error: 0.2382 - val_loss: 0.1481 - val_root_mean_squared_error: 0.2375\n",
      "Epoch 42/100\n",
      "94/94 [==============================] - 1s 11ms/step - loss: 0.1522 - root_mean_squared_error: 0.2426 - val_loss: 0.1462 - val_root_mean_squared_error: 0.2343\n",
      "Epoch 43/100\n",
      "94/94 [==============================] - 1s 10ms/step - loss: 0.1517 - root_mean_squared_error: 0.2424 - val_loss: 0.1454 - val_root_mean_squared_error: 0.2328\n",
      "Epoch 44/100\n",
      "94/94 [==============================] - 1s 10ms/step - loss: 0.1498 - root_mean_squared_error: 0.2392 - val_loss: 0.1481 - val_root_mean_squared_error: 0.2386\n",
      "Epoch 45/100\n",
      "94/94 [==============================] - 1s 11ms/step - loss: 0.1480 - root_mean_squared_error: 0.2369 - val_loss: 0.1453 - val_root_mean_squared_error: 0.2328\n",
      "Epoch 46/100\n",
      "94/94 [==============================] - 1s 10ms/step - loss: 0.1515 - root_mean_squared_error: 0.2416 - val_loss: 0.1458 - val_root_mean_squared_error: 0.2328\n",
      "Epoch 47/100\n",
      "94/94 [==============================] - 1s 10ms/step - loss: 0.1489 - root_mean_squared_error: 0.2379 - val_loss: 0.1454 - val_root_mean_squared_error: 0.2337\n",
      "Epoch 48/100\n",
      "94/94 [==============================] - 1s 10ms/step - loss: 0.1491 - root_mean_squared_error: 0.2372 - val_loss: 0.1459 - val_root_mean_squared_error: 0.2332\n",
      "Epoch 49/100\n",
      "94/94 [==============================] - 1s 10ms/step - loss: 0.1504 - root_mean_squared_error: 0.2394 - val_loss: 0.1455 - val_root_mean_squared_error: 0.2328\n",
      "Epoch 50/100\n",
      "94/94 [==============================] - 1s 11ms/step - loss: 0.1495 - root_mean_squared_error: 0.2392 - val_loss: 0.1456 - val_root_mean_squared_error: 0.2334\n",
      "Epoch 51/100\n",
      "94/94 [==============================] - 1s 12ms/step - loss: 0.1524 - root_mean_squared_error: 0.2421 - val_loss: 0.1453 - val_root_mean_squared_error: 0.2333\n",
      "Epoch 52/100\n",
      "94/94 [==============================] - 1s 12ms/step - loss: 0.1493 - root_mean_squared_error: 0.2381 - val_loss: 0.1466 - val_root_mean_squared_error: 0.2374\n",
      "Epoch 53/100\n",
      "94/94 [==============================] - 1s 12ms/step - loss: 0.1502 - root_mean_squared_error: 0.2394 - val_loss: 0.1454 - val_root_mean_squared_error: 0.2334\n",
      "Epoch 54/100\n",
      "94/94 [==============================] - 1s 12ms/step - loss: 0.1499 - root_mean_squared_error: 0.2389 - val_loss: 0.1453 - val_root_mean_squared_error: 0.2341\n",
      "Epoch 55/100\n",
      "94/94 [==============================] - 1s 12ms/step - loss: 0.1497 - root_mean_squared_error: 0.2402 - val_loss: 0.1448 - val_root_mean_squared_error: 0.2316\n",
      "Epoch 56/100\n",
      "94/94 [==============================] - 1s 11ms/step - loss: 0.1498 - root_mean_squared_error: 0.2379 - val_loss: 0.1445 - val_root_mean_squared_error: 0.2321\n",
      "Epoch 57/100\n",
      "94/94 [==============================] - 1s 11ms/step - loss: 0.1500 - root_mean_squared_error: 0.2391 - val_loss: 0.1459 - val_root_mean_squared_error: 0.2357\n",
      "Epoch 58/100\n",
      "94/94 [==============================] - 1s 10ms/step - loss: 0.1494 - root_mean_squared_error: 0.2387 - val_loss: 0.1451 - val_root_mean_squared_error: 0.2330\n",
      "Epoch 59/100\n",
      "94/94 [==============================] - 1s 12ms/step - loss: 0.1496 - root_mean_squared_error: 0.2381 - val_loss: 0.1447 - val_root_mean_squared_error: 0.2322\n",
      "Epoch 60/100\n",
      "94/94 [==============================] - 1s 12ms/step - loss: 0.1502 - root_mean_squared_error: 0.2388 - val_loss: 0.1435 - val_root_mean_squared_error: 0.2290\n",
      "Epoch 61/100\n",
      "94/94 [==============================] - 1s 12ms/step - loss: 0.1476 - root_mean_squared_error: 0.2349 - val_loss: 0.1438 - val_root_mean_squared_error: 0.2304\n",
      "Epoch 62/100\n",
      "94/94 [==============================] - 1s 12ms/step - loss: 0.1482 - root_mean_squared_error: 0.2359 - val_loss: 0.1441 - val_root_mean_squared_error: 0.2311\n",
      "Epoch 63/100\n",
      "94/94 [==============================] - 1s 12ms/step - loss: 0.1478 - root_mean_squared_error: 0.2363 - val_loss: 0.1448 - val_root_mean_squared_error: 0.2311\n",
      "Epoch 64/100\n",
      "94/94 [==============================] - 1s 12ms/step - loss: 0.1495 - root_mean_squared_error: 0.2374 - val_loss: 0.1448 - val_root_mean_squared_error: 0.2318\n",
      "Epoch 65/100\n",
      "94/94 [==============================] - 1s 13ms/step - loss: 0.1470 - root_mean_squared_error: 0.2359 - val_loss: 0.1434 - val_root_mean_squared_error: 0.2298\n",
      "Epoch 66/100\n",
      "94/94 [==============================] - 1s 15ms/step - loss: 0.1487 - root_mean_squared_error: 0.2373 - val_loss: 0.1440 - val_root_mean_squared_error: 0.2318\n",
      "Epoch 67/100\n",
      "94/94 [==============================] - 1s 11ms/step - loss: 0.1490 - root_mean_squared_error: 0.2374 - val_loss: 0.1422 - val_root_mean_squared_error: 0.2278\n",
      "Epoch 68/100\n",
      "94/94 [==============================] - 1s 11ms/step - loss: 0.1484 - root_mean_squared_error: 0.2361 - val_loss: 0.1437 - val_root_mean_squared_error: 0.2301\n",
      "Epoch 69/100\n",
      "94/94 [==============================] - 1s 11ms/step - loss: 0.1480 - root_mean_squared_error: 0.2363 - val_loss: 0.1443 - val_root_mean_squared_error: 0.2312\n",
      "Epoch 70/100\n",
      "94/94 [==============================] - 1s 12ms/step - loss: 0.1466 - root_mean_squared_error: 0.2345 - val_loss: 0.1436 - val_root_mean_squared_error: 0.2320\n",
      "Epoch 71/100\n",
      "94/94 [==============================] - 1s 12ms/step - loss: 0.1472 - root_mean_squared_error: 0.2351 - val_loss: 0.1437 - val_root_mean_squared_error: 0.2320\n",
      "Epoch 72/100\n",
      "94/94 [==============================] - 1s 11ms/step - loss: 0.1482 - root_mean_squared_error: 0.2372 - val_loss: 0.1426 - val_root_mean_squared_error: 0.2289\n",
      "Epoch 73/100\n",
      "94/94 [==============================] - 1s 11ms/step - loss: 0.1501 - root_mean_squared_error: 0.2390 - val_loss: 0.1420 - val_root_mean_squared_error: 0.2282\n",
      "Epoch 74/100\n",
      "94/94 [==============================] - 1s 11ms/step - loss: 0.1438 - root_mean_squared_error: 0.2300 - val_loss: 0.1436 - val_root_mean_squared_error: 0.2314\n",
      "Epoch 75/100\n",
      "94/94 [==============================] - 1s 11ms/step - loss: 0.1460 - root_mean_squared_error: 0.2328 - val_loss: 0.1434 - val_root_mean_squared_error: 0.2314\n",
      "Epoch 76/100\n",
      "94/94 [==============================] - 1s 12ms/step - loss: 0.1436 - root_mean_squared_error: 0.2303 - val_loss: 0.1445 - val_root_mean_squared_error: 0.2325\n",
      "Epoch 77/100\n",
      "94/94 [==============================] - 1s 12ms/step - loss: 0.1465 - root_mean_squared_error: 0.2342 - val_loss: 0.1436 - val_root_mean_squared_error: 0.2316\n",
      "Epoch 78/100\n",
      "94/94 [==============================] - 1s 12ms/step - loss: 0.1469 - root_mean_squared_error: 0.2346 - val_loss: 0.1439 - val_root_mean_squared_error: 0.2327\n",
      "Epoch 79/100\n",
      "94/94 [==============================] - 1s 11ms/step - loss: 0.1426 - root_mean_squared_error: 0.2289 - val_loss: 0.1413 - val_root_mean_squared_error: 0.2265\n",
      "Epoch 80/100\n",
      "94/94 [==============================] - 1s 10ms/step - loss: 0.1463 - root_mean_squared_error: 0.2338 - val_loss: 0.1407 - val_root_mean_squared_error: 0.2258\n",
      "Epoch 81/100\n",
      "94/94 [==============================] - 1s 12ms/step - loss: 0.1468 - root_mean_squared_error: 0.2340 - val_loss: 0.1416 - val_root_mean_squared_error: 0.2267\n",
      "Epoch 82/100\n",
      "94/94 [==============================] - 1s 13ms/step - loss: 0.1448 - root_mean_squared_error: 0.2313 - val_loss: 0.1416 - val_root_mean_squared_error: 0.2277\n",
      "Epoch 83/100\n",
      "94/94 [==============================] - 1s 11ms/step - loss: 0.1464 - root_mean_squared_error: 0.2322 - val_loss: 0.1404 - val_root_mean_squared_error: 0.2251\n",
      "Epoch 84/100\n",
      "94/94 [==============================] - 1s 13ms/step - loss: 0.1440 - root_mean_squared_error: 0.2304 - val_loss: 0.1444 - val_root_mean_squared_error: 0.2305\n",
      "Epoch 85/100\n",
      "94/94 [==============================] - 1s 11ms/step - loss: 0.1477 - root_mean_squared_error: 0.2352 - val_loss: 0.1430 - val_root_mean_squared_error: 0.2288\n",
      "Epoch 86/100\n",
      "94/94 [==============================] - 1s 11ms/step - loss: 0.1457 - root_mean_squared_error: 0.2317 - val_loss: 0.1412 - val_root_mean_squared_error: 0.2264\n",
      "Epoch 87/100\n",
      "94/94 [==============================] - 1s 11ms/step - loss: 0.1419 - root_mean_squared_error: 0.2271 - val_loss: 0.1406 - val_root_mean_squared_error: 0.2252\n",
      "Epoch 88/100\n",
      "94/94 [==============================] - 1s 11ms/step - loss: 0.1436 - root_mean_squared_error: 0.2300 - val_loss: 0.1408 - val_root_mean_squared_error: 0.2255\n",
      "Epoch 89/100\n",
      "94/94 [==============================] - 1s 11ms/step - loss: 0.1423 - root_mean_squared_error: 0.2270 - val_loss: 0.1441 - val_root_mean_squared_error: 0.2335\n",
      "Epoch 90/100\n",
      "94/94 [==============================] - 1s 12ms/step - loss: 0.1462 - root_mean_squared_error: 0.2329 - val_loss: 0.1416 - val_root_mean_squared_error: 0.2284\n",
      "Epoch 91/100\n",
      "94/94 [==============================] - 1s 11ms/step - loss: 0.1429 - root_mean_squared_error: 0.2284 - val_loss: 0.1417 - val_root_mean_squared_error: 0.2278\n",
      "Epoch 92/100\n",
      "94/94 [==============================] - 1s 10ms/step - loss: 0.1456 - root_mean_squared_error: 0.2328 - val_loss: 0.1401 - val_root_mean_squared_error: 0.2255\n",
      "Epoch 93/100\n",
      "94/94 [==============================] - 1s 10ms/step - loss: 0.1409 - root_mean_squared_error: 0.2256 - val_loss: 0.1395 - val_root_mean_squared_error: 0.2229\n",
      "Epoch 94/100\n",
      "94/94 [==============================] - 1s 11ms/step - loss: 0.1420 - root_mean_squared_error: 0.2263 - val_loss: 0.1422 - val_root_mean_squared_error: 0.2305\n",
      "Epoch 95/100\n"
     ]
    },
    {
     "name": "stdout",
     "output_type": "stream",
     "text": [
      "94/94 [==============================] - 1s 13ms/step - loss: 0.1439 - root_mean_squared_error: 0.2301 - val_loss: 0.1413 - val_root_mean_squared_error: 0.2268\n",
      "Epoch 96/100\n",
      "94/94 [==============================] - 1s 12ms/step - loss: 0.1417 - root_mean_squared_error: 0.2268 - val_loss: 0.1418 - val_root_mean_squared_error: 0.2292\n",
      "Epoch 97/100\n",
      "94/94 [==============================] - 1s 11ms/step - loss: 0.1449 - root_mean_squared_error: 0.2311 - val_loss: 0.1397 - val_root_mean_squared_error: 0.2250\n",
      "Epoch 98/100\n",
      "94/94 [==============================] - 1s 10ms/step - loss: 0.1408 - root_mean_squared_error: 0.2248 - val_loss: 0.1408 - val_root_mean_squared_error: 0.2283\n",
      "Epoch 99/100\n",
      "94/94 [==============================] - 1s 10ms/step - loss: 0.1422 - root_mean_squared_error: 0.2279 - val_loss: 0.1408 - val_root_mean_squared_error: 0.2275\n",
      "Epoch 100/100\n",
      "94/94 [==============================] - 1s 10ms/step - loss: 0.1432 - root_mean_squared_error: 0.2283 - val_loss: 0.1451 - val_root_mean_squared_error: 0.2344\n"
     ]
    },
    {
     "data": {
      "text/plain": [
       "<tensorflow.python.keras.callbacks.History at 0x143720f5cd0>"
      ]
     },
     "execution_count": 246,
     "metadata": {},
     "output_type": "execute_result"
    }
   ],
   "source": [
    "model.fit(x=X_train,y=y_train,\n",
    "          validation_data=(X_test,y_test),\n",
    "          batch_size=64,epochs=100)\n"
   ]
  },
  {
   "cell_type": "code",
   "execution_count": null,
   "metadata": {
    "colab": {
     "base_uri": "https://localhost:8080/"
    },
    "id": "fumbjsT06sdJ",
    "outputId": "e44d7ffd-3c1e-48d4-f0da-63d4aae28ed0"
   },
   "outputs": [
    {
     "name": "stdout",
     "output_type": "stream",
     "text": [
      "Model: \"sequential\"\n",
      "_________________________________________________________________\n",
      "Layer (type)                 Output Shape              Param #   \n",
      "=================================================================\n",
      "dense (Dense)                (None, 512)               2048      \n",
      "_________________________________________________________________\n",
      "dropout (Dropout)            (None, 512)               0         \n",
      "_________________________________________________________________\n",
      "dense_1 (Dense)              (None, 512)               262656    \n",
      "_________________________________________________________________\n",
      "dropout_1 (Dropout)          (None, 512)               0         \n",
      "_________________________________________________________________\n",
      "dense_2 (Dense)              (None, 128)               65664     \n",
      "_________________________________________________________________\n",
      "dropout_2 (Dropout)          (None, 128)               0         \n",
      "_________________________________________________________________\n",
      "dense_3 (Dense)              (None, 128)               16512     \n",
      "_________________________________________________________________\n",
      "dropout_3 (Dropout)          (None, 128)               0         \n",
      "_________________________________________________________________\n",
      "dense_4 (Dense)              (None, 128)               16512     \n",
      "_________________________________________________________________\n",
      "dropout_4 (Dropout)          (None, 128)               0         \n",
      "_________________________________________________________________\n",
      "dense_5 (Dense)              (None, 1)                 129       \n",
      "=================================================================\n",
      "Total params: 363,521\n",
      "Trainable params: 363,521\n",
      "Non-trainable params: 0\n",
      "_________________________________________________________________\n"
     ]
    }
   ],
   "source": [
    "model.summary()"
   ]
  },
  {
   "cell_type": "code",
   "execution_count": null,
   "metadata": {
    "id": "qGubgkuNzmVL"
   },
   "outputs": [],
   "source": [
    "K.clear_session()"
   ]
  },
  {
   "cell_type": "code",
   "execution_count": null,
   "metadata": {
    "id": "gJJT6Xo86sdK"
   },
   "outputs": [],
   "source": [
    "y_pred = model.predict(X_test)"
   ]
  },
  {
   "cell_type": "code",
   "execution_count": null,
   "metadata": {
    "colab": {
     "base_uri": "https://localhost:8080/"
    },
    "id": "_6rAcOGl6sdK",
    "outputId": "cc97053a-6026-4037-b384-9a8466573a8a"
   },
   "outputs": [
    {
     "data": {
      "text/plain": [
       "(1498, 1)"
      ]
     },
     "execution_count": 115,
     "metadata": {
      "tags": []
     },
     "output_type": "execute_result"
    }
   ],
   "source": [
    "y_pred.shape"
   ]
  },
  {
   "cell_type": "code",
   "execution_count": null,
   "metadata": {
    "colab": {
     "base_uri": "https://localhost:8080/"
    },
    "id": "UzNNPA3l6sdL",
    "outputId": "b5c307e4-b800-4682-f1cf-44ae63872bfd"
   },
   "outputs": [
    {
     "data": {
      "text/plain": [
       "0.1378374286099205"
      ]
     },
     "execution_count": 116,
     "metadata": {
      "tags": []
     },
     "output_type": "execute_result"
    }
   ],
   "source": [
    "# find median absolute error\n",
    "median_absolute_error(y_test,y_pred)"
   ]
  },
  {
   "cell_type": "code",
   "execution_count": null,
   "metadata": {
    "colab": {
     "base_uri": "https://localhost:8080/"
    },
    "id": "oA6vCtzC6sdL",
    "outputId": "aef208cc-24e9-445b-b7bd-b2549974888a"
   },
   "outputs": [
    {
     "data": {
      "text/plain": [
       "0.14250678100449088"
      ]
     },
     "execution_count": 117,
     "metadata": {
      "tags": []
     },
     "output_type": "execute_result"
    }
   ],
   "source": [
    "# find root mean square log error\n",
    "np.sqrt(mean_squared_log_error(y_test,y_pred))"
   ]
  },
  {
   "cell_type": "code",
   "execution_count": null,
   "metadata": {
    "colab": {
     "base_uri": "https://localhost:8080/"
    },
    "id": "W5Bge1W66sdL",
    "outputId": "b925b942-d5ba-47f8-9fdd-2e211d5344e2"
   },
   "outputs": [
    {
     "data": {
      "text/plain": [
       "0.14410067815385863"
      ]
     },
     "execution_count": 118,
     "metadata": {
      "tags": []
     },
     "output_type": "execute_result"
    }
   ],
   "source": [
    "# find r2 score\n",
    "r2_score(y_test,y_pred)"
   ]
  },
  {
   "cell_type": "markdown",
   "metadata": {
    "id": "XQP7WwM46sdM"
   },
   "source": [
    "# ============================================================="
   ]
  },
  {
   "cell_type": "markdown",
   "metadata": {
    "id": "Qfdas6naMWvP"
   },
   "source": [
    "# Summary"
   ]
  },
  {
   "cell_type": "code",
   "execution_count": 247,
   "metadata": {
    "id": "QE74BeG9MZKs"
   },
   "outputs": [],
   "source": [
    "from prettytable import PrettyTable"
   ]
  },
  {
   "cell_type": "code",
   "execution_count": 248,
   "metadata": {
    "colab": {
     "base_uri": "https://localhost:8080/"
    },
    "id": "zGPA2qnhMer4",
    "outputId": "d47f5b1a-87ac-4e08-eab5-d15d22135593"
   },
   "outputs": [
    {
     "name": "stdout",
     "output_type": "stream",
     "text": [
      "+-------------------+----------+----------------+---------+---------+\n",
      "|       Model       | Aquifers |     Lakes      |  Rivers | Springs |\n",
      "+-------------------+----------+----------------+---------+---------+\n",
      "|        knn        |   0.96   | -17.851,-1.254 |  -5.839 |  -0.147 |\n",
      "| Linear Regression |  -0.361  | -156.95,-0.821 |  -11.11 |  -2.141 |\n",
      "|   Random Forest   |  0.966   | -25.89,-0.684  |  -9.331 |  0.355  |\n",
      "|    SGRegression   |  -0.171  |     -0.781     |  -11.21 |  -1.11  |\n",
      "|   Decision Tree   |  0.956   |     -0.091     |  -7.012 |  0.211  |\n",
      "|      XGBoost      |  0.958   |     -0.325     | -11.698 |  0.348  |\n",
      "|      AdaBoost     |  0.964   |     -0.053     |  -4.11  |  0.309  |\n",
      "|        MLP        |  0.958   |     0.076      |  0.106  |  0.181  |\n",
      "+-------------------+----------+----------------+---------+---------+\n"
     ]
    }
   ],
   "source": [
    "# Table for summarizing water body type and their R2 score with different models\n",
    "finalTable = PrettyTable([\"Model\",\"Aquifers\", \"Lakes\", \"Rivers\", \"Springs\"])\n",
    "  \n",
    "# Add rows\n",
    "finalTable.add_row([\"knn\", \"0.96\", \"-17.851,-1.254\", \"-5.839\", \"-0.147\"])\n",
    "finalTable.add_row([\"Linear Regression\", \"-0.361\", \"-156.95,-0.821\", \"-11.11\", \"-2.141\"])\n",
    "finalTable.add_row([\"Random Forest\", \"0.966\", \"-25.89,-0.684\", \"-9.331\", \"0.355\"])\n",
    "finalTable.add_row([\"SGRegression\", \"-0.171\", \"-0.781\", \"-11.21\", \"-1.11\"])\n",
    "finalTable.add_row([\"Decision Tree\", \"0.956\", \"-0.091\", \"-7.012\", \"0.211\"])\n",
    "finalTable.add_row([\"XGBoost\", \"0.958\", \"-0.325\", \"-11.698\", \"0.348\"])\n",
    "finalTable.add_row([\"AdaBoost\", \"0.964\", \"-0.053\", \"-4.11\", \"0.309\"])\n",
    "finalTable.add_row([\"MLP\", \"0.958\",\"0.076\", \"0.106\", \"0.181\"])\n",
    "  \n",
    "print(finalTable)"
   ]
  },
  {
   "cell_type": "code",
   "execution_count": null,
   "metadata": {
    "id": "iaA4R7mZRpcL"
   },
   "outputs": [],
   "source": []
  },
  {
   "cell_type": "code",
   "execution_count": null,
   "metadata": {},
   "outputs": [],
   "source": []
  }
 ],
 "metadata": {
  "colab": {
   "collapsed_sections": [],
   "name": "Acea_Smart_Water_Analytics_Model-Copy1.ipynb",
   "provenance": [],
   "toc_visible": true
  },
  "kernelspec": {
   "display_name": "Python 3",
   "language": "python",
   "name": "python3"
  },
  "language_info": {
   "codemirror_mode": {
    "name": "ipython",
    "version": 3
   },
   "file_extension": ".py",
   "mimetype": "text/x-python",
   "name": "python",
   "nbconvert_exporter": "python",
   "pygments_lexer": "ipython3",
   "version": "3.8.3"
  },
  "toc": {
   "base_numbering": 1,
   "nav_menu": {},
   "number_sections": true,
   "sideBar": true,
   "skip_h1_title": false,
   "title_cell": "Table of Contents",
   "title_sidebar": "Contents",
   "toc_cell": false,
   "toc_position": {},
   "toc_section_display": true,
   "toc_window_display": true
  },
  "varInspector": {
   "cols": {
    "lenName": 16,
    "lenType": 16,
    "lenVar": 40
   },
   "kernels_config": {
    "python": {
     "delete_cmd_postfix": "",
     "delete_cmd_prefix": "del ",
     "library": "var_list.py",
     "varRefreshCmd": "print(var_dic_list())"
    },
    "r": {
     "delete_cmd_postfix": ") ",
     "delete_cmd_prefix": "rm(",
     "library": "var_list.r",
     "varRefreshCmd": "cat(var_dic_list()) "
    }
   },
   "types_to_exclude": [
    "module",
    "function",
    "builtin_function_or_method",
    "instance",
    "_Feature"
   ],
   "window_display": false
  }
 },
 "nbformat": 4,
 "nbformat_minor": 1
}
